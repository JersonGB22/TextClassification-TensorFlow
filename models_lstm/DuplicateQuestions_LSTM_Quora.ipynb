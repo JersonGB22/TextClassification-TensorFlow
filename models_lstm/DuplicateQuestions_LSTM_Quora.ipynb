{
  "cells": [
    {
      "cell_type": "markdown",
      "metadata": {
        "id": "ezzKLPtx8S6C"
      },
      "source": [
        "# **Duplicate Questions with the Quora Dataset**"
      ]
    },
    {
      "cell_type": "markdown",
      "metadata": {
        "id": "-2_zEkfpnoYt"
      },
      "source": [
        "This notebook presents the implementation of a text classification model using a Siamese network with a bidirectional LSTM layer to detect similar questions. Its purpose is to determine if two questions are paraphrases of each other using the [Quora Question Pairs dataset](https://huggingface.co/datasets/nyu-mll/glue/viewer/qqp/test).\n",
        "\n",
        "For a more robust implementation, please visit my upcoming [notebook](https://github.com/JersonGB22/TextClassification-TensorFlow/blob/main/models_transformers/DuplicateQuestions_BERT_Quora.ipynb), where a Transformer network is implemented to classify duplicate Quora questions, achieving better results."
      ]
    },
    {
      "cell_type": "markdown",
      "metadata": {
        "id": "ohI0LZ0I8qQs"
      },
      "source": [
        "### **Imports**"
      ]
    },
    {
      "cell_type": "code",
      "execution_count": 2,
      "metadata": {
        "colab": {
          "base_uri": "https://localhost:8080/"
        },
        "id": "W4sdqB-TQZlH",
        "outputId": "9694e2fc-b985-413b-e78a-208842d8ae76"
      },
      "outputs": [
        {
          "name": "stdout",
          "output_type": "stream",
          "text": [
            "\u001b[2K     \u001b[90m━━━━━━━━━━━━━━━━━━━━━━━━━━━━━━━━━━━━━━━━\u001b[0m \u001b[32m542.0/542.0 kB\u001b[0m \u001b[31m5.5 MB/s\u001b[0m eta \u001b[36m0:00:00\u001b[0m\n",
            "\u001b[2K     \u001b[90m━━━━━━━━━━━━━━━━━━━━━━━━━━━━━━━━━━━━━━━━\u001b[0m \u001b[32m116.3/116.3 kB\u001b[0m \u001b[31m11.2 MB/s\u001b[0m eta \u001b[36m0:00:00\u001b[0m\n",
            "\u001b[2K     \u001b[90m━━━━━━━━━━━━━━━━━━━━━━━━━━━━━━━━━━━━━━━━\u001b[0m \u001b[32m194.1/194.1 kB\u001b[0m \u001b[31m8.9 MB/s\u001b[0m eta \u001b[36m0:00:00\u001b[0m\n",
            "\u001b[2K     \u001b[90m━━━━━━━━━━━━━━━━━━━━━━━━━━━━━━━━━━━━━━━━\u001b[0m \u001b[32m134.8/134.8 kB\u001b[0m \u001b[31m17.7 MB/s\u001b[0m eta \u001b[36m0:00:00\u001b[0m\n",
            "\u001b[?25h"
          ]
        }
      ],
      "source": [
        "!pip install datasets -q"
      ]
    },
    {
      "cell_type": "code",
      "execution_count": 1,
      "metadata": {
        "id": "c0d_8XPxoi92"
      },
      "outputs": [],
      "source": [
        "import tensorflow as tf\n",
        "from datasets import load_dataset\n",
        "from sklearn.metrics import confusion_matrix, ConfusionMatrixDisplay, f1_score\n",
        "from sklearn.model_selection import train_test_split\n",
        "import numpy as np\n",
        "import pandas as pd\n",
        "import plotly.graph_objects as go\n",
        "from google.colab import drive\n",
        "from IPython.core.display import HTML"
      ]
    },
    {
      "cell_type": "markdown",
      "metadata": {
        "id": "piIYd5Nl-8SX"
      },
      "source": [
        "### **Parameters**"
      ]
    },
    {
      "cell_type": "code",
      "execution_count": null,
      "metadata": {
        "id": "mFvpDxgx85Yt"
      },
      "outputs": [],
      "source": [
        "epochs = 20\n",
        "batch_size = 256\n",
        "buffer_size = 1024\n",
        "AUTOTUNE = tf.data.AUTOTUNE\n",
        "SEED = 123\n",
        "vocab_size = 50000 #Including padding and unknown tokens\n",
        "embedding_dim = 128"
      ]
    },
    {
      "cell_type": "markdown",
      "metadata": {
        "id": "2Jb1Tnf8-6m3"
      },
      "source": [
        "### **Load and Preprocess the Dataset**"
      ]
    },
    {
      "cell_type": "code",
      "execution_count": null,
      "metadata": {
        "colab": {
          "base_uri": "https://localhost:8080/",
          "height": 424
        },
        "id": "ZcmXdiWYQfKx",
        "outputId": "99def6a8-a135-4a1e-b437-3a75b0c9fcd5"
      },
      "outputs": [
        {
          "data": {
            "application/vnd.google.colaboratory.intrinsic+json": {
              "type": "dataframe",
              "variable_name": "df"
            },
            "text/html": [
              "\n",
              "  <div id=\"df-3b271438-055d-4fd8-8fc1-96c014b8ff3c\" class=\"colab-df-container\">\n",
              "    <div>\n",
              "<style scoped>\n",
              "    .dataframe tbody tr th:only-of-type {\n",
              "        vertical-align: middle;\n",
              "    }\n",
              "\n",
              "    .dataframe tbody tr th {\n",
              "        vertical-align: top;\n",
              "    }\n",
              "\n",
              "    .dataframe thead th {\n",
              "        text-align: right;\n",
              "    }\n",
              "</style>\n",
              "<table border=\"1\" class=\"dataframe\">\n",
              "  <thead>\n",
              "    <tr style=\"text-align: right;\">\n",
              "      <th></th>\n",
              "      <th>is_duplicate</th>\n",
              "      <th>question_1</th>\n",
              "      <th>question_2</th>\n",
              "    </tr>\n",
              "  </thead>\n",
              "  <tbody>\n",
              "    <tr>\n",
              "      <th>0</th>\n",
              "      <td>0.0</td>\n",
              "      <td>What is the step by step guide to invest in sh...</td>\n",
              "      <td>What is the step by step guide to invest in sh...</td>\n",
              "    </tr>\n",
              "    <tr>\n",
              "      <th>1</th>\n",
              "      <td>0.0</td>\n",
              "      <td>What is the story of Kohinoor (Koh-i-Noor) Dia...</td>\n",
              "      <td>What would happen if the Indian government sto...</td>\n",
              "    </tr>\n",
              "    <tr>\n",
              "      <th>2</th>\n",
              "      <td>0.0</td>\n",
              "      <td>How can I increase the speed of my internet co...</td>\n",
              "      <td>How can Internet speed be increased by hacking...</td>\n",
              "    </tr>\n",
              "    <tr>\n",
              "      <th>3</th>\n",
              "      <td>0.0</td>\n",
              "      <td>Why am I mentally very lonely? How can I solve...</td>\n",
              "      <td>Find the remainder when [math]23^{24}[/math] i...</td>\n",
              "    </tr>\n",
              "    <tr>\n",
              "      <th>4</th>\n",
              "      <td>0.0</td>\n",
              "      <td>Which one dissolve in water quikly sugar, salt...</td>\n",
              "      <td>Which fish would survive in salt water?</td>\n",
              "    </tr>\n",
              "    <tr>\n",
              "      <th>...</th>\n",
              "      <td>...</td>\n",
              "      <td>...</td>\n",
              "      <td>...</td>\n",
              "    </tr>\n",
              "    <tr>\n",
              "      <th>404283</th>\n",
              "      <td>0.0</td>\n",
              "      <td>How many keywords are there in the Racket prog...</td>\n",
              "      <td>How many keywords are there in PERL Programmin...</td>\n",
              "    </tr>\n",
              "    <tr>\n",
              "      <th>404284</th>\n",
              "      <td>1.0</td>\n",
              "      <td>Do you believe there is life after death?</td>\n",
              "      <td>Is it true that there is life after death?</td>\n",
              "    </tr>\n",
              "    <tr>\n",
              "      <th>404285</th>\n",
              "      <td>0.0</td>\n",
              "      <td>What is one coin?</td>\n",
              "      <td>What's this coin?</td>\n",
              "    </tr>\n",
              "    <tr>\n",
              "      <th>404286</th>\n",
              "      <td>0.0</td>\n",
              "      <td>What is the approx annual cost of living while...</td>\n",
              "      <td>I am having little hairfall problem but I want...</td>\n",
              "    </tr>\n",
              "    <tr>\n",
              "      <th>404287</th>\n",
              "      <td>0.0</td>\n",
              "      <td>What is like to have sex with cousin?</td>\n",
              "      <td>What is it like to have sex with your cousin?</td>\n",
              "    </tr>\n",
              "  </tbody>\n",
              "</table>\n",
              "<p>404288 rows × 3 columns</p>\n",
              "</div>\n",
              "    <div class=\"colab-df-buttons\">\n",
              "\n",
              "  <div class=\"colab-df-container\">\n",
              "    <button class=\"colab-df-convert\" onclick=\"convertToInteractive('df-3b271438-055d-4fd8-8fc1-96c014b8ff3c')\"\n",
              "            title=\"Convert this dataframe to an interactive table.\"\n",
              "            style=\"display:none;\">\n",
              "\n",
              "  <svg xmlns=\"http://www.w3.org/2000/svg\" height=\"24px\" viewBox=\"0 -960 960 960\">\n",
              "    <path d=\"M120-120v-720h720v720H120Zm60-500h600v-160H180v160Zm220 220h160v-160H400v160Zm0 220h160v-160H400v160ZM180-400h160v-160H180v160Zm440 0h160v-160H620v160ZM180-180h160v-160H180v160Zm440 0h160v-160H620v160Z\"/>\n",
              "  </svg>\n",
              "    </button>\n",
              "\n",
              "  <style>\n",
              "    .colab-df-container {\n",
              "      display:flex;\n",
              "      gap: 12px;\n",
              "    }\n",
              "\n",
              "    .colab-df-convert {\n",
              "      background-color: #E8F0FE;\n",
              "      border: none;\n",
              "      border-radius: 50%;\n",
              "      cursor: pointer;\n",
              "      display: none;\n",
              "      fill: #1967D2;\n",
              "      height: 32px;\n",
              "      padding: 0 0 0 0;\n",
              "      width: 32px;\n",
              "    }\n",
              "\n",
              "    .colab-df-convert:hover {\n",
              "      background-color: #E2EBFA;\n",
              "      box-shadow: 0px 1px 2px rgba(60, 64, 67, 0.3), 0px 1px 3px 1px rgba(60, 64, 67, 0.15);\n",
              "      fill: #174EA6;\n",
              "    }\n",
              "\n",
              "    .colab-df-buttons div {\n",
              "      margin-bottom: 4px;\n",
              "    }\n",
              "\n",
              "    [theme=dark] .colab-df-convert {\n",
              "      background-color: #3B4455;\n",
              "      fill: #D2E3FC;\n",
              "    }\n",
              "\n",
              "    [theme=dark] .colab-df-convert:hover {\n",
              "      background-color: #434B5C;\n",
              "      box-shadow: 0px 1px 3px 1px rgba(0, 0, 0, 0.15);\n",
              "      filter: drop-shadow(0px 1px 2px rgba(0, 0, 0, 0.3));\n",
              "      fill: #FFFFFF;\n",
              "    }\n",
              "  </style>\n",
              "\n",
              "    <script>\n",
              "      const buttonEl =\n",
              "        document.querySelector('#df-3b271438-055d-4fd8-8fc1-96c014b8ff3c button.colab-df-convert');\n",
              "      buttonEl.style.display =\n",
              "        google.colab.kernel.accessAllowed ? 'block' : 'none';\n",
              "\n",
              "      async function convertToInteractive(key) {\n",
              "        const element = document.querySelector('#df-3b271438-055d-4fd8-8fc1-96c014b8ff3c');\n",
              "        const dataTable =\n",
              "          await google.colab.kernel.invokeFunction('convertToInteractive',\n",
              "                                                    [key], {});\n",
              "        if (!dataTable) return;\n",
              "\n",
              "        const docLinkHtml = 'Like what you see? Visit the ' +\n",
              "          '<a target=\"_blank\" href=https://colab.research.google.com/notebooks/data_table.ipynb>data table notebook</a>'\n",
              "          + ' to learn more about interactive tables.';\n",
              "        element.innerHTML = '';\n",
              "        dataTable['output_type'] = 'display_data';\n",
              "        await google.colab.output.renderOutput(dataTable, element);\n",
              "        const docLink = document.createElement('div');\n",
              "        docLink.innerHTML = docLinkHtml;\n",
              "        element.appendChild(docLink);\n",
              "      }\n",
              "    </script>\n",
              "  </div>\n",
              "\n",
              "\n",
              "<div id=\"df-362452f7-7695-465b-93aa-b3310b3399b6\">\n",
              "  <button class=\"colab-df-quickchart\" onclick=\"quickchart('df-362452f7-7695-465b-93aa-b3310b3399b6')\"\n",
              "            title=\"Suggest charts\"\n",
              "            style=\"display:none;\">\n",
              "\n",
              "<svg xmlns=\"http://www.w3.org/2000/svg\" height=\"24px\"viewBox=\"0 0 24 24\"\n",
              "     width=\"24px\">\n",
              "    <g>\n",
              "        <path d=\"M19 3H5c-1.1 0-2 .9-2 2v14c0 1.1.9 2 2 2h14c1.1 0 2-.9 2-2V5c0-1.1-.9-2-2-2zM9 17H7v-7h2v7zm4 0h-2V7h2v10zm4 0h-2v-4h2v4z\"/>\n",
              "    </g>\n",
              "</svg>\n",
              "  </button>\n",
              "\n",
              "<style>\n",
              "  .colab-df-quickchart {\n",
              "      --bg-color: #E8F0FE;\n",
              "      --fill-color: #1967D2;\n",
              "      --hover-bg-color: #E2EBFA;\n",
              "      --hover-fill-color: #174EA6;\n",
              "      --disabled-fill-color: #AAA;\n",
              "      --disabled-bg-color: #DDD;\n",
              "  }\n",
              "\n",
              "  [theme=dark] .colab-df-quickchart {\n",
              "      --bg-color: #3B4455;\n",
              "      --fill-color: #D2E3FC;\n",
              "      --hover-bg-color: #434B5C;\n",
              "      --hover-fill-color: #FFFFFF;\n",
              "      --disabled-bg-color: #3B4455;\n",
              "      --disabled-fill-color: #666;\n",
              "  }\n",
              "\n",
              "  .colab-df-quickchart {\n",
              "    background-color: var(--bg-color);\n",
              "    border: none;\n",
              "    border-radius: 50%;\n",
              "    cursor: pointer;\n",
              "    display: none;\n",
              "    fill: var(--fill-color);\n",
              "    height: 32px;\n",
              "    padding: 0;\n",
              "    width: 32px;\n",
              "  }\n",
              "\n",
              "  .colab-df-quickchart:hover {\n",
              "    background-color: var(--hover-bg-color);\n",
              "    box-shadow: 0 1px 2px rgba(60, 64, 67, 0.3), 0 1px 3px 1px rgba(60, 64, 67, 0.15);\n",
              "    fill: var(--button-hover-fill-color);\n",
              "  }\n",
              "\n",
              "  .colab-df-quickchart-complete:disabled,\n",
              "  .colab-df-quickchart-complete:disabled:hover {\n",
              "    background-color: var(--disabled-bg-color);\n",
              "    fill: var(--disabled-fill-color);\n",
              "    box-shadow: none;\n",
              "  }\n",
              "\n",
              "  .colab-df-spinner {\n",
              "    border: 2px solid var(--fill-color);\n",
              "    border-color: transparent;\n",
              "    border-bottom-color: var(--fill-color);\n",
              "    animation:\n",
              "      spin 1s steps(1) infinite;\n",
              "  }\n",
              "\n",
              "  @keyframes spin {\n",
              "    0% {\n",
              "      border-color: transparent;\n",
              "      border-bottom-color: var(--fill-color);\n",
              "      border-left-color: var(--fill-color);\n",
              "    }\n",
              "    20% {\n",
              "      border-color: transparent;\n",
              "      border-left-color: var(--fill-color);\n",
              "      border-top-color: var(--fill-color);\n",
              "    }\n",
              "    30% {\n",
              "      border-color: transparent;\n",
              "      border-left-color: var(--fill-color);\n",
              "      border-top-color: var(--fill-color);\n",
              "      border-right-color: var(--fill-color);\n",
              "    }\n",
              "    40% {\n",
              "      border-color: transparent;\n",
              "      border-right-color: var(--fill-color);\n",
              "      border-top-color: var(--fill-color);\n",
              "    }\n",
              "    60% {\n",
              "      border-color: transparent;\n",
              "      border-right-color: var(--fill-color);\n",
              "    }\n",
              "    80% {\n",
              "      border-color: transparent;\n",
              "      border-right-color: var(--fill-color);\n",
              "      border-bottom-color: var(--fill-color);\n",
              "    }\n",
              "    90% {\n",
              "      border-color: transparent;\n",
              "      border-bottom-color: var(--fill-color);\n",
              "    }\n",
              "  }\n",
              "</style>\n",
              "\n",
              "  <script>\n",
              "    async function quickchart(key) {\n",
              "      const quickchartButtonEl =\n",
              "        document.querySelector('#' + key + ' button');\n",
              "      quickchartButtonEl.disabled = true;  // To prevent multiple clicks.\n",
              "      quickchartButtonEl.classList.add('colab-df-spinner');\n",
              "      try {\n",
              "        const charts = await google.colab.kernel.invokeFunction(\n",
              "            'suggestCharts', [key], {});\n",
              "      } catch (error) {\n",
              "        console.error('Error during call to suggestCharts:', error);\n",
              "      }\n",
              "      quickchartButtonEl.classList.remove('colab-df-spinner');\n",
              "      quickchartButtonEl.classList.add('colab-df-quickchart-complete');\n",
              "    }\n",
              "    (() => {\n",
              "      let quickchartButtonEl =\n",
              "        document.querySelector('#df-362452f7-7695-465b-93aa-b3310b3399b6 button');\n",
              "      quickchartButtonEl.style.display =\n",
              "        google.colab.kernel.accessAllowed ? 'block' : 'none';\n",
              "    })();\n",
              "  </script>\n",
              "</div>\n",
              "\n",
              "  <div id=\"id_879d8dfe-6798-44bb-bb00-b863cfce6711\">\n",
              "    <style>\n",
              "      .colab-df-generate {\n",
              "        background-color: #E8F0FE;\n",
              "        border: none;\n",
              "        border-radius: 50%;\n",
              "        cursor: pointer;\n",
              "        display: none;\n",
              "        fill: #1967D2;\n",
              "        height: 32px;\n",
              "        padding: 0 0 0 0;\n",
              "        width: 32px;\n",
              "      }\n",
              "\n",
              "      .colab-df-generate:hover {\n",
              "        background-color: #E2EBFA;\n",
              "        box-shadow: 0px 1px 2px rgba(60, 64, 67, 0.3), 0px 1px 3px 1px rgba(60, 64, 67, 0.15);\n",
              "        fill: #174EA6;\n",
              "      }\n",
              "\n",
              "      [theme=dark] .colab-df-generate {\n",
              "        background-color: #3B4455;\n",
              "        fill: #D2E3FC;\n",
              "      }\n",
              "\n",
              "      [theme=dark] .colab-df-generate:hover {\n",
              "        background-color: #434B5C;\n",
              "        box-shadow: 0px 1px 3px 1px rgba(0, 0, 0, 0.15);\n",
              "        filter: drop-shadow(0px 1px 2px rgba(0, 0, 0, 0.3));\n",
              "        fill: #FFFFFF;\n",
              "      }\n",
              "    </style>\n",
              "    <button class=\"colab-df-generate\" onclick=\"generateWithVariable('df')\"\n",
              "            title=\"Generate code using this dataframe.\"\n",
              "            style=\"display:none;\">\n",
              "\n",
              "  <svg xmlns=\"http://www.w3.org/2000/svg\" height=\"24px\"viewBox=\"0 0 24 24\"\n",
              "       width=\"24px\">\n",
              "    <path d=\"M7,19H8.4L18.45,9,17,7.55,7,17.6ZM5,21V16.75L18.45,3.32a2,2,0,0,1,2.83,0l1.4,1.43a1.91,1.91,0,0,1,.58,1.4,1.91,1.91,0,0,1-.58,1.4L9.25,21ZM18.45,9,17,7.55Zm-12,3A5.31,5.31,0,0,0,4.9,8.1,5.31,5.31,0,0,0,1,6.5,5.31,5.31,0,0,0,4.9,4.9,5.31,5.31,0,0,0,6.5,1,5.31,5.31,0,0,0,8.1,4.9,5.31,5.31,0,0,0,12,6.5,5.46,5.46,0,0,0,6.5,12Z\"/>\n",
              "  </svg>\n",
              "    </button>\n",
              "    <script>\n",
              "      (() => {\n",
              "      const buttonEl =\n",
              "        document.querySelector('#id_879d8dfe-6798-44bb-bb00-b863cfce6711 button.colab-df-generate');\n",
              "      buttonEl.style.display =\n",
              "        google.colab.kernel.accessAllowed ? 'block' : 'none';\n",
              "\n",
              "      buttonEl.onclick = () => {\n",
              "        google.colab.notebook.generateWithVariable('df');\n",
              "      }\n",
              "      })();\n",
              "    </script>\n",
              "  </div>\n",
              "\n",
              "    </div>\n",
              "  </div>\n"
            ],
            "text/plain": [
              "        is_duplicate                                         question_1  \\\n",
              "0                0.0  What is the step by step guide to invest in sh...   \n",
              "1                0.0  What is the story of Kohinoor (Koh-i-Noor) Dia...   \n",
              "2                0.0  How can I increase the speed of my internet co...   \n",
              "3                0.0  Why am I mentally very lonely? How can I solve...   \n",
              "4                0.0  Which one dissolve in water quikly sugar, salt...   \n",
              "...              ...                                                ...   \n",
              "404283           0.0  How many keywords are there in the Racket prog...   \n",
              "404284           1.0          Do you believe there is life after death?   \n",
              "404285           0.0                                  What is one coin?   \n",
              "404286           0.0  What is the approx annual cost of living while...   \n",
              "404287           0.0              What is like to have sex with cousin?   \n",
              "\n",
              "                                               question_2  \n",
              "0       What is the step by step guide to invest in sh...  \n",
              "1       What would happen if the Indian government sto...  \n",
              "2       How can Internet speed be increased by hacking...  \n",
              "3       Find the remainder when [math]23^{24}[/math] i...  \n",
              "4                 Which fish would survive in salt water?  \n",
              "...                                                   ...  \n",
              "404283  How many keywords are there in PERL Programmin...  \n",
              "404284         Is it true that there is life after death?  \n",
              "404285                                  What's this coin?  \n",
              "404286  I am having little hairfall problem but I want...  \n",
              "404287      What is it like to have sex with your cousin?  \n",
              "\n",
              "[404288 rows x 3 columns]"
            ]
          },
          "execution_count": 12,
          "metadata": {},
          "output_type": "execute_result"
        }
      ],
      "source": [
        "# Load the dataset from the Hugging Face's 'datasets' library\n",
        "df = load_dataset(\"quora\")[\"train\"].to_pandas()\n",
        "\n",
        "# Extract question pairs without considering empty strings\n",
        "df[\"question_1\"] = df.questions.apply(lambda x: x[\"text\"][0] if len(x[\"text\"][0]) > 0 else None)\n",
        "df[\"question_2\"] = df.questions.apply(lambda x: x[\"text\"][1] if len(x[\"text\"][1]) > 0 else None)\n",
        "\n",
        "# Remove the 'questions' column\n",
        "df = df.drop(columns=[\"questions\"])\n",
        "\n",
        "# Remove missing records\n",
        "df = df.dropna().reset_index(drop=True)\n",
        "\n",
        "# Change the data type of the 'is_duplicate' column\n",
        "df[\"is_duplicate\"] = df.is_duplicate.astype(np.float32)\n",
        "df"
      ]
    },
    {
      "cell_type": "code",
      "execution_count": null,
      "metadata": {
        "colab": {
          "base_uri": "https://localhost:8080/",
          "height": 261
        },
        "id": "2i2xZcNoTrv6",
        "outputId": "a1978c2e-0935-45b2-bbff-29cba562e5f5"
      },
      "outputs": [
        {
          "name": "stdout",
          "output_type": "stream",
          "text": [
            "<class 'pandas.core.frame.DataFrame'>\n",
            "RangeIndex: 404288 entries, 0 to 404287\n",
            "Data columns (total 3 columns):\n",
            " #   Column        Non-Null Count   Dtype  \n",
            "---  ------        --------------   -----  \n",
            " 0   is_duplicate  404288 non-null  float32\n",
            " 1   question_1    404288 non-null  object \n",
            " 2   question_2    404288 non-null  object \n",
            "dtypes: float32(1), object(2)\n",
            "memory usage: 7.7+ MB\n",
            "None \n",
            "\n"
          ]
        },
        {
          "data": {
            "application/vnd.google.colaboratory.intrinsic+json": {
              "repr_error": "Out of range float values are not JSON compliant: nan",
              "type": "dataframe"
            },
            "text/html": [
              "\n",
              "  <div id=\"df-410a46d6-809e-4f4a-834b-233b13781db7\" class=\"colab-df-container\">\n",
              "    <div>\n",
              "<style scoped>\n",
              "    .dataframe tbody tr th:only-of-type {\n",
              "        vertical-align: middle;\n",
              "    }\n",
              "\n",
              "    .dataframe tbody tr th {\n",
              "        vertical-align: top;\n",
              "    }\n",
              "\n",
              "    .dataframe thead th {\n",
              "        text-align: right;\n",
              "    }\n",
              "</style>\n",
              "<table border=\"1\" class=\"dataframe\">\n",
              "  <thead>\n",
              "    <tr style=\"text-align: right;\">\n",
              "      <th></th>\n",
              "      <th>is_duplicate</th>\n",
              "      <th>question_1</th>\n",
              "      <th>question_2</th>\n",
              "    </tr>\n",
              "  </thead>\n",
              "  <tbody>\n",
              "  </tbody>\n",
              "</table>\n",
              "</div>\n",
              "    <div class=\"colab-df-buttons\">\n",
              "\n",
              "  <div class=\"colab-df-container\">\n",
              "    <button class=\"colab-df-convert\" onclick=\"convertToInteractive('df-410a46d6-809e-4f4a-834b-233b13781db7')\"\n",
              "            title=\"Convert this dataframe to an interactive table.\"\n",
              "            style=\"display:none;\">\n",
              "\n",
              "  <svg xmlns=\"http://www.w3.org/2000/svg\" height=\"24px\" viewBox=\"0 -960 960 960\">\n",
              "    <path d=\"M120-120v-720h720v720H120Zm60-500h600v-160H180v160Zm220 220h160v-160H400v160Zm0 220h160v-160H400v160ZM180-400h160v-160H180v160Zm440 0h160v-160H620v160ZM180-180h160v-160H180v160Zm440 0h160v-160H620v160Z\"/>\n",
              "  </svg>\n",
              "    </button>\n",
              "\n",
              "  <style>\n",
              "    .colab-df-container {\n",
              "      display:flex;\n",
              "      gap: 12px;\n",
              "    }\n",
              "\n",
              "    .colab-df-convert {\n",
              "      background-color: #E8F0FE;\n",
              "      border: none;\n",
              "      border-radius: 50%;\n",
              "      cursor: pointer;\n",
              "      display: none;\n",
              "      fill: #1967D2;\n",
              "      height: 32px;\n",
              "      padding: 0 0 0 0;\n",
              "      width: 32px;\n",
              "    }\n",
              "\n",
              "    .colab-df-convert:hover {\n",
              "      background-color: #E2EBFA;\n",
              "      box-shadow: 0px 1px 2px rgba(60, 64, 67, 0.3), 0px 1px 3px 1px rgba(60, 64, 67, 0.15);\n",
              "      fill: #174EA6;\n",
              "    }\n",
              "\n",
              "    .colab-df-buttons div {\n",
              "      margin-bottom: 4px;\n",
              "    }\n",
              "\n",
              "    [theme=dark] .colab-df-convert {\n",
              "      background-color: #3B4455;\n",
              "      fill: #D2E3FC;\n",
              "    }\n",
              "\n",
              "    [theme=dark] .colab-df-convert:hover {\n",
              "      background-color: #434B5C;\n",
              "      box-shadow: 0px 1px 3px 1px rgba(0, 0, 0, 0.15);\n",
              "      filter: drop-shadow(0px 1px 2px rgba(0, 0, 0, 0.3));\n",
              "      fill: #FFFFFF;\n",
              "    }\n",
              "  </style>\n",
              "\n",
              "    <script>\n",
              "      const buttonEl =\n",
              "        document.querySelector('#df-410a46d6-809e-4f4a-834b-233b13781db7 button.colab-df-convert');\n",
              "      buttonEl.style.display =\n",
              "        google.colab.kernel.accessAllowed ? 'block' : 'none';\n",
              "\n",
              "      async function convertToInteractive(key) {\n",
              "        const element = document.querySelector('#df-410a46d6-809e-4f4a-834b-233b13781db7');\n",
              "        const dataTable =\n",
              "          await google.colab.kernel.invokeFunction('convertToInteractive',\n",
              "                                                    [key], {});\n",
              "        if (!dataTable) return;\n",
              "\n",
              "        const docLinkHtml = 'Like what you see? Visit the ' +\n",
              "          '<a target=\"_blank\" href=https://colab.research.google.com/notebooks/data_table.ipynb>data table notebook</a>'\n",
              "          + ' to learn more about interactive tables.';\n",
              "        element.innerHTML = '';\n",
              "        dataTable['output_type'] = 'display_data';\n",
              "        await google.colab.output.renderOutput(dataTable, element);\n",
              "        const docLink = document.createElement('div');\n",
              "        docLink.innerHTML = docLinkHtml;\n",
              "        element.appendChild(docLink);\n",
              "      }\n",
              "    </script>\n",
              "  </div>\n",
              "\n",
              "\n",
              "    </div>\n",
              "  </div>\n"
            ],
            "text/plain": [
              "Empty DataFrame\n",
              "Columns: [is_duplicate, question_1, question_2]\n",
              "Index: []"
            ]
          },
          "execution_count": 13,
          "metadata": {},
          "output_type": "execute_result"
        }
      ],
      "source": [
        "print(df.info(), \"\\n\")\n",
        "df[df.isnull().any(axis=1)]"
      ]
    },
    {
      "cell_type": "markdown",
      "metadata": {
        "id": "VODOT13ReLmH"
      },
      "source": [
        "**Undersampling**\n",
        "\n",
        "Since the dataset is unbalanced and non-duplicate questions are predominant, it's necessary to perform undersampling to have an equal amount of duplicate and non-duplicate questions, thus improving the training process."
      ]
    },
    {
      "cell_type": "code",
      "execution_count": null,
      "metadata": {
        "colab": {
          "base_uri": "https://localhost:8080/"
        },
        "id": "hNfDCohVcLjm",
        "outputId": "4b925ddc-f98f-456d-9e94-60e3659d7ee0"
      },
      "outputs": [
        {
          "name": "stdout",
          "output_type": "stream",
          "text": [
            "is_duplicate\n",
            "0.0    255025\n",
            "1.0    149263\n",
            "Name: count, dtype: int64 \n",
            "\n"
          ]
        },
        {
          "data": {
            "text/plain": [
              "149263"
            ]
          },
          "execution_count": 14,
          "metadata": {},
          "output_type": "execute_result"
        }
      ],
      "source": [
        "print(df.is_duplicate.value_counts(), \"\\n\")\n",
        "min_size = df.is_duplicate.value_counts().min()\n",
        "min_size"
      ]
    },
    {
      "cell_type": "code",
      "execution_count": null,
      "metadata": {
        "colab": {
          "base_uri": "https://localhost:8080/"
        },
        "id": "huYAC_preNF2",
        "outputId": "61f41694-858a-4311-8ee9-450b3e9277ff"
      },
      "outputs": [
        {
          "data": {
            "text/plain": [
              "is_duplicate\n",
              "0.0    149263\n",
              "1.0    149263\n",
              "Name: count, dtype: int64"
            ]
          },
          "execution_count": 15,
          "metadata": {},
          "output_type": "execute_result"
        }
      ],
      "source": [
        "df_minority = df[df.is_duplicate == 1]\n",
        "df_majority = df[df.is_duplicate == 0]\n",
        "df_majority = df_majority.sample(min_size, random_state=SEED)\n",
        "df = pd.concat([df_majority, df_minority], axis=0)\n",
        "\n",
        "del df_minority, df_majority\n",
        "\n",
        "df.is_duplicate.value_counts()"
      ]
    },
    {
      "cell_type": "markdown",
      "metadata": {
        "id": "GIwx6LkDrPsq"
      },
      "source": [
        "**Splitting the dataframe into training (90%), validation (5%) y testing (5%) sets**"
      ]
    },
    {
      "cell_type": "code",
      "execution_count": null,
      "metadata": {
        "colab": {
          "base_uri": "https://localhost:8080/"
        },
        "id": "8okW6EIji-vP",
        "outputId": "7a9e695d-a6b0-455f-e148-cfbdda216c21"
      },
      "outputs": [
        {
          "name": "stdout",
          "output_type": "stream",
          "text": [
            "268673 14926 14927 \n",
            "\n",
            "is_duplicate\n",
            "1.0    134337\n",
            "0.0    134336\n",
            "Name: count, dtype: int64\n",
            "is_duplicate\n",
            "1.0    7463\n",
            "0.0    7463\n",
            "Name: count, dtype: int64\n",
            "is_duplicate\n",
            "0.0    7464\n",
            "1.0    7463\n",
            "Name: count, dtype: int64\n"
          ]
        }
      ],
      "source": [
        "df_train, df_val_test = train_test_split(df, test_size=0.1, random_state=SEED, stratify=df.is_duplicate)\n",
        "df_val, df_test = train_test_split(df_val_test, test_size=0.5, random_state=SEED, stratify=df_val_test.is_duplicate)\n",
        "\n",
        "del df, df_val_test #Remove to free memory\n",
        "\n",
        "print(len(df_train), len(df_val), len(df_test), \"\\n\")\n",
        "\n",
        "# Thanks to the 'stratify' argument, the distribution is preserved\n",
        "print(df_train.is_duplicate.value_counts())\n",
        "print(df_val.is_duplicate.value_counts())\n",
        "print(df_test.is_duplicate.value_counts())"
      ]
    },
    {
      "cell_type": "code",
      "execution_count": null,
      "metadata": {
        "id": "uV9iMs66sGjn"
      },
      "outputs": [],
      "source": [
        "train_dataset = tf.data.Dataset.from_tensor_slices(\n",
        "    ((df_train.question_1.values, df_train.question_2.values), df_train.is_duplicate.values)\n",
        ")\n",
        "\n",
        "val_dataset = tf.data.Dataset.from_tensor_slices(\n",
        "    ((df_val.question_1.values, df_val.question_2.values), df_val.is_duplicate.values)\n",
        ")\n",
        "\n",
        "test_dataset = tf.data.Dataset.from_tensor_slices(\n",
        "    ((df_test.question_1.values, df_test.question_2.values), df_test.is_duplicate.values)\n",
        ")\n",
        "\n",
        "train_dataset = train_dataset.shuffle(buffer_size, seed=SEED).batch(batch_size).prefetch(AUTOTUNE)\n",
        "val_dataset = val_dataset.batch(batch_size).prefetch(AUTOTUNE)\n",
        "test_dataset = test_dataset.batch(batch_size).prefetch(AUTOTUNE)"
      ]
    },
    {
      "cell_type": "code",
      "execution_count": null,
      "metadata": {
        "colab": {
          "base_uri": "https://localhost:8080/"
        },
        "id": "Od2hV59wPi-L",
        "outputId": "3e42952e-30ea-425a-b1ce-b363b279f2f8"
      },
      "outputs": [
        {
          "name": "stdout",
          "output_type": "stream",
          "text": [
            "[b'Is Durex ultra thin condom safe?'\n",
            " b\"Why didn't other European imperialist follow British to build their colony on Indian vast continent?\"\n",
            " b'How does the ban on 500 and 1000 rupee notes helps to identify black money and corruption?'\n",
            " b'Is China authoritarian or totalitarian?'\n",
            " b'Is ethical hacking a good career choice in India?']\n",
            "[b'How safe is durex ultra thin condoms?'\n",
            " b'Of all European power, why did only the British succeeded in setting up vast colonial rule in Indian subcontinent?'\n",
            " b'How can Modi government prevent black money by discontinuing 500 and 1000 notes?'\n",
            " b'Is China a totalitarian state?'\n",
            " b'What is the scope of Ethical Hacking in India?'] \n",
            "\n",
            "[1. 1. 1. 0. 0.]\n"
          ]
        }
      ],
      "source": [
        "# Viewing a training batch\n",
        "for (q1, q2), la in train_dataset.take(1):\n",
        "  print(q1.numpy()[:5])\n",
        "  print(q2.numpy()[:5], \"\\n\")\n",
        "  print(la.numpy()[:5])"
      ]
    },
    {
      "cell_type": "markdown",
      "metadata": {
        "id": "Ezq3bReorVtw"
      },
      "source": [
        "**Text Encoder Creation**\n",
        "\n",
        "Text processing utilizes the ``TextVectorization`` layer, which encodes text into indices by frequency order (following the padding token and the unknown token), considering up to ``vocab_size``. Index tensors are padded with zeros up to the longest sequence in the batch (unless you set a fixed value for ``output_sequence_length``)."
      ]
    },
    {
      "cell_type": "code",
      "execution_count": null,
      "metadata": {
        "id": "YP08_55QPjYy"
      },
      "outputs": [],
      "source": [
        "tf.random.set_seed(SEED)\n",
        "\n",
        "encoder = tf.keras.layers.TextVectorization(max_tokens=vocab_size,\n",
        "                                            standardize=\"lower_and_strip_punctuation\")\n",
        "encoder.adapt(np.concatenate([df_train.question_1, df_train.question_2], axis=0))\n",
        "vocab = np.array(encoder.get_vocabulary())\n",
        "\n",
        "del df_train, df_val"
      ]
    },
    {
      "cell_type": "code",
      "execution_count": null,
      "metadata": {
        "colab": {
          "base_uri": "https://localhost:8080/"
        },
        "id": "UzhyoLfMmXia",
        "outputId": "2ed2f0af-e9cc-47a4-de8e-e9b32d78c655"
      },
      "outputs": [
        {
          "name": "stdout",
          "output_type": "stream",
          "text": [
            "50000\n"
          ]
        },
        {
          "data": {
            "text/plain": [
              "array(['', '[UNK]', 'the', 'what', 'is', 'how', 'i', 'to', 'a', 'in'],\n",
              "      dtype='<U93')"
            ]
          },
          "execution_count": 20,
          "metadata": {},
          "output_type": "execute_result"
        }
      ],
      "source": [
        "print(encoder.vocabulary_size())\n",
        "vocab[:10]"
      ]
    },
    {
      "cell_type": "code",
      "execution_count": null,
      "metadata": {
        "colab": {
          "base_uri": "https://localhost:8080/"
        },
        "id": "4vLOjk3Sr67S",
        "outputId": "d0738092-b360-4562-9fec-40107db69ab0"
      },
      "outputs": [
        {
          "name": "stdout",
          "output_type": "stream",
          "text": [
            "(3, 37)\n"
          ]
        },
        {
          "data": {
            "text/plain": [
              "array([[    5,   297,     4, 27172,  7369,  4146,  7143,     0,     0,\n",
              "            0,     0,     0,     0,     0,     0,     0,     0,     0,\n",
              "            0,     0,     0,     0,     0,     0,     0,     0,     0,\n",
              "            0,     0,     0,     0,     0,     0,     0,     0,     0,\n",
              "            0],\n",
              "       [   11,    82,  1602,   392,    17,    56,   194,     2,   817,\n",
              "        11616,     9,  3208,   122,  8297,  8256,  1649,     9,    81,\n",
              "         9213,     0,     0,     0,     0,     0,     0,     0,     0,\n",
              "            0,     0,     0,     0,     0,     0,     0,     0,     0,\n",
              "            0],\n",
              "       [    5,    14,   344,   220,  1063,   141,    60,    57,  2948,\n",
              "          104,    13,   105,    97,     0,     0,     0,     0,     0,\n",
              "            0,     0,     0,     0,     0,     0,     0,     0,     0,\n",
              "            0,     0,     0,     0,     0,     0,     0,     0,     0,\n",
              "            0]])"
            ]
          },
          "execution_count": 23,
          "metadata": {},
          "output_type": "execute_result"
        }
      ],
      "source": [
        "# Visualizing tokenization\n",
        "encoded_texts = encoder(q2)[:3].numpy()\n",
        "print(encoded_texts.shape)\n",
        "encoded_texts"
      ]
    },
    {
      "cell_type": "code",
      "execution_count": null,
      "metadata": {
        "colab": {
          "base_uri": "https://localhost:8080/"
        },
        "id": "oeCQ_bJssdt1",
        "outputId": "93fa567c-9847-43f7-95fd-de5675d75c48"
      },
      "outputs": [
        {
          "name": "stdout",
          "output_type": "stream",
          "text": [
            "Of all European power, why did only the British succeeded in setting up vast colonial rule in Indian subcontinent? \n",
            "\n",
            "of all european power why did only the british succeeded in setting up vast colonial rule in indian subcontinent                  \n"
          ]
        }
      ],
      "source": [
        "# Visualizing text processing\n",
        "print(q2[1].numpy().decode(\"utf-8\"), \"\\n\")\n",
        "print(\" \".join(vocab[encoded_texts[1]]))"
      ]
    },
    {
      "cell_type": "markdown",
      "metadata": {
        "id": "JjdJe11iKuZX"
      },
      "source": [
        "### **Build the Model**\n",
        "\n",
        "The model's architecture is a siamese network, a type of neural network that uses the same weights while working together on two different input vectors to calculate comparable output vectors.\n",
        "\n",
        "Questions enter the `TextVectorization` layer, which preprocesses them and converts them into tokens. Then, they pass into the `Embedding` layer, which vectorizes each token and reduces its dimensionality from `vocab_size` to `embedding_dim`, thereby representing the information compactly. After this, they pass through a ``bidirectional LSTM`` layer, which allows the neural network to access both the past and future of the sequence, significantly improving performance on tasks that require a deep understanding of context. Finally, the vectors pass through the custom `EuclideanDistance` layer to calculate the similarity between each pair of questions. A custom layer was needed to compute the Euclidean distance because [Lambda layers have serialization issues](https://www.tensorflow.org/api_docs/python/tf/keras/layers/Lambda).\n",
        "\n",
        "The custom loss function used is [Contrastive Loss](http://yann.lecun.com/exdb/publis/pdf/hadsell-chopra-lecun-06.pdf) with a margin of 1.0. Contrastive Loss is suitable for this type of task because it measures the similarity between two vectors and adjusts the model to minimize the distance between similar vectors while maximizing the distance between dissimilar vectors. The custom metric used is accuracy, but unlike conventional accuracy, it considers a prediction positive if the predicted value is less than or equal to the set threshold."
      ]
    },
    {
      "cell_type": "code",
      "execution_count": null,
      "metadata": {
        "id": "aKM7fOIqtoln"
      },
      "outputs": [],
      "source": [
        "# Custom layer to calculate the Euclidean distance between two tensors\n",
        "@tf.keras.saving.register_keras_serializable()\n",
        "class EuclideanDistance(tf.keras.layers.Layer):\n",
        "  def __init__(self):\n",
        "    super().__init__()\n",
        "\n",
        "  def call(self, vects):\n",
        "    x, y = vects\n",
        "    sum_square = tf.reduce_sum(tf.square(x - y), axis=-1, keepdims=True)\n",
        "    return tf.sqrt(tf.maximum(sum_square, tf.keras.backend.epsilon()))\n",
        "\n",
        "\n",
        "# Custom function to calculate contrastive loss\n",
        "def contrastive_loss(y_true, y_pred, margin=1.0):\n",
        "  positive_loss = y_true * tf.square(y_pred)\n",
        "  negative_loss = (1 - y_true) * tf.square(tf.maximum(margin - y_pred, 0.0))\n",
        "  return positive_loss +  negative_loss\n",
        "\n",
        "\n",
        "# Custom function to calculate accuracy\n",
        "def accuracy(y_true, y_pred, threshold=0.5):\n",
        "  y_pred = tf.cast(y_pred <= threshold, dtype=tf.float32)\n",
        "  return tf.reduce_mean(tf.cast(tf.equal(y_true, y_pred), dtype=tf.float32))"
      ]
    },
    {
      "cell_type": "code",
      "execution_count": null,
      "metadata": {
        "id": "f6n7OisUqQfl"
      },
      "outputs": [],
      "source": [
        "def siamese_model():\n",
        "  base = tf.keras.Sequential([\n",
        "      encoder,\n",
        "      tf.keras.layers.Embedding(\n",
        "          input_dim=encoder.vocabulary_size(),\n",
        "          output_dim=embedding_dim,\n",
        "          mask_zero=True, #To handle variable sequence lengths\n",
        "      ),\n",
        "      tf.keras.layers.Bidirectional(tf.keras.layers.LSTM(embedding_dim))\n",
        "  ])\n",
        "\n",
        "  input_1 = tf.keras.Input(shape=(), dtype=tf.string)\n",
        "  input_2 = tf.keras.Input(shape=(), dtype=tf.string)\n",
        "\n",
        "  branch_1 = base(input_1)\n",
        "  branch_2 = base(input_2)\n",
        "  euclidean_layer = EuclideanDistance()([branch_1, branch_2])\n",
        "\n",
        "  model = tf.keras.Model(inputs=[input_1, input_2], outputs=euclidean_layer)\n",
        "\n",
        "  return model"
      ]
    },
    {
      "cell_type": "code",
      "execution_count": null,
      "metadata": {
        "colab": {
          "base_uri": "https://localhost:8080/"
        },
        "id": "xHHQV40YwPpn",
        "outputId": "a38ba6f5-97c6-40d5-8b12-04fb75eade46"
      },
      "outputs": [
        {
          "name": "stdout",
          "output_type": "stream",
          "text": [
            "Model: \"model\"\n",
            "__________________________________________________________________________________________________\n",
            " Layer (type)                Output Shape                 Param #   Connected to                  \n",
            "==================================================================================================\n",
            " input_1 (InputLayer)        [(None,)]                    0         []                            \n",
            "                                                                                                  \n",
            " input_2 (InputLayer)        [(None,)]                    0         []                            \n",
            "                                                                                                  \n",
            " sequential (Sequential)     (None, 256)                  6663168   ['input_1[0][0]',             \n",
            "                                                                     'input_2[0][0]']             \n",
            "                                                                                                  \n",
            " euclidean_distance (Euclid  (None, 1)                    0         ['sequential[0][0]',          \n",
            " eanDistance)                                                        'sequential[1][0]']          \n",
            "                                                                                                  \n",
            "==================================================================================================\n",
            "Total params: 6663168 (25.42 MB)\n",
            "Trainable params: 6663168 (25.42 MB)\n",
            "Non-trainable params: 0 (0.00 Byte)\n",
            "__________________________________________________________________________________________________\n"
          ]
        }
      ],
      "source": [
        "tf.keras.backend.clear_session() #Clearing Keras memory\n",
        "tf.random.set_seed(SEED) #For reproducibility\n",
        "\n",
        "model = siamese_model()\n",
        "model.summary()"
      ]
    },
    {
      "cell_type": "code",
      "execution_count": null,
      "metadata": {
        "colab": {
          "base_uri": "https://localhost:8080/",
          "height": 648
        },
        "id": "PXS1Ha53wk3P",
        "outputId": "8dbf1fd7-f647-47f3-f6e7-dcdf294654d6"
      },
      "outputs": [
        {
          "data": {
            "image/png": "[encoded data removed]",
            "text/plain": [
              "<IPython.core.display.Image object>"
            ]
          },
          "execution_count": 31,
          "metadata": {},
          "output_type": "execute_result"
        }
      ],
      "source": [
        "# Visualizing the architecture of the model\n",
        "tf.keras.utils.plot_model(model, show_shapes=True, show_layer_names=False, expand_nested=True)"
      ]
    },
    {
      "cell_type": "markdown",
      "metadata": {
        "id": "Axyp76O9tLLn"
      },
      "source": [
        "### **Compile and Train the Model**"
      ]
    },
    {
      "cell_type": "code",
      "execution_count": null,
      "metadata": {
        "id": "erdke_WF3sVB"
      },
      "outputs": [],
      "source": [
        "model.compile(\n",
        "    optimizer=tf.keras.optimizers.Adam(0.001),\n",
        "    loss=contrastive_loss,\n",
        "    metrics=[accuracy]\n",
        ")\n",
        "\n",
        "# Callback to stop training early if validation accuracy does not improve for 3 epochs.\n",
        "callback = tf.keras.callbacks.EarlyStopping(\n",
        "    monitor=\"val_accuracy\",\n",
        "    patience=3,\n",
        "    mode=\"max\",\n",
        "    restore_best_weights=True\n",
        ")"
      ]
    },
    {
      "cell_type": "code",
      "execution_count": null,
      "metadata": {
        "colab": {
          "base_uri": "https://localhost:8080/"
        },
        "id": "iPoBp902Mwsz",
        "outputId": "ed1644cd-16c6-4fe5-bea5-d28205315361"
      },
      "outputs": [
        {
          "name": "stdout",
          "output_type": "stream",
          "text": [
            "Epoch 1/20\n",
            "1050/1050 [==============================] - 75s 57ms/step - loss: 0.1690 - accuracy: 0.7641 - val_loss: 0.1417 - val_accuracy: 0.8114\n",
            "Epoch 2/20\n",
            "1050/1050 [==============================] - 33s 32ms/step - loss: 0.1114 - accuracy: 0.8597 - val_loss: 0.1339 - val_accuracy: 0.8270\n",
            "Epoch 3/20\n",
            "1050/1050 [==============================] - 33s 32ms/step - loss: 0.0907 - accuracy: 0.8931 - val_loss: 0.1351 - val_accuracy: 0.8277\n",
            "Epoch 4/20\n",
            "1050/1050 [==============================] - 31s 30ms/step - loss: 0.0792 - accuracy: 0.9113 - val_loss: 0.1415 - val_accuracy: 0.8309\n",
            "Epoch 5/20\n",
            "1050/1050 [==============================] - 32s 31ms/step - loss: 0.0713 - accuracy: 0.9234 - val_loss: 0.1418 - val_accuracy: 0.8316\n",
            "Epoch 6/20\n",
            "1050/1050 [==============================] - 30s 29ms/step - loss: 0.0640 - accuracy: 0.9335 - val_loss: 0.1491 - val_accuracy: 0.8307\n",
            "Epoch 7/20\n",
            "1050/1050 [==============================] - 30s 29ms/step - loss: 0.0601 - accuracy: 0.9391 - val_loss: 0.1535 - val_accuracy: 0.8316\n",
            "Epoch 8/20\n",
            "1050/1050 [==============================] - 32s 30ms/step - loss: 0.0549 - accuracy: 0.9459 - val_loss: 0.1560 - val_accuracy: 0.8291\n"
          ]
        }
      ],
      "source": [
        "tf.random.set_seed(SEED)\n",
        "history = model.fit(train_dataset, epochs=epochs, validation_data=val_dataset, callbacks=[callback])"
      ]
    },
    {
      "cell_type": "markdown",
      "metadata": {
        "id": "S7cewteBIwua"
      },
      "source": [
        "**Save model**"
      ]
    },
    {
      "cell_type": "code",
      "execution_count": null,
      "metadata": {
        "id": "kHF6iPebtijl"
      },
      "outputs": [],
      "source": [
        "drive.mount(\"/content/drive/\")\n",
        "trained_model_path = \"/content/drive/MyDrive/models/DuplicateQuestions_LSTM_Quora.keras\""
      ]
    },
    {
      "cell_type": "code",
      "execution_count": null,
      "metadata": {
        "id": "gJ1Ww4BMaIfQ"
      },
      "outputs": [],
      "source": [
        "model.save(trained_model_path)"
      ]
    },
    {
      "cell_type": "markdown",
      "metadata": {
        "id": "WSJL2EanOvQH"
      },
      "source": [
        "### **Model Evaluation**"
      ]
    },
    {
      "cell_type": "code",
      "execution_count": null,
      "metadata": {
        "colab": {
          "base_uri": "https://localhost:8080/"
        },
        "id": "N45932pww4aW",
        "outputId": "e2666697-ad87-4212-fbb9-41464f816a1a"
      },
      "outputs": [
        {
          "name": "stdout",
          "output_type": "stream",
          "text": [
            "[0.06709015369415283, 0.9291483163833618]\n",
            "[0.1417534202337265, 0.8315881490707397]\n",
            "[0.13498403131961823, 0.8361302614212036]\n"
          ]
        }
      ],
      "source": [
        "print(model.evaluate(train_dataset, verbose=0))\n",
        "print(model.evaluate(val_dataset, verbose=0))\n",
        "print(model.evaluate(test_dataset, verbose=0))"
      ]
    },
    {
      "cell_type": "markdown",
      "metadata": {
        "id": "nG-IoHTz_wUy"
      },
      "source": [
        "The training set achieves an accuracy of 93%, while the validation set accuracy is 83.2%, and the test set accuracy is 83.6%. If we were to continue training for more epochs, the training set accuracy would increase to 100%, while that of the validation and test sets would decrease. This suggests that the model is good but suffers from overfitting, despite the training set being quite large, the best hyperparameters being chosen, and a callback being used to stop training when the validation accuracy does not improve for 3 epochs, in order to reduce overfitting. To achieve better results, it would be advisable to use more robust architectures such as transformer networks, as the task of detecting duplicate questions is more complex compared to sentiment analysis."
      ]
    },
    {
      "cell_type": "code",
      "execution_count": 6,
      "metadata": {
        "id": "S0Dl-vzNaZD4"
      },
      "outputs": [],
      "source": [
        "# Function to plot the metrics\n",
        "def plot_metrics(history=history, metric=\"loss\", renderer=None, epochs=len(history.history[\"loss\"])):\n",
        "  losses = history.history[metric]\n",
        "  val_losses = history.history[f\"val_{metric}\"]\n",
        "  list_epochs = np.arange(1, epochs+1)\n",
        "  metric = metric.capitalize()\n",
        "\n",
        "  fig=go.Figure()\n",
        "  fig.add_trace(go.Scatter(x=list_epochs, y=losses, name=metric, line=dict(color=\"blue\", width=2)))\n",
        "  fig.add_trace(go.Scatter(x=list_epochs, y=val_losses, name=f\"Val {metric}\", line=dict(color=\"#FF6600\", width=2)))\n",
        "  fig.update_xaxes(title_text=\"Epoch\")\n",
        "  fig.update_yaxes(title_text=metric)\n",
        "  fig.update_layout(title=f\"Evolution of {metric} across Epochs\",\n",
        "                    title_font=dict(size=20),\n",
        "                    title_x=0.5,\n",
        "                    height=500,\n",
        "                    width=1200)\n",
        "\n",
        "  fig.show(renderer)"
      ]
    },
    {
      "cell_type": "markdown",
      "metadata": {
        "id": "Zbmblu4ZuQoO"
      },
      "source": [
        "**Interactive graphics**"
      ]
    },
    {
      "cell_type": "code",
      "execution_count": 7,
      "metadata": {
        "colab": {
          "base_uri": "https://localhost:8080/",
          "height": 1000
        },
        "id": "K9_fscW1bBUJ",
        "outputId": "87a80c08-8cc8-4832-afc5-d96b582b6aa7"
      },
      "outputs": [
        {
          "data": {
            "text/html": [
              "<html>\n",
              "<head><meta charset=\"utf-8\" /></head>\n",
              "<body>\n",
              "    <div>            <script src=\"https://cdnjs.cloudflare.com/ajax/libs/mathjax/2.7.5/MathJax.js?config=TeX-AMS-MML_SVG\"></script><script type=\"text/javascript\">if (window.MathJax && window.MathJax.Hub && window.MathJax.Hub.Config) {window.MathJax.Hub.Config({SVG: {font: \"STIX-Web\"}});}</script>                <script type=\"text/javascript\">window.PlotlyConfig = {MathJaxConfig: 'local'};</script>\n",
              "        <script charset=\"utf-8\" src=\"https://cdn.plot.ly/plotly-2.24.1.min.js\"></script>                <div id=\"4e3b8025-894a-417f-acf4-6cb815231e64\" class=\"plotly-graph-div\" style=\"height:500px; width:1200px;\"></div>            <script type=\"text/javascript\">                                    window.PLOTLYENV=window.PLOTLYENV || {};                                    if (document.getElementById(\"4e3b8025-894a-417f-acf4-6cb815231e64\")) {                    Plotly.newPlot(                        \"4e3b8025-894a-417f-acf4-6cb815231e64\",                        [{\"line\":{\"color\":\"blue\",\"width\":2},\"name\":\"Accuracy\",\"x\":[1,2,3,4,5,6,7,8],\"y\":[0.7641085982322693,0.8597105741500854,0.8930625915527344,0.9113025069236756,0.9233746528625488,0.9334751963615416,0.93913733959198,0.9459041357040404],\"type\":\"scatter\"},{\"line\":{\"color\":\"#FF6600\",\"width\":2},\"name\":\"Val Accuracy\",\"x\":[1,2,3,4,5,6,7,8],\"y\":[0.8114339113235474,0.827048659324646,0.8277396559715271,0.8308785557746887,0.8315881490707397,0.8306612372398376,0.831569492816925,0.8291487097740173],\"type\":\"scatter\"}],                        {\"template\":{\"data\":{\"histogram2dcontour\":[{\"type\":\"histogram2dcontour\",\"colorbar\":{\"outlinewidth\":0,\"ticks\":\"\"},\"colorscale\":[[0.0,\"#0d0887\"],[0.1111111111111111,\"#46039f\"],[0.2222222222222222,\"#7201a8\"],[0.3333333333333333,\"#9c179e\"],[0.4444444444444444,\"#bd3786\"],[0.5555555555555556,\"#d8576b\"],[0.6666666666666666,\"#ed7953\"],[0.7777777777777778,\"#fb9f3a\"],[0.8888888888888888,\"#fdca26\"],[1.0,\"#f0f921\"]]}],\"choropleth\":[{\"type\":\"choropleth\",\"colorbar\":{\"outlinewidth\":0,\"ticks\":\"\"}}],\"histogram2d\":[{\"type\":\"histogram2d\",\"colorbar\":{\"outlinewidth\":0,\"ticks\":\"\"},\"colorscale\":[[0.0,\"#0d0887\"],[0.1111111111111111,\"#46039f\"],[0.2222222222222222,\"#7201a8\"],[0.3333333333333333,\"#9c179e\"],[0.4444444444444444,\"#bd3786\"],[0.5555555555555556,\"#d8576b\"],[0.6666666666666666,\"#ed7953\"],[0.7777777777777778,\"#fb9f3a\"],[0.8888888888888888,\"#fdca26\"],[1.0,\"#f0f921\"]]}],\"heatmap\":[{\"type\":\"heatmap\",\"colorbar\":{\"outlinewidth\":0,\"ticks\":\"\"},\"colorscale\":[[0.0,\"#0d0887\"],[0.1111111111111111,\"#46039f\"],[0.2222222222222222,\"#7201a8\"],[0.3333333333333333,\"#9c179e\"],[0.4444444444444444,\"#bd3786\"],[0.5555555555555556,\"#d8576b\"],[0.6666666666666666,\"#ed7953\"],[0.7777777777777778,\"#fb9f3a\"],[0.8888888888888888,\"#fdca26\"],[1.0,\"#f0f921\"]]}],\"heatmapgl\":[{\"type\":\"heatmapgl\",\"colorbar\":{\"outlinewidth\":0,\"ticks\":\"\"},\"colorscale\":[[0.0,\"#0d0887\"],[0.1111111111111111,\"#46039f\"],[0.2222222222222222,\"#7201a8\"],[0.3333333333333333,\"#9c179e\"],[0.4444444444444444,\"#bd3786\"],[0.5555555555555556,\"#d8576b\"],[0.6666666666666666,\"#ed7953\"],[0.7777777777777778,\"#fb9f3a\"],[0.8888888888888888,\"#fdca26\"],[1.0,\"#f0f921\"]]}],\"contourcarpet\":[{\"type\":\"contourcarpet\",\"colorbar\":{\"outlinewidth\":0,\"ticks\":\"\"}}],\"contour\":[{\"type\":\"contour\",\"colorbar\":{\"outlinewidth\":0,\"ticks\":\"\"},\"colorscale\":[[0.0,\"#0d0887\"],[0.1111111111111111,\"#46039f\"],[0.2222222222222222,\"#7201a8\"],[0.3333333333333333,\"#9c179e\"],[0.4444444444444444,\"#bd3786\"],[0.5555555555555556,\"#d8576b\"],[0.6666666666666666,\"#ed7953\"],[0.7777777777777778,\"#fb9f3a\"],[0.8888888888888888,\"#fdca26\"],[1.0,\"#f0f921\"]]}],\"surface\":[{\"type\":\"surface\",\"colorbar\":{\"outlinewidth\":0,\"ticks\":\"\"},\"colorscale\":[[0.0,\"#0d0887\"],[0.1111111111111111,\"#46039f\"],[0.2222222222222222,\"#7201a8\"],[0.3333333333333333,\"#9c179e\"],[0.4444444444444444,\"#bd3786\"],[0.5555555555555556,\"#d8576b\"],[0.6666666666666666,\"#ed7953\"],[0.7777777777777778,\"#fb9f3a\"],[0.8888888888888888,\"#fdca26\"],[1.0,\"#f0f921\"]]}],\"mesh3d\":[{\"type\":\"mesh3d\",\"colorbar\":{\"outlinewidth\":0,\"ticks\":\"\"}}],\"scatter\":[{\"fillpattern\":{\"fillmode\":\"overlay\",\"size\":10,\"solidity\":0.2},\"type\":\"scatter\"}],\"parcoords\":[{\"type\":\"parcoords\",\"line\":{\"colorbar\":{\"outlinewidth\":0,\"ticks\":\"\"}}}],\"scatterpolargl\":[{\"type\":\"scatterpolargl\",\"marker\":{\"colorbar\":{\"outlinewidth\":0,\"ticks\":\"\"}}}],\"bar\":[{\"error_x\":{\"color\":\"#2a3f5f\"},\"error_y\":{\"color\":\"#2a3f5f\"},\"marker\":{\"line\":{\"color\":\"#E5ECF6\",\"width\":0.5},\"pattern\":{\"fillmode\":\"overlay\",\"size\":10,\"solidity\":0.2}},\"type\":\"bar\"}],\"scattergeo\":[{\"type\":\"scattergeo\",\"marker\":{\"colorbar\":{\"outlinewidth\":0,\"ticks\":\"\"}}}],\"scatterpolar\":[{\"type\":\"scatterpolar\",\"marker\":{\"colorbar\":{\"outlinewidth\":0,\"ticks\":\"\"}}}],\"histogram\":[{\"marker\":{\"pattern\":{\"fillmode\":\"overlay\",\"size\":10,\"solidity\":0.2}},\"type\":\"histogram\"}],\"scattergl\":[{\"type\":\"scattergl\",\"marker\":{\"colorbar\":{\"outlinewidth\":0,\"ticks\":\"\"}}}],\"scatter3d\":[{\"type\":\"scatter3d\",\"line\":{\"colorbar\":{\"outlinewidth\":0,\"ticks\":\"\"}},\"marker\":{\"colorbar\":{\"outlinewidth\":0,\"ticks\":\"\"}}}],\"scattermapbox\":[{\"type\":\"scattermapbox\",\"marker\":{\"colorbar\":{\"outlinewidth\":0,\"ticks\":\"\"}}}],\"scatterternary\":[{\"type\":\"scatterternary\",\"marker\":{\"colorbar\":{\"outlinewidth\":0,\"ticks\":\"\"}}}],\"scattercarpet\":[{\"type\":\"scattercarpet\",\"marker\":{\"colorbar\":{\"outlinewidth\":0,\"ticks\":\"\"}}}],\"carpet\":[{\"aaxis\":{\"endlinecolor\":\"#2a3f5f\",\"gridcolor\":\"white\",\"linecolor\":\"white\",\"minorgridcolor\":\"white\",\"startlinecolor\":\"#2a3f5f\"},\"baxis\":{\"endlinecolor\":\"#2a3f5f\",\"gridcolor\":\"white\",\"linecolor\":\"white\",\"minorgridcolor\":\"white\",\"startlinecolor\":\"#2a3f5f\"},\"type\":\"carpet\"}],\"table\":[{\"cells\":{\"fill\":{\"color\":\"#EBF0F8\"},\"line\":{\"color\":\"white\"}},\"header\":{\"fill\":{\"color\":\"#C8D4E3\"},\"line\":{\"color\":\"white\"}},\"type\":\"table\"}],\"barpolar\":[{\"marker\":{\"line\":{\"color\":\"#E5ECF6\",\"width\":0.5},\"pattern\":{\"fillmode\":\"overlay\",\"size\":10,\"solidity\":0.2}},\"type\":\"barpolar\"}],\"pie\":[{\"automargin\":true,\"type\":\"pie\"}]},\"layout\":{\"autotypenumbers\":\"strict\",\"colorway\":[\"#636efa\",\"#EF553B\",\"#00cc96\",\"#ab63fa\",\"#FFA15A\",\"#19d3f3\",\"#FF6692\",\"#B6E880\",\"#FF97FF\",\"#FECB52\"],\"font\":{\"color\":\"#2a3f5f\"},\"hovermode\":\"closest\",\"hoverlabel\":{\"align\":\"left\"},\"paper_bgcolor\":\"white\",\"plot_bgcolor\":\"#E5ECF6\",\"polar\":{\"bgcolor\":\"#E5ECF6\",\"angularaxis\":{\"gridcolor\":\"white\",\"linecolor\":\"white\",\"ticks\":\"\"},\"radialaxis\":{\"gridcolor\":\"white\",\"linecolor\":\"white\",\"ticks\":\"\"}},\"ternary\":{\"bgcolor\":\"#E5ECF6\",\"aaxis\":{\"gridcolor\":\"white\",\"linecolor\":\"white\",\"ticks\":\"\"},\"baxis\":{\"gridcolor\":\"white\",\"linecolor\":\"white\",\"ticks\":\"\"},\"caxis\":{\"gridcolor\":\"white\",\"linecolor\":\"white\",\"ticks\":\"\"}},\"coloraxis\":{\"colorbar\":{\"outlinewidth\":0,\"ticks\":\"\"}},\"colorscale\":{\"sequential\":[[0.0,\"#0d0887\"],[0.1111111111111111,\"#46039f\"],[0.2222222222222222,\"#7201a8\"],[0.3333333333333333,\"#9c179e\"],[0.4444444444444444,\"#bd3786\"],[0.5555555555555556,\"#d8576b\"],[0.6666666666666666,\"#ed7953\"],[0.7777777777777778,\"#fb9f3a\"],[0.8888888888888888,\"#fdca26\"],[1.0,\"#f0f921\"]],\"sequentialminus\":[[0.0,\"#0d0887\"],[0.1111111111111111,\"#46039f\"],[0.2222222222222222,\"#7201a8\"],[0.3333333333333333,\"#9c179e\"],[0.4444444444444444,\"#bd3786\"],[0.5555555555555556,\"#d8576b\"],[0.6666666666666666,\"#ed7953\"],[0.7777777777777778,\"#fb9f3a\"],[0.8888888888888888,\"#fdca26\"],[1.0,\"#f0f921\"]],\"diverging\":[[0,\"#8e0152\"],[0.1,\"#c51b7d\"],[0.2,\"#de77ae\"],[0.3,\"#f1b6da\"],[0.4,\"#fde0ef\"],[0.5,\"#f7f7f7\"],[0.6,\"#e6f5d0\"],[0.7,\"#b8e186\"],[0.8,\"#7fbc41\"],[0.9,\"#4d9221\"],[1,\"#276419\"]]},\"xaxis\":{\"gridcolor\":\"white\",\"linecolor\":\"white\",\"ticks\":\"\",\"title\":{\"standoff\":15},\"zerolinecolor\":\"white\",\"automargin\":true,\"zerolinewidth\":2},\"yaxis\":{\"gridcolor\":\"white\",\"linecolor\":\"white\",\"ticks\":\"\",\"title\":{\"standoff\":15},\"zerolinecolor\":\"white\",\"automargin\":true,\"zerolinewidth\":2},\"scene\":{\"xaxis\":{\"backgroundcolor\":\"#E5ECF6\",\"gridcolor\":\"white\",\"linecolor\":\"white\",\"showbackground\":true,\"ticks\":\"\",\"zerolinecolor\":\"white\",\"gridwidth\":2},\"yaxis\":{\"backgroundcolor\":\"#E5ECF6\",\"gridcolor\":\"white\",\"linecolor\":\"white\",\"showbackground\":true,\"ticks\":\"\",\"zerolinecolor\":\"white\",\"gridwidth\":2},\"zaxis\":{\"backgroundcolor\":\"#E5ECF6\",\"gridcolor\":\"white\",\"linecolor\":\"white\",\"showbackground\":true,\"ticks\":\"\",\"zerolinecolor\":\"white\",\"gridwidth\":2}},\"shapedefaults\":{\"line\":{\"color\":\"#2a3f5f\"}},\"annotationdefaults\":{\"arrowcolor\":\"#2a3f5f\",\"arrowhead\":0,\"arrowwidth\":1},\"geo\":{\"bgcolor\":\"white\",\"landcolor\":\"#E5ECF6\",\"subunitcolor\":\"white\",\"showland\":true,\"showlakes\":true,\"lakecolor\":\"white\"},\"title\":{\"x\":0.05},\"mapbox\":{\"style\":\"light\"}}},\"xaxis\":{\"title\":{\"text\":\"Epoch\"}},\"yaxis\":{\"title\":{\"text\":\"Accuracy\"}},\"title\":{\"text\":\"Evolution of Accuracy across Epochs\",\"font\":{\"size\":20},\"x\":0.5},\"height\":500,\"width\":1200},                        {\"responsive\": true}                    ).then(function(){\n",
              "                            \n",
              "var gd = document.getElementById('4e3b8025-894a-417f-acf4-6cb815231e64');\n",
              "var x = new MutationObserver(function (mutations, observer) {{\n",
              "        var display = window.getComputedStyle(gd).display;\n",
              "        if (!display || display === 'none') {{\n",
              "            console.log([gd, 'removed!']);\n",
              "            Plotly.purge(gd);\n",
              "            observer.disconnect();\n",
              "        }}\n",
              "}});\n",
              "\n",
              "// Listen for the removal of the full notebook cells\n",
              "var notebookContainer = gd.closest('#notebook-container');\n",
              "if (notebookContainer) {{\n",
              "    x.observe(notebookContainer, {childList: true});\n",
              "}}\n",
              "\n",
              "// Listen for the clearing of the current output cell\n",
              "var outputEl = gd.closest('.output');\n",
              "if (outputEl) {{\n",
              "    x.observe(outputEl, {childList: true});\n",
              "}}\n",
              "\n",
              "                        })                };                            </script>        </div>\n",
              "</body>\n",
              "</html>"
            ]
          },
          "metadata": {},
          "output_type": "display_data"
        },
        {
          "data": {
            "text/html": [
              "<html>\n",
              "<head><meta charset=\"utf-8\" /></head>\n",
              "<body>\n",
              "    <div>            <script src=\"https://cdnjs.cloudflare.com/ajax/libs/mathjax/2.7.5/MathJax.js?config=TeX-AMS-MML_SVG\"></script><script type=\"text/javascript\">if (window.MathJax && window.MathJax.Hub && window.MathJax.Hub.Config) {window.MathJax.Hub.Config({SVG: {font: \"STIX-Web\"}});}</script>                <script type=\"text/javascript\">window.PlotlyConfig = {MathJaxConfig: 'local'};</script>\n",
              "        <script charset=\"utf-8\" src=\"https://cdn.plot.ly/plotly-2.24.1.min.js\"></script>                <div id=\"d5796fb6-278a-4255-bae0-3f8604192aa7\" class=\"plotly-graph-div\" style=\"height:500px; width:1200px;\"></div>            <script type=\"text/javascript\">                                    window.PLOTLYENV=window.PLOTLYENV || {};                                    if (document.getElementById(\"d5796fb6-278a-4255-bae0-3f8604192aa7\")) {                    Plotly.newPlot(                        \"d5796fb6-278a-4255-bae0-3f8604192aa7\",                        [{\"line\":{\"color\":\"blue\",\"width\":2},\"name\":\"Loss\",\"x\":[1,2,3,4,5,6,7,8],\"y\":[0.168996050953865,0.1113506406545639,0.0907380357384681,0.0792418494820594,0.0712807700037956,0.0639740377664566,0.0600896924734115,0.0548981428146362],\"type\":\"scatter\"},{\"line\":{\"color\":\"#FF6600\",\"width\":2},\"name\":\"Val Loss\",\"x\":[1,2,3,4,5,6,7,8],\"y\":[0.1416843980550766,0.1338827759027481,0.1351353377103805,0.1414897590875625,0.1417534202337265,0.1490595638751983,0.1534951329231262,0.1560273021459579],\"type\":\"scatter\"}],                        {\"template\":{\"data\":{\"histogram2dcontour\":[{\"type\":\"histogram2dcontour\",\"colorbar\":{\"outlinewidth\":0,\"ticks\":\"\"},\"colorscale\":[[0.0,\"#0d0887\"],[0.1111111111111111,\"#46039f\"],[0.2222222222222222,\"#7201a8\"],[0.3333333333333333,\"#9c179e\"],[0.4444444444444444,\"#bd3786\"],[0.5555555555555556,\"#d8576b\"],[0.6666666666666666,\"#ed7953\"],[0.7777777777777778,\"#fb9f3a\"],[0.8888888888888888,\"#fdca26\"],[1.0,\"#f0f921\"]]}],\"choropleth\":[{\"type\":\"choropleth\",\"colorbar\":{\"outlinewidth\":0,\"ticks\":\"\"}}],\"histogram2d\":[{\"type\":\"histogram2d\",\"colorbar\":{\"outlinewidth\":0,\"ticks\":\"\"},\"colorscale\":[[0.0,\"#0d0887\"],[0.1111111111111111,\"#46039f\"],[0.2222222222222222,\"#7201a8\"],[0.3333333333333333,\"#9c179e\"],[0.4444444444444444,\"#bd3786\"],[0.5555555555555556,\"#d8576b\"],[0.6666666666666666,\"#ed7953\"],[0.7777777777777778,\"#fb9f3a\"],[0.8888888888888888,\"#fdca26\"],[1.0,\"#f0f921\"]]}],\"heatmap\":[{\"type\":\"heatmap\",\"colorbar\":{\"outlinewidth\":0,\"ticks\":\"\"},\"colorscale\":[[0.0,\"#0d0887\"],[0.1111111111111111,\"#46039f\"],[0.2222222222222222,\"#7201a8\"],[0.3333333333333333,\"#9c179e\"],[0.4444444444444444,\"#bd3786\"],[0.5555555555555556,\"#d8576b\"],[0.6666666666666666,\"#ed7953\"],[0.7777777777777778,\"#fb9f3a\"],[0.8888888888888888,\"#fdca26\"],[1.0,\"#f0f921\"]]}],\"heatmapgl\":[{\"type\":\"heatmapgl\",\"colorbar\":{\"outlinewidth\":0,\"ticks\":\"\"},\"colorscale\":[[0.0,\"#0d0887\"],[0.1111111111111111,\"#46039f\"],[0.2222222222222222,\"#7201a8\"],[0.3333333333333333,\"#9c179e\"],[0.4444444444444444,\"#bd3786\"],[0.5555555555555556,\"#d8576b\"],[0.6666666666666666,\"#ed7953\"],[0.7777777777777778,\"#fb9f3a\"],[0.8888888888888888,\"#fdca26\"],[1.0,\"#f0f921\"]]}],\"contourcarpet\":[{\"type\":\"contourcarpet\",\"colorbar\":{\"outlinewidth\":0,\"ticks\":\"\"}}],\"contour\":[{\"type\":\"contour\",\"colorbar\":{\"outlinewidth\":0,\"ticks\":\"\"},\"colorscale\":[[0.0,\"#0d0887\"],[0.1111111111111111,\"#46039f\"],[0.2222222222222222,\"#7201a8\"],[0.3333333333333333,\"#9c179e\"],[0.4444444444444444,\"#bd3786\"],[0.5555555555555556,\"#d8576b\"],[0.6666666666666666,\"#ed7953\"],[0.7777777777777778,\"#fb9f3a\"],[0.8888888888888888,\"#fdca26\"],[1.0,\"#f0f921\"]]}],\"surface\":[{\"type\":\"surface\",\"colorbar\":{\"outlinewidth\":0,\"ticks\":\"\"},\"colorscale\":[[0.0,\"#0d0887\"],[0.1111111111111111,\"#46039f\"],[0.2222222222222222,\"#7201a8\"],[0.3333333333333333,\"#9c179e\"],[0.4444444444444444,\"#bd3786\"],[0.5555555555555556,\"#d8576b\"],[0.6666666666666666,\"#ed7953\"],[0.7777777777777778,\"#fb9f3a\"],[0.8888888888888888,\"#fdca26\"],[1.0,\"#f0f921\"]]}],\"mesh3d\":[{\"type\":\"mesh3d\",\"colorbar\":{\"outlinewidth\":0,\"ticks\":\"\"}}],\"scatter\":[{\"fillpattern\":{\"fillmode\":\"overlay\",\"size\":10,\"solidity\":0.2},\"type\":\"scatter\"}],\"parcoords\":[{\"type\":\"parcoords\",\"line\":{\"colorbar\":{\"outlinewidth\":0,\"ticks\":\"\"}}}],\"scatterpolargl\":[{\"type\":\"scatterpolargl\",\"marker\":{\"colorbar\":{\"outlinewidth\":0,\"ticks\":\"\"}}}],\"bar\":[{\"error_x\":{\"color\":\"#2a3f5f\"},\"error_y\":{\"color\":\"#2a3f5f\"},\"marker\":{\"line\":{\"color\":\"#E5ECF6\",\"width\":0.5},\"pattern\":{\"fillmode\":\"overlay\",\"size\":10,\"solidity\":0.2}},\"type\":\"bar\"}],\"scattergeo\":[{\"type\":\"scattergeo\",\"marker\":{\"colorbar\":{\"outlinewidth\":0,\"ticks\":\"\"}}}],\"scatterpolar\":[{\"type\":\"scatterpolar\",\"marker\":{\"colorbar\":{\"outlinewidth\":0,\"ticks\":\"\"}}}],\"histogram\":[{\"marker\":{\"pattern\":{\"fillmode\":\"overlay\",\"size\":10,\"solidity\":0.2}},\"type\":\"histogram\"}],\"scattergl\":[{\"type\":\"scattergl\",\"marker\":{\"colorbar\":{\"outlinewidth\":0,\"ticks\":\"\"}}}],\"scatter3d\":[{\"type\":\"scatter3d\",\"line\":{\"colorbar\":{\"outlinewidth\":0,\"ticks\":\"\"}},\"marker\":{\"colorbar\":{\"outlinewidth\":0,\"ticks\":\"\"}}}],\"scattermapbox\":[{\"type\":\"scattermapbox\",\"marker\":{\"colorbar\":{\"outlinewidth\":0,\"ticks\":\"\"}}}],\"scatterternary\":[{\"type\":\"scatterternary\",\"marker\":{\"colorbar\":{\"outlinewidth\":0,\"ticks\":\"\"}}}],\"scattercarpet\":[{\"type\":\"scattercarpet\",\"marker\":{\"colorbar\":{\"outlinewidth\":0,\"ticks\":\"\"}}}],\"carpet\":[{\"aaxis\":{\"endlinecolor\":\"#2a3f5f\",\"gridcolor\":\"white\",\"linecolor\":\"white\",\"minorgridcolor\":\"white\",\"startlinecolor\":\"#2a3f5f\"},\"baxis\":{\"endlinecolor\":\"#2a3f5f\",\"gridcolor\":\"white\",\"linecolor\":\"white\",\"minorgridcolor\":\"white\",\"startlinecolor\":\"#2a3f5f\"},\"type\":\"carpet\"}],\"table\":[{\"cells\":{\"fill\":{\"color\":\"#EBF0F8\"},\"line\":{\"color\":\"white\"}},\"header\":{\"fill\":{\"color\":\"#C8D4E3\"},\"line\":{\"color\":\"white\"}},\"type\":\"table\"}],\"barpolar\":[{\"marker\":{\"line\":{\"color\":\"#E5ECF6\",\"width\":0.5},\"pattern\":{\"fillmode\":\"overlay\",\"size\":10,\"solidity\":0.2}},\"type\":\"barpolar\"}],\"pie\":[{\"automargin\":true,\"type\":\"pie\"}]},\"layout\":{\"autotypenumbers\":\"strict\",\"colorway\":[\"#636efa\",\"#EF553B\",\"#00cc96\",\"#ab63fa\",\"#FFA15A\",\"#19d3f3\",\"#FF6692\",\"#B6E880\",\"#FF97FF\",\"#FECB52\"],\"font\":{\"color\":\"#2a3f5f\"},\"hovermode\":\"closest\",\"hoverlabel\":{\"align\":\"left\"},\"paper_bgcolor\":\"white\",\"plot_bgcolor\":\"#E5ECF6\",\"polar\":{\"bgcolor\":\"#E5ECF6\",\"angularaxis\":{\"gridcolor\":\"white\",\"linecolor\":\"white\",\"ticks\":\"\"},\"radialaxis\":{\"gridcolor\":\"white\",\"linecolor\":\"white\",\"ticks\":\"\"}},\"ternary\":{\"bgcolor\":\"#E5ECF6\",\"aaxis\":{\"gridcolor\":\"white\",\"linecolor\":\"white\",\"ticks\":\"\"},\"baxis\":{\"gridcolor\":\"white\",\"linecolor\":\"white\",\"ticks\":\"\"},\"caxis\":{\"gridcolor\":\"white\",\"linecolor\":\"white\",\"ticks\":\"\"}},\"coloraxis\":{\"colorbar\":{\"outlinewidth\":0,\"ticks\":\"\"}},\"colorscale\":{\"sequential\":[[0.0,\"#0d0887\"],[0.1111111111111111,\"#46039f\"],[0.2222222222222222,\"#7201a8\"],[0.3333333333333333,\"#9c179e\"],[0.4444444444444444,\"#bd3786\"],[0.5555555555555556,\"#d8576b\"],[0.6666666666666666,\"#ed7953\"],[0.7777777777777778,\"#fb9f3a\"],[0.8888888888888888,\"#fdca26\"],[1.0,\"#f0f921\"]],\"sequentialminus\":[[0.0,\"#0d0887\"],[0.1111111111111111,\"#46039f\"],[0.2222222222222222,\"#7201a8\"],[0.3333333333333333,\"#9c179e\"],[0.4444444444444444,\"#bd3786\"],[0.5555555555555556,\"#d8576b\"],[0.6666666666666666,\"#ed7953\"],[0.7777777777777778,\"#fb9f3a\"],[0.8888888888888888,\"#fdca26\"],[1.0,\"#f0f921\"]],\"diverging\":[[0,\"#8e0152\"],[0.1,\"#c51b7d\"],[0.2,\"#de77ae\"],[0.3,\"#f1b6da\"],[0.4,\"#fde0ef\"],[0.5,\"#f7f7f7\"],[0.6,\"#e6f5d0\"],[0.7,\"#b8e186\"],[0.8,\"#7fbc41\"],[0.9,\"#4d9221\"],[1,\"#276419\"]]},\"xaxis\":{\"gridcolor\":\"white\",\"linecolor\":\"white\",\"ticks\":\"\",\"title\":{\"standoff\":15},\"zerolinecolor\":\"white\",\"automargin\":true,\"zerolinewidth\":2},\"yaxis\":{\"gridcolor\":\"white\",\"linecolor\":\"white\",\"ticks\":\"\",\"title\":{\"standoff\":15},\"zerolinecolor\":\"white\",\"automargin\":true,\"zerolinewidth\":2},\"scene\":{\"xaxis\":{\"backgroundcolor\":\"#E5ECF6\",\"gridcolor\":\"white\",\"linecolor\":\"white\",\"showbackground\":true,\"ticks\":\"\",\"zerolinecolor\":\"white\",\"gridwidth\":2},\"yaxis\":{\"backgroundcolor\":\"#E5ECF6\",\"gridcolor\":\"white\",\"linecolor\":\"white\",\"showbackground\":true,\"ticks\":\"\",\"zerolinecolor\":\"white\",\"gridwidth\":2},\"zaxis\":{\"backgroundcolor\":\"#E5ECF6\",\"gridcolor\":\"white\",\"linecolor\":\"white\",\"showbackground\":true,\"ticks\":\"\",\"zerolinecolor\":\"white\",\"gridwidth\":2}},\"shapedefaults\":{\"line\":{\"color\":\"#2a3f5f\"}},\"annotationdefaults\":{\"arrowcolor\":\"#2a3f5f\",\"arrowhead\":0,\"arrowwidth\":1},\"geo\":{\"bgcolor\":\"white\",\"landcolor\":\"#E5ECF6\",\"subunitcolor\":\"white\",\"showland\":true,\"showlakes\":true,\"lakecolor\":\"white\"},\"title\":{\"x\":0.05},\"mapbox\":{\"style\":\"light\"}}},\"xaxis\":{\"title\":{\"text\":\"Epoch\"}},\"yaxis\":{\"title\":{\"text\":\"Loss\"}},\"title\":{\"text\":\"Evolution of Loss across Epochs\",\"font\":{\"size\":20},\"x\":0.5},\"height\":500,\"width\":1200},                        {\"responsive\": true}                    ).then(function(){\n",
              "                            \n",
              "var gd = document.getElementById('d5796fb6-278a-4255-bae0-3f8604192aa7');\n",
              "var x = new MutationObserver(function (mutations, observer) {{\n",
              "        var display = window.getComputedStyle(gd).display;\n",
              "        if (!display || display === 'none') {{\n",
              "            console.log([gd, 'removed!']);\n",
              "            Plotly.purge(gd);\n",
              "            observer.disconnect();\n",
              "        }}\n",
              "}});\n",
              "\n",
              "// Listen for the removal of the full notebook cells\n",
              "var notebookContainer = gd.closest('#notebook-container');\n",
              "if (notebookContainer) {{\n",
              "    x.observe(notebookContainer, {childList: true});\n",
              "}}\n",
              "\n",
              "// Listen for the clearing of the current output cell\n",
              "var outputEl = gd.closest('.output');\n",
              "if (outputEl) {{\n",
              "    x.observe(outputEl, {childList: true});\n",
              "}}\n",
              "\n",
              "                        })                };                            </script>        </div>\n",
              "</body>\n",
              "</html>"
            ]
          },
          "metadata": {},
          "output_type": "display_data"
        }
      ],
      "source": [
        "plot_metrics(metric=\"accuracy\")\n",
        "plot_metrics()"
      ]
    },
    {
      "cell_type": "markdown",
      "metadata": {
        "id": "3ZxQzcbFuUaF"
      },
      "source": [
        "**Images for GitHub**"
      ]
    },
    {
      "cell_type": "code",
      "execution_count": 8,
      "metadata": {
        "colab": {
          "base_uri": "https://localhost:8080/",
          "height": 1000
        },
        "id": "jU2ln7oba0bo",
        "outputId": "62b96107-ba9f-49d8-8929-cedd0e186601"
      },
      "outputs": [
        {
          "data": {
            "image/png": "[encoded data removed]"
          },
          "metadata": {},
          "output_type": "display_data"
        },
        {
          "data": {
            "image/png": "[encoded data removed]"
          },
          "metadata": {},
          "output_type": "display_data"
        }
      ],
      "source": [
        "plot_metrics(renderer=\"png\", metric=\"accuracy\")\n",
        "plot_metrics(renderer=\"png\")"
      ]
    },
    {
      "cell_type": "markdown",
      "metadata": {
        "id": "fFnZutbcuZSe"
      },
      "source": [
        "**Confusion Matrix**"
      ]
    },
    {
      "cell_type": "code",
      "execution_count": null,
      "metadata": {
        "colab": {
          "base_uri": "https://localhost:8080/",
          "height": 518
        },
        "id": "9R1aGcyzxHQ-",
        "outputId": "cf2fbdfa-ff18-4b87-9464-6029ccf95a48"
      },
      "outputs": [
        {
          "name": "stdout",
          "output_type": "stream",
          "text": [
            "Accuracy: 0.8367387954712936\n",
            "F1 Score: 0.8394492390803082\n",
            "Total not duplicates:  7464 ; Total duplicates:  7463\n",
            "[18.01982851 14.63218545]\n"
          ]
        },
        {
          "data": {
            "image/png": "[encoded data removed]",
            "text/plain": [
              "<Figure size 640x480 with 1 Axes>"
            ]
          },
          "metadata": {},
          "output_type": "display_data"
        }
      ],
      "source": [
        "threshold = 0.5\n",
        "labels_test = df_test.is_duplicate.values.astype(np.int32)\n",
        "\n",
        "labels_test_pred = model.predict(test_dataset, verbose=0).squeeze()\n",
        "labels_test_pred = (labels_test_pred <= threshold).astype(np.int32)\n",
        "print(\"Accuracy:\", np.mean(labels_test == labels_test_pred))\n",
        "print(f\"F1 Score: {f1_score(labels_test, labels_test_pred)}\")\n",
        "\n",
        "cm = confusion_matrix(labels_test, labels_test_pred)\n",
        "cmd = ConfusionMatrixDisplay(cm, display_labels=[\"Not duplicated\", \"Duplicated\"])\n",
        "cmd.plot(colorbar=False, cmap=\"coolwarm_r\");\n",
        "\n",
        "print(\"Total not duplicates: \", np.bincount(labels_test)[0], \"; Total duplicates: \", np.bincount(labels_test)[1])\n",
        "print(((np.bincount(labels_test) - np.diag(cm)) / np.bincount(labels_test)) * 100)"
      ]
    },
    {
      "cell_type": "markdown",
      "metadata": {
        "id": "wQBDna3UFXOV"
      },
      "source": [
        "It is observed that the model has a slightly harder time predicting non-duplicate questions, as reflected in a false positive rate of 18%, compared to the false negatives of 14.6%. Both the accuracy and F1 score of the model are similar, meaning the model is performing well overall in classifying the target classes without unbalanced predictions."
      ]
    },
    {
      "cell_type": "markdown",
      "metadata": {
        "id": "9NhEDFT-uiav"
      },
      "source": [
        "### **Predictions with the trained model**"
      ]
    },
    {
      "cell_type": "code",
      "execution_count": null,
      "metadata": {
        "id": "c5oa5yNLwFPU"
      },
      "outputs": [],
      "source": [
        "# Custom Objects\n",
        "\n",
        "@tf.keras.saving.register_keras_serializable()\n",
        "class EuclideanDistance(tf.keras.layers.Layer):\n",
        "  def __init__(self):\n",
        "    super().__init__()\n",
        "\n",
        "  def call(self, vects):\n",
        "    x, y = vects\n",
        "    sum_square = tf.reduce_sum(tf.square(x - y), axis=-1, keepdims=True)\n",
        "    return tf.sqrt(tf.maximum(sum_square, tf.keras.backend.epsilon()))\n",
        "\n",
        "\n",
        "def contrastive_loss(y_true, y_pred, margin=1.0):\n",
        "  positive_loss = y_true * tf.square(y_pred)\n",
        "  negative_loss = (1 - y_true) * tf.square(tf.maximum(margin - y_pred, 0.0))\n",
        "  return positive_loss +  negative_loss\n",
        "\n",
        "\n",
        "def accuracy(y_true, y_pred, threshold=0.5):\n",
        "  y_pred = tf.cast(y_pred <= threshold, dtype=tf.float32)\n",
        "  return tf.reduce_mean(tf.cast(tf.equal(y_true, y_pred), dtype=tf.float32))"
      ]
    },
    {
      "cell_type": "code",
      "execution_count": null,
      "metadata": {
        "colab": {
          "base_uri": "https://localhost:8080/"
        },
        "id": "AMfOhnVovZl2",
        "outputId": "fe302667-9dab-4719-e06e-3aa82f0a5570"
      },
      "outputs": [
        {
          "name": "stdout",
          "output_type": "stream",
          "text": [
            "Model: \"model\"\n",
            "__________________________________________________________________________________________________\n",
            " Layer (type)                Output Shape                 Param #   Connected to                  \n",
            "==================================================================================================\n",
            " input_1 (InputLayer)        [(None,)]                    0         []                            \n",
            "                                                                                                  \n",
            " input_2 (InputLayer)        [(None,)]                    0         []                            \n",
            "                                                                                                  \n",
            " sequential (Sequential)     (None, 256)                  6663168   ['input_1[0][0]',             \n",
            "                                                                     'input_2[0][0]']             \n",
            "                                                                                                  \n",
            " euclidean_distance (Euclid  (None, 1)                    0         ['sequential[0][0]',          \n",
            " eanDistance)                                                        'sequential[1][0]']          \n",
            "                                                                                                  \n",
            "==================================================================================================\n",
            "Total params: 6663168 (25.42 MB)\n",
            "Trainable params: 6663168 (25.42 MB)\n",
            "Non-trainable params: 0 (0.00 Byte)\n",
            "__________________________________________________________________________________________________\n"
          ]
        }
      ],
      "source": [
        "# Load model\n",
        "tf.keras.backend.clear_session()\n",
        "\n",
        "model = tf.keras.models.load_model(\n",
        "    trained_model_path,\n",
        "    custom_objects={\"contrastive_loss\": contrastive_loss, \"accuracy\": accuracy}\n",
        ")\n",
        "model.summary()"
      ]
    },
    {
      "cell_type": "code",
      "execution_count": null,
      "metadata": {
        "id": "lNaog1WpyrdE"
      },
      "outputs": [],
      "source": [
        "def predict_duplicate(questions_1, questions_2, labels, random=True):\n",
        "  label_names = [\"Non-Duplicate Question\", \"Duplicate Question\"]\n",
        "  label_colors = [\"green\", \"red\"]\n",
        "\n",
        "  indice = np.random.choice(len(questions_1)) if random else 0\n",
        "  q1 = np.array([questions_1[indice]])\n",
        "  q2 = np.array([questions_2[indice]])\n",
        "\n",
        "  label_pred = model.predict([q1, q2], verbose=0).squeeze()\n",
        "  label_pred = (label_pred <= 0.5).astype(np.int32)\n",
        "\n",
        "  html_content = f\"\"\"\n",
        "    <b>Question 1:</b> {q1[0]}<br><br>\n",
        "    <b>Question 2:</b> {q2[0]}<br><br>\n",
        "    <b>True Label: <span style=\"color: {label_colors[labels[indice]]}\">{label_names[labels[indice]]}</span></b><br>\n",
        "    <b>Predicted Label: <span style=\"color: {label_colors[label_pred]}\">{label_names[label_pred]}</span></b>\n",
        "    \"\"\"\n",
        "  display(HTML(html_content))"
      ]
    },
    {
      "cell_type": "markdown",
      "metadata": {
        "id": "yGcbjPzn_Cp5"
      },
      "source": [
        "**Test Dataset**"
      ]
    },
    {
      "cell_type": "code",
      "execution_count": null,
      "metadata": {
        "id": "yUm0T0s2_KJM"
      },
      "outputs": [],
      "source": [
        "questions_1, questions_2 = df_test.question_1.values, df_test.question_2.values\n",
        "labels = df_test.is_duplicate.values.astype(np.int32)"
      ]
    },
    {
      "cell_type": "code",
      "execution_count": null,
      "metadata": {
        "colab": {
          "base_uri": "https://localhost:8080/",
          "height": 121
        },
        "id": "p7eEmkOlAO9m",
        "outputId": "c8a810b3-8d6c-4bba-a369-022367765a26"
      },
      "outputs": [
        {
          "data": {
            "text/html": [
              "\n",
              "    <b>Question 1:</b> Can I import airsoft guns (usually toy guns that shoots bbs) to india?<br><br>\n",
              "    <b>Question 2:</b> Is India importing any goods from PAK?<br><br>\n",
              "    <b>True Label: <span style=\"color: green\">Non-Duplicate Question</span></b><br>\n",
              "    <b>Predicted Label: <span style=\"color: green\">Non-Duplicate Question</span></b>\n",
              "    "
            ],
            "text/plain": [
              "<IPython.core.display.HTML object>"
            ]
          },
          "metadata": {},
          "output_type": "display_data"
        }
      ],
      "source": [
        "predict_duplicate(questions_1, questions_2, labels, random=False)"
      ]
    },
    {
      "cell_type": "code",
      "execution_count": null,
      "metadata": {
        "colab": {
          "base_uri": "https://localhost:8080/",
          "height": 121
        },
        "id": "kzcvKeW2EIue",
        "outputId": "60b31b34-048b-4266-c754-31bf35eafab6"
      },
      "outputs": [
        {
          "data": {
            "text/html": [
              "\n",
              "    <b>Question 1:</b> What are the bitter truths of going to Germany for MS as an Indian student?<br><br>\n",
              "    <b>Question 2:</b> What are the bitter truths of going to Germany for MS as an Indian?<br><br>\n",
              "    <b>True Label: <span style=\"color: red\">Duplicate Question</span></b><br>\n",
              "    <b>Predicted Label: <span style=\"color: red\">Duplicate Question</span></b>\n",
              "    "
            ],
            "text/plain": [
              "<IPython.core.display.HTML object>"
            ]
          },
          "metadata": {},
          "output_type": "display_data"
        }
      ],
      "source": [
        "predict_duplicate(questions_1, questions_2, labels)"
      ]
    },
    {
      "cell_type": "code",
      "execution_count": null,
      "metadata": {
        "colab": {
          "base_uri": "https://localhost:8080/",
          "height": 121
        },
        "id": "_OKKEPx0EYTO",
        "outputId": "dda6a3f9-a1ce-47ca-87b4-b235d3b5acb8"
      },
      "outputs": [
        {
          "data": {
            "text/html": [
              "\n",
              "    <b>Question 1:</b> How will the ban on 500 and 1000 rupee notes bring out the black money of the big shots who have lots of it in the Swiss bank in a different currency?<br><br>\n",
              "    <b>Question 2:</b> How is demonetizing the Rs 500 and 1000 currencies affects Indian economy? How this affect the black money in Swiss accounts?<br><br>\n",
              "    <b>True Label: <span style=\"color: red\">Duplicate Question</span></b><br>\n",
              "    <b>Predicted Label: <span style=\"color: red\">Duplicate Question</span></b>\n",
              "    "
            ],
            "text/plain": [
              "<IPython.core.display.HTML object>"
            ]
          },
          "metadata": {},
          "output_type": "display_data"
        }
      ],
      "source": [
        "# Long Questions\n",
        "predict_duplicate(questions_1, questions_2, labels)"
      ]
    },
    {
      "cell_type": "code",
      "execution_count": null,
      "metadata": {
        "colab": {
          "base_uri": "https://localhost:8080/",
          "height": 121
        },
        "id": "CBmzu686Fn1F",
        "outputId": "2f4778c2-7c9b-4115-b2c3-98e7b39f28d4"
      },
      "outputs": [
        {
          "data": {
            "text/html": [
              "\n",
              "    <b>Question 1:</b> Can I deactivate my Facebook account and still use messenger?<br><br>\n",
              "    <b>Question 2:</b> How can I deactivate my Facebook account as well as my messenger account too? I don't want people find me on messenger. How can I do that?<br><br>\n",
              "    <b>True Label: <span style=\"color: green\">Non-Duplicate Question</span></b><br>\n",
              "    <b>Predicted Label: <span style=\"color: green\">Non-Duplicate Question</span></b>\n",
              "    "
            ],
            "text/plain": [
              "<IPython.core.display.HTML object>"
            ]
          },
          "metadata": {},
          "output_type": "display_data"
        }
      ],
      "source": [
        "# Long Questions\n",
        "predict_duplicate(questions_1, questions_2, labels)"
      ]
    },
    {
      "cell_type": "code",
      "execution_count": null,
      "metadata": {
        "colab": {
          "base_uri": "https://localhost:8080/",
          "height": 121
        },
        "id": "cZfk6aD7GcVd",
        "outputId": "b2073e26-4aa0-46c3-fd85-72eefd335efb"
      },
      "outputs": [
        {
          "data": {
            "text/html": [
              "\n",
              "    <b>Question 1:</b> Movie Lists: What are the Ten Hollywood flicks that we should (must) watch before we die?<br><br>\n",
              "    <b>Question 2:</b> Which are the top 100 Hollywood movies one should watch before dying?<br><br>\n",
              "    <b>True Label: <span style=\"color: red\">Duplicate Question</span></b><br>\n",
              "    <b>Predicted Label: <span style=\"color: green\">Non-Duplicate Question</span></b>\n",
              "    "
            ],
            "text/plain": [
              "<IPython.core.display.HTML object>"
            ]
          },
          "metadata": {},
          "output_type": "display_data"
        }
      ],
      "source": [
        "# Incorrect Prediction\n",
        "predict_duplicate(questions_1, questions_2, labels)"
      ]
    },
    {
      "cell_type": "markdown",
      "metadata": {
        "id": "E4kWofXv_HYT"
      },
      "source": [
        "**Other Questions**"
      ]
    },
    {
      "cell_type": "code",
      "execution_count": null,
      "metadata": {
        "colab": {
          "base_uri": "https://localhost:8080/",
          "height": 121
        },
        "id": "jSSGJmF6mtBk",
        "outputId": "da74e894-b75d-4ccc-fcb0-93a9659f00f6"
      },
      "outputs": [
        {
          "data": {
            "text/html": [
              "\n",
              "    <b>Question 1:</b> How can I lose weight fast?<br><br>\n",
              "    <b>Question 2:</b> What are some effective weight loss strategies?<br><br>\n",
              "    <b>True Label: <span style=\"color: red\">Duplicate Question</span></b><br>\n",
              "    <b>Predicted Label: <span style=\"color: red\">Duplicate Question</span></b>\n",
              "    "
            ],
            "text/plain": [
              "<IPython.core.display.HTML object>"
            ]
          },
          "metadata": {},
          "output_type": "display_data"
        }
      ],
      "source": [
        "q1 = [\"How can I lose weight fast?\"]\n",
        "q2 = [\"What are some effective weight loss strategies?\"]\n",
        "label = [1]\n",
        "\n",
        "predict_duplicate(q1, q2, label)"
      ]
    },
    {
      "cell_type": "code",
      "execution_count": null,
      "metadata": {
        "colab": {
          "base_uri": "https://localhost:8080/",
          "height": 121
        },
        "id": "_XzK3g58-sXf",
        "outputId": "bc0f6566-8504-4243-c5a0-4f6086b3c803"
      },
      "outputs": [
        {
          "data": {
            "text/html": [
              "\n",
              "    <b>Question 1:</b> What is the difference between a quadratic equation and a cubic equation?<br><br>\n",
              "    <b>Question 2:</b> How do you solve a cubic equation?<br><br>\n",
              "    <b>True Label: <span style=\"color: green\">Non-Duplicate Question</span></b><br>\n",
              "    <b>Predicted Label: <span style=\"color: green\">Non-Duplicate Question</span></b>\n",
              "    "
            ],
            "text/plain": [
              "<IPython.core.display.HTML object>"
            ]
          },
          "metadata": {},
          "output_type": "display_data"
        }
      ],
      "source": [
        "q1 = [\"What is the difference between a quadratic equation and a cubic equation?\"]\n",
        "q2 = [\"How do you solve a cubic equation?\"]\n",
        "label = [0]\n",
        "\n",
        "predict_duplicate(q1, q2, label)"
      ]
    },
    {
      "cell_type": "code",
      "execution_count": null,
      "metadata": {
        "colab": {
          "base_uri": "https://localhost:8080/",
          "height": 121
        },
        "id": "k5cdg4KiJ39Q",
        "outputId": "acb2b8cf-64e6-4596-ec98-66edecd54d6b"
      },
      "outputs": [
        {
          "data": {
            "text/html": [
              "\n",
              "    <b>Question 1:</b> What are the most effective methods for reducing carbon emissions in urban areas to combat climate change?<br><br>\n",
              "    <b>Question 2:</b> How can cities reduce carbon emissions to mitigate the impacts of climate change?<br><br>\n",
              "    <b>True Label: <span style=\"color: red\">Duplicate Question</span></b><br>\n",
              "    <b>Predicted Label: <span style=\"color: red\">Duplicate Question</span></b>\n",
              "    "
            ],
            "text/plain": [
              "<IPython.core.display.HTML object>"
            ]
          },
          "metadata": {},
          "output_type": "display_data"
        }
      ],
      "source": [
        "# More challenging questions\n",
        "q1 = [\"What are the most effective methods for reducing carbon emissions in urban areas to combat climate change?\"]\n",
        "q2 = [\"How can cities reduce carbon emissions to mitigate the impacts of climate change?\"]\n",
        "label = [1]\n",
        "\n",
        "predict_duplicate(q1, q2, label)"
      ]
    },
    {
      "cell_type": "code",
      "execution_count": null,
      "metadata": {
        "colab": {
          "base_uri": "https://localhost:8080/",
          "height": 121
        },
        "id": "_zlhWZYIKFFk",
        "outputId": "42d64065-9137-40eb-97de-235da9b6ed9b"
      },
      "outputs": [
        {
          "data": {
            "text/html": [
              "\n",
              "    <b>Question 1:</b> What are the key differences between traditional Chinese medicine and modern Western medicine?<br><br>\n",
              "    <b>Question 2:</b> How do Eastern and Western medical practices differ in their approaches to healthcare?<br><br>\n",
              "    <b>True Label: <span style=\"color: green\">Non-Duplicate Question</span></b><br>\n",
              "    <b>Predicted Label: <span style=\"color: green\">Non-Duplicate Question</span></b>\n",
              "    "
            ],
            "text/plain": [
              "<IPython.core.display.HTML object>"
            ]
          },
          "metadata": {},
          "output_type": "display_data"
        }
      ],
      "source": [
        "# More challenging questions\n",
        "q1 = [\"What are the key differences between traditional Chinese medicine and modern Western medicine?\"]\n",
        "q2 = [\"How do Eastern and Western medical practices differ in their approaches to healthcare?\"]\n",
        "label = [0]\n",
        "\n",
        "predict_duplicate(q1, q2, label)"
      ]
    },
    {
      "cell_type": "markdown",
      "metadata": {
        "id": "-gg-98FeJbRb"
      },
      "source": [
        "**Conclusion:** The siamese network model proves to be highly effective in predicting question duplication, even when questions are complex and/or lengthy. Although the achieved accuracy in the evaluation and test set is 83%, the model has been trained on a large amount of data, surpassing 260k question pairs, allowing it to generalize effectively. To mitigate overfitting and achieve even better results, the adoption of attention-based models such as transformers is recommended, particularly those pretrained by Hugging Face on millions of data."
      ]
    }
  ],
  "metadata": {
    "colab": {
      "provenance": []
    },
    "coursera": {
      "schema_names": [
        "NLPC3-4A"
      ]
    },
    "grader_version": "1",
    "kernelspec": {
      "display_name": "Python 3",
      "name": "python3"
    },
    "language_info": {
      "codemirror_mode": {
        "name": "ipython",
        "version": 3
      },
      "file_extension": ".py",
      "mimetype": "text/x-python",
      "name": "python",
      "nbconvert_exporter": "python",
      "pygments_lexer": "ipython3",
      "version": "3.8.10"
    }
  },
  "nbformat": 4,
  "nbformat_minor": 0
}
