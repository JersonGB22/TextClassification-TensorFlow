{
  "cells": [
    {
      "cell_type": "markdown",
      "metadata": {
        "id": "ezzKLPtx8S6C"
      },
      "source": [
        "# **Text Classifier with the News Headlines Dataset**"
      ]
    },
    {
      "cell_type": "markdown",
      "metadata": {
        "id": "Q2zgcLmK7_i7"
      },
      "source": [
        "This notebook demonstrates the implementation of a text classification model using a Transformer network for sentiment analysis. Its purpose is to distinguish between positive and negative movie reviews in the [IMDB Reviews dataset](http://ai.stanford.edu/~amaas/data/sentiment/). For this task, the pre-trained [RoBERTa (Robustly Optimized BERT Pretraining Approach)](https://huggingface.co/docs/transformers/en/model_doc/roberta) model from [Hugging Face 🤗](https://huggingface.co/) is fine-tuned to enhance its performance in sentiment analysis. Hugging Face is a platform focused on developing tools and AI models for natural language processing (NLP), known for its open-source library called Transformers, which provides an easy interface to work with advanced, pre-trained NLP models such as BERT, T5, GPT, and others.\n",
        "\n",
        "**Key Points:**\n",
        "- **Model Architecture:** The RoBERTa Large model from Hugging Face is used, which is based on [BERT](https://huggingface.co/docs/transformers/en/model_doc/bert) but achieves better results on GLUE, RACE, and SQuAD, datasets used to evaluate reasoning and text comprehension models. It is loaded using the generic class [TFAutoModel](https://huggingface.co/transformers/v3.0.2/model_doc/auto.html#tfautomodel), which allows creating an instance of a pre-trained model based on TensorFlow with just its name. Then, it is fine-tuned by adding a dropout layer and a dense classification layer with ``sigmoid`` activation, where 0 indicates a negative movie review and 1 indicates a positive movie review.\n",
        "\n",
        "- **Tokenization:** RoBERTa uses ``input_ids``, which are the tokenized input sequence indices in the vocabulary, and ``attention_mask``, a mask to avoid paying attention to padding token indices. Hugging Face has already implemented a tokenizer for each of its models that returns everything necessary for the respective model inputs, so in this case, the generic tokenizer [AutoTokenizer](https://huggingface.co/docs/transformers/model_doc/auto#transformers.AutoTokenizer) allows instantiating the model's tokenizer with just its name.\n",
        "\n",
        "- **Using a TPU:** Due to the enormous size of the RoBERTa model, specifically ``roberta-large``, which has over 300 million parameters, using a TPU in Google Colab is required to significantly speed up training. Although only the parameters of the classification layer are fine-tuned, loading and processing pre-trained embeddings, along with intensive backpropagation calculations, require considerable computational resources. The TPU efficiently handles these tasks compared to GPUs or CPUs, optimizing performance and training time.\n",
        "\n",
        "- **Comparison with the [Bidirectional LSTM Network Model](https://github.com/JersonGB22/TextClassification-TensorFlow/blob/main/models_lstm/SentimentAnalysis_LSTM_IMDB.ipynb):** In this notebook, the results obtained with the Transformer network using the RoBERTa model will be compared with the results obtained from the bidirectional LSTM network model."
      ]
    },
    {
      "cell_type": "markdown",
      "metadata": {
        "id": "ohI0LZ0I8qQs"
      },
      "source": [
        "### **Imports**"
      ]
    },
    {
      "cell_type": "code",
      "source": [
        "!pip install datasets -q"
      ],
      "metadata": {
        "colab": {
          "base_uri": "https://localhost:8080/"
        },
        "id": "Erta7osk3rL7",
        "outputId": "4ceecb7d-c028-4b73-9783-87b9fad8bb41"
      },
      "execution_count": 1,
      "outputs": [
        {
          "output_type": "stream",
          "name": "stdout",
          "text": [
            "\u001b[2K     \u001b[90m━━━━━━━━━━━━━━━━━━━━━━━━━━━━━━━━━━━━━━━━\u001b[0m \u001b[32m542.0/542.0 kB\u001b[0m \u001b[31m963.8 kB/s\u001b[0m eta \u001b[36m0:00:00\u001b[0m\n",
            "\u001b[2K     \u001b[90m━━━━━━━━━━━━━━━━━━━━━━━━━━━━━━━━━━━━━━━━\u001b[0m \u001b[32m116.3/116.3 kB\u001b[0m \u001b[31m1.1 MB/s\u001b[0m eta \u001b[36m0:00:00\u001b[0m\n",
            "\u001b[2K     \u001b[90m━━━━━━━━━━━━━━━━━━━━━━━━━━━━━━━━━━━━━━━━\u001b[0m \u001b[32m194.1/194.1 kB\u001b[0m \u001b[31m1.1 MB/s\u001b[0m eta \u001b[36m0:00:00\u001b[0m\n",
            "\u001b[2K     \u001b[90m━━━━━━━━━━━━━━━━━━━━━━━━━━━━━━━━━━━━━━━━\u001b[0m \u001b[32m134.8/134.8 kB\u001b[0m \u001b[31m1.2 MB/s\u001b[0m eta \u001b[36m0:00:00\u001b[0m\n",
            "\u001b[?25h"
          ]
        }
      ]
    },
    {
      "cell_type": "code",
      "execution_count": 2,
      "metadata": {
        "id": "D1M4u0Ah5kZH"
      },
      "outputs": [],
      "source": [
        "import tensorflow as tf\n",
        "from datasets import load_dataset\n",
        "from transformers import TFAutoModel, AutoTokenizer\n",
        "from sklearn.metrics import confusion_matrix, ConfusionMatrixDisplay\n",
        "from sklearn.model_selection import train_test_split\n",
        "import numpy as np\n",
        "import pandas as pd\n",
        "import re\n",
        "from IPython.core.display import HTML\n",
        "from google.colab import drive"
      ]
    },
    {
      "cell_type": "code",
      "execution_count": null,
      "metadata": {
        "colab": {
          "base_uri": "https://localhost:8080/"
        },
        "id": "xEPPd4styIwd",
        "outputId": "cbdab342-692d-4154-f9f4-e84472b5a433"
      },
      "outputs": [
        {
          "output_type": "stream",
          "name": "stdout",
          "text": [
            "TPU initialized:\n",
            "All devices:  [LogicalDevice(name='/job:worker/replica:0/task:0/device:TPU:0', device_type='TPU'), LogicalDevice(name='/job:worker/replica:0/task:0/device:TPU:1', device_type='TPU'), LogicalDevice(name='/job:worker/replica:0/task:0/device:TPU:2', device_type='TPU'), LogicalDevice(name='/job:worker/replica:0/task:0/device:TPU:3', device_type='TPU'), LogicalDevice(name='/job:worker/replica:0/task:0/device:TPU:4', device_type='TPU'), LogicalDevice(name='/job:worker/replica:0/task:0/device:TPU:5', device_type='TPU'), LogicalDevice(name='/job:worker/replica:0/task:0/device:TPU:6', device_type='TPU'), LogicalDevice(name='/job:worker/replica:0/task:0/device:TPU:7', device_type='TPU')]\n"
          ]
        }
      ],
      "source": [
        "# TPU setup\n",
        "try:\n",
        "  tpu = tf.distribute.cluster_resolver.TPUClusterResolver()\n",
        "  tf.config.experimental_connect_to_cluster(tpu)\n",
        "  tf.tpu.experimental.initialize_tpu_system(tpu)\n",
        "  strategy = tf.distribute.TPUStrategy(tpu)\n",
        "  print(\"TPU initialized:\")\n",
        "  print(\"All devices: \", tf.config.list_logical_devices(\"TPU\"))\n",
        "except ValueError:\n",
        "  print(\"TPU not found\")"
      ]
    },
    {
      "cell_type": "markdown",
      "metadata": {
        "id": "piIYd5Nl-8SX"
      },
      "source": [
        "### **Parameters**"
      ]
    },
    {
      "cell_type": "code",
      "execution_count": 3,
      "metadata": {
        "id": "mFvpDxgx85Yt"
      },
      "outputs": [],
      "source": [
        "epochs = 3\n",
        "batch_size = 128\n",
        "buffer_size = 1024\n",
        "max_length = 512\n",
        "AUTOTUNE = tf.data.AUTOTUNE\n",
        "model_name = \"roberta-large\""
      ]
    },
    {
      "cell_type": "markdown",
      "metadata": {
        "id": "2Jb1Tnf8-6m3"
      },
      "source": [
        "### **Load and Preprocess the Dataset**"
      ]
    },
    {
      "cell_type": "markdown",
      "source": [
        "In this case, when using a pre-trained Hugging Face model to load the IMDB Dataset, it is not advisable to do so with TensorFlow Datasets, as was done with the bidirectional LSTM model. This is because, to preprocess the training and test data and preprocess them in parallel with training in TensorFlow, only TensorFlow operations should be used. [Hugging Face tokenizers are not currently compatible with TensorFlow graphs](https://huggingface.co/docs/datasets/en/use_with_tensorflow).\n",
        "\n",
        "It is true that preprocessing could be done with `tf.py_function`, but during training, this would cause errors since [the function body will not serialize in `GraphDef`](https://www.tensorflow.org/api_docs/python/tf/py_function). Additionally, it is not feasible to preprocess and use the Hugging Face tokenizer, then save the training and test datasets in a `TFRecord` file and use `tf.data.TFRecordDataset` to read them, as [they need to be stored in Google Cloud Storage (GCS) buckets to be used in a Colab TPU environment.](https://www.tensorflow.org/guide/tpu?hl=es-419)\n",
        "\n",
        "Therefore, due to all the above, the Hugging Face Datasets library is used to load the IMDB data. They are then processed and tokenized, and converted to the `tf.data.Dataset.from_tensor_slices` format to retrain the model, as this format, being one of the simplest, does not need to be stored in GCS to be used on the Colab TPU."
      ],
      "metadata": {
        "id": "pQQBGxErYf8g"
      }
    },
    {
      "cell_type": "code",
      "source": [
        "dataset = load_dataset(\"imdb\", split=\"train+test\")\n",
        "df = pd.DataFrame(dataset)\n",
        "df"
      ],
      "metadata": {
        "colab": {
          "base_uri": "https://localhost:8080/",
          "height": 424
        },
        "id": "uSXPQ-bxzfV4",
        "outputId": "e4764f70-06db-4dca-e68e-817c9eaed797"
      },
      "execution_count": 5,
      "outputs": [
        {
          "output_type": "execute_result",
          "data": {
            "text/plain": [
              "                                                    text  label\n",
              "0      I rented I AM CURIOUS-YELLOW from my video sto...      0\n",
              "1      \"I Am Curious: Yellow\" is a risible and preten...      0\n",
              "2      If only to avoid making this type of film in t...      0\n",
              "3      This film was probably inspired by Godard's Ma...      0\n",
              "4      Oh, brother...after hearing about this ridicul...      0\n",
              "...                                                  ...    ...\n",
              "49995  Just got around to seeing Monster Man yesterda...      1\n",
              "49996  I got this as part of a competition prize. I w...      1\n",
              "49997  I got Monster Man in a box set of three films ...      1\n",
              "49998  Five minutes in, i started to feel how naff th...      1\n",
              "49999  I caught this movie on the Sci-Fi channel rece...      1\n",
              "\n",
              "[50000 rows x 2 columns]"
            ],
            "text/html": [
              "\n",
              "  <div id=\"df-b711ee24-0ebd-4830-a492-c827a57e49e7\" class=\"colab-df-container\">\n",
              "    <div>\n",
              "<style scoped>\n",
              "    .dataframe tbody tr th:only-of-type {\n",
              "        vertical-align: middle;\n",
              "    }\n",
              "\n",
              "    .dataframe tbody tr th {\n",
              "        vertical-align: top;\n",
              "    }\n",
              "\n",
              "    .dataframe thead th {\n",
              "        text-align: right;\n",
              "    }\n",
              "</style>\n",
              "<table border=\"1\" class=\"dataframe\">\n",
              "  <thead>\n",
              "    <tr style=\"text-align: right;\">\n",
              "      <th></th>\n",
              "      <th>text</th>\n",
              "      <th>label</th>\n",
              "    </tr>\n",
              "  </thead>\n",
              "  <tbody>\n",
              "    <tr>\n",
              "      <th>0</th>\n",
              "      <td>I rented I AM CURIOUS-YELLOW from my video sto...</td>\n",
              "      <td>0</td>\n",
              "    </tr>\n",
              "    <tr>\n",
              "      <th>1</th>\n",
              "      <td>\"I Am Curious: Yellow\" is a risible and preten...</td>\n",
              "      <td>0</td>\n",
              "    </tr>\n",
              "    <tr>\n",
              "      <th>2</th>\n",
              "      <td>If only to avoid making this type of film in t...</td>\n",
              "      <td>0</td>\n",
              "    </tr>\n",
              "    <tr>\n",
              "      <th>3</th>\n",
              "      <td>This film was probably inspired by Godard's Ma...</td>\n",
              "      <td>0</td>\n",
              "    </tr>\n",
              "    <tr>\n",
              "      <th>4</th>\n",
              "      <td>Oh, brother...after hearing about this ridicul...</td>\n",
              "      <td>0</td>\n",
              "    </tr>\n",
              "    <tr>\n",
              "      <th>...</th>\n",
              "      <td>...</td>\n",
              "      <td>...</td>\n",
              "    </tr>\n",
              "    <tr>\n",
              "      <th>49995</th>\n",
              "      <td>Just got around to seeing Monster Man yesterda...</td>\n",
              "      <td>1</td>\n",
              "    </tr>\n",
              "    <tr>\n",
              "      <th>49996</th>\n",
              "      <td>I got this as part of a competition prize. I w...</td>\n",
              "      <td>1</td>\n",
              "    </tr>\n",
              "    <tr>\n",
              "      <th>49997</th>\n",
              "      <td>I got Monster Man in a box set of three films ...</td>\n",
              "      <td>1</td>\n",
              "    </tr>\n",
              "    <tr>\n",
              "      <th>49998</th>\n",
              "      <td>Five minutes in, i started to feel how naff th...</td>\n",
              "      <td>1</td>\n",
              "    </tr>\n",
              "    <tr>\n",
              "      <th>49999</th>\n",
              "      <td>I caught this movie on the Sci-Fi channel rece...</td>\n",
              "      <td>1</td>\n",
              "    </tr>\n",
              "  </tbody>\n",
              "</table>\n",
              "<p>50000 rows × 2 columns</p>\n",
              "</div>\n",
              "    <div class=\"colab-df-buttons\">\n",
              "\n",
              "  <div class=\"colab-df-container\">\n",
              "    <button class=\"colab-df-convert\" onclick=\"convertToInteractive('df-b711ee24-0ebd-4830-a492-c827a57e49e7')\"\n",
              "            title=\"Convert this dataframe to an interactive table.\"\n",
              "            style=\"display:none;\">\n",
              "\n",
              "  <svg xmlns=\"http://www.w3.org/2000/svg\" height=\"24px\" viewBox=\"0 -960 960 960\">\n",
              "    <path d=\"M120-120v-720h720v720H120Zm60-500h600v-160H180v160Zm220 220h160v-160H400v160Zm0 220h160v-160H400v160ZM180-400h160v-160H180v160Zm440 0h160v-160H620v160ZM180-180h160v-160H180v160Zm440 0h160v-160H620v160Z\"/>\n",
              "  </svg>\n",
              "    </button>\n",
              "\n",
              "  <style>\n",
              "    .colab-df-container {\n",
              "      display:flex;\n",
              "      gap: 12px;\n",
              "    }\n",
              "\n",
              "    .colab-df-convert {\n",
              "      background-color: #E8F0FE;\n",
              "      border: none;\n",
              "      border-radius: 50%;\n",
              "      cursor: pointer;\n",
              "      display: none;\n",
              "      fill: #1967D2;\n",
              "      height: 32px;\n",
              "      padding: 0 0 0 0;\n",
              "      width: 32px;\n",
              "    }\n",
              "\n",
              "    .colab-df-convert:hover {\n",
              "      background-color: #E2EBFA;\n",
              "      box-shadow: 0px 1px 2px rgba(60, 64, 67, 0.3), 0px 1px 3px 1px rgba(60, 64, 67, 0.15);\n",
              "      fill: #174EA6;\n",
              "    }\n",
              "\n",
              "    .colab-df-buttons div {\n",
              "      margin-bottom: 4px;\n",
              "    }\n",
              "\n",
              "    [theme=dark] .colab-df-convert {\n",
              "      background-color: #3B4455;\n",
              "      fill: #D2E3FC;\n",
              "    }\n",
              "\n",
              "    [theme=dark] .colab-df-convert:hover {\n",
              "      background-color: #434B5C;\n",
              "      box-shadow: 0px 1px 3px 1px rgba(0, 0, 0, 0.15);\n",
              "      filter: drop-shadow(0px 1px 2px rgba(0, 0, 0, 0.3));\n",
              "      fill: #FFFFFF;\n",
              "    }\n",
              "  </style>\n",
              "\n",
              "    <script>\n",
              "      const buttonEl =\n",
              "        document.querySelector('#df-b711ee24-0ebd-4830-a492-c827a57e49e7 button.colab-df-convert');\n",
              "      buttonEl.style.display =\n",
              "        google.colab.kernel.accessAllowed ? 'block' : 'none';\n",
              "\n",
              "      async function convertToInteractive(key) {\n",
              "        const element = document.querySelector('#df-b711ee24-0ebd-4830-a492-c827a57e49e7');\n",
              "        const dataTable =\n",
              "          await google.colab.kernel.invokeFunction('convertToInteractive',\n",
              "                                                    [key], {});\n",
              "        if (!dataTable) return;\n",
              "\n",
              "        const docLinkHtml = 'Like what you see? Visit the ' +\n",
              "          '<a target=\"_blank\" href=https://colab.research.google.com/notebooks/data_table.ipynb>data table notebook</a>'\n",
              "          + ' to learn more about interactive tables.';\n",
              "        element.innerHTML = '';\n",
              "        dataTable['output_type'] = 'display_data';\n",
              "        await google.colab.output.renderOutput(dataTable, element);\n",
              "        const docLink = document.createElement('div');\n",
              "        docLink.innerHTML = docLinkHtml;\n",
              "        element.appendChild(docLink);\n",
              "      }\n",
              "    </script>\n",
              "  </div>\n",
              "\n",
              "\n",
              "<div id=\"df-91fc5730-4be8-41f7-a1a6-97233957fad5\">\n",
              "  <button class=\"colab-df-quickchart\" onclick=\"quickchart('df-91fc5730-4be8-41f7-a1a6-97233957fad5')\"\n",
              "            title=\"Suggest charts\"\n",
              "            style=\"display:none;\">\n",
              "\n",
              "<svg xmlns=\"http://www.w3.org/2000/svg\" height=\"24px\"viewBox=\"0 0 24 24\"\n",
              "     width=\"24px\">\n",
              "    <g>\n",
              "        <path d=\"M19 3H5c-1.1 0-2 .9-2 2v14c0 1.1.9 2 2 2h14c1.1 0 2-.9 2-2V5c0-1.1-.9-2-2-2zM9 17H7v-7h2v7zm4 0h-2V7h2v10zm4 0h-2v-4h2v4z\"/>\n",
              "    </g>\n",
              "</svg>\n",
              "  </button>\n",
              "\n",
              "<style>\n",
              "  .colab-df-quickchart {\n",
              "      --bg-color: #E8F0FE;\n",
              "      --fill-color: #1967D2;\n",
              "      --hover-bg-color: #E2EBFA;\n",
              "      --hover-fill-color: #174EA6;\n",
              "      --disabled-fill-color: #AAA;\n",
              "      --disabled-bg-color: #DDD;\n",
              "  }\n",
              "\n",
              "  [theme=dark] .colab-df-quickchart {\n",
              "      --bg-color: #3B4455;\n",
              "      --fill-color: #D2E3FC;\n",
              "      --hover-bg-color: #434B5C;\n",
              "      --hover-fill-color: #FFFFFF;\n",
              "      --disabled-bg-color: #3B4455;\n",
              "      --disabled-fill-color: #666;\n",
              "  }\n",
              "\n",
              "  .colab-df-quickchart {\n",
              "    background-color: var(--bg-color);\n",
              "    border: none;\n",
              "    border-radius: 50%;\n",
              "    cursor: pointer;\n",
              "    display: none;\n",
              "    fill: var(--fill-color);\n",
              "    height: 32px;\n",
              "    padding: 0;\n",
              "    width: 32px;\n",
              "  }\n",
              "\n",
              "  .colab-df-quickchart:hover {\n",
              "    background-color: var(--hover-bg-color);\n",
              "    box-shadow: 0 1px 2px rgba(60, 64, 67, 0.3), 0 1px 3px 1px rgba(60, 64, 67, 0.15);\n",
              "    fill: var(--button-hover-fill-color);\n",
              "  }\n",
              "\n",
              "  .colab-df-quickchart-complete:disabled,\n",
              "  .colab-df-quickchart-complete:disabled:hover {\n",
              "    background-color: var(--disabled-bg-color);\n",
              "    fill: var(--disabled-fill-color);\n",
              "    box-shadow: none;\n",
              "  }\n",
              "\n",
              "  .colab-df-spinner {\n",
              "    border: 2px solid var(--fill-color);\n",
              "    border-color: transparent;\n",
              "    border-bottom-color: var(--fill-color);\n",
              "    animation:\n",
              "      spin 1s steps(1) infinite;\n",
              "  }\n",
              "\n",
              "  @keyframes spin {\n",
              "    0% {\n",
              "      border-color: transparent;\n",
              "      border-bottom-color: var(--fill-color);\n",
              "      border-left-color: var(--fill-color);\n",
              "    }\n",
              "    20% {\n",
              "      border-color: transparent;\n",
              "      border-left-color: var(--fill-color);\n",
              "      border-top-color: var(--fill-color);\n",
              "    }\n",
              "    30% {\n",
              "      border-color: transparent;\n",
              "      border-left-color: var(--fill-color);\n",
              "      border-top-color: var(--fill-color);\n",
              "      border-right-color: var(--fill-color);\n",
              "    }\n",
              "    40% {\n",
              "      border-color: transparent;\n",
              "      border-right-color: var(--fill-color);\n",
              "      border-top-color: var(--fill-color);\n",
              "    }\n",
              "    60% {\n",
              "      border-color: transparent;\n",
              "      border-right-color: var(--fill-color);\n",
              "    }\n",
              "    80% {\n",
              "      border-color: transparent;\n",
              "      border-right-color: var(--fill-color);\n",
              "      border-bottom-color: var(--fill-color);\n",
              "    }\n",
              "    90% {\n",
              "      border-color: transparent;\n",
              "      border-bottom-color: var(--fill-color);\n",
              "    }\n",
              "  }\n",
              "</style>\n",
              "\n",
              "  <script>\n",
              "    async function quickchart(key) {\n",
              "      const quickchartButtonEl =\n",
              "        document.querySelector('#' + key + ' button');\n",
              "      quickchartButtonEl.disabled = true;  // To prevent multiple clicks.\n",
              "      quickchartButtonEl.classList.add('colab-df-spinner');\n",
              "      try {\n",
              "        const charts = await google.colab.kernel.invokeFunction(\n",
              "            'suggestCharts', [key], {});\n",
              "      } catch (error) {\n",
              "        console.error('Error during call to suggestCharts:', error);\n",
              "      }\n",
              "      quickchartButtonEl.classList.remove('colab-df-spinner');\n",
              "      quickchartButtonEl.classList.add('colab-df-quickchart-complete');\n",
              "    }\n",
              "    (() => {\n",
              "      let quickchartButtonEl =\n",
              "        document.querySelector('#df-91fc5730-4be8-41f7-a1a6-97233957fad5 button');\n",
              "      quickchartButtonEl.style.display =\n",
              "        google.colab.kernel.accessAllowed ? 'block' : 'none';\n",
              "    })();\n",
              "  </script>\n",
              "</div>\n",
              "\n",
              "  <div id=\"id_2776cfdd-305a-4a93-beb2-ddec2a102911\">\n",
              "    <style>\n",
              "      .colab-df-generate {\n",
              "        background-color: #E8F0FE;\n",
              "        border: none;\n",
              "        border-radius: 50%;\n",
              "        cursor: pointer;\n",
              "        display: none;\n",
              "        fill: #1967D2;\n",
              "        height: 32px;\n",
              "        padding: 0 0 0 0;\n",
              "        width: 32px;\n",
              "      }\n",
              "\n",
              "      .colab-df-generate:hover {\n",
              "        background-color: #E2EBFA;\n",
              "        box-shadow: 0px 1px 2px rgba(60, 64, 67, 0.3), 0px 1px 3px 1px rgba(60, 64, 67, 0.15);\n",
              "        fill: #174EA6;\n",
              "      }\n",
              "\n",
              "      [theme=dark] .colab-df-generate {\n",
              "        background-color: #3B4455;\n",
              "        fill: #D2E3FC;\n",
              "      }\n",
              "\n",
              "      [theme=dark] .colab-df-generate:hover {\n",
              "        background-color: #434B5C;\n",
              "        box-shadow: 0px 1px 3px 1px rgba(0, 0, 0, 0.15);\n",
              "        filter: drop-shadow(0px 1px 2px rgba(0, 0, 0, 0.3));\n",
              "        fill: #FFFFFF;\n",
              "      }\n",
              "    </style>\n",
              "    <button class=\"colab-df-generate\" onclick=\"generateWithVariable('df')\"\n",
              "            title=\"Generate code using this dataframe.\"\n",
              "            style=\"display:none;\">\n",
              "\n",
              "  <svg xmlns=\"http://www.w3.org/2000/svg\" height=\"24px\"viewBox=\"0 0 24 24\"\n",
              "       width=\"24px\">\n",
              "    <path d=\"M7,19H8.4L18.45,9,17,7.55,7,17.6ZM5,21V16.75L18.45,3.32a2,2,0,0,1,2.83,0l1.4,1.43a1.91,1.91,0,0,1,.58,1.4,1.91,1.91,0,0,1-.58,1.4L9.25,21ZM18.45,9,17,7.55Zm-12,3A5.31,5.31,0,0,0,4.9,8.1,5.31,5.31,0,0,0,1,6.5,5.31,5.31,0,0,0,4.9,4.9,5.31,5.31,0,0,0,6.5,1,5.31,5.31,0,0,0,8.1,4.9,5.31,5.31,0,0,0,12,6.5,5.46,5.46,0,0,0,6.5,12Z\"/>\n",
              "  </svg>\n",
              "    </button>\n",
              "    <script>\n",
              "      (() => {\n",
              "      const buttonEl =\n",
              "        document.querySelector('#id_2776cfdd-305a-4a93-beb2-ddec2a102911 button.colab-df-generate');\n",
              "      buttonEl.style.display =\n",
              "        google.colab.kernel.accessAllowed ? 'block' : 'none';\n",
              "\n",
              "      buttonEl.onclick = () => {\n",
              "        google.colab.notebook.generateWithVariable('df');\n",
              "      }\n",
              "      })();\n",
              "    </script>\n",
              "  </div>\n",
              "\n",
              "    </div>\n",
              "  </div>\n"
            ],
            "application/vnd.google.colaboratory.intrinsic+json": {
              "type": "dataframe",
              "variable_name": "df",
              "summary": "{\n  \"name\": \"df\",\n  \"rows\": 50000,\n  \"fields\": [\n    {\n      \"column\": \"text\",\n      \"properties\": {\n        \"dtype\": \"string\",\n        \"num_unique_values\": 49582,\n        \"samples\": [\n          \"The producers of this film should be sued for the misrepresentation of copyrighted materials, namely the Advanced Dungeons & Dragons Players' Handbook. Fear and ignorance breed the sort of mindless propaganda that inspire garbage like this film. If any of you have any doubts about the innocence of Dungeons & Dragons, why don't you go to your local hobby store and see about sitting in with a gaming group, so you can see for yourself that D&D is nothing to be afraid of.\",\n          \"The plot starts out interesting, however, towards the end too many die in too short a time, turning the thriller-mystery aspect of the story into a slaughter.<br /><br />The only true highlights were Adam Beach and J\\u00fcrgen Prochnow, who were once again their excellent selves. Nice try with an inappropriate last third, though a good ending.\",\n          \"I saw this movie on television as SCREAMERS and loved it. I heard an interesting story about this film. When Roger Corman released it to drive-ins in the summer of 1981, his trailer department sent out an advance trailer which was not actually footage from the film. It was allegedly footage of a naked woman being chased around a laboratory set by a monster. During the film's opening at drive-in's, irate customers complained the did not see the movie they paid to see. Theater owners called Corman and said their customers felt ripped off. So Corman had to run off copies of the footage, and send the positive film to theater owners to splice into the film themselves. Since the footage was never part of the film negative, it has not appeared in any video, DVD or television broadcast. Has anyone ever seen this footage? Anyone who saw this film at a drive-in in the summer of 1981 remember this?\"\n        ],\n        \"semantic_type\": \"\",\n        \"description\": \"\"\n      }\n    },\n    {\n      \"column\": \"label\",\n      \"properties\": {\n        \"dtype\": \"number\",\n        \"std\": 0,\n        \"min\": 0,\n        \"max\": 1,\n        \"num_unique_values\": 2,\n        \"samples\": [\n          1,\n          0\n        ],\n        \"semantic_type\": \"\",\n        \"description\": \"\"\n      }\n    }\n  ]\n}"
            }
          },
          "metadata": {},
          "execution_count": 5
        }
      ]
    },
    {
      "cell_type": "code",
      "source": [
        "# The dataset is balanced\n",
        "(df.label.value_counts()/df.shape[0]) * 100"
      ],
      "metadata": {
        "colab": {
          "base_uri": "https://localhost:8080/"
        },
        "id": "wcEhwb6IK7B9",
        "outputId": "8e631f5e-3c54-463c-eded-e25fdf221ed5"
      },
      "execution_count": 6,
      "outputs": [
        {
          "output_type": "execute_result",
          "data": {
            "text/plain": [
              "0    50.0\n",
              "1    50.0\n",
              "Name: label, dtype: float64"
            ]
          },
          "metadata": {},
          "execution_count": 6
        }
      ]
    },
    {
      "cell_type": "code",
      "source": [
        "# Import the AutoTokenizer\n",
        "# 'use_fast=True': improves the tokenizer's performance when processing large volumes of text\n",
        "\n",
        "tokenizer = AutoTokenizer.from_pretrained(model_name, use_fast=True)\n",
        "tokenizer"
      ],
      "metadata": {
        "colab": {
          "base_uri": "https://localhost:8080/"
        },
        "id": "MkXXSyB2C1Zn",
        "outputId": "56050008-a7c9-4afa-868f-82dbc5182de0"
      },
      "execution_count": 8,
      "outputs": [
        {
          "output_type": "execute_result",
          "data": {
            "text/plain": [
              "RobertaTokenizerFast(name_or_path='roberta-large', vocab_size=50265, model_max_length=512, is_fast=True, padding_side='right', truncation_side='right', special_tokens={'bos_token': '<s>', 'eos_token': '</s>', 'unk_token': '<unk>', 'sep_token': '</s>', 'pad_token': '<pad>', 'cls_token': '<s>', 'mask_token': '<mask>'}, clean_up_tokenization_spaces=True),  added_tokens_decoder={\n",
              "\t0: AddedToken(\"<s>\", rstrip=False, lstrip=False, single_word=False, normalized=True, special=True),\n",
              "\t1: AddedToken(\"<pad>\", rstrip=False, lstrip=False, single_word=False, normalized=True, special=True),\n",
              "\t2: AddedToken(\"</s>\", rstrip=False, lstrip=False, single_word=False, normalized=True, special=True),\n",
              "\t3: AddedToken(\"<unk>\", rstrip=False, lstrip=False, single_word=False, normalized=True, special=True),\n",
              "\t50264: AddedToken(\"<mask>\", rstrip=False, lstrip=True, single_word=False, normalized=False, special=True),\n",
              "}"
            ]
          },
          "metadata": {},
          "execution_count": 8
        }
      ]
    },
    {
      "cell_type": "code",
      "source": [
        "# Example of tokenization\n",
        "\n",
        "sample_text = df.text[373] #One of the dataset's shortest reviews\n",
        "print(sample_text, \"\\n\")\n",
        "encoding = tokenizer(\n",
        "    sample_text,\n",
        "    padding=\"max_length\",\n",
        "    truncation=True,\n",
        "    max_length=25,\n",
        "    return_token_type_ids=False,\n",
        "    return_tensors=\"tf\" #Returns the results in TensorFlow tensor format\n",
        ")\n",
        "\n",
        "print(encoding[\"input_ids\"].numpy()[0], \"\\n\")\n",
        "print(tokenizer.convert_ids_to_tokens(encoding[\"input_ids\"][0]))\n",
        "print(tokenizer.decode(encoding[\"input_ids\"][0]), \"\\n\")\n",
        "\n",
        "print(encoding[\"attention_mask\"].numpy()[0], \"\\n\")\n",
        "print(df.label[373])"
      ],
      "metadata": {
        "colab": {
          "base_uri": "https://localhost:8080/"
        },
        "id": "MxCVfzNOLimu",
        "outputId": "8b125db1-b1da-460f-b7ee-8aa89ef227a0"
      },
      "execution_count": 9,
      "outputs": [
        {
          "output_type": "stream",
          "name": "stdout",
          "text": [
            "You'd better choose Paul Verhoeven's even if you have watched it. \n",
            "\n",
            "[    0  1185  1017   357  2807  1206  3060 23712  2987    18   190   114\n",
            "    47    33  3996    24     4     2     1     1     1     1     1     1\n",
            "     1] \n",
            "\n",
            "['<s>', 'You', \"'d\", 'Ġbetter', 'Ġchoose', 'ĠPaul', 'ĠVer', 'hoe', 'ven', \"'s\", 'Ġeven', 'Ġif', 'Ġyou', 'Ġhave', 'Ġwatched', 'Ġit', '.', '</s>', '<pad>', '<pad>', '<pad>', '<pad>', '<pad>', '<pad>', '<pad>']\n",
            "<s>You'd better choose Paul Verhoeven's even if you have watched it.</s><pad><pad><pad><pad><pad><pad><pad> \n",
            "\n",
            "[1 1 1 1 1 1 1 1 1 1 1 1 1 1 1 1 1 1 0 0 0 0 0 0 0] \n",
            "\n",
            "0\n"
          ]
        }
      ]
    },
    {
      "cell_type": "markdown",
      "source": [
        "Unlike BERT, RoBERTa uses a byte-level BPE (Byte Pair Encoding) as a tokenizer, similar to GPT-2."
      ],
      "metadata": {
        "id": "RuoEK8yMbtbs"
      }
    },
    {
      "cell_type": "code",
      "source": [
        "# Function to convert texts to lowercase, remove HTML tags, and tokenize the texts\n",
        "\n",
        "def preprocessing(texts):\n",
        "  if type(texts) == list:\n",
        "    texts = list(map(lambda x: re.sub(r\"(<br />)+\", \" \", x.lower()), texts))\n",
        "  else:\n",
        "    texts = re.sub(r\"(<br />)+\", \" \", texts.lower())\n",
        "\n",
        "  encoding = tokenizer(\n",
        "      texts,\n",
        "      padding=\"max_length\",\n",
        "      truncation=True,\n",
        "      max_length=max_length,\n",
        "      return_tensors=\"tf\"\n",
        "  )\n",
        "\n",
        "  return encoding[\"input_ids\"], encoding[\"attention_mask\"]"
      ],
      "metadata": {
        "id": "zxTnXijiPBN-"
      },
      "execution_count": 10,
      "outputs": []
    },
    {
      "cell_type": "code",
      "source": [
        "# Splitting the dataframe into training and testing sets\n",
        "\n",
        "df_train, df_test = train_test_split(df, test_size=0.2, random_state=123, stratify=df.label)\n",
        "\n",
        "train_dataset = tf.data.Dataset.from_tensor_slices(\n",
        "    (preprocessing(df_train.text.to_list()), df_train.label.values)\n",
        ")\n",
        "test_dataset = tf.data.Dataset.from_tensor_slices(\n",
        "    (preprocessing(df_test.text.to_list()), df_test.label.values)\n",
        ")\n",
        "\n",
        "train_dataset = train_dataset.shuffle(buffer_size, seed=123).batch(batch_size).prefetch(AUTOTUNE)\n",
        "test_dataset = test_dataset.batch(batch_size).prefetch(AUTOTUNE)"
      ],
      "metadata": {
        "id": "JaOVvKWzO25_"
      },
      "execution_count": 11,
      "outputs": []
    },
    {
      "cell_type": "code",
      "source": [
        "# View a processed batch\n",
        "\n",
        "for (ids, masks), labels in train_dataset.take(1):\n",
        "  print(ids, \"\\n\")\n",
        "  print(masks, \"\\n\")\n",
        "  print(labels)"
      ],
      "metadata": {
        "colab": {
          "base_uri": "https://localhost:8080/"
        },
        "id": "oV-8S9P_Zn8Q",
        "outputId": "af154c55-af92-472a-b14d-ad4665ecb31b"
      },
      "execution_count": null,
      "outputs": [
        {
          "output_type": "stream",
          "name": "stdout",
          "text": [
            "tf.Tensor(\n",
            "[[    0   405    16 ...     1     1     1]\n",
            " [    0  9226    16 ...     1     1     1]\n",
            " [    0  1610  2449 ...     1     1     1]\n",
            " ...\n",
            " [    0   627    65 ...     1     1     1]\n",
            " [    0 30115 12606 ...    77  3668     2]\n",
            " [    0   415     5 ...     1     1     1]], shape=(128, 512), dtype=int32) \n",
            "\n",
            "tf.Tensor(\n",
            "[[1 1 1 ... 0 0 0]\n",
            " [1 1 1 ... 0 0 0]\n",
            " [1 1 1 ... 0 0 0]\n",
            " ...\n",
            " [1 1 1 ... 0 0 0]\n",
            " [1 1 1 ... 1 1 1]\n",
            " [1 1 1 ... 0 0 0]], shape=(128, 512), dtype=int32) \n",
            "\n",
            "tf.Tensor(\n",
            "[0 0 0 1 0 1 1 0 0 1 1 0 1 1 0 1 0 0 0 0 1 0 1 0 0 0 0 1 1 1 1 0 1 0 1 0 0\n",
            " 1 1 0 1 1 0 1 0 0 0 0 0 1 0 1 1 0 0 1 0 1 0 1 0 1 1 1 1 0 0 0 1 0 1 0 0 1\n",
            " 1 1 0 1 0 1 1 1 0 0 1 0 1 0 1 1 0 0 0 0 0 0 1 0 0 1 1 0 0 1 1 0 1 0 0 1 0\n",
            " 1 0 0 0 0 0 0 1 1 0 0 1 1 1 0 1 1], shape=(128,), dtype=int64)\n"
          ]
        }
      ]
    },
    {
      "cell_type": "code",
      "source": [
        "# Thanks to the 'stratify' argument, the distribution is preserved\n",
        "\n",
        "print(len(df_train), len(df_test), \"\\n\")\n",
        "print((df_train.label.value_counts()/df_train.shape[0]) * 100, \"\\n\")\n",
        "print((df_test.label.value_counts()/df_test.shape[0]) * 100)"
      ],
      "metadata": {
        "colab": {
          "base_uri": "https://localhost:8080/"
        },
        "id": "nUmupmVrZrIW",
        "outputId": "c2ebfbe2-5a82-4490-9132-1b9812bd2b5a"
      },
      "execution_count": 12,
      "outputs": [
        {
          "output_type": "stream",
          "name": "stdout",
          "text": [
            "40000 10000 \n",
            "\n",
            "1    50.0\n",
            "0    50.0\n",
            "Name: label, dtype: float64 \n",
            "\n",
            "0    50.0\n",
            "1    50.0\n",
            "Name: label, dtype: float64\n"
          ]
        }
      ]
    },
    {
      "cell_type": "markdown",
      "metadata": {
        "id": "JjdJe11iKuZX"
      },
      "source": [
        "### **Build the Model**"
      ]
    },
    {
      "cell_type": "code",
      "execution_count": 13,
      "metadata": {
        "id": "5-Rswgl13dDp"
      },
      "outputs": [],
      "source": [
        "def create_model():\n",
        "  # Import the AutoModel\n",
        "  model_base = TFAutoModel.from_pretrained(model_name)\n",
        "\n",
        "  input_ids = tf.keras.Input((max_length, ), dtype=tf.int32)\n",
        "  attention_mask = tf.keras.Input((max_length, ), dtype=tf.int32)\n",
        "\n",
        "  x = model_base(input_ids=input_ids, attention_mask=attention_mask).pooler_output\n",
        "  x = tf.keras.layers.Dropout(0.2)(x)\n",
        "  x = tf.keras.layers.Dense(1, activation=\"sigmoid\")(x)\n",
        "\n",
        "  model = tf.keras.Model(inputs=[input_ids, attention_mask], outputs=x)\n",
        "\n",
        "  return model"
      ]
    },
    {
      "cell_type": "code",
      "execution_count": null,
      "metadata": {
        "id": "FkkwGtJC8yqD",
        "colab": {
          "base_uri": "https://localhost:8080/"
        },
        "outputId": "cda0e0d9-72ed-4dac-9086-7317ecabb5f7"
      },
      "outputs": [
        {
          "output_type": "stream",
          "name": "stderr",
          "text": [
            "Some weights of the PyTorch model were not used when initializing the TF 2.0 model TFRobertaModel: ['lm_head.layer_norm.bias', 'roberta.embeddings.position_ids', 'lm_head.layer_norm.weight', 'lm_head.dense.weight', 'lm_head.dense.bias', 'lm_head.bias']\n",
            "- This IS expected if you are initializing TFRobertaModel from a PyTorch model trained on another task or with another architecture (e.g. initializing a TFBertForSequenceClassification model from a BertForPreTraining model).\n",
            "- This IS NOT expected if you are initializing TFRobertaModel from a PyTorch model that you expect to be exactly identical (e.g. initializing a TFBertForSequenceClassification model from a BertForSequenceClassification model).\n",
            "Some weights or buffers of the TF 2.0 model TFRobertaModel were not initialized from the PyTorch model and are newly initialized: ['roberta.pooler.dense.weight', 'roberta.pooler.dense.bias']\n",
            "You should probably TRAIN this model on a down-stream task to be able to use it for predictions and inference.\n"
          ]
        }
      ],
      "source": [
        "tf.keras.backend.clear_session() #Clearing Keras memory\n",
        "tf.random.set_seed(123) #For reproducibility\n",
        "\n",
        "# Creation and compilation of the model within the distribution strategy\n",
        "with strategy.scope():\n",
        "  model = create_model()\n",
        "\n",
        "  model.compile(optimizer=tf.keras.optimizers.AdamW(learning_rate=2e-5, weight_decay=0.01),\n",
        "                loss=\"binary_crossentropy\",\n",
        "                metrics=[\"accuracy\"],\n",
        "                steps_per_execution=200)"
      ]
    },
    {
      "cell_type": "markdown",
      "source": [
        "The message indicates that it is recommended to train the model on a downstream task before using it for predictions and inferences. This is correct, as the model has not been fine-tuned yet."
      ],
      "metadata": {
        "id": "noTC2zg54mWQ"
      }
    },
    {
      "cell_type": "code",
      "execution_count": null,
      "metadata": {
        "id": "G3zPtMFGhvo0",
        "colab": {
          "base_uri": "https://localhost:8080/"
        },
        "outputId": "eff4915f-ab0e-4f10-cc15-8fc6ebcb380e"
      },
      "outputs": [
        {
          "output_type": "stream",
          "name": "stdout",
          "text": [
            "Model: \"model\"\n",
            "__________________________________________________________________________________________________\n",
            " Layer (type)                   Output Shape         Param #     Connected to                     \n",
            "==================================================================================================\n",
            " input_1 (InputLayer)           [(None, 512)]        0           []                               \n",
            "                                                                                                  \n",
            " input_2 (InputLayer)           [(None, 512)]        0           []                               \n",
            "                                                                                                  \n",
            " tf_roberta_model (TFRobertaMod  TFBaseModelOutputWi  355359744  ['input_1[0][0]',                \n",
            " el)                            thPoolingAndCrossAt               'input_2[0][0]']                \n",
            "                                tentions(last_hidde                                               \n",
            "                                n_state=(None, 512,                                               \n",
            "                                 1024),                                                           \n",
            "                                 pooler_output=(Non                                               \n",
            "                                e, 1024),                                                         \n",
            "                                 past_key_values=No                                               \n",
            "                                ne, hidden_states=N                                               \n",
            "                                one, attentions=Non                                               \n",
            "                                e, cross_attentions                                               \n",
            "                                =None)                                                            \n",
            "                                                                                                  \n",
            " dropout_73 (Dropout)           (None, 1024)         0           ['tf_roberta_model[0][1]']       \n",
            "                                                                                                  \n",
            " dense (Dense)                  (None, 1)            1025        ['dropout_73[0][0]']             \n",
            "                                                                                                  \n",
            "==================================================================================================\n",
            "Total params: 355,360,769\n",
            "Trainable params: 355,360,769\n",
            "Non-trainable params: 0\n",
            "__________________________________________________________________________________________________\n"
          ]
        }
      ],
      "source": [
        "model.summary()"
      ]
    },
    {
      "cell_type": "code",
      "source": [
        "# Visualizing the architecture of the model\n",
        "tf.keras.utils.plot_model(model, show_shapes=True, show_layer_names=False, dpi=60)"
      ],
      "metadata": {
        "colab": {
          "base_uri": "https://localhost:8080/",
          "height": 270
        },
        "id": "RIq3mE4zKH8n",
        "outputId": "82bec81e-f036-465e-df95-fa3c4a06cbb1"
      },
      "execution_count": null,
      "outputs": [
        {
          "output_type": "execute_result",
          "data": {
            "image/png": "[encoded data removed]",
            "text/plain": [
              "<IPython.core.display.Image object>"
            ]
          },
          "metadata": {},
          "execution_count": 15
        }
      ]
    },
    {
      "cell_type": "markdown",
      "metadata": {
        "id": "Bc5_feTTXNVu"
      },
      "source": [
        "### **Train the Model**"
      ]
    },
    {
      "cell_type": "code",
      "source": [
        "tf.random.set_seed(123)\n",
        "history = model.fit(train_dataset, epochs=epochs, validation_data=test_dataset)"
      ],
      "metadata": {
        "colab": {
          "base_uri": "https://localhost:8080/"
        },
        "id": "qV7UlsNBPl5Z",
        "outputId": "ff2a1219-7432-4fb1-e72e-9f55557f86a9"
      },
      "execution_count": null,
      "outputs": [
        {
          "output_type": "stream",
          "name": "stdout",
          "text": [
            "Epoch 1/3\n",
            "313/313 [==============================] - 674s 2s/step - loss: 0.2002 - accuracy: 0.9152 - val_loss: 0.1095 - val_accuracy: 0.9618\n",
            "Epoch 2/3\n",
            "313/313 [==============================] - 470s 2s/step - loss: 0.0939 - accuracy: 0.9690 - val_loss: 0.1234 - val_accuracy: 0.9616\n",
            "Epoch 3/3\n",
            "313/313 [==============================] - 470s 2s/step - loss: 0.0644 - accuracy: 0.9794 - val_loss: 0.1401 - val_accuracy: 0.9627\n"
          ]
        }
      ]
    },
    {
      "cell_type": "markdown",
      "metadata": {
        "id": "S7cewteBIwua"
      },
      "source": [
        "**Save model**"
      ]
    },
    {
      "cell_type": "markdown",
      "source": [
        "Due to the large size of the model, only its weights are saved."
      ],
      "metadata": {
        "id": "aNRvySoz2zK-"
      }
    },
    {
      "cell_type": "code",
      "execution_count": null,
      "metadata": {
        "id": "Dqzc8YbeIWQe"
      },
      "outputs": [],
      "source": [
        "drive.mount(\"/content/drive/\")\n",
        "\n",
        "trained_model_path = \"/content/drive/MyDrive/models/SentimentAnalysis_RoBERTa_IMDB.h5\"\n",
        "model.save_weights(trained_model_path)"
      ]
    },
    {
      "cell_type": "markdown",
      "metadata": {
        "id": "WSJL2EanOvQH"
      },
      "source": [
        "### **Dataset Evaluation**"
      ]
    },
    {
      "cell_type": "code",
      "source": [
        "print(model.evaluate(train_dataset, verbose=0))\n",
        "print(model.evaluate(test_dataset, verbose=0))"
      ],
      "metadata": {
        "colab": {
          "base_uri": "https://localhost:8080/"
        },
        "id": "r8OjTK1bs0Xz",
        "outputId": "a43232b8-0b7c-430a-f763-3dfb72a1fc26"
      },
      "execution_count": null,
      "outputs": [
        {
          "output_type": "stream",
          "name": "stdout",
          "text": [
            "[0.030379535630345345, 0.9916499853134155]\n",
            "[0.14013829827308655, 0.9627000093460083]\n"
          ]
        }
      ]
    },
    {
      "cell_type": "markdown",
      "metadata": {
        "id": "1oY6USAfE-5P"
      },
      "source": [
        "The training set achieves an accuracy of 99.2% in just 3 epochs, while the test set accuracy is 96.3%. This demonstrates that the Transformer model is superior to the bidirectional LSTM model, which only achieved 90.5% accuracy on the test set. There is a notable reduction in overfitting; however, the model still exhibits some overfitting. This could be mitigated by increasing the size of the training set, as we are already using a robust model for NLP tasks with appropriate hyperparameter selection."
      ]
    },
    {
      "cell_type": "markdown",
      "metadata": {
        "id": "oVbqn5CwPDpG"
      },
      "source": [
        "**Confusion Matrix**"
      ]
    },
    {
      "cell_type": "code",
      "execution_count": null,
      "metadata": {
        "id": "DWddFscWPKUx"
      },
      "outputs": [],
      "source": [
        "labels_test = df_test.label.values\n",
        "labels_test_pred = model.predict(test_dataset, verbose=0).squeeze()\n",
        "labels_test_pred = (labels_test_pred>=0.5).astype(np.int32)"
      ]
    },
    {
      "cell_type": "code",
      "execution_count": null,
      "metadata": {
        "colab": {
          "base_uri": "https://localhost:8080/"
        },
        "id": "8-r4YB8rJuoP",
        "outputId": "743e64cc-7d86-4c7a-c73e-cc40f1715f5a"
      },
      "outputs": [
        {
          "output_type": "execute_result",
          "data": {
            "text/plain": [
              "0.9627"
            ]
          },
          "metadata": {},
          "execution_count": 19
        }
      ],
      "source": [
        "# Consolidating the accuracy of the testing set\n",
        "np.mean(labels_test == labels_test_pred)"
      ]
    },
    {
      "cell_type": "code",
      "source": [
        "cm = confusion_matrix(labels_test, labels_test_pred)\n",
        "cmd = ConfusionMatrixDisplay(cm, display_labels=[\"Negative\", \"Positive\"])\n",
        "cmd.plot(colorbar=False, cmap=\"coolwarm_r\");\n",
        "print(\"Total negatives: \", np.bincount(labels_test)[0], \"; Total positives: \", np.bincount(labels_test)[1])"
      ],
      "metadata": {
        "colab": {
          "base_uri": "https://localhost:8080/",
          "height": 466
        },
        "id": "s82HA8R1XCEW",
        "outputId": "b91d9681-b31e-4b27-c941-417ee1edf6a8"
      },
      "execution_count": null,
      "outputs": [
        {
          "output_type": "stream",
          "name": "stdout",
          "text": [
            "Total negatives:  5000 ; Total positives:  5000\n"
          ]
        },
        {
          "output_type": "display_data",
          "data": {
            "text/plain": [
              "<Figure size 640x480 with 1 Axes>"
            ],
            "image/png": "[encoded data removed]"
          },
          "metadata": {}
        }
      ]
    },
    {
      "cell_type": "code",
      "source": [
        "(175/5000)*100, (198/5000)*100"
      ],
      "metadata": {
        "colab": {
          "base_uri": "https://localhost:8080/"
        },
        "id": "vGXJhj1_X-fb",
        "outputId": "592fbaa8-4d06-4856-bea4-22bad445c1a5"
      },
      "execution_count": null,
      "outputs": [
        {
          "output_type": "execute_result",
          "data": {
            "text/plain": [
              "(3.5000000000000004, 3.9600000000000004)"
            ]
          },
          "metadata": {},
          "execution_count": 23
        }
      ]
    },
    {
      "cell_type": "markdown",
      "metadata": {
        "id": "NXR1p2QJeokh"
      },
      "source": [
        "It is observed that the model faces a slightly higher difficulty in correctly classifying positive movie reviews, as reflected in a higher percentage of false negatives (3.96%) compared to false positives (3.5%). However, in comparison to the LSTM network, it has significantly improved. This is because the model is quite capable of detecting the complex relationships necessary to classify movie reviews correctly, very closely resembling how humans would do it, thanks to the pretraining of RoBERTa."
      ]
    },
    {
      "cell_type": "markdown",
      "metadata": {
        "id": "j2VNNRAeJ_hx"
      },
      "source": [
        "### **Predictions with the trained model**"
      ]
    },
    {
      "cell_type": "markdown",
      "source": [
        "**``Example of how to save and load the complete model``**\n",
        "\n",
        "```\n",
        "trained_model_path = \"/content/drive/MyDrive/models/SentimentAnalysis_RoBERTa_IMDB.keras\"\n",
        "model.save(trained_model_path)\n",
        "\n",
        "model_base = TFAutoModel.from_pretrained(model_name)\n",
        "model = tf.keras.models.load_model(trained_model_path,\n",
        "                                  custom_objects={\"TFRobertaModel\": model_base})\n",
        "\n",
        "model.summary()\n",
        "```"
      ],
      "metadata": {
        "id": "HLMkX5M13Ank"
      }
    },
    {
      "cell_type": "code",
      "source": [
        "# Load the weights of the trained model\n",
        "tf.keras.backend.clear_session()\n",
        "\n",
        "model = create_model()\n",
        "model.load_weights(trained_model_path)\n",
        "\n",
        "model.summary()"
      ],
      "metadata": {
        "colab": {
          "base_uri": "https://localhost:8080/",
          "height": 677,
          "referenced_widgets": [
            "a005a9991d4745e38db4d4fc38d7a7b3",
            "b300e99ddc01475b97808dd0a0e4aae7",
            "014832e235d54c809db7e26e477361a7",
            "aae5aa49472f453fbf9c26e704c20a7d",
            "27f4a2aae2c241f990ba3ab75107065e",
            "daba2ca17f314a699299c696bf2e27f9",
            "3828ffce2c06416ca50fa4a6b62703a0",
            "4cb58d87e3a54fa0a0c34707f6ab14e4",
            "9f6ecc6bb0ff4ca383f591fc5882cfd2",
            "54d2a36b7aaa4a86b9544cf153269f8e",
            "c5b3943257ab4084a40e4649ae158337"
          ]
        },
        "id": "_6hQP421B7hc",
        "outputId": "c6d1d084-2931-4a37-af94-3c08b5626494"
      },
      "execution_count": 15,
      "outputs": [
        {
          "output_type": "display_data",
          "data": {
            "text/plain": [
              "model.safetensors:   0%|          | 0.00/1.42G [00:00<?, ?B/s]"
            ],
            "application/vnd.jupyter.widget-view+json": {
              "version_major": 2,
              "version_minor": 0,
              "model_id": "a005a9991d4745e38db4d4fc38d7a7b3"
            }
          },
          "metadata": {}
        },
        {
          "output_type": "stream",
          "name": "stderr",
          "text": [
            "Some weights of the PyTorch model were not used when initializing the TF 2.0 model TFRobertaModel: ['lm_head.layer_norm.weight', 'roberta.embeddings.position_ids', 'lm_head.layer_norm.bias', 'lm_head.bias', 'lm_head.dense.weight', 'lm_head.dense.bias']\n",
            "- This IS expected if you are initializing TFRobertaModel from a PyTorch model trained on another task or with another architecture (e.g. initializing a TFBertForSequenceClassification model from a BertForPreTraining model).\n",
            "- This IS NOT expected if you are initializing TFRobertaModel from a PyTorch model that you expect to be exactly identical (e.g. initializing a TFBertForSequenceClassification model from a BertForSequenceClassification model).\n",
            "Some weights or buffers of the TF 2.0 model TFRobertaModel were not initialized from the PyTorch model and are newly initialized: ['roberta.pooler.dense.weight', 'roberta.pooler.dense.bias']\n",
            "You should probably TRAIN this model on a down-stream task to be able to use it for predictions and inference.\n"
          ]
        },
        {
          "output_type": "stream",
          "name": "stdout",
          "text": [
            "Model: \"model\"\n",
            "__________________________________________________________________________________________________\n",
            " Layer (type)                   Output Shape         Param #     Connected to                     \n",
            "==================================================================================================\n",
            " input_1 (InputLayer)           [(None, 512)]        0           []                               \n",
            "                                                                                                  \n",
            " input_2 (InputLayer)           [(None, 512)]        0           []                               \n",
            "                                                                                                  \n",
            " tf_roberta_model (TFRobertaMod  TFBaseModelOutputWi  355359744  ['input_1[0][0]',                \n",
            " el)                            thPoolingAndCrossAt               'input_2[0][0]']                \n",
            "                                tentions(last_hidde                                               \n",
            "                                n_state=(None, 512,                                               \n",
            "                                 1024),                                                           \n",
            "                                 pooler_output=(Non                                               \n",
            "                                e, 1024),                                                         \n",
            "                                 past_key_values=No                                               \n",
            "                                ne, hidden_states=N                                               \n",
            "                                one, attentions=Non                                               \n",
            "                                e, cross_attentions                                               \n",
            "                                =None)                                                            \n",
            "                                                                                                  \n",
            " dropout_73 (Dropout)           (None, 1024)         0           ['tf_roberta_model[0][1]']       \n",
            "                                                                                                  \n",
            " dense (Dense)                  (None, 1)            1025        ['dropout_73[0][0]']             \n",
            "                                                                                                  \n",
            "==================================================================================================\n",
            "Total params: 355,360,769\n",
            "Trainable params: 355,360,769\n",
            "Non-trainable params: 0\n",
            "__________________________________________________________________________________________________\n"
          ]
        }
      ]
    },
    {
      "cell_type": "code",
      "execution_count": 99,
      "metadata": {
        "id": "cs6eubKxPVlI"
      },
      "outputs": [],
      "source": [
        "def predict_review(texts, labels, random=True):\n",
        "  label_names = [\"Negative Review\", \"Positive Review\"]\n",
        "  label_colors = [\"red\", \"green\"]\n",
        "\n",
        "  indice = np.random.choice(len(texts)) if random else 0\n",
        "  text = texts[indice]\n",
        "  input_ids, attention_mask = preprocessing(text)\n",
        "\n",
        "  label_pred = model.predict([input_ids, attention_mask], verbose=0).squeeze()\n",
        "  label_pred = (label_pred>=0.5).astype(np.int32)\n",
        "\n",
        "  html_content = f\"\"\"\n",
        "    <b>Review:</b><br><br>\n",
        "    {text}<br><br>\n",
        "    <b>True Label: <span style=\"color: {label_colors[labels[indice]]}\">{label_names[labels[indice]]}</span></b><br><br>\n",
        "    <b>Predicted Label: <span style=\"color: {label_colors[label_pred]}\">{label_names[label_pred]}</span></b>\n",
        "    \"\"\"\n",
        "  display(HTML(html_content))"
      ]
    },
    {
      "cell_type": "markdown",
      "metadata": {
        "id": "7O5A_x0lq5ew"
      },
      "source": [
        "#### **Test Dataset**"
      ]
    },
    {
      "cell_type": "code",
      "execution_count": 18,
      "metadata": {
        "id": "VuyWzQ-6qxmv"
      },
      "outputs": [],
      "source": [
        "texts, labels = df_test.text.to_list(), df_test.label.to_list()"
      ]
    },
    {
      "cell_type": "code",
      "source": [
        "predict_review(texts, labels, random=False)"
      ],
      "metadata": {
        "colab": {
          "base_uri": "https://localhost:8080/",
          "height": 191
        },
        "id": "NWTNnXMgjBwu",
        "outputId": "343cc92b-c41a-4ee9-cccf-3c913b574881"
      },
      "execution_count": 100,
      "outputs": [
        {
          "output_type": "display_data",
          "data": {
            "text/plain": [
              "<IPython.core.display.HTML object>"
            ],
            "text/html": [
              "\n",
              "    <b>Review:</b><br><br>\n",
              "    Ugh! Where to begin ... first, Campbell Scott's non-stop angst becomes a real turn-off after awhile (a very short while) as he internalizes his mounting anguish, curiosity and anger. Only we don't care! These characters as presented by the writer and director are wholly unlikable, and therein lies the key. They haven't given us anything to make us care if they are adulterous and whether or not they are still in love with one another. When Scott quietly tells his wife, \"I could kill you\" before their three daughters at the dinner table, after the shock of his selfishly poor timing wore off I almost wished that he had--and then done the same thing to the smug, wisecracking apparition of Denis Leary before being hauled off the the looney bin. An utter waste of time and perhaps--only perhaps--resources.<br><br>\n",
              "    <b>True Label: <span style=\"color: red\">Negative Review</span></b><br><br>\n",
              "    <b>Predicted Label: <span style=\"color: red\">Negative Review</span></b>\n",
              "    "
            ]
          },
          "metadata": {}
        }
      ]
    },
    {
      "cell_type": "code",
      "source": [
        "predict_review(texts, labels)"
      ],
      "metadata": {
        "colab": {
          "base_uri": "https://localhost:8080/",
          "height": 191
        },
        "id": "6Jr2lPmdkUwO",
        "outputId": "136af018-d8cd-4552-878c-9826301c4d4c"
      },
      "execution_count": null,
      "outputs": [
        {
          "output_type": "display_data",
          "data": {
            "text/plain": [
              "<IPython.core.display.HTML object>"
            ],
            "text/html": [
              "\n",
              "    <b>Review:</b><br><br>\n",
              "    This movie is a true reflection of the Australian resourcefulness that has been required to make this country what it is over the last 200 years. Not pompous like the British, not Gung-Ho like the Americans. If either of those countries had attempted what this crew did, it would have failed dismally. Either due to ignorance on the British part, or too much faith in superior firepower on the American side. \"True\" Australians (i.e. non-imports) are the only ones who can excel in modern military conflicts because they have had to improvise most of their adult lives. Just look at examples like Gallipoli; Paschendale; Tobruk; New Guinea and Vietnam.<br><br>\n",
              "    <b>True Label: <span style=\"color: green\">Positive Review</span></b><br><br>\n",
              "    <b>Predicted Label: <span style=\"color: green\">Positive Review</span></b>\n",
              "    "
            ]
          },
          "metadata": {}
        }
      ]
    },
    {
      "cell_type": "code",
      "execution_count": 108,
      "metadata": {
        "colab": {
          "base_uri": "https://localhost:8080/",
          "height": 607
        },
        "id": "5hclE9-4ap_W",
        "outputId": "82071e42-7fb9-4012-b6c4-c201ad67cd7d"
      },
      "outputs": [
        {
          "output_type": "display_data",
          "data": {
            "text/plain": [
              "<IPython.core.display.HTML object>"
            ],
            "text/html": [
              "\n",
              "    <b>Review:</b><br><br>\n",
              "    What an ambitious project Kenneth Branagh undertook here and how well it was realized! This is the first filmed version of 'Hamlet' to use the full text of Shakespeare's play, but Branagh didn't do it just because \"it was there.\" His intention, I believe, was to make the play accessible and understandable to the general viewer without dumbing it down, so to speak. In return he asks viewers to put in a little work themselves, a fair enough proposition and one that's a bargain.<br /><br />The setting is a generic 19th century European one and this does more than work well, it keeps a modern or ancient look from possibly distracting from the work itself. The production design and cinematography and both outstanding, which helps immensely when you're watching a four-hour movie. Branagh's casting once again is inspired and the acting is likewise. The direction accomplishes the heavy task of making this a movie rather than a deluxe version of a play. Since so much of 'Hamlet' is based on interior monologue and there are relatively few duels, battles, etc., this can be a daunting task. But everything Branagh tries to do seems to work.<br /><br />Branagh has always been one of the most interesting actor/writer/directors, if not always the best, since he made his big splash with 'Henry V.' One quibble I had with him was what I saw as a tendency to ham it up at times. In his portrayal of Hamlet here he might be accused of that again, but there is a method at work. Let's face it, 'Hamlet' is not an easy work for the average person to understand and if one has never seen it performed before, he or she needs help even if they've read the play. Hamlet has the most lines of any Shakespearian character and Branagh makes sure that his viewers know what this man is thinking and feeling throughout the film, even if you don't know the literal meaning of every arcane word. This performance by Branagh was at the very least worthy of an Oscar nomination.<br /><br />There are so many other outstanding performances here they're almost too numerous to mention, but some of them must be acknowledged. Derek Jacobi as Claudius is superb but even he takes a back seat to Kate Winslet when it comes to handing out praise. Her portrayal of Ophelia is awesome in its depth of feeling, made only more outstanding by the knowledge that she was only about 20 years old at the time! She looks to me like the finest young actress around. Other super performers in no particular order are Richard Briers, Nicholas Farrell, Michael Maloney, and Reece Dinsdale and Timothy Spall as Guildenstern and Rosencrantz, respectively. Honorable mention goes to Julie Christie, Charlton Heston, and Robin Williams, who manages to do his thing here successfully. Even Billy Crystal as a gravedigger works. The one cast member who doesn't, inexplicably, is Jack Lemmon. In the very opening scene he appears, and while the other three actors do a great job at setting the tense mood, Lemmon sounds like he is just running lines in rehearsal as a favor. You know this must have been a real dilemma for Branagh, since everything else about the movies screams out that it's the work of a perfectionist.<br /><br />Not to be facetious when speaking of a four-hour movie, but it does seem just a tad too long. Some monologues and conversations do tend to go on a bit, if I may be so bold, and a little bit of judicious pruning would be welcome.<br /><br />Did I forget anything, other than Patrick Doyle's score? No doubt I did. I'll just sum up by saying that Kenneth Branagh may have made the definitive film version of 'Hamlet,' and it will be a truly monumental production that tops this one.<br><br>\n",
              "    <b>True Label: <span style=\"color: green\">Positive Review</span></b><br><br>\n",
              "    <b>Predicted Label: <span style=\"color: green\">Positive Review</span></b>\n",
              "    "
            ]
          },
          "metadata": {}
        }
      ],
      "source": [
        "# Long Review\n",
        "predict_review(texts, labels)"
      ]
    },
    {
      "cell_type": "code",
      "source": [
        "# Long Review\n",
        "predict_review(texts, labels)"
      ],
      "metadata": {
        "colab": {
          "base_uri": "https://localhost:8080/",
          "height": 503
        },
        "id": "msdvHUIKkTx8",
        "outputId": "f4e26ac1-f5b2-43d5-9f8b-b5dc305f1d5b"
      },
      "execution_count": 113,
      "outputs": [
        {
          "output_type": "display_data",
          "data": {
            "text/plain": [
              "<IPython.core.display.HTML object>"
            ],
            "text/html": [
              "\n",
              "    <b>Review:</b><br><br>\n",
              "    Here is a rundown of a typical Rachael Ray Show:<br /><br />1. The awful theme song begins to play, and Rachael descends wearing her Snapcrotch outfit in this bizarre cargo elevator. 2. She begins running around screaming and/or insulting the audience, then yells at them sit down. 3. An awkward monologue.<br /><br />(The next are in any order) 4. A segment tooting Rachael's own horn (i.e. \"I Lost 500 Pounds with Rach's Recipes, \"Rachael Ray Saved my Life,\" \"Rachael's Fashion Tips.\") 5. A totally useless D.I.Y. tip (i.e. how to engrave words into casserole dishes, how to use your washing machine as a salad spinner, how to build a tube of lipstick with a light on it.) 6. The unleashing of horrible recipe on the unsuspecting audience (reaction shots of first bites are never shown). 7. A celebrity guest with an awkward interview, followed by some obviously scripted questions from the audience. 8. A person who gets help from one of Rachael's cronies (i.e. the I say yes to everything woman, the I own nothing but overalls lady, and the I can't find time to put on makeup housewife). What would they do without you Rachael. *gasp*<br /><br />Reasons that this show should be avoided like the plague: 1. Fakeness: Rachael Ray claims that entire show is unscripted. Many people who have attended tapings of the show have claimed that the entire show is scripted. Many of these same people have also mentioned that there is even a very strict dress code for the show. <br /><br />2. Her show jumps around too much: Where as Oprah, who is the highest rated talk show host of all time has a definite theme for her show, Rachael's jumps around like an ADHD soda child on crack. Her show averages perhaps 10, short, worthless segments a show. On second you will be getting fashion tips from Kojo, and the next Rachael will be making gross stuffed \"Spanish\" peppers with manchego cheese, and the next their will be a giant anaconda up on stage, and the next, well you get the picture.<br /><br />3. Rachael is a poor host with bad ideas: Aside from her grating personality, Rachael's hosting ability is terrible, at best. Her questions for her celebrity guests are poor, and often times not even relevant to the interview, and her segments are unappealing and offer little educational, or humorous value.<br /><br />In conclusion, you need not waste your time with this schlock. It will be canceled soon anyways.<br><br>\n",
              "    <b>True Label: <span style=\"color: red\">Negative Review</span></b><br><br>\n",
              "    <b>Predicted Label: <span style=\"color: red\">Negative Review</span></b>\n",
              "    "
            ]
          },
          "metadata": {}
        }
      ]
    },
    {
      "cell_type": "markdown",
      "metadata": {
        "id": "A1dq-wuO4gDI"
      },
      "source": [
        "#### **Other Reviews**"
      ]
    },
    {
      "cell_type": "code",
      "execution_count": 114,
      "metadata": {
        "colab": {
          "base_uri": "https://localhost:8080/",
          "height": 173
        },
        "id": "5hgI2Y_AdwRU",
        "outputId": "1859993c-45c7-4b14-b5c2-f586ee595e72"
      },
      "outputs": [
        {
          "output_type": "display_data",
          "data": {
            "text/plain": [
              "<IPython.core.display.HTML object>"
            ],
            "text/html": [
              "\n",
              "    <b>Review:</b><br><br>\n",
              "    \n",
              "'The Sunrise of Tomorrow' is a cinematic masterpiece that truly captures the essence of human resilience.\n",
              "The performances are stellar, particularly the lead actor who delivers a heart-wrenching performance that leaves you on the edge of your seat.\n",
              "The cinematography is breathtaking, with each frame painting a beautiful picture that stays with you long after the movie ends.\n",
              "The plot is well-crafted, with unexpected twists that keep you engaged throughout.\n",
              "This movie is a must-watch for anyone seeking a profound cinematic experience.\n",
              "<br><br>\n",
              "    <b>True Label: <span style=\"color: green\">Positive Review</span></b><br><br>\n",
              "    <b>Predicted Label: <span style=\"color: green\">Positive Review</span></b>\n",
              "    "
            ]
          },
          "metadata": {}
        }
      ],
      "source": [
        "text = [\"\"\"\n",
        "'The Sunrise of Tomorrow' is a cinematic masterpiece that truly captures the essence of human resilience.\n",
        "The performances are stellar, particularly the lead actor who delivers a heart-wrenching performance that leaves you on the edge of your seat.\n",
        "The cinematography is breathtaking, with each frame painting a beautiful picture that stays with you long after the movie ends.\n",
        "The plot is well-crafted, with unexpected twists that keep you engaged throughout.\n",
        "This movie is a must-watch for anyone seeking a profound cinematic experience.\n",
        "\"\"\"]\n",
        "\n",
        "label = [1]\n",
        "\n",
        "predict_review(text, label)"
      ]
    },
    {
      "cell_type": "code",
      "execution_count": 115,
      "metadata": {
        "colab": {
          "base_uri": "https://localhost:8080/",
          "height": 173
        },
        "id": "trfOybCZCSp6",
        "outputId": "81dd8f3b-53ce-4b15-89a5-1a4cbfd7321d"
      },
      "outputs": [
        {
          "output_type": "display_data",
          "data": {
            "text/plain": [
              "<IPython.core.display.HTML object>"
            ],
            "text/html": [
              "\n",
              "    <b>Review:</b><br><br>\n",
              "    \n",
              "I had high hopes for \"The Sunrise of Tomorrow\", but unfortunately, it fell short of expectations.\n",
              "The plot was predictable and lacked depth, making it difficult to connect with the characters on any meaningful level.\n",
              "The performances felt forced and lacked the emotional depth necessary for such a storyline.\n",
              "The cinematography, while visually appealing, couldn't make up for the lackluster script.\n",
              "Overall, the movie felt like a missed opportunity to explore an interesting concept.\n",
              "<br><br>\n",
              "    <b>True Label: <span style=\"color: red\">Negative Review</span></b><br><br>\n",
              "    <b>Predicted Label: <span style=\"color: red\">Negative Review</span></b>\n",
              "    "
            ]
          },
          "metadata": {}
        }
      ],
      "source": [
        "text = [\"\"\"\n",
        "I had high hopes for \"The Sunrise of Tomorrow\", but unfortunately, it fell short of expectations.\n",
        "The plot was predictable and lacked depth, making it difficult to connect with the characters on any meaningful level.\n",
        "The performances felt forced and lacked the emotional depth necessary for such a storyline.\n",
        "The cinematography, while visually appealing, couldn't make up for the lackluster script.\n",
        "Overall, the movie felt like a missed opportunity to explore an interesting concept.\n",
        "\"\"\"]\n",
        "label = [0]\n",
        "\n",
        "predict_review(text, label)"
      ]
    },
    {
      "cell_type": "code",
      "execution_count": 116,
      "metadata": {
        "colab": {
          "base_uri": "https://localhost:8080/",
          "height": 173
        },
        "id": "nnEgM-GDkQm3",
        "outputId": "03935e56-60b1-4c1d-d223-f0b4dc7ec9af"
      },
      "outputs": [
        {
          "output_type": "display_data",
          "data": {
            "text/plain": [
              "<IPython.core.display.HTML object>"
            ],
            "text/html": [
              "\n",
              "    <b>Review:</b><br><br>\n",
              "    \n",
              "I'm absolutely disgusted that this movie isn't being sold. Everyone who loves this film should email Disney to increase the demand for it.\n",
              "Eventually, they'd have to sell it, and then I'd buy copies for everybody I know. Everyone and everything in this movie did a good job,\n",
              "and I can't figure out why Disney hasn't put it on DVD or even on VHS in rental stores.\n",
              "I haven't seen any copies. This is a fantastic movie that deserves to be seen by all the kids in the new generation.\n",
              "They're missing out, and I think they deserve the chance to experience it.\n",
              "<br><br>\n",
              "    <b>True Label: <span style=\"color: green\">Positive Review</span></b><br><br>\n",
              "    <b>Predicted Label: <span style=\"color: green\">Positive Review</span></b>\n",
              "    "
            ]
          },
          "metadata": {}
        }
      ],
      "source": [
        "# Complex positive review, incorporating seemingly negative words.\n",
        "\n",
        "text = [\"\"\"\n",
        "I'm absolutely disgusted that this movie isn't being sold. Everyone who loves this film should email Disney to increase the demand for it.\n",
        "Eventually, they'd have to sell it, and then I'd buy copies for everybody I know. Everyone and everything in this movie did a good job,\n",
        "and I can't figure out why Disney hasn't put it on DVD or even on VHS in rental stores.\n",
        "I haven't seen any copies. This is a fantastic movie that deserves to be seen by all the kids in the new generation.\n",
        "They're missing out, and I think they deserve the chance to experience it.\n",
        "\"\"\"]\n",
        "label = [1]\n",
        "\n",
        "predict_review(text, label)"
      ]
    },
    {
      "cell_type": "code",
      "source": [
        "# Complex negative review, incorporating seemingly positive words.\n",
        "\n",
        "text = [\"\"\"\n",
        "The film \"Sunset Dreams\" is an extraordinary example of how cinema can transcend the mundane and reach new heights of mediocrity.\n",
        "The director's vision is remarkably consistent, maintaining a steady pace that ensures the audience is lulled into a state of unending tedium.\n",
        "The performances are nothing short of unforgettable; they are bound to linger in the viewer's mind for all the wrong reasons.\n",
        "Each actor brings a unique blend of wooden expressions and uninspired dialogue delivery,\n",
        "which together create an experience that is truly singular in its capacity to disappoint.<br /><br />\n",
        "The cinematography, while technically competent, showcases a remarkable talent for capturing the most uninteresting angles,\n",
        "ensuring that every scene is as visually unappealing as possible. The soundtrack is another standout feature,\n",
        "with its repetitive and grating melodies that add an extra layer of irritation to the viewing experience.\n",
        "\"\"\"]\n",
        "\n",
        "label = [0]\n",
        "\n",
        "predict_review(text, label)"
      ],
      "metadata": {
        "colab": {
          "base_uri": "https://localhost:8080/",
          "height": 225
        },
        "id": "hqN57lkkCH5v",
        "outputId": "48cd0a58-03b6-4fb9-b2ac-86ffe791a6ce"
      },
      "execution_count": 117,
      "outputs": [
        {
          "output_type": "display_data",
          "data": {
            "text/plain": [
              "<IPython.core.display.HTML object>"
            ],
            "text/html": [
              "\n",
              "    <b>Review:</b><br><br>\n",
              "    \n",
              "The film \"Sunset Dreams\" is an extraordinary example of how cinema can transcend the mundane and reach new heights of mediocrity. \n",
              "The director's vision is remarkably consistent, maintaining a steady pace that ensures the audience is lulled into a state of unending tedium. \n",
              "The performances are nothing short of unforgettable; they are bound to linger in the viewer's mind for all the wrong reasons. \n",
              "Each actor brings a unique blend of wooden expressions and uninspired dialogue delivery, \n",
              "which together create an experience that is truly singular in its capacity to disappoint.<br /><br />\n",
              "The cinematography, while technically competent, showcases a remarkable talent for capturing the most uninteresting angles, \n",
              "ensuring that every scene is as visually unappealing as possible. The soundtrack is another standout feature, \n",
              "with its repetitive and grating melodies that add an extra layer of irritation to the viewing experience.\n",
              "<br><br>\n",
              "    <b>True Label: <span style=\"color: red\">Negative Review</span></b><br><br>\n",
              "    <b>Predicted Label: <span style=\"color: red\">Negative Review</span></b>\n",
              "    "
            ]
          },
          "metadata": {}
        }
      ]
    },
    {
      "cell_type": "markdown",
      "source": [
        "The model demonstrates accurate predictions not only within the test set but also with other movie reviews that do not belong to either the training or test set. Furthermore, it shows significant robustness in correctly classifying challenging reviews: those with a negative appearance that are actually positive, or vice versa, thanks to its multiple layers of attention that capture complex relationships within sentences."
      ],
      "metadata": {
        "id": "ymuxrlRNCzYB"
      }
    }
  ],
  "metadata": {
    "colab": {
      "provenance": []
    },
    "kernelspec": {
      "display_name": "Python 3",
      "name": "python3"
    },
    "language_info": {
      "name": "python"
    },
    "accelerator": "TPU",
    "widgets": {
      "application/vnd.jupyter.widget-state+json": {
        "a005a9991d4745e38db4d4fc38d7a7b3": {
          "model_module": "@jupyter-widgets/controls",
          "model_name": "HBoxModel",
          "model_module_version": "1.5.0",
          "state": {
            "_dom_classes": [],
            "_model_module": "@jupyter-widgets/controls",
            "_model_module_version": "1.5.0",
            "_model_name": "HBoxModel",
            "_view_count": null,
            "_view_module": "@jupyter-widgets/controls",
            "_view_module_version": "1.5.0",
            "_view_name": "HBoxView",
            "box_style": "",
            "children": [
              "IPY_MODEL_b300e99ddc01475b97808dd0a0e4aae7",
              "IPY_MODEL_014832e235d54c809db7e26e477361a7",
              "IPY_MODEL_aae5aa49472f453fbf9c26e704c20a7d"
            ],
            "layout": "IPY_MODEL_27f4a2aae2c241f990ba3ab75107065e"
          }
        },
        "b300e99ddc01475b97808dd0a0e4aae7": {
          "model_module": "@jupyter-widgets/controls",
          "model_name": "HTMLModel",
          "model_module_version": "1.5.0",
          "state": {
            "_dom_classes": [],
            "_model_module": "@jupyter-widgets/controls",
            "_model_module_version": "1.5.0",
            "_model_name": "HTMLModel",
            "_view_count": null,
            "_view_module": "@jupyter-widgets/controls",
            "_view_module_version": "1.5.0",
            "_view_name": "HTMLView",
            "description": "",
            "description_tooltip": null,
            "layout": "IPY_MODEL_daba2ca17f314a699299c696bf2e27f9",
            "placeholder": "​",
            "style": "IPY_MODEL_3828ffce2c06416ca50fa4a6b62703a0",
            "value": "model.safetensors: 100%"
          }
        },
        "014832e235d54c809db7e26e477361a7": {
          "model_module": "@jupyter-widgets/controls",
          "model_name": "FloatProgressModel",
          "model_module_version": "1.5.0",
          "state": {
            "_dom_classes": [],
            "_model_module": "@jupyter-widgets/controls",
            "_model_module_version": "1.5.0",
            "_model_name": "FloatProgressModel",
            "_view_count": null,
            "_view_module": "@jupyter-widgets/controls",
            "_view_module_version": "1.5.0",
            "_view_name": "ProgressView",
            "bar_style": "success",
            "description": "",
            "description_tooltip": null,
            "layout": "IPY_MODEL_4cb58d87e3a54fa0a0c34707f6ab14e4",
            "max": 1421700479,
            "min": 0,
            "orientation": "horizontal",
            "style": "IPY_MODEL_9f6ecc6bb0ff4ca383f591fc5882cfd2",
            "value": 1421700479
          }
        },
        "aae5aa49472f453fbf9c26e704c20a7d": {
          "model_module": "@jupyter-widgets/controls",
          "model_name": "HTMLModel",
          "model_module_version": "1.5.0",
          "state": {
            "_dom_classes": [],
            "_model_module": "@jupyter-widgets/controls",
            "_model_module_version": "1.5.0",
            "_model_name": "HTMLModel",
            "_view_count": null,
            "_view_module": "@jupyter-widgets/controls",
            "_view_module_version": "1.5.0",
            "_view_name": "HTMLView",
            "description": "",
            "description_tooltip": null,
            "layout": "IPY_MODEL_54d2a36b7aaa4a86b9544cf153269f8e",
            "placeholder": "​",
            "style": "IPY_MODEL_c5b3943257ab4084a40e4649ae158337",
            "value": " 1.42G/1.42G [00:22&lt;00:00, 192MB/s]"
          }
        },
        "27f4a2aae2c241f990ba3ab75107065e": {
          "model_module": "@jupyter-widgets/base",
          "model_name": "LayoutModel",
          "model_module_version": "1.2.0",
          "state": {
            "_model_module": "@jupyter-widgets/base",
            "_model_module_version": "1.2.0",
            "_model_name": "LayoutModel",
            "_view_count": null,
            "_view_module": "@jupyter-widgets/base",
            "_view_module_version": "1.2.0",
            "_view_name": "LayoutView",
            "align_content": null,
            "align_items": null,
            "align_self": null,
            "border": null,
            "bottom": null,
            "display": null,
            "flex": null,
            "flex_flow": null,
            "grid_area": null,
            "grid_auto_columns": null,
            "grid_auto_flow": null,
            "grid_auto_rows": null,
            "grid_column": null,
            "grid_gap": null,
            "grid_row": null,
            "grid_template_areas": null,
            "grid_template_columns": null,
            "grid_template_rows": null,
            "height": null,
            "justify_content": null,
            "justify_items": null,
            "left": null,
            "margin": null,
            "max_height": null,
            "max_width": null,
            "min_height": null,
            "min_width": null,
            "object_fit": null,
            "object_position": null,
            "order": null,
            "overflow": null,
            "overflow_x": null,
            "overflow_y": null,
            "padding": null,
            "right": null,
            "top": null,
            "visibility": null,
            "width": null
          }
        },
        "daba2ca17f314a699299c696bf2e27f9": {
          "model_module": "@jupyter-widgets/base",
          "model_name": "LayoutModel",
          "model_module_version": "1.2.0",
          "state": {
            "_model_module": "@jupyter-widgets/base",
            "_model_module_version": "1.2.0",
            "_model_name": "LayoutModel",
            "_view_count": null,
            "_view_module": "@jupyter-widgets/base",
            "_view_module_version": "1.2.0",
            "_view_name": "LayoutView",
            "align_content": null,
            "align_items": null,
            "align_self": null,
            "border": null,
            "bottom": null,
            "display": null,
            "flex": null,
            "flex_flow": null,
            "grid_area": null,
            "grid_auto_columns": null,
            "grid_auto_flow": null,
            "grid_auto_rows": null,
            "grid_column": null,
            "grid_gap": null,
            "grid_row": null,
            "grid_template_areas": null,
            "grid_template_columns": null,
            "grid_template_rows": null,
            "height": null,
            "justify_content": null,
            "justify_items": null,
            "left": null,
            "margin": null,
            "max_height": null,
            "max_width": null,
            "min_height": null,
            "min_width": null,
            "object_fit": null,
            "object_position": null,
            "order": null,
            "overflow": null,
            "overflow_x": null,
            "overflow_y": null,
            "padding": null,
            "right": null,
            "top": null,
            "visibility": null,
            "width": null
          }
        },
        "3828ffce2c06416ca50fa4a6b62703a0": {
          "model_module": "@jupyter-widgets/controls",
          "model_name": "DescriptionStyleModel",
          "model_module_version": "1.5.0",
          "state": {
            "_model_module": "@jupyter-widgets/controls",
            "_model_module_version": "1.5.0",
            "_model_name": "DescriptionStyleModel",
            "_view_count": null,
            "_view_module": "@jupyter-widgets/base",
            "_view_module_version": "1.2.0",
            "_view_name": "StyleView",
            "description_width": ""
          }
        },
        "4cb58d87e3a54fa0a0c34707f6ab14e4": {
          "model_module": "@jupyter-widgets/base",
          "model_name": "LayoutModel",
          "model_module_version": "1.2.0",
          "state": {
            "_model_module": "@jupyter-widgets/base",
            "_model_module_version": "1.2.0",
            "_model_name": "LayoutModel",
            "_view_count": null,
            "_view_module": "@jupyter-widgets/base",
            "_view_module_version": "1.2.0",
            "_view_name": "LayoutView",
            "align_content": null,
            "align_items": null,
            "align_self": null,
            "border": null,
            "bottom": null,
            "display": null,
            "flex": null,
            "flex_flow": null,
            "grid_area": null,
            "grid_auto_columns": null,
            "grid_auto_flow": null,
            "grid_auto_rows": null,
            "grid_column": null,
            "grid_gap": null,
            "grid_row": null,
            "grid_template_areas": null,
            "grid_template_columns": null,
            "grid_template_rows": null,
            "height": null,
            "justify_content": null,
            "justify_items": null,
            "left": null,
            "margin": null,
            "max_height": null,
            "max_width": null,
            "min_height": null,
            "min_width": null,
            "object_fit": null,
            "object_position": null,
            "order": null,
            "overflow": null,
            "overflow_x": null,
            "overflow_y": null,
            "padding": null,
            "right": null,
            "top": null,
            "visibility": null,
            "width": null
          }
        },
        "9f6ecc6bb0ff4ca383f591fc5882cfd2": {
          "model_module": "@jupyter-widgets/controls",
          "model_name": "ProgressStyleModel",
          "model_module_version": "1.5.0",
          "state": {
            "_model_module": "@jupyter-widgets/controls",
            "_model_module_version": "1.5.0",
            "_model_name": "ProgressStyleModel",
            "_view_count": null,
            "_view_module": "@jupyter-widgets/base",
            "_view_module_version": "1.2.0",
            "_view_name": "StyleView",
            "bar_color": null,
            "description_width": ""
          }
        },
        "54d2a36b7aaa4a86b9544cf153269f8e": {
          "model_module": "@jupyter-widgets/base",
          "model_name": "LayoutModel",
          "model_module_version": "1.2.0",
          "state": {
            "_model_module": "@jupyter-widgets/base",
            "_model_module_version": "1.2.0",
            "_model_name": "LayoutModel",
            "_view_count": null,
            "_view_module": "@jupyter-widgets/base",
            "_view_module_version": "1.2.0",
            "_view_name": "LayoutView",
            "align_content": null,
            "align_items": null,
            "align_self": null,
            "border": null,
            "bottom": null,
            "display": null,
            "flex": null,
            "flex_flow": null,
            "grid_area": null,
            "grid_auto_columns": null,
            "grid_auto_flow": null,
            "grid_auto_rows": null,
            "grid_column": null,
            "grid_gap": null,
            "grid_row": null,
            "grid_template_areas": null,
            "grid_template_columns": null,
            "grid_template_rows": null,
            "height": null,
            "justify_content": null,
            "justify_items": null,
            "left": null,
            "margin": null,
            "max_height": null,
            "max_width": null,
            "min_height": null,
            "min_width": null,
            "object_fit": null,
            "object_position": null,
            "order": null,
            "overflow": null,
            "overflow_x": null,
            "overflow_y": null,
            "padding": null,
            "right": null,
            "top": null,
            "visibility": null,
            "width": null
          }
        },
        "c5b3943257ab4084a40e4649ae158337": {
          "model_module": "@jupyter-widgets/controls",
          "model_name": "DescriptionStyleModel",
          "model_module_version": "1.5.0",
          "state": {
            "_model_module": "@jupyter-widgets/controls",
            "_model_module_version": "1.5.0",
            "_model_name": "DescriptionStyleModel",
            "_view_count": null,
            "_view_module": "@jupyter-widgets/base",
            "_view_module_version": "1.2.0",
            "_view_name": "StyleView",
            "description_width": ""
          }
        }
      }
    }
  },
  "nbformat": 4,
  "nbformat_minor": 0
}