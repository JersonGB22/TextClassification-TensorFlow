{
  "cells": [
    {
      "cell_type": "markdown",
      "metadata": {
        "id": "ezzKLPtx8S6C"
      },
      "source": [
        "# **Duplicate Questions with the Quora Dataset**"
      ]
    },
    {
      "cell_type": "markdown",
      "source": [
        "This notebook demonstrates the implementation of a text classification model using a Transformer network to detect similar questions. Its purpose is to determine whether two questions are paraphrases of each other using the [Quora Question Pairs dataset](https://huggingface.co/datasets/nyu-mll/glue/viewer/qqp/test). For this task, the pre-trained [BERT (Pre-training of Deep Bidirectional Transformers for Language Understanding)](https://huggingface.co/docs/transformers/model_doc/bert) model from [Hugging Face 🤗](https://huggingface.co/) is fine-tuned to improve its performance in the specific task of detecting duplicate questions. Hugging Face is a platform focused on developing tools and models for natural language processing (NLP). It is known for its open-source library called Transformers, which provides an easy-to-use interface for working with advanced, pre-trained NLP models like BERT, T5, GPT, and others.\n",
        "\n",
        "**Key Points:**\n",
        "- **Model Architecture:** The Hugging Face BERT Large model is used, a bidirectional transformer pre-trained using a combination of masked language modeling and next sentence prediction objectives on a large corpus comprising the Toronto Book Corpus and Wikipedia. This model has achieved state-of-the-art results in multiple natural language processing tasks, evaluated on datasets like GLUE, MultiNLI, and SQuAD. The model is loaded using the generic class [TFAutoModelForSequenceClassification](https://huggingface.co/transformers/v3.0.2/model_doc/auto.html#tfautomodelforsequenceclassification), which allows creating an instance of a pre-trained TensorFlow-based model designed specifically for sequence classification tasks as it includes a classification layer on top. This differentiates it from [TFAutoModel](https://huggingface.co/transformers/v3.0.2/model_doc/auto.html#tfautomodel), which provides the base model without additional layers.\n",
        "\n",
        "- **Tokenization:** Hugging Face has already implemented a tokenizer for each of its models that returns everything necessary for the respective model inputs. For this case, the generic tokenizer [AutoTokenizer](https://huggingface.co/docs/transformers/model_doc/auto#transformers.AutoTokenizer) will be used, which allows instantiating the model's tokenizer with just its name. For this duplicate question task, the pair of questions is passed as input to the tokenizer, which returns `input_ids` (the tokenized questions separated by the special `[SEP]` token to differentiate both sequences) and `attention_mask` (a mask to avoid paying attention to the padding token indices).\n",
        "\n",
        "- **Using a TPU:** Due to the enormous size of the BERT model, specifically ``bert-large-uncased``, which has over 300 million parameters, using a TPU in Google Colab is required to significantly accelerate the training. Although only the parameters of the classification layer are fine-tuned, loading and processing pre-trained embeddings, along with intensive backpropagation calculations, require considerable computational resources. The TPU facilitates efficient handling of these tasks compared to GPUs or CPUs, optimizing performance and training time.\n",
        "\n",
        "- **Comparison with the [Bidirectional LSTM Siamese Network Model](https://github.com/JersonGB22/TextClassification-TensorFlow/blob/main/models_lstm/DuplicateQuestions_LSTM_Quora.ipynb):** In this notebook, the results obtained with the Transformer network using the BERT model will be compared with the results obtained from the LSTM network model."
      ],
      "metadata": {
        "id": "JhhWum6YU8kN"
      }
    },
    {
      "cell_type": "code",
      "execution_count": null,
      "metadata": {
        "id": "W4sdqB-TQZlH"
      },
      "outputs": [],
      "source": [
        "!pip install datasets -q"
      ]
    },
    {
      "cell_type": "code",
      "source": [
        "import tensorflow as tf\n",
        "from transformers import TFAutoModelForSequenceClassification, AutoTokenizer\n",
        "from datasets import load_dataset\n",
        "from sklearn.metrics import confusion_matrix, ConfusionMatrixDisplay, f1_score\n",
        "from sklearn.model_selection import train_test_split\n",
        "import numpy as np\n",
        "import pandas as pd\n",
        "import plotly.graph_objects as go\n",
        "from google.colab import drive\n",
        "from IPython.core.display import HTML"
      ],
      "metadata": {
        "id": "c0d_8XPxoi92"
      },
      "execution_count": 2,
      "outputs": []
    },
    {
      "cell_type": "markdown",
      "metadata": {
        "id": "piIYd5Nl-8SX"
      },
      "source": [
        "### **Parameters**"
      ]
    },
    {
      "cell_type": "code",
      "source": [
        "drive.mount(\"/content/drive/\")"
      ],
      "metadata": {
        "colab": {
          "base_uri": "https://localhost:8080/"
        },
        "id": "ufhu-f3fQcxb",
        "outputId": "fcedccf2-7211-4524-9777-6c18cd84a2ee"
      },
      "execution_count": 3,
      "outputs": [
        {
          "output_type": "stream",
          "name": "stdout",
          "text": [
            "Mounted at /content/drive/\n"
          ]
        }
      ]
    },
    {
      "cell_type": "code",
      "source": [
        "epochs = 10\n",
        "batch_size = 64\n",
        "buffer_size = 1024\n",
        "max_length = 256\n",
        "AUTOTUNE = tf.data.AUTOTUNE\n",
        "SEED = 123\n",
        "\n",
        "model_name = \"bert-large-uncased\"\n",
        "train_filename = \"/content/drive/MyDrive/Datasets/train_quora_bert.tfrecord\"\n",
        "val_filename = \"/content/drive/MyDrive/Datasets/val_quora_bert.tfrecord\"\n",
        "test_filename = \"/content/drive/MyDrive/Datasets/test_quora_bert.tfrecord\""
      ],
      "metadata": {
        "id": "eG-hJMUdRw6y"
      },
      "execution_count": 4,
      "outputs": []
    },
    {
      "cell_type": "markdown",
      "metadata": {
        "id": "2Jb1Tnf8-6m3"
      },
      "source": [
        "### **Preprocessing and Saving Data in TFRecord Format**"
      ]
    },
    {
      "cell_type": "markdown",
      "source": [
        "Since the Quora dataset is large and the BERT Large model is also substantial, the data is preprocessed, tokenized, and saved in TFRecord format, which allows for truly massive data pipeline performance for training on Colab's TPU. This is now more accessible as it is no longer necessary to store the TFRecord files in Google Cloud Storage due to the new version of Colab's TPU, ``TPU v2``, which has [transitioned from TPU Node to TPU VM](https://github.com/googlecolab/colabtools/issues/4481)."
      ],
      "metadata": {
        "id": "D1GRUvyUx0Ra"
      }
    },
    {
      "cell_type": "code",
      "execution_count": null,
      "metadata": {
        "colab": {
          "base_uri": "https://localhost:8080/",
          "height": 424
        },
        "id": "ZcmXdiWYQfKx",
        "outputId": "4762270f-ee83-477e-e619-45a25f018e66"
      },
      "outputs": [
        {
          "output_type": "execute_result",
          "data": {
            "text/plain": [
              "        is_duplicate                                         question_1  \\\n",
              "0                  0  What is the step by step guide to invest in sh...   \n",
              "1                  0  What is the story of Kohinoor (Koh-i-Noor) Dia...   \n",
              "2                  0  How can I increase the speed of my internet co...   \n",
              "3                  0  Why am I mentally very lonely? How can I solve...   \n",
              "4                  0  Which one dissolve in water quikly sugar, salt...   \n",
              "...              ...                                                ...   \n",
              "404283             0  How many keywords are there in the Racket prog...   \n",
              "404284             1          Do you believe there is life after death?   \n",
              "404285             0                                  What is one coin?   \n",
              "404286             0  What is the approx annual cost of living while...   \n",
              "404287             0              What is like to have sex with cousin?   \n",
              "\n",
              "                                               question_2  \n",
              "0       What is the step by step guide to invest in sh...  \n",
              "1       What would happen if the Indian government sto...  \n",
              "2       How can Internet speed be increased by hacking...  \n",
              "3       Find the remainder when [math]23^{24}[/math] i...  \n",
              "4                 Which fish would survive in salt water?  \n",
              "...                                                   ...  \n",
              "404283  How many keywords are there in PERL Programmin...  \n",
              "404284         Is it true that there is life after death?  \n",
              "404285                                  What's this coin?  \n",
              "404286  I am having little hairfall problem but I want...  \n",
              "404287      What is it like to have sex with your cousin?  \n",
              "\n",
              "[404288 rows x 3 columns]"
            ],
            "text/html": [
              "\n",
              "  <div id=\"df-e65d0d91-7a13-4173-9257-36f9f9230611\" class=\"colab-df-container\">\n",
              "    <div>\n",
              "<style scoped>\n",
              "    .dataframe tbody tr th:only-of-type {\n",
              "        vertical-align: middle;\n",
              "    }\n",
              "\n",
              "    .dataframe tbody tr th {\n",
              "        vertical-align: top;\n",
              "    }\n",
              "\n",
              "    .dataframe thead th {\n",
              "        text-align: right;\n",
              "    }\n",
              "</style>\n",
              "<table border=\"1\" class=\"dataframe\">\n",
              "  <thead>\n",
              "    <tr style=\"text-align: right;\">\n",
              "      <th></th>\n",
              "      <th>is_duplicate</th>\n",
              "      <th>question_1</th>\n",
              "      <th>question_2</th>\n",
              "    </tr>\n",
              "  </thead>\n",
              "  <tbody>\n",
              "    <tr>\n",
              "      <th>0</th>\n",
              "      <td>0</td>\n",
              "      <td>What is the step by step guide to invest in sh...</td>\n",
              "      <td>What is the step by step guide to invest in sh...</td>\n",
              "    </tr>\n",
              "    <tr>\n",
              "      <th>1</th>\n",
              "      <td>0</td>\n",
              "      <td>What is the story of Kohinoor (Koh-i-Noor) Dia...</td>\n",
              "      <td>What would happen if the Indian government sto...</td>\n",
              "    </tr>\n",
              "    <tr>\n",
              "      <th>2</th>\n",
              "      <td>0</td>\n",
              "      <td>How can I increase the speed of my internet co...</td>\n",
              "      <td>How can Internet speed be increased by hacking...</td>\n",
              "    </tr>\n",
              "    <tr>\n",
              "      <th>3</th>\n",
              "      <td>0</td>\n",
              "      <td>Why am I mentally very lonely? How can I solve...</td>\n",
              "      <td>Find the remainder when [math]23^{24}[/math] i...</td>\n",
              "    </tr>\n",
              "    <tr>\n",
              "      <th>4</th>\n",
              "      <td>0</td>\n",
              "      <td>Which one dissolve in water quikly sugar, salt...</td>\n",
              "      <td>Which fish would survive in salt water?</td>\n",
              "    </tr>\n",
              "    <tr>\n",
              "      <th>...</th>\n",
              "      <td>...</td>\n",
              "      <td>...</td>\n",
              "      <td>...</td>\n",
              "    </tr>\n",
              "    <tr>\n",
              "      <th>404283</th>\n",
              "      <td>0</td>\n",
              "      <td>How many keywords are there in the Racket prog...</td>\n",
              "      <td>How many keywords are there in PERL Programmin...</td>\n",
              "    </tr>\n",
              "    <tr>\n",
              "      <th>404284</th>\n",
              "      <td>1</td>\n",
              "      <td>Do you believe there is life after death?</td>\n",
              "      <td>Is it true that there is life after death?</td>\n",
              "    </tr>\n",
              "    <tr>\n",
              "      <th>404285</th>\n",
              "      <td>0</td>\n",
              "      <td>What is one coin?</td>\n",
              "      <td>What's this coin?</td>\n",
              "    </tr>\n",
              "    <tr>\n",
              "      <th>404286</th>\n",
              "      <td>0</td>\n",
              "      <td>What is the approx annual cost of living while...</td>\n",
              "      <td>I am having little hairfall problem but I want...</td>\n",
              "    </tr>\n",
              "    <tr>\n",
              "      <th>404287</th>\n",
              "      <td>0</td>\n",
              "      <td>What is like to have sex with cousin?</td>\n",
              "      <td>What is it like to have sex with your cousin?</td>\n",
              "    </tr>\n",
              "  </tbody>\n",
              "</table>\n",
              "<p>404288 rows × 3 columns</p>\n",
              "</div>\n",
              "    <div class=\"colab-df-buttons\">\n",
              "\n",
              "  <div class=\"colab-df-container\">\n",
              "    <button class=\"colab-df-convert\" onclick=\"convertToInteractive('df-e65d0d91-7a13-4173-9257-36f9f9230611')\"\n",
              "            title=\"Convert this dataframe to an interactive table.\"\n",
              "            style=\"display:none;\">\n",
              "\n",
              "  <svg xmlns=\"http://www.w3.org/2000/svg\" height=\"24px\" viewBox=\"0 -960 960 960\">\n",
              "    <path d=\"M120-120v-720h720v720H120Zm60-500h600v-160H180v160Zm220 220h160v-160H400v160Zm0 220h160v-160H400v160ZM180-400h160v-160H180v160Zm440 0h160v-160H620v160ZM180-180h160v-160H180v160Zm440 0h160v-160H620v160Z\"/>\n",
              "  </svg>\n",
              "    </button>\n",
              "\n",
              "  <style>\n",
              "    .colab-df-container {\n",
              "      display:flex;\n",
              "      gap: 12px;\n",
              "    }\n",
              "\n",
              "    .colab-df-convert {\n",
              "      background-color: #E8F0FE;\n",
              "      border: none;\n",
              "      border-radius: 50%;\n",
              "      cursor: pointer;\n",
              "      display: none;\n",
              "      fill: #1967D2;\n",
              "      height: 32px;\n",
              "      padding: 0 0 0 0;\n",
              "      width: 32px;\n",
              "    }\n",
              "\n",
              "    .colab-df-convert:hover {\n",
              "      background-color: #E2EBFA;\n",
              "      box-shadow: 0px 1px 2px rgba(60, 64, 67, 0.3), 0px 1px 3px 1px rgba(60, 64, 67, 0.15);\n",
              "      fill: #174EA6;\n",
              "    }\n",
              "\n",
              "    .colab-df-buttons div {\n",
              "      margin-bottom: 4px;\n",
              "    }\n",
              "\n",
              "    [theme=dark] .colab-df-convert {\n",
              "      background-color: #3B4455;\n",
              "      fill: #D2E3FC;\n",
              "    }\n",
              "\n",
              "    [theme=dark] .colab-df-convert:hover {\n",
              "      background-color: #434B5C;\n",
              "      box-shadow: 0px 1px 3px 1px rgba(0, 0, 0, 0.15);\n",
              "      filter: drop-shadow(0px 1px 2px rgba(0, 0, 0, 0.3));\n",
              "      fill: #FFFFFF;\n",
              "    }\n",
              "  </style>\n",
              "\n",
              "    <script>\n",
              "      const buttonEl =\n",
              "        document.querySelector('#df-e65d0d91-7a13-4173-9257-36f9f9230611 button.colab-df-convert');\n",
              "      buttonEl.style.display =\n",
              "        google.colab.kernel.accessAllowed ? 'block' : 'none';\n",
              "\n",
              "      async function convertToInteractive(key) {\n",
              "        const element = document.querySelector('#df-e65d0d91-7a13-4173-9257-36f9f9230611');\n",
              "        const dataTable =\n",
              "          await google.colab.kernel.invokeFunction('convertToInteractive',\n",
              "                                                    [key], {});\n",
              "        if (!dataTable) return;\n",
              "\n",
              "        const docLinkHtml = 'Like what you see? Visit the ' +\n",
              "          '<a target=\"_blank\" href=https://colab.research.google.com/notebooks/data_table.ipynb>data table notebook</a>'\n",
              "          + ' to learn more about interactive tables.';\n",
              "        element.innerHTML = '';\n",
              "        dataTable['output_type'] = 'display_data';\n",
              "        await google.colab.output.renderOutput(dataTable, element);\n",
              "        const docLink = document.createElement('div');\n",
              "        docLink.innerHTML = docLinkHtml;\n",
              "        element.appendChild(docLink);\n",
              "      }\n",
              "    </script>\n",
              "  </div>\n",
              "\n",
              "\n",
              "<div id=\"df-d5aae27c-02b0-4b4b-bfa9-27aadf53e871\">\n",
              "  <button class=\"colab-df-quickchart\" onclick=\"quickchart('df-d5aae27c-02b0-4b4b-bfa9-27aadf53e871')\"\n",
              "            title=\"Suggest charts\"\n",
              "            style=\"display:none;\">\n",
              "\n",
              "<svg xmlns=\"http://www.w3.org/2000/svg\" height=\"24px\"viewBox=\"0 0 24 24\"\n",
              "     width=\"24px\">\n",
              "    <g>\n",
              "        <path d=\"M19 3H5c-1.1 0-2 .9-2 2v14c0 1.1.9 2 2 2h14c1.1 0 2-.9 2-2V5c0-1.1-.9-2-2-2zM9 17H7v-7h2v7zm4 0h-2V7h2v10zm4 0h-2v-4h2v4z\"/>\n",
              "    </g>\n",
              "</svg>\n",
              "  </button>\n",
              "\n",
              "<style>\n",
              "  .colab-df-quickchart {\n",
              "      --bg-color: #E8F0FE;\n",
              "      --fill-color: #1967D2;\n",
              "      --hover-bg-color: #E2EBFA;\n",
              "      --hover-fill-color: #174EA6;\n",
              "      --disabled-fill-color: #AAA;\n",
              "      --disabled-bg-color: #DDD;\n",
              "  }\n",
              "\n",
              "  [theme=dark] .colab-df-quickchart {\n",
              "      --bg-color: #3B4455;\n",
              "      --fill-color: #D2E3FC;\n",
              "      --hover-bg-color: #434B5C;\n",
              "      --hover-fill-color: #FFFFFF;\n",
              "      --disabled-bg-color: #3B4455;\n",
              "      --disabled-fill-color: #666;\n",
              "  }\n",
              "\n",
              "  .colab-df-quickchart {\n",
              "    background-color: var(--bg-color);\n",
              "    border: none;\n",
              "    border-radius: 50%;\n",
              "    cursor: pointer;\n",
              "    display: none;\n",
              "    fill: var(--fill-color);\n",
              "    height: 32px;\n",
              "    padding: 0;\n",
              "    width: 32px;\n",
              "  }\n",
              "\n",
              "  .colab-df-quickchart:hover {\n",
              "    background-color: var(--hover-bg-color);\n",
              "    box-shadow: 0 1px 2px rgba(60, 64, 67, 0.3), 0 1px 3px 1px rgba(60, 64, 67, 0.15);\n",
              "    fill: var(--button-hover-fill-color);\n",
              "  }\n",
              "\n",
              "  .colab-df-quickchart-complete:disabled,\n",
              "  .colab-df-quickchart-complete:disabled:hover {\n",
              "    background-color: var(--disabled-bg-color);\n",
              "    fill: var(--disabled-fill-color);\n",
              "    box-shadow: none;\n",
              "  }\n",
              "\n",
              "  .colab-df-spinner {\n",
              "    border: 2px solid var(--fill-color);\n",
              "    border-color: transparent;\n",
              "    border-bottom-color: var(--fill-color);\n",
              "    animation:\n",
              "      spin 1s steps(1) infinite;\n",
              "  }\n",
              "\n",
              "  @keyframes spin {\n",
              "    0% {\n",
              "      border-color: transparent;\n",
              "      border-bottom-color: var(--fill-color);\n",
              "      border-left-color: var(--fill-color);\n",
              "    }\n",
              "    20% {\n",
              "      border-color: transparent;\n",
              "      border-left-color: var(--fill-color);\n",
              "      border-top-color: var(--fill-color);\n",
              "    }\n",
              "    30% {\n",
              "      border-color: transparent;\n",
              "      border-left-color: var(--fill-color);\n",
              "      border-top-color: var(--fill-color);\n",
              "      border-right-color: var(--fill-color);\n",
              "    }\n",
              "    40% {\n",
              "      border-color: transparent;\n",
              "      border-right-color: var(--fill-color);\n",
              "      border-top-color: var(--fill-color);\n",
              "    }\n",
              "    60% {\n",
              "      border-color: transparent;\n",
              "      border-right-color: var(--fill-color);\n",
              "    }\n",
              "    80% {\n",
              "      border-color: transparent;\n",
              "      border-right-color: var(--fill-color);\n",
              "      border-bottom-color: var(--fill-color);\n",
              "    }\n",
              "    90% {\n",
              "      border-color: transparent;\n",
              "      border-bottom-color: var(--fill-color);\n",
              "    }\n",
              "  }\n",
              "</style>\n",
              "\n",
              "  <script>\n",
              "    async function quickchart(key) {\n",
              "      const quickchartButtonEl =\n",
              "        document.querySelector('#' + key + ' button');\n",
              "      quickchartButtonEl.disabled = true;  // To prevent multiple clicks.\n",
              "      quickchartButtonEl.classList.add('colab-df-spinner');\n",
              "      try {\n",
              "        const charts = await google.colab.kernel.invokeFunction(\n",
              "            'suggestCharts', [key], {});\n",
              "      } catch (error) {\n",
              "        console.error('Error during call to suggestCharts:', error);\n",
              "      }\n",
              "      quickchartButtonEl.classList.remove('colab-df-spinner');\n",
              "      quickchartButtonEl.classList.add('colab-df-quickchart-complete');\n",
              "    }\n",
              "    (() => {\n",
              "      let quickchartButtonEl =\n",
              "        document.querySelector('#df-d5aae27c-02b0-4b4b-bfa9-27aadf53e871 button');\n",
              "      quickchartButtonEl.style.display =\n",
              "        google.colab.kernel.accessAllowed ? 'block' : 'none';\n",
              "    })();\n",
              "  </script>\n",
              "</div>\n",
              "\n",
              "  <div id=\"id_3622436e-9b9a-4ec4-aaf7-12a0a3cbf7ef\">\n",
              "    <style>\n",
              "      .colab-df-generate {\n",
              "        background-color: #E8F0FE;\n",
              "        border: none;\n",
              "        border-radius: 50%;\n",
              "        cursor: pointer;\n",
              "        display: none;\n",
              "        fill: #1967D2;\n",
              "        height: 32px;\n",
              "        padding: 0 0 0 0;\n",
              "        width: 32px;\n",
              "      }\n",
              "\n",
              "      .colab-df-generate:hover {\n",
              "        background-color: #E2EBFA;\n",
              "        box-shadow: 0px 1px 2px rgba(60, 64, 67, 0.3), 0px 1px 3px 1px rgba(60, 64, 67, 0.15);\n",
              "        fill: #174EA6;\n",
              "      }\n",
              "\n",
              "      [theme=dark] .colab-df-generate {\n",
              "        background-color: #3B4455;\n",
              "        fill: #D2E3FC;\n",
              "      }\n",
              "\n",
              "      [theme=dark] .colab-df-generate:hover {\n",
              "        background-color: #434B5C;\n",
              "        box-shadow: 0px 1px 3px 1px rgba(0, 0, 0, 0.15);\n",
              "        filter: drop-shadow(0px 1px 2px rgba(0, 0, 0, 0.3));\n",
              "        fill: #FFFFFF;\n",
              "      }\n",
              "    </style>\n",
              "    <button class=\"colab-df-generate\" onclick=\"generateWithVariable('df')\"\n",
              "            title=\"Generate code using this dataframe.\"\n",
              "            style=\"display:none;\">\n",
              "\n",
              "  <svg xmlns=\"http://www.w3.org/2000/svg\" height=\"24px\"viewBox=\"0 0 24 24\"\n",
              "       width=\"24px\">\n",
              "    <path d=\"M7,19H8.4L18.45,9,17,7.55,7,17.6ZM5,21V16.75L18.45,3.32a2,2,0,0,1,2.83,0l1.4,1.43a1.91,1.91,0,0,1,.58,1.4,1.91,1.91,0,0,1-.58,1.4L9.25,21ZM18.45,9,17,7.55Zm-12,3A5.31,5.31,0,0,0,4.9,8.1,5.31,5.31,0,0,0,1,6.5,5.31,5.31,0,0,0,4.9,4.9,5.31,5.31,0,0,0,6.5,1,5.31,5.31,0,0,0,8.1,4.9,5.31,5.31,0,0,0,12,6.5,5.46,5.46,0,0,0,6.5,12Z\"/>\n",
              "  </svg>\n",
              "    </button>\n",
              "    <script>\n",
              "      (() => {\n",
              "      const buttonEl =\n",
              "        document.querySelector('#id_3622436e-9b9a-4ec4-aaf7-12a0a3cbf7ef button.colab-df-generate');\n",
              "      buttonEl.style.display =\n",
              "        google.colab.kernel.accessAllowed ? 'block' : 'none';\n",
              "\n",
              "      buttonEl.onclick = () => {\n",
              "        google.colab.notebook.generateWithVariable('df');\n",
              "      }\n",
              "      })();\n",
              "    </script>\n",
              "  </div>\n",
              "\n",
              "    </div>\n",
              "  </div>\n"
            ],
            "application/vnd.google.colaboratory.intrinsic+json": {
              "type": "dataframe",
              "variable_name": "df"
            }
          },
          "metadata": {},
          "execution_count": 67
        }
      ],
      "source": [
        "# Load the dataset from the Hugging Face's 'datasets' library\n",
        "df = load_dataset(\"quora\")[\"train\"].to_pandas()\n",
        "\n",
        "# Extract question pairs without considering empty strings\n",
        "df[\"question_1\"] = df.questions.apply(lambda x: x[\"text\"][0] if len(x[\"text\"][0]) > 0 else None)\n",
        "df[\"question_2\"] = df.questions.apply(lambda x: x[\"text\"][1] if len(x[\"text\"][1]) > 0 else None)\n",
        "\n",
        "# Remove the 'questions' column\n",
        "df = df.drop(columns=[\"questions\"])\n",
        "\n",
        "# Remove missing records\n",
        "df = df.dropna().reset_index(drop=True)\n",
        "\n",
        "# Change the data type of the 'is_duplicate' column\n",
        "df[\"is_duplicate\"] = df.is_duplicate.astype(np.int32)\n",
        "\n",
        "df"
      ]
    },
    {
      "cell_type": "code",
      "execution_count": null,
      "metadata": {
        "colab": {
          "base_uri": "https://localhost:8080/",
          "height": 261
        },
        "id": "2i2xZcNoTrv6",
        "outputId": "068bfcf5-298f-49d4-c067-1888d48c9329"
      },
      "outputs": [
        {
          "output_type": "stream",
          "name": "stdout",
          "text": [
            "<class 'pandas.core.frame.DataFrame'>\n",
            "RangeIndex: 404288 entries, 0 to 404287\n",
            "Data columns (total 3 columns):\n",
            " #   Column        Non-Null Count   Dtype \n",
            "---  ------        --------------   ----- \n",
            " 0   is_duplicate  404288 non-null  int32 \n",
            " 1   question_1    404288 non-null  object\n",
            " 2   question_2    404288 non-null  object\n",
            "dtypes: int32(1), object(2)\n",
            "memory usage: 7.7+ MB\n",
            "None \n",
            "\n"
          ]
        },
        {
          "output_type": "execute_result",
          "data": {
            "text/plain": [
              "Empty DataFrame\n",
              "Columns: [is_duplicate, question_1, question_2]\n",
              "Index: []"
            ],
            "text/html": [
              "\n",
              "  <div id=\"df-a685e237-5165-41ea-8503-629a4358ea58\" class=\"colab-df-container\">\n",
              "    <div>\n",
              "<style scoped>\n",
              "    .dataframe tbody tr th:only-of-type {\n",
              "        vertical-align: middle;\n",
              "    }\n",
              "\n",
              "    .dataframe tbody tr th {\n",
              "        vertical-align: top;\n",
              "    }\n",
              "\n",
              "    .dataframe thead th {\n",
              "        text-align: right;\n",
              "    }\n",
              "</style>\n",
              "<table border=\"1\" class=\"dataframe\">\n",
              "  <thead>\n",
              "    <tr style=\"text-align: right;\">\n",
              "      <th></th>\n",
              "      <th>is_duplicate</th>\n",
              "      <th>question_1</th>\n",
              "      <th>question_2</th>\n",
              "    </tr>\n",
              "  </thead>\n",
              "  <tbody>\n",
              "  </tbody>\n",
              "</table>\n",
              "</div>\n",
              "    <div class=\"colab-df-buttons\">\n",
              "\n",
              "  <div class=\"colab-df-container\">\n",
              "    <button class=\"colab-df-convert\" onclick=\"convertToInteractive('df-a685e237-5165-41ea-8503-629a4358ea58')\"\n",
              "            title=\"Convert this dataframe to an interactive table.\"\n",
              "            style=\"display:none;\">\n",
              "\n",
              "  <svg xmlns=\"http://www.w3.org/2000/svg\" height=\"24px\" viewBox=\"0 -960 960 960\">\n",
              "    <path d=\"M120-120v-720h720v720H120Zm60-500h600v-160H180v160Zm220 220h160v-160H400v160Zm0 220h160v-160H400v160ZM180-400h160v-160H180v160Zm440 0h160v-160H620v160ZM180-180h160v-160H180v160Zm440 0h160v-160H620v160Z\"/>\n",
              "  </svg>\n",
              "    </button>\n",
              "\n",
              "  <style>\n",
              "    .colab-df-container {\n",
              "      display:flex;\n",
              "      gap: 12px;\n",
              "    }\n",
              "\n",
              "    .colab-df-convert {\n",
              "      background-color: #E8F0FE;\n",
              "      border: none;\n",
              "      border-radius: 50%;\n",
              "      cursor: pointer;\n",
              "      display: none;\n",
              "      fill: #1967D2;\n",
              "      height: 32px;\n",
              "      padding: 0 0 0 0;\n",
              "      width: 32px;\n",
              "    }\n",
              "\n",
              "    .colab-df-convert:hover {\n",
              "      background-color: #E2EBFA;\n",
              "      box-shadow: 0px 1px 2px rgba(60, 64, 67, 0.3), 0px 1px 3px 1px rgba(60, 64, 67, 0.15);\n",
              "      fill: #174EA6;\n",
              "    }\n",
              "\n",
              "    .colab-df-buttons div {\n",
              "      margin-bottom: 4px;\n",
              "    }\n",
              "\n",
              "    [theme=dark] .colab-df-convert {\n",
              "      background-color: #3B4455;\n",
              "      fill: #D2E3FC;\n",
              "    }\n",
              "\n",
              "    [theme=dark] .colab-df-convert:hover {\n",
              "      background-color: #434B5C;\n",
              "      box-shadow: 0px 1px 3px 1px rgba(0, 0, 0, 0.15);\n",
              "      filter: drop-shadow(0px 1px 2px rgba(0, 0, 0, 0.3));\n",
              "      fill: #FFFFFF;\n",
              "    }\n",
              "  </style>\n",
              "\n",
              "    <script>\n",
              "      const buttonEl =\n",
              "        document.querySelector('#df-a685e237-5165-41ea-8503-629a4358ea58 button.colab-df-convert');\n",
              "      buttonEl.style.display =\n",
              "        google.colab.kernel.accessAllowed ? 'block' : 'none';\n",
              "\n",
              "      async function convertToInteractive(key) {\n",
              "        const element = document.querySelector('#df-a685e237-5165-41ea-8503-629a4358ea58');\n",
              "        const dataTable =\n",
              "          await google.colab.kernel.invokeFunction('convertToInteractive',\n",
              "                                                    [key], {});\n",
              "        if (!dataTable) return;\n",
              "\n",
              "        const docLinkHtml = 'Like what you see? Visit the ' +\n",
              "          '<a target=\"_blank\" href=https://colab.research.google.com/notebooks/data_table.ipynb>data table notebook</a>'\n",
              "          + ' to learn more about interactive tables.';\n",
              "        element.innerHTML = '';\n",
              "        dataTable['output_type'] = 'display_data';\n",
              "        await google.colab.output.renderOutput(dataTable, element);\n",
              "        const docLink = document.createElement('div');\n",
              "        docLink.innerHTML = docLinkHtml;\n",
              "        element.appendChild(docLink);\n",
              "      }\n",
              "    </script>\n",
              "  </div>\n",
              "\n",
              "\n",
              "    </div>\n",
              "  </div>\n"
            ],
            "application/vnd.google.colaboratory.intrinsic+json": {
              "type": "dataframe",
              "repr_error": "Out of range float values are not JSON compliant: nan"
            }
          },
          "metadata": {},
          "execution_count": 68
        }
      ],
      "source": [
        "print(df.info(), \"\\n\")\n",
        "df[df.isnull().any(axis=1)]"
      ]
    },
    {
      "cell_type": "markdown",
      "metadata": {
        "id": "VODOT13ReLmH"
      },
      "source": [
        "**Undersampling**\n",
        "\n",
        "Since the dataset is unbalanced and non-duplicate questions are predominant, it's necessary to perform undersampling to have an equal amount of duplicate and non-duplicate questions, thus improving the training process."
      ]
    },
    {
      "cell_type": "code",
      "source": [
        "print(df.is_duplicate.value_counts(), \"\\n\")\n",
        "min_size = df.is_duplicate.value_counts().min()\n",
        "min_size"
      ],
      "metadata": {
        "colab": {
          "base_uri": "https://localhost:8080/"
        },
        "id": "CvsrsiippaNP",
        "outputId": "5eff90e4-d558-4ebd-b594-19eabe576a6c"
      },
      "execution_count": null,
      "outputs": [
        {
          "output_type": "stream",
          "name": "stdout",
          "text": [
            "is_duplicate\n",
            "0    255025\n",
            "1    149263\n",
            "Name: count, dtype: int64 \n",
            "\n"
          ]
        },
        {
          "output_type": "execute_result",
          "data": {
            "text/plain": [
              "149263"
            ]
          },
          "metadata": {},
          "execution_count": 69
        }
      ]
    },
    {
      "cell_type": "code",
      "execution_count": null,
      "metadata": {
        "colab": {
          "base_uri": "https://localhost:8080/"
        },
        "id": "huYAC_preNF2",
        "outputId": "2e291fa9-8d70-446c-ce32-d06d594d7b58"
      },
      "outputs": [
        {
          "output_type": "execute_result",
          "data": {
            "text/plain": [
              "is_duplicate\n",
              "0    149263\n",
              "1    149263\n",
              "Name: count, dtype: int64"
            ]
          },
          "metadata": {},
          "execution_count": 70
        }
      ],
      "source": [
        "df_minority = df[df.is_duplicate == 1]\n",
        "df_majority = df[df.is_duplicate == 0]\n",
        "df_majority = df_majority.sample(min_size, random_state=SEED)\n",
        "df = pd.concat([df_majority, df_minority], axis=0)\n",
        "\n",
        "del df_minority, df_majority\n",
        "\n",
        "df.is_duplicate.value_counts()"
      ]
    },
    {
      "cell_type": "markdown",
      "source": [
        "**Splitting the dataframe into training (90%), validation (5%) y testing (5%) sets**"
      ],
      "metadata": {
        "id": "GIwx6LkDrPsq"
      }
    },
    {
      "cell_type": "code",
      "execution_count": null,
      "metadata": {
        "colab": {
          "base_uri": "https://localhost:8080/"
        },
        "id": "8okW6EIji-vP",
        "outputId": "6bc5f9b5-091a-4663-962d-c3677138bd5f"
      },
      "outputs": [
        {
          "output_type": "stream",
          "name": "stdout",
          "text": [
            "268673 14926 14927 \n",
            "\n",
            "is_duplicate\n",
            "1    134337\n",
            "0    134336\n",
            "Name: count, dtype: int64\n",
            "is_duplicate\n",
            "1    7463\n",
            "0    7463\n",
            "Name: count, dtype: int64\n",
            "is_duplicate\n",
            "0    7464\n",
            "1    7463\n",
            "Name: count, dtype: int64\n"
          ]
        }
      ],
      "source": [
        "df_train, df_val_test = train_test_split(df, test_size=0.1, random_state=SEED, stratify=df.is_duplicate)\n",
        "df_val, df_test = train_test_split(df_val_test, test_size=0.5, random_state=SEED, stratify=df_val_test.is_duplicate)\n",
        "\n",
        "del df, df_val_test #Remove to free memory\n",
        "\n",
        "print(len(df_train), len(df_val), len(df_test), \"\\n\")\n",
        "\n",
        "# Thanks to the 'stratify' argument, the distribution is preserved\n",
        "print(df_train.is_duplicate.value_counts())\n",
        "print(df_val.is_duplicate.value_counts())\n",
        "print(df_test.is_duplicate.value_counts())"
      ]
    },
    {
      "cell_type": "code",
      "source": [
        "df_test.to_csv(\"/content/drive/MyDrive/Datasets/test_dataset_quora.csv\", index=False)"
      ],
      "metadata": {
        "id": "c7XMw2ejph3J"
      },
      "execution_count": null,
      "outputs": []
    },
    {
      "cell_type": "markdown",
      "source": [
        "**Import the AutoTokenizer**"
      ],
      "metadata": {
        "id": "GcTHo3vVVrv9"
      }
    },
    {
      "cell_type": "code",
      "source": [
        "# 'use_fast=True': improves the tokenizer's performance when processing large volumes of text\n",
        "\n",
        "tokenizer = AutoTokenizer.from_pretrained(model_name, use_fast=True)\n",
        "tokenizer"
      ],
      "metadata": {
        "colab": {
          "base_uri": "https://localhost:8080/"
        },
        "id": "rlGILWr1Vme-",
        "outputId": "2258da6a-c636-4e56-e337-2d4cdb206112"
      },
      "execution_count": 6,
      "outputs": [
        {
          "output_type": "execute_result",
          "data": {
            "text/plain": [
              "BertTokenizerFast(name_or_path='bert-large-uncased', vocab_size=30522, model_max_length=512, is_fast=True, padding_side='right', truncation_side='right', special_tokens={'unk_token': '[UNK]', 'sep_token': '[SEP]', 'pad_token': '[PAD]', 'cls_token': '[CLS]', 'mask_token': '[MASK]'}, clean_up_tokenization_spaces=True),  added_tokens_decoder={\n",
              "\t0: AddedToken(\"[PAD]\", rstrip=False, lstrip=False, single_word=False, normalized=False, special=True),\n",
              "\t100: AddedToken(\"[UNK]\", rstrip=False, lstrip=False, single_word=False, normalized=False, special=True),\n",
              "\t101: AddedToken(\"[CLS]\", rstrip=False, lstrip=False, single_word=False, normalized=False, special=True),\n",
              "\t102: AddedToken(\"[SEP]\", rstrip=False, lstrip=False, single_word=False, normalized=False, special=True),\n",
              "\t103: AddedToken(\"[MASK]\", rstrip=False, lstrip=False, single_word=False, normalized=False, special=True),\n",
              "}"
            ]
          },
          "metadata": {},
          "execution_count": 6
        }
      ]
    },
    {
      "cell_type": "code",
      "source": [
        "# Example of tokenization\n",
        "\n",
        "q1 = df_train.question_1[1]\n",
        "q2 = df_train.question_2[1]\n",
        "print(q1, \"\\t\", q2)\n",
        "encoding = tokenizer(\n",
        "    q1,\n",
        "    q2,\n",
        "    padding=\"max_length\",\n",
        "    truncation=True,\n",
        "    max_length=50,\n",
        "    return_tensors=\"tf\" #Returns the results in TensorFlow tensor format\n",
        ")\n",
        "\n",
        "print(encoding[\"input_ids\"].numpy()[0])\n",
        "print(tokenizer.convert_ids_to_tokens(encoding[\"input_ids\"][0]))\n",
        "print(tokenizer.decode(encoding[\"input_ids\"][0]), \"\\n\")\n",
        "\n",
        "print(encoding[\"attention_mask\"].numpy()[0])"
      ],
      "metadata": {
        "colab": {
          "base_uri": "https://localhost:8080/"
        },
        "id": "yCcE7CCpWDlo",
        "outputId": "d0d487c7-a9f9-4d5f-8aa3-b649ae8cde42"
      },
      "execution_count": null,
      "outputs": [
        {
          "output_type": "stream",
          "name": "stdout",
          "text": [
            "What is the story of Kohinoor (Koh-i-Noor) Diamond? \t What would happen if the Indian government stole the Kohinoor (Koh-i-Noor) diamond back?\n",
            "[  101  2054  2003  1996  2466  1997 12849 10606 16506  1006 12849  2232\n",
            "  1011  1045  1011  2053  2953  1007  6323  1029   102  2054  2052  4148\n",
            "  2065  1996  2796  2231 10312  1996 12849 10606 16506  1006 12849  2232\n",
            "  1011  1045  1011  2053  2953  1007  6323  2067  1029   102     0     0\n",
            "     0     0]\n",
            "['[CLS]', 'what', 'is', 'the', 'story', 'of', 'ko', '##hin', '##oor', '(', 'ko', '##h', '-', 'i', '-', 'no', '##or', ')', 'diamond', '?', '[SEP]', 'what', 'would', 'happen', 'if', 'the', 'indian', 'government', 'stole', 'the', 'ko', '##hin', '##oor', '(', 'ko', '##h', '-', 'i', '-', 'no', '##or', ')', 'diamond', 'back', '?', '[SEP]', '[PAD]', '[PAD]', '[PAD]', '[PAD]']\n",
            "[CLS] what is the story of kohinoor ( koh - i - noor ) diamond? [SEP] what would happen if the indian government stole the kohinoor ( koh - i - noor ) diamond back? [SEP] [PAD] [PAD] [PAD] [PAD] \n",
            "\n",
            "[1 1 1 1 1 1 1 1 1 1 1 1 1 1 1 1 1 1 1 1 1 1 1 1 1 1 1 1 1 1 1 1 1 1 1 1 1\n",
            " 1 1 1 1 1 1 1 1 1 0 0 0 0]\n"
          ]
        }
      ]
    },
    {
      "cell_type": "markdown",
      "source": [
        "The number of tokenized question pairs in the training set that exceed the length of 256 tokens is only 7, so it is sufficient in this case for the `max_length` to be 256.\n",
        "\n",
        "```\n",
        "li = []\n",
        "for _, row in df_train.iterrows():\n",
        "  li.append(len(tokenizer(row[\"question_1\"], row[\"question_2\"], truncation=True)[\"input_ids\"]))\n",
        "\n",
        "print(len([x for x in li if x > 256]))\n",
        "# Output: 7\n",
        "```"
      ],
      "metadata": {
        "id": "SUG4TZzYaoRi"
      }
    },
    {
      "cell_type": "code",
      "source": [
        "# Tokenization function\n",
        "\n",
        "def preprocessing(question_1, question_2, return_tensors=None):\n",
        "  encoding = tokenizer(\n",
        "      question_1,\n",
        "      question_2,\n",
        "      padding=\"max_length\",\n",
        "      truncation=True,\n",
        "      max_length=max_length,\n",
        "      return_tensors=return_tensors\n",
        "  )\n",
        "\n",
        "  return encoding[\"input_ids\"], encoding[\"attention_mask\"]"
      ],
      "metadata": {
        "id": "RbFOEf8zX9IB"
      },
      "execution_count": 7,
      "outputs": []
    },
    {
      "cell_type": "markdown",
      "source": [
        "**Saving Data in TFRecord Format**"
      ],
      "metadata": {
        "id": "3turIAQCcQAw"
      }
    },
    {
      "cell_type": "code",
      "source": [
        "def save_tfrecord(filename, df):\n",
        "  with tf.io.TFRecordWriter(filename) as writer:\n",
        "    for _, row in df.iterrows():\n",
        "      input_ids, attention_mask = preprocessing(row[\"question_1\"], row[\"question_2\"])\n",
        "\n",
        "      features = {\n",
        "          \"input_ids\": tf.train.Feature(int64_list=tf.train.Int64List(value=input_ids)),\n",
        "          \"attention_mask\": tf.train.Feature(int64_list=tf.train.Int64List(value=attention_mask)),\n",
        "          \"labels\": tf.train.Feature(int64_list=tf.train.Int64List(value=[row[\"is_duplicate\"]]))\n",
        "      }\n",
        "\n",
        "      features = tf.train.Features(feature=features)\n",
        "      example = tf.train.Example(features=features).SerializeToString()\n",
        "      writer.write(example)"
      ],
      "metadata": {
        "id": "jlfLCHbAcF8N"
      },
      "execution_count": null,
      "outputs": []
    },
    {
      "cell_type": "code",
      "source": [
        "save_tfrecord(train_filename, df_train)\n",
        "save_tfrecord(val_filename, df_val)\n",
        "save_tfrecord(test_filename, df_test)"
      ],
      "metadata": {
        "id": "3aA9E59Xhoj3"
      },
      "execution_count": null,
      "outputs": []
    },
    {
      "cell_type": "markdown",
      "source": [
        "### **Using the TPU for Training**"
      ],
      "metadata": {
        "id": "ey4FxjBKi6ql"
      }
    },
    {
      "cell_type": "markdown",
      "source": [
        "From here onwards until 'Predictions with the trained model', it is mandatory to use the TPU, as even with the TPU, each epoch takes approximately 22 minutes to complete."
      ],
      "metadata": {
        "id": "2dvagnXw2l6O"
      }
    },
    {
      "cell_type": "code",
      "source": [
        "# TPU setup\n",
        "try:\n",
        "  tpu = tf.distribute.cluster_resolver.TPUClusterResolver(tpu=\"local\")\n",
        "  tf.config.experimental_connect_to_cluster(tpu)\n",
        "  tf.tpu.experimental.initialize_tpu_system(tpu)\n",
        "  strategy = tf.distribute.TPUStrategy(tpu)\n",
        "  print(\"TPU initialized:\")\n",
        "  print(\"All devices: \", tf.config.list_logical_devices(\"TPU\"))\n",
        "except ValueError:\n",
        "  print(\"TPU not found\")"
      ],
      "metadata": {
        "id": "UxpMIx0PjJGU",
        "colab": {
          "base_uri": "https://localhost:8080/"
        },
        "outputId": "a7e2498b-e058-4788-d0e6-b7cc7a3a0f62"
      },
      "execution_count": 5,
      "outputs": [
        {
          "output_type": "stream",
          "name": "stdout",
          "text": [
            "TPU initialized:\n",
            "All devices:  [LogicalDevice(name='/device:TPU:0', device_type='TPU'), LogicalDevice(name='/device:TPU:1', device_type='TPU'), LogicalDevice(name='/device:TPU:2', device_type='TPU'), LogicalDevice(name='/device:TPU:3', device_type='TPU'), LogicalDevice(name='/device:TPU:4', device_type='TPU'), LogicalDevice(name='/device:TPU:5', device_type='TPU'), LogicalDevice(name='/device:TPU:6', device_type='TPU'), LogicalDevice(name='/device:TPU:7', device_type='TPU')]\n"
          ]
        }
      ]
    },
    {
      "cell_type": "markdown",
      "source": [
        "**Loading the Preprocessed Datasets**"
      ],
      "metadata": {
        "id": "KazolsO2jXMX"
      }
    },
    {
      "cell_type": "code",
      "source": [
        "train_size, val_size, test_size = 268673, 14926, 14927"
      ],
      "metadata": {
        "id": "t7of3-edvFbJ"
      },
      "execution_count": 6,
      "outputs": []
    },
    {
      "cell_type": "code",
      "source": [
        "def decode_tfrecord(sample):\n",
        "  features = {\n",
        "      \"input_ids\": tf.io.FixedLenFeature((max_length, ), tf.int64),\n",
        "      \"attention_mask\": tf.io.FixedLenFeature((max_length, ), tf.int64),\n",
        "      \"labels\": tf.io.FixedLenFeature((), tf.int64),\n",
        "  }\n",
        "\n",
        "  parsed_features = tf.io.parse_example(sample, features)\n",
        "  input_ids = parsed_features[\"input_ids\"]\n",
        "  attention_mask = parsed_features[\"attention_mask\"]\n",
        "  labels = parsed_features[\"labels\"]\n",
        "\n",
        "  return (input_ids, attention_mask), labels\n",
        "\n",
        "\n",
        "def load_dataset(filename, size):\n",
        "  dataset = tf.data.TFRecordDataset(filename)\n",
        "  dataset = dataset.map(decode_tfrecord, num_parallel_calls=AUTOTUNE)\n",
        "  dataset = dataset.apply(tf.data.experimental.assert_cardinality(size))\n",
        "  return dataset"
      ],
      "metadata": {
        "id": "egEPBmo3jrzy"
      },
      "execution_count": 7,
      "outputs": []
    },
    {
      "cell_type": "code",
      "source": [
        "train_dataset = load_dataset(train_filename, train_size)\n",
        "val_dataset = load_dataset(val_filename, val_size)\n",
        "test_dataset = load_dataset(test_filename, test_size)\n",
        "\n",
        "train_dataset = train_dataset.shuffle(buffer_size, seed=SEED).batch(batch_size).prefetch(AUTOTUNE)\n",
        "val_dataset = val_dataset.batch(batch_size).prefetch(AUTOTUNE)\n",
        "test_dataset = test_dataset.batch(batch_size).prefetch(AUTOTUNE)"
      ],
      "metadata": {
        "id": "jhXHL16EoG7Y"
      },
      "execution_count": 8,
      "outputs": []
    },
    {
      "cell_type": "code",
      "source": [
        "# Viewing a training batch\n",
        "for (ids, masks), labels in train_dataset.take(1):\n",
        "  print(ids, \"\\n\")\n",
        "  print(masks, \"\\n\")\n",
        "  print(labels)"
      ],
      "metadata": {
        "colab": {
          "base_uri": "https://localhost:8080/"
        },
        "id": "Od2hV59wPi-L",
        "outputId": "e44e5173-2dbd-4010-8e39-57ff97be340b"
      },
      "execution_count": 9,
      "outputs": [
        {
          "output_type": "stream",
          "name": "stdout",
          "text": [
            "tf.Tensor(\n",
            "[[ 101 2003 4241 ...    0    0    0]\n",
            " [ 101 2339 2134 ...    0    0    0]\n",
            " [ 101 2129 2515 ...    0    0    0]\n",
            " ...\n",
            " [ 101 2339 2064 ...    0    0    0]\n",
            " [ 101 2129 2024 ...    0    0    0]\n",
            " [ 101 2054 2003 ...    0    0    0]], shape=(64, 256), dtype=int64) \n",
            "\n",
            "tf.Tensor(\n",
            "[[1 1 1 ... 0 0 0]\n",
            " [1 1 1 ... 0 0 0]\n",
            " [1 1 1 ... 0 0 0]\n",
            " ...\n",
            " [1 1 1 ... 0 0 0]\n",
            " [1 1 1 ... 0 0 0]\n",
            " [1 1 1 ... 0 0 0]], shape=(64, 256), dtype=int64) \n",
            "\n",
            "tf.Tensor(\n",
            "[1 1 1 0 0 1 0 0 0 1 0 0 1 1 1 0 0 1 1 1 1 0 0 0 0 0 1 0 0 1 1 1 0 0 1 1 1\n",
            " 1 0 1 0 0 1 0 1 1 1 0 1 1 0 1 1 0 1 0 1 1 0 1 0 0 0 0], shape=(64,), dtype=int64)\n"
          ]
        }
      ]
    },
    {
      "cell_type": "markdown",
      "metadata": {
        "id": "JjdJe11iKuZX"
      },
      "source": [
        "**Build the Model**\n"
      ]
    },
    {
      "cell_type": "code",
      "source": [
        "# Callback to stop training early if validation accuracy does not improve for 2 epochs.\n",
        "callback = tf.keras.callbacks.EarlyStopping(\n",
        "    monitor=\"val_sparse_categorical_accuracy\",\n",
        "    patience=2,\n",
        "    mode=\"max\",\n",
        "    restore_best_weights=True\n",
        ")"
      ],
      "metadata": {
        "id": "z-PpG4zOvRyh"
      },
      "execution_count": 10,
      "outputs": []
    },
    {
      "cell_type": "code",
      "source": [
        "def create_model():\n",
        "  # Import the AutoModel\n",
        "  model_base = TFAutoModelForSequenceClassification.from_pretrained(model_name, num_labels=2)\n",
        "\n",
        "  input_ids = tf.keras.Input((max_length, ), dtype=tf.int32)\n",
        "  attention_mask = tf.keras.Input((max_length, ), dtype=tf.int32)\n",
        "  x = model_base(input_ids=input_ids, attention_mask=attention_mask).logits\n",
        "\n",
        "  model = tf.keras.Model(inputs=[input_ids, attention_mask], outputs=x)\n",
        "\n",
        "  return model"
      ],
      "metadata": {
        "id": "VMhWfqoBkRpS"
      },
      "execution_count": 11,
      "outputs": []
    },
    {
      "cell_type": "code",
      "source": [
        "tf.keras.backend.clear_session() #Clearing Keras memory\n",
        "tf.random.set_seed(123) #For reproducibility\n",
        "\n",
        "# Creation and compilation of the model within the distribution strategy\n",
        "with strategy.scope():\n",
        "  model = create_model()\n",
        "\n",
        "  model.compile(\n",
        "      optimizer=tf.keras.optimizers.AdamW(learning_rate=2e-5, weight_decay=0.01),\n",
        "      loss=tf.keras.losses.SparseCategoricalCrossentropy(from_logits=True),\n",
        "      metrics=[\"sparse_categorical_accuracy\"],\n",
        "      steps_per_execution=400\n",
        "  )"
      ],
      "metadata": {
        "id": "QszJCJEGqq4M",
        "colab": {
          "base_uri": "https://localhost:8080/",
          "height": 138,
          "referenced_widgets": [
            "61af0adabf924872bdbc568be263e397",
            "cd179363fb0c44df898876c0398d2a7a",
            "984e20052edc4cacab9ea13ddc75f75a",
            "3f1bf49cd8b24212ad57b718b890365a",
            "b4706e52ebef49919f201a6bee85b0cd",
            "ffd99c952cd7447a8ea9554669d027df",
            "545024a9c9854c8589970fdf6c208b26",
            "6ec7b958bc814c91a9b00536305c6a4c",
            "3af45f5de6364910bd3a05da467eaacb",
            "9424a63862ec49698e354966249686d1",
            "0af6811bb1f641638d42e6f037bcf3e7"
          ]
        },
        "outputId": "04d88079-e71f-4ace-ca44-71794c3ffb2a"
      },
      "execution_count": 12,
      "outputs": [
        {
          "output_type": "display_data",
          "data": {
            "text/plain": [
              "model.safetensors:   0%|          | 0.00/1.34G [00:00<?, ?B/s]"
            ],
            "application/vnd.jupyter.widget-view+json": {
              "version_major": 2,
              "version_minor": 0,
              "model_id": "61af0adabf924872bdbc568be263e397"
            }
          },
          "metadata": {}
        },
        {
          "output_type": "stream",
          "name": "stderr",
          "text": [
            "All PyTorch model weights were used when initializing TFBertForSequenceClassification.\n",
            "\n",
            "Some weights or buffers of the TF 2.0 model TFBertForSequenceClassification were not initialized from the PyTorch model and are newly initialized: ['classifier.weight', 'classifier.bias']\n",
            "You should probably TRAIN this model on a down-stream task to be able to use it for predictions and inference.\n"
          ]
        }
      ]
    },
    {
      "cell_type": "code",
      "source": [
        "model.summary()"
      ],
      "metadata": {
        "id": "cJWiDb_8sGT6",
        "colab": {
          "base_uri": "https://localhost:8080/"
        },
        "outputId": "800e596c-7f98-426a-ec85-1371cf7096f4"
      },
      "execution_count": 13,
      "outputs": [
        {
          "output_type": "stream",
          "name": "stdout",
          "text": [
            "Model: \"model\"\n",
            "__________________________________________________________________________________________________\n",
            " Layer (type)                Output Shape                 Param #   Connected to                  \n",
            "==================================================================================================\n",
            " input_1 (InputLayer)        [(None, 256)]                0         []                            \n",
            "                                                                                                  \n",
            " input_2 (InputLayer)        [(None, 256)]                0         []                            \n",
            "                                                                                                  \n",
            " tf_bert_for_sequence_class  TFSequenceClassifierOutput   3351439   ['input_1[0][0]',             \n",
            " ification (TFBertForSequen  (loss=None, logits=(None,    38         'input_2[0][0]']             \n",
            " ceClassification)           2),                                                                  \n",
            "                              hidden_states=None, atten                                           \n",
            "                             tions=None)                                                          \n",
            "                                                                                                  \n",
            "==================================================================================================\n",
            "Total params: 335143938 (1.25 GB)\n",
            "Trainable params: 335143938 (1.25 GB)\n",
            "Non-trainable params: 0 (0.00 Byte)\n",
            "__________________________________________________________________________________________________\n"
          ]
        }
      ]
    },
    {
      "cell_type": "code",
      "source": [
        "tf.random.set_seed(SEED)\n",
        "history = model.fit(train_dataset, epochs=epochs, validation_data=val_dataset, callbacks=[callback])"
      ],
      "metadata": {
        "colab": {
          "base_uri": "https://localhost:8080/"
        },
        "id": "KFJ_Bxjikn86",
        "outputId": "9477faad-19a1-45c1-fb5e-950a257b7662"
      },
      "execution_count": 14,
      "outputs": [
        {
          "output_type": "stream",
          "name": "stdout",
          "text": [
            "Epoch 1/10\n",
            "4199/4199 [==============================] - 1655s 394ms/step - loss: 0.3161 - sparse_categorical_accuracy: 0.8619 - val_loss: 0.2542 - val_sparse_categorical_accuracy: 0.8935\n",
            "Epoch 2/10\n",
            "4199/4199 [==============================] - 1283s 306ms/step - loss: 0.2031 - sparse_categorical_accuracy: 0.9195 - val_loss: 0.2570 - val_sparse_categorical_accuracy: 0.9021\n",
            "Epoch 3/10\n",
            "4199/4199 [==============================] - 1283s 306ms/step - loss: 0.1266 - sparse_categorical_accuracy: 0.9539 - val_loss: 0.2916 - val_sparse_categorical_accuracy: 0.9045\n",
            "Epoch 4/10\n",
            "4199/4199 [==============================] - 1283s 306ms/step - loss: 0.0843 - sparse_categorical_accuracy: 0.9700 - val_loss: 0.3528 - val_sparse_categorical_accuracy: 0.9089\n",
            "Epoch 5/10\n",
            "4199/4199 [==============================] - 1282s 305ms/step - loss: 0.0596 - sparse_categorical_accuracy: 0.9791 - val_loss: 0.4000 - val_sparse_categorical_accuracy: 0.9030\n",
            "Epoch 6/10\n",
            "4199/4199 [==============================] - 1297s 309ms/step - loss: 0.0486 - sparse_categorical_accuracy: 0.9830 - val_loss: 0.3956 - val_sparse_categorical_accuracy: 0.9051\n"
          ]
        }
      ]
    },
    {
      "cell_type": "markdown",
      "metadata": {
        "id": "S7cewteBIwua"
      },
      "source": [
        "**Save model**"
      ]
    },
    {
      "cell_type": "code",
      "source": [
        "trained_model_path = \"/content/drive/MyDrive/models/DuplicateQuestions_BERT_Quora\""
      ],
      "metadata": {
        "id": "kHF6iPebtijl"
      },
      "execution_count": 9,
      "outputs": []
    },
    {
      "cell_type": "code",
      "source": [
        "model.layers[2].save_pretrained(trained_model_path)"
      ],
      "metadata": {
        "id": "gJ1Ww4BMaIfQ"
      },
      "execution_count": 17,
      "outputs": []
    },
    {
      "cell_type": "markdown",
      "metadata": {
        "id": "WSJL2EanOvQH"
      },
      "source": [
        "### **Model Evaluation**"
      ]
    },
    {
      "cell_type": "code",
      "source": [
        "print(model.evaluate(train_dataset, verbose=0))\n",
        "print(model.evaluate(val_dataset, verbose=0))\n",
        "print(model.evaluate(test_dataset, verbose=0))"
      ],
      "metadata": {
        "colab": {
          "base_uri": "https://localhost:8080/"
        },
        "id": "N45932pww4aW",
        "outputId": "2c94b3a7-a827-4b3c-ac90-c02f3e8627a4"
      },
      "execution_count": 18,
      "outputs": [
        {
          "output_type": "stream",
          "name": "stdout",
          "text": [
            "[0.03811207413673401, 0.9874568581581116]\n",
            "[0.3527679145336151, 0.908883810043335]\n",
            "[0.3309125602245331, 0.911837637424469]\n"
          ]
        }
      ]
    },
    {
      "cell_type": "markdown",
      "source": [
        "The model achieves an accuracy of **98.7%** on the training dataset in just 4 epochs. Meanwhile, it reaches **90.9%** on the validation dataset and **91.2%** on the testing dataset. This demonstrates the significant superiority of the Transformer model over the bidirectional LSTM siamese network, which only achieved an accuracy of **83.6%** on the testing dataset. Although there is a notable reduction in overfitting, the model still exhibits some signs of overfitting. This could be mitigated by increasing the size of the training set or selecting a pre-trained model from Hugging Face that achieves better results in this task. However, to do this, a computing capacity superior to the free TPU provided by Colab is required."
      ],
      "metadata": {
        "id": "nG-IoHTz_wUy"
      }
    },
    {
      "cell_type": "code",
      "source": [
        "# Function to plot the metrics\n",
        "def plot_metrics(history=history, metric=\"loss\", renderer=None, epochs=len(history.history[\"loss\"])):\n",
        "  losses = history.history[metric]\n",
        "  val_losses = history.history[f\"val_{metric}\"]\n",
        "  list_epochs = np.arange(1, epochs+1)\n",
        "  metric = \" \".join([w.capitalize() for w in metric.split(\"_\")])\n",
        "\n",
        "  fig=go.Figure()\n",
        "  fig.add_trace(go.Scatter(x=list_epochs, y=losses, name=metric, line=dict(color=\"blue\", width=2)))\n",
        "  fig.add_trace(go.Scatter(x=list_epochs, y=val_losses, name=f\"Val {metric}\", line=dict(color=\"#FF6600\", width=2)))\n",
        "  fig.update_xaxes(title_text=\"Epoch\")\n",
        "  fig.update_yaxes(title_text=metric)\n",
        "  fig.update_layout(title=f\"Evolution of {metric} across Epochs\",\n",
        "                    title_font=dict(size=20),\n",
        "                    title_x=0.5,\n",
        "                    height=500,\n",
        "                    width=1200)\n",
        "\n",
        "  fig.show(renderer)"
      ],
      "metadata": {
        "id": "S0Dl-vzNaZD4"
      },
      "execution_count": 20,
      "outputs": []
    },
    {
      "cell_type": "markdown",
      "source": [
        "**Interactive graphics**"
      ],
      "metadata": {
        "id": "Zbmblu4ZuQoO"
      }
    },
    {
      "cell_type": "code",
      "source": [
        "plot_metrics(metric=\"sparse_categorical_accuracy\")\n",
        "plot_metrics()"
      ],
      "metadata": {
        "colab": {
          "base_uri": "https://localhost:8080/",
          "height": 1000
        },
        "id": "K9_fscW1bBUJ",
        "outputId": "68975394-4f76-4379-aea3-59b8970b3fa7"
      },
      "execution_count": 21,
      "outputs": [
        {
          "output_type": "display_data",
          "data": {
            "text/html": [
              "<html>\n",
              "<head><meta charset=\"utf-8\" /></head>\n",
              "<body>\n",
              "    <div>            <script src=\"https://cdnjs.cloudflare.com/ajax/libs/mathjax/2.7.5/MathJax.js?config=TeX-AMS-MML_SVG\"></script><script type=\"text/javascript\">if (window.MathJax && window.MathJax.Hub && window.MathJax.Hub.Config) {window.MathJax.Hub.Config({SVG: {font: \"STIX-Web\"}});}</script>                <script type=\"text/javascript\">window.PlotlyConfig = {MathJaxConfig: 'local'};</script>\n",
              "        <script charset=\"utf-8\" src=\"https://cdn.plot.ly/plotly-2.24.1.min.js\"></script>                <div id=\"53d73b0b-fc8d-4143-8d0a-e9b03276ff63\" class=\"plotly-graph-div\" style=\"height:500px; width:1200px;\"></div>            <script type=\"text/javascript\">                                    window.PLOTLYENV=window.PLOTLYENV || {};                                    if (document.getElementById(\"53d73b0b-fc8d-4143-8d0a-e9b03276ff63\")) {                    Plotly.newPlot(                        \"53d73b0b-fc8d-4143-8d0a-e9b03276ff63\",                        [{\"line\":{\"color\":\"blue\",\"width\":2},\"name\":\"Sparse Categorical Accuracy\",\"x\":[1,2,3,4,5,6],\"y\":[0.8619027733802795,0.91953045129776,0.9538695812225342,0.9699746370315552,0.979115903377533,0.9830053448677063],\"type\":\"scatter\"},{\"line\":{\"color\":\"#FF6600\",\"width\":2},\"name\":\"Val Sparse Categorical Accuracy\",\"x\":[1,2,3,4,5,6],\"y\":[0.8935414552688599,0.9020501375198364,0.9045290350914001,0.908883810043335,0.902988076210022,0.905131995677948],\"type\":\"scatter\"}],                        {\"template\":{\"data\":{\"histogram2dcontour\":[{\"type\":\"histogram2dcontour\",\"colorbar\":{\"outlinewidth\":0,\"ticks\":\"\"},\"colorscale\":[[0.0,\"#0d0887\"],[0.1111111111111111,\"#46039f\"],[0.2222222222222222,\"#7201a8\"],[0.3333333333333333,\"#9c179e\"],[0.4444444444444444,\"#bd3786\"],[0.5555555555555556,\"#d8576b\"],[0.6666666666666666,\"#ed7953\"],[0.7777777777777778,\"#fb9f3a\"],[0.8888888888888888,\"#fdca26\"],[1.0,\"#f0f921\"]]}],\"choropleth\":[{\"type\":\"choropleth\",\"colorbar\":{\"outlinewidth\":0,\"ticks\":\"\"}}],\"histogram2d\":[{\"type\":\"histogram2d\",\"colorbar\":{\"outlinewidth\":0,\"ticks\":\"\"},\"colorscale\":[[0.0,\"#0d0887\"],[0.1111111111111111,\"#46039f\"],[0.2222222222222222,\"#7201a8\"],[0.3333333333333333,\"#9c179e\"],[0.4444444444444444,\"#bd3786\"],[0.5555555555555556,\"#d8576b\"],[0.6666666666666666,\"#ed7953\"],[0.7777777777777778,\"#fb9f3a\"],[0.8888888888888888,\"#fdca26\"],[1.0,\"#f0f921\"]]}],\"heatmap\":[{\"type\":\"heatmap\",\"colorbar\":{\"outlinewidth\":0,\"ticks\":\"\"},\"colorscale\":[[0.0,\"#0d0887\"],[0.1111111111111111,\"#46039f\"],[0.2222222222222222,\"#7201a8\"],[0.3333333333333333,\"#9c179e\"],[0.4444444444444444,\"#bd3786\"],[0.5555555555555556,\"#d8576b\"],[0.6666666666666666,\"#ed7953\"],[0.7777777777777778,\"#fb9f3a\"],[0.8888888888888888,\"#fdca26\"],[1.0,\"#f0f921\"]]}],\"heatmapgl\":[{\"type\":\"heatmapgl\",\"colorbar\":{\"outlinewidth\":0,\"ticks\":\"\"},\"colorscale\":[[0.0,\"#0d0887\"],[0.1111111111111111,\"#46039f\"],[0.2222222222222222,\"#7201a8\"],[0.3333333333333333,\"#9c179e\"],[0.4444444444444444,\"#bd3786\"],[0.5555555555555556,\"#d8576b\"],[0.6666666666666666,\"#ed7953\"],[0.7777777777777778,\"#fb9f3a\"],[0.8888888888888888,\"#fdca26\"],[1.0,\"#f0f921\"]]}],\"contourcarpet\":[{\"type\":\"contourcarpet\",\"colorbar\":{\"outlinewidth\":0,\"ticks\":\"\"}}],\"contour\":[{\"type\":\"contour\",\"colorbar\":{\"outlinewidth\":0,\"ticks\":\"\"},\"colorscale\":[[0.0,\"#0d0887\"],[0.1111111111111111,\"#46039f\"],[0.2222222222222222,\"#7201a8\"],[0.3333333333333333,\"#9c179e\"],[0.4444444444444444,\"#bd3786\"],[0.5555555555555556,\"#d8576b\"],[0.6666666666666666,\"#ed7953\"],[0.7777777777777778,\"#fb9f3a\"],[0.8888888888888888,\"#fdca26\"],[1.0,\"#f0f921\"]]}],\"surface\":[{\"type\":\"surface\",\"colorbar\":{\"outlinewidth\":0,\"ticks\":\"\"},\"colorscale\":[[0.0,\"#0d0887\"],[0.1111111111111111,\"#46039f\"],[0.2222222222222222,\"#7201a8\"],[0.3333333333333333,\"#9c179e\"],[0.4444444444444444,\"#bd3786\"],[0.5555555555555556,\"#d8576b\"],[0.6666666666666666,\"#ed7953\"],[0.7777777777777778,\"#fb9f3a\"],[0.8888888888888888,\"#fdca26\"],[1.0,\"#f0f921\"]]}],\"mesh3d\":[{\"type\":\"mesh3d\",\"colorbar\":{\"outlinewidth\":0,\"ticks\":\"\"}}],\"scatter\":[{\"fillpattern\":{\"fillmode\":\"overlay\",\"size\":10,\"solidity\":0.2},\"type\":\"scatter\"}],\"parcoords\":[{\"type\":\"parcoords\",\"line\":{\"colorbar\":{\"outlinewidth\":0,\"ticks\":\"\"}}}],\"scatterpolargl\":[{\"type\":\"scatterpolargl\",\"marker\":{\"colorbar\":{\"outlinewidth\":0,\"ticks\":\"\"}}}],\"bar\":[{\"error_x\":{\"color\":\"#2a3f5f\"},\"error_y\":{\"color\":\"#2a3f5f\"},\"marker\":{\"line\":{\"color\":\"#E5ECF6\",\"width\":0.5},\"pattern\":{\"fillmode\":\"overlay\",\"size\":10,\"solidity\":0.2}},\"type\":\"bar\"}],\"scattergeo\":[{\"type\":\"scattergeo\",\"marker\":{\"colorbar\":{\"outlinewidth\":0,\"ticks\":\"\"}}}],\"scatterpolar\":[{\"type\":\"scatterpolar\",\"marker\":{\"colorbar\":{\"outlinewidth\":0,\"ticks\":\"\"}}}],\"histogram\":[{\"marker\":{\"pattern\":{\"fillmode\":\"overlay\",\"size\":10,\"solidity\":0.2}},\"type\":\"histogram\"}],\"scattergl\":[{\"type\":\"scattergl\",\"marker\":{\"colorbar\":{\"outlinewidth\":0,\"ticks\":\"\"}}}],\"scatter3d\":[{\"type\":\"scatter3d\",\"line\":{\"colorbar\":{\"outlinewidth\":0,\"ticks\":\"\"}},\"marker\":{\"colorbar\":{\"outlinewidth\":0,\"ticks\":\"\"}}}],\"scattermapbox\":[{\"type\":\"scattermapbox\",\"marker\":{\"colorbar\":{\"outlinewidth\":0,\"ticks\":\"\"}}}],\"scatterternary\":[{\"type\":\"scatterternary\",\"marker\":{\"colorbar\":{\"outlinewidth\":0,\"ticks\":\"\"}}}],\"scattercarpet\":[{\"type\":\"scattercarpet\",\"marker\":{\"colorbar\":{\"outlinewidth\":0,\"ticks\":\"\"}}}],\"carpet\":[{\"aaxis\":{\"endlinecolor\":\"#2a3f5f\",\"gridcolor\":\"white\",\"linecolor\":\"white\",\"minorgridcolor\":\"white\",\"startlinecolor\":\"#2a3f5f\"},\"baxis\":{\"endlinecolor\":\"#2a3f5f\",\"gridcolor\":\"white\",\"linecolor\":\"white\",\"minorgridcolor\":\"white\",\"startlinecolor\":\"#2a3f5f\"},\"type\":\"carpet\"}],\"table\":[{\"cells\":{\"fill\":{\"color\":\"#EBF0F8\"},\"line\":{\"color\":\"white\"}},\"header\":{\"fill\":{\"color\":\"#C8D4E3\"},\"line\":{\"color\":\"white\"}},\"type\":\"table\"}],\"barpolar\":[{\"marker\":{\"line\":{\"color\":\"#E5ECF6\",\"width\":0.5},\"pattern\":{\"fillmode\":\"overlay\",\"size\":10,\"solidity\":0.2}},\"type\":\"barpolar\"}],\"pie\":[{\"automargin\":true,\"type\":\"pie\"}]},\"layout\":{\"autotypenumbers\":\"strict\",\"colorway\":[\"#636efa\",\"#EF553B\",\"#00cc96\",\"#ab63fa\",\"#FFA15A\",\"#19d3f3\",\"#FF6692\",\"#B6E880\",\"#FF97FF\",\"#FECB52\"],\"font\":{\"color\":\"#2a3f5f\"},\"hovermode\":\"closest\",\"hoverlabel\":{\"align\":\"left\"},\"paper_bgcolor\":\"white\",\"plot_bgcolor\":\"#E5ECF6\",\"polar\":{\"bgcolor\":\"#E5ECF6\",\"angularaxis\":{\"gridcolor\":\"white\",\"linecolor\":\"white\",\"ticks\":\"\"},\"radialaxis\":{\"gridcolor\":\"white\",\"linecolor\":\"white\",\"ticks\":\"\"}},\"ternary\":{\"bgcolor\":\"#E5ECF6\",\"aaxis\":{\"gridcolor\":\"white\",\"linecolor\":\"white\",\"ticks\":\"\"},\"baxis\":{\"gridcolor\":\"white\",\"linecolor\":\"white\",\"ticks\":\"\"},\"caxis\":{\"gridcolor\":\"white\",\"linecolor\":\"white\",\"ticks\":\"\"}},\"coloraxis\":{\"colorbar\":{\"outlinewidth\":0,\"ticks\":\"\"}},\"colorscale\":{\"sequential\":[[0.0,\"#0d0887\"],[0.1111111111111111,\"#46039f\"],[0.2222222222222222,\"#7201a8\"],[0.3333333333333333,\"#9c179e\"],[0.4444444444444444,\"#bd3786\"],[0.5555555555555556,\"#d8576b\"],[0.6666666666666666,\"#ed7953\"],[0.7777777777777778,\"#fb9f3a\"],[0.8888888888888888,\"#fdca26\"],[1.0,\"#f0f921\"]],\"sequentialminus\":[[0.0,\"#0d0887\"],[0.1111111111111111,\"#46039f\"],[0.2222222222222222,\"#7201a8\"],[0.3333333333333333,\"#9c179e\"],[0.4444444444444444,\"#bd3786\"],[0.5555555555555556,\"#d8576b\"],[0.6666666666666666,\"#ed7953\"],[0.7777777777777778,\"#fb9f3a\"],[0.8888888888888888,\"#fdca26\"],[1.0,\"#f0f921\"]],\"diverging\":[[0,\"#8e0152\"],[0.1,\"#c51b7d\"],[0.2,\"#de77ae\"],[0.3,\"#f1b6da\"],[0.4,\"#fde0ef\"],[0.5,\"#f7f7f7\"],[0.6,\"#e6f5d0\"],[0.7,\"#b8e186\"],[0.8,\"#7fbc41\"],[0.9,\"#4d9221\"],[1,\"#276419\"]]},\"xaxis\":{\"gridcolor\":\"white\",\"linecolor\":\"white\",\"ticks\":\"\",\"title\":{\"standoff\":15},\"zerolinecolor\":\"white\",\"automargin\":true,\"zerolinewidth\":2},\"yaxis\":{\"gridcolor\":\"white\",\"linecolor\":\"white\",\"ticks\":\"\",\"title\":{\"standoff\":15},\"zerolinecolor\":\"white\",\"automargin\":true,\"zerolinewidth\":2},\"scene\":{\"xaxis\":{\"backgroundcolor\":\"#E5ECF6\",\"gridcolor\":\"white\",\"linecolor\":\"white\",\"showbackground\":true,\"ticks\":\"\",\"zerolinecolor\":\"white\",\"gridwidth\":2},\"yaxis\":{\"backgroundcolor\":\"#E5ECF6\",\"gridcolor\":\"white\",\"linecolor\":\"white\",\"showbackground\":true,\"ticks\":\"\",\"zerolinecolor\":\"white\",\"gridwidth\":2},\"zaxis\":{\"backgroundcolor\":\"#E5ECF6\",\"gridcolor\":\"white\",\"linecolor\":\"white\",\"showbackground\":true,\"ticks\":\"\",\"zerolinecolor\":\"white\",\"gridwidth\":2}},\"shapedefaults\":{\"line\":{\"color\":\"#2a3f5f\"}},\"annotationdefaults\":{\"arrowcolor\":\"#2a3f5f\",\"arrowhead\":0,\"arrowwidth\":1},\"geo\":{\"bgcolor\":\"white\",\"landcolor\":\"#E5ECF6\",\"subunitcolor\":\"white\",\"showland\":true,\"showlakes\":true,\"lakecolor\":\"white\"},\"title\":{\"x\":0.05},\"mapbox\":{\"style\":\"light\"}}},\"xaxis\":{\"title\":{\"text\":\"Epoch\"}},\"yaxis\":{\"title\":{\"text\":\"Sparse Categorical Accuracy\"}},\"title\":{\"text\":\"Evolution of Sparse Categorical Accuracy across Epochs\",\"font\":{\"size\":20},\"x\":0.5},\"height\":500,\"width\":1200},                        {\"responsive\": true}                    ).then(function(){\n",
              "                            \n",
              "var gd = document.getElementById('53d73b0b-fc8d-4143-8d0a-e9b03276ff63');\n",
              "var x = new MutationObserver(function (mutations, observer) {{\n",
              "        var display = window.getComputedStyle(gd).display;\n",
              "        if (!display || display === 'none') {{\n",
              "            console.log([gd, 'removed!']);\n",
              "            Plotly.purge(gd);\n",
              "            observer.disconnect();\n",
              "        }}\n",
              "}});\n",
              "\n",
              "// Listen for the removal of the full notebook cells\n",
              "var notebookContainer = gd.closest('#notebook-container');\n",
              "if (notebookContainer) {{\n",
              "    x.observe(notebookContainer, {childList: true});\n",
              "}}\n",
              "\n",
              "// Listen for the clearing of the current output cell\n",
              "var outputEl = gd.closest('.output');\n",
              "if (outputEl) {{\n",
              "    x.observe(outputEl, {childList: true});\n",
              "}}\n",
              "\n",
              "                        })                };                            </script>        </div>\n",
              "</body>\n",
              "</html>"
            ]
          },
          "metadata": {}
        },
        {
          "output_type": "display_data",
          "data": {
            "text/html": [
              "<html>\n",
              "<head><meta charset=\"utf-8\" /></head>\n",
              "<body>\n",
              "    <div>            <script src=\"https://cdnjs.cloudflare.com/ajax/libs/mathjax/2.7.5/MathJax.js?config=TeX-AMS-MML_SVG\"></script><script type=\"text/javascript\">if (window.MathJax && window.MathJax.Hub && window.MathJax.Hub.Config) {window.MathJax.Hub.Config({SVG: {font: \"STIX-Web\"}});}</script>                <script type=\"text/javascript\">window.PlotlyConfig = {MathJaxConfig: 'local'};</script>\n",
              "        <script charset=\"utf-8\" src=\"https://cdn.plot.ly/plotly-2.24.1.min.js\"></script>                <div id=\"cc5cb6b1-4104-4f35-b00b-42d8803da7d2\" class=\"plotly-graph-div\" style=\"height:500px; width:1200px;\"></div>            <script type=\"text/javascript\">                                    window.PLOTLYENV=window.PLOTLYENV || {};                                    if (document.getElementById(\"cc5cb6b1-4104-4f35-b00b-42d8803da7d2\")) {                    Plotly.newPlot(                        \"cc5cb6b1-4104-4f35-b00b-42d8803da7d2\",                        [{\"line\":{\"color\":\"blue\",\"width\":2},\"name\":\"Loss\",\"x\":[1,2,3,4,5,6],\"y\":[0.31611719727516174,0.20313630998134613,0.12655310332775116,0.08427783101797104,0.05963801220059395,0.0485723614692688],\"type\":\"scatter\"},{\"line\":{\"color\":\"#FF6600\",\"width\":2},\"name\":\"Val Loss\",\"x\":[1,2,3,4,5,6],\"y\":[0.25419020652770996,0.25697800517082214,0.2915678024291992,0.3527679145336151,0.3999977111816406,0.3956277370452881],\"type\":\"scatter\"}],                        {\"template\":{\"data\":{\"histogram2dcontour\":[{\"type\":\"histogram2dcontour\",\"colorbar\":{\"outlinewidth\":0,\"ticks\":\"\"},\"colorscale\":[[0.0,\"#0d0887\"],[0.1111111111111111,\"#46039f\"],[0.2222222222222222,\"#7201a8\"],[0.3333333333333333,\"#9c179e\"],[0.4444444444444444,\"#bd3786\"],[0.5555555555555556,\"#d8576b\"],[0.6666666666666666,\"#ed7953\"],[0.7777777777777778,\"#fb9f3a\"],[0.8888888888888888,\"#fdca26\"],[1.0,\"#f0f921\"]]}],\"choropleth\":[{\"type\":\"choropleth\",\"colorbar\":{\"outlinewidth\":0,\"ticks\":\"\"}}],\"histogram2d\":[{\"type\":\"histogram2d\",\"colorbar\":{\"outlinewidth\":0,\"ticks\":\"\"},\"colorscale\":[[0.0,\"#0d0887\"],[0.1111111111111111,\"#46039f\"],[0.2222222222222222,\"#7201a8\"],[0.3333333333333333,\"#9c179e\"],[0.4444444444444444,\"#bd3786\"],[0.5555555555555556,\"#d8576b\"],[0.6666666666666666,\"#ed7953\"],[0.7777777777777778,\"#fb9f3a\"],[0.8888888888888888,\"#fdca26\"],[1.0,\"#f0f921\"]]}],\"heatmap\":[{\"type\":\"heatmap\",\"colorbar\":{\"outlinewidth\":0,\"ticks\":\"\"},\"colorscale\":[[0.0,\"#0d0887\"],[0.1111111111111111,\"#46039f\"],[0.2222222222222222,\"#7201a8\"],[0.3333333333333333,\"#9c179e\"],[0.4444444444444444,\"#bd3786\"],[0.5555555555555556,\"#d8576b\"],[0.6666666666666666,\"#ed7953\"],[0.7777777777777778,\"#fb9f3a\"],[0.8888888888888888,\"#fdca26\"],[1.0,\"#f0f921\"]]}],\"heatmapgl\":[{\"type\":\"heatmapgl\",\"colorbar\":{\"outlinewidth\":0,\"ticks\":\"\"},\"colorscale\":[[0.0,\"#0d0887\"],[0.1111111111111111,\"#46039f\"],[0.2222222222222222,\"#7201a8\"],[0.3333333333333333,\"#9c179e\"],[0.4444444444444444,\"#bd3786\"],[0.5555555555555556,\"#d8576b\"],[0.6666666666666666,\"#ed7953\"],[0.7777777777777778,\"#fb9f3a\"],[0.8888888888888888,\"#fdca26\"],[1.0,\"#f0f921\"]]}],\"contourcarpet\":[{\"type\":\"contourcarpet\",\"colorbar\":{\"outlinewidth\":0,\"ticks\":\"\"}}],\"contour\":[{\"type\":\"contour\",\"colorbar\":{\"outlinewidth\":0,\"ticks\":\"\"},\"colorscale\":[[0.0,\"#0d0887\"],[0.1111111111111111,\"#46039f\"],[0.2222222222222222,\"#7201a8\"],[0.3333333333333333,\"#9c179e\"],[0.4444444444444444,\"#bd3786\"],[0.5555555555555556,\"#d8576b\"],[0.6666666666666666,\"#ed7953\"],[0.7777777777777778,\"#fb9f3a\"],[0.8888888888888888,\"#fdca26\"],[1.0,\"#f0f921\"]]}],\"surface\":[{\"type\":\"surface\",\"colorbar\":{\"outlinewidth\":0,\"ticks\":\"\"},\"colorscale\":[[0.0,\"#0d0887\"],[0.1111111111111111,\"#46039f\"],[0.2222222222222222,\"#7201a8\"],[0.3333333333333333,\"#9c179e\"],[0.4444444444444444,\"#bd3786\"],[0.5555555555555556,\"#d8576b\"],[0.6666666666666666,\"#ed7953\"],[0.7777777777777778,\"#fb9f3a\"],[0.8888888888888888,\"#fdca26\"],[1.0,\"#f0f921\"]]}],\"mesh3d\":[{\"type\":\"mesh3d\",\"colorbar\":{\"outlinewidth\":0,\"ticks\":\"\"}}],\"scatter\":[{\"fillpattern\":{\"fillmode\":\"overlay\",\"size\":10,\"solidity\":0.2},\"type\":\"scatter\"}],\"parcoords\":[{\"type\":\"parcoords\",\"line\":{\"colorbar\":{\"outlinewidth\":0,\"ticks\":\"\"}}}],\"scatterpolargl\":[{\"type\":\"scatterpolargl\",\"marker\":{\"colorbar\":{\"outlinewidth\":0,\"ticks\":\"\"}}}],\"bar\":[{\"error_x\":{\"color\":\"#2a3f5f\"},\"error_y\":{\"color\":\"#2a3f5f\"},\"marker\":{\"line\":{\"color\":\"#E5ECF6\",\"width\":0.5},\"pattern\":{\"fillmode\":\"overlay\",\"size\":10,\"solidity\":0.2}},\"type\":\"bar\"}],\"scattergeo\":[{\"type\":\"scattergeo\",\"marker\":{\"colorbar\":{\"outlinewidth\":0,\"ticks\":\"\"}}}],\"scatterpolar\":[{\"type\":\"scatterpolar\",\"marker\":{\"colorbar\":{\"outlinewidth\":0,\"ticks\":\"\"}}}],\"histogram\":[{\"marker\":{\"pattern\":{\"fillmode\":\"overlay\",\"size\":10,\"solidity\":0.2}},\"type\":\"histogram\"}],\"scattergl\":[{\"type\":\"scattergl\",\"marker\":{\"colorbar\":{\"outlinewidth\":0,\"ticks\":\"\"}}}],\"scatter3d\":[{\"type\":\"scatter3d\",\"line\":{\"colorbar\":{\"outlinewidth\":0,\"ticks\":\"\"}},\"marker\":{\"colorbar\":{\"outlinewidth\":0,\"ticks\":\"\"}}}],\"scattermapbox\":[{\"type\":\"scattermapbox\",\"marker\":{\"colorbar\":{\"outlinewidth\":0,\"ticks\":\"\"}}}],\"scatterternary\":[{\"type\":\"scatterternary\",\"marker\":{\"colorbar\":{\"outlinewidth\":0,\"ticks\":\"\"}}}],\"scattercarpet\":[{\"type\":\"scattercarpet\",\"marker\":{\"colorbar\":{\"outlinewidth\":0,\"ticks\":\"\"}}}],\"carpet\":[{\"aaxis\":{\"endlinecolor\":\"#2a3f5f\",\"gridcolor\":\"white\",\"linecolor\":\"white\",\"minorgridcolor\":\"white\",\"startlinecolor\":\"#2a3f5f\"},\"baxis\":{\"endlinecolor\":\"#2a3f5f\",\"gridcolor\":\"white\",\"linecolor\":\"white\",\"minorgridcolor\":\"white\",\"startlinecolor\":\"#2a3f5f\"},\"type\":\"carpet\"}],\"table\":[{\"cells\":{\"fill\":{\"color\":\"#EBF0F8\"},\"line\":{\"color\":\"white\"}},\"header\":{\"fill\":{\"color\":\"#C8D4E3\"},\"line\":{\"color\":\"white\"}},\"type\":\"table\"}],\"barpolar\":[{\"marker\":{\"line\":{\"color\":\"#E5ECF6\",\"width\":0.5},\"pattern\":{\"fillmode\":\"overlay\",\"size\":10,\"solidity\":0.2}},\"type\":\"barpolar\"}],\"pie\":[{\"automargin\":true,\"type\":\"pie\"}]},\"layout\":{\"autotypenumbers\":\"strict\",\"colorway\":[\"#636efa\",\"#EF553B\",\"#00cc96\",\"#ab63fa\",\"#FFA15A\",\"#19d3f3\",\"#FF6692\",\"#B6E880\",\"#FF97FF\",\"#FECB52\"],\"font\":{\"color\":\"#2a3f5f\"},\"hovermode\":\"closest\",\"hoverlabel\":{\"align\":\"left\"},\"paper_bgcolor\":\"white\",\"plot_bgcolor\":\"#E5ECF6\",\"polar\":{\"bgcolor\":\"#E5ECF6\",\"angularaxis\":{\"gridcolor\":\"white\",\"linecolor\":\"white\",\"ticks\":\"\"},\"radialaxis\":{\"gridcolor\":\"white\",\"linecolor\":\"white\",\"ticks\":\"\"}},\"ternary\":{\"bgcolor\":\"#E5ECF6\",\"aaxis\":{\"gridcolor\":\"white\",\"linecolor\":\"white\",\"ticks\":\"\"},\"baxis\":{\"gridcolor\":\"white\",\"linecolor\":\"white\",\"ticks\":\"\"},\"caxis\":{\"gridcolor\":\"white\",\"linecolor\":\"white\",\"ticks\":\"\"}},\"coloraxis\":{\"colorbar\":{\"outlinewidth\":0,\"ticks\":\"\"}},\"colorscale\":{\"sequential\":[[0.0,\"#0d0887\"],[0.1111111111111111,\"#46039f\"],[0.2222222222222222,\"#7201a8\"],[0.3333333333333333,\"#9c179e\"],[0.4444444444444444,\"#bd3786\"],[0.5555555555555556,\"#d8576b\"],[0.6666666666666666,\"#ed7953\"],[0.7777777777777778,\"#fb9f3a\"],[0.8888888888888888,\"#fdca26\"],[1.0,\"#f0f921\"]],\"sequentialminus\":[[0.0,\"#0d0887\"],[0.1111111111111111,\"#46039f\"],[0.2222222222222222,\"#7201a8\"],[0.3333333333333333,\"#9c179e\"],[0.4444444444444444,\"#bd3786\"],[0.5555555555555556,\"#d8576b\"],[0.6666666666666666,\"#ed7953\"],[0.7777777777777778,\"#fb9f3a\"],[0.8888888888888888,\"#fdca26\"],[1.0,\"#f0f921\"]],\"diverging\":[[0,\"#8e0152\"],[0.1,\"#c51b7d\"],[0.2,\"#de77ae\"],[0.3,\"#f1b6da\"],[0.4,\"#fde0ef\"],[0.5,\"#f7f7f7\"],[0.6,\"#e6f5d0\"],[0.7,\"#b8e186\"],[0.8,\"#7fbc41\"],[0.9,\"#4d9221\"],[1,\"#276419\"]]},\"xaxis\":{\"gridcolor\":\"white\",\"linecolor\":\"white\",\"ticks\":\"\",\"title\":{\"standoff\":15},\"zerolinecolor\":\"white\",\"automargin\":true,\"zerolinewidth\":2},\"yaxis\":{\"gridcolor\":\"white\",\"linecolor\":\"white\",\"ticks\":\"\",\"title\":{\"standoff\":15},\"zerolinecolor\":\"white\",\"automargin\":true,\"zerolinewidth\":2},\"scene\":{\"xaxis\":{\"backgroundcolor\":\"#E5ECF6\",\"gridcolor\":\"white\",\"linecolor\":\"white\",\"showbackground\":true,\"ticks\":\"\",\"zerolinecolor\":\"white\",\"gridwidth\":2},\"yaxis\":{\"backgroundcolor\":\"#E5ECF6\",\"gridcolor\":\"white\",\"linecolor\":\"white\",\"showbackground\":true,\"ticks\":\"\",\"zerolinecolor\":\"white\",\"gridwidth\":2},\"zaxis\":{\"backgroundcolor\":\"#E5ECF6\",\"gridcolor\":\"white\",\"linecolor\":\"white\",\"showbackground\":true,\"ticks\":\"\",\"zerolinecolor\":\"white\",\"gridwidth\":2}},\"shapedefaults\":{\"line\":{\"color\":\"#2a3f5f\"}},\"annotationdefaults\":{\"arrowcolor\":\"#2a3f5f\",\"arrowhead\":0,\"arrowwidth\":1},\"geo\":{\"bgcolor\":\"white\",\"landcolor\":\"#E5ECF6\",\"subunitcolor\":\"white\",\"showland\":true,\"showlakes\":true,\"lakecolor\":\"white\"},\"title\":{\"x\":0.05},\"mapbox\":{\"style\":\"light\"}}},\"xaxis\":{\"title\":{\"text\":\"Epoch\"}},\"yaxis\":{\"title\":{\"text\":\"Loss\"}},\"title\":{\"text\":\"Evolution of Loss across Epochs\",\"font\":{\"size\":20},\"x\":0.5},\"height\":500,\"width\":1200},                        {\"responsive\": true}                    ).then(function(){\n",
              "                            \n",
              "var gd = document.getElementById('cc5cb6b1-4104-4f35-b00b-42d8803da7d2');\n",
              "var x = new MutationObserver(function (mutations, observer) {{\n",
              "        var display = window.getComputedStyle(gd).display;\n",
              "        if (!display || display === 'none') {{\n",
              "            console.log([gd, 'removed!']);\n",
              "            Plotly.purge(gd);\n",
              "            observer.disconnect();\n",
              "        }}\n",
              "}});\n",
              "\n",
              "// Listen for the removal of the full notebook cells\n",
              "var notebookContainer = gd.closest('#notebook-container');\n",
              "if (notebookContainer) {{\n",
              "    x.observe(notebookContainer, {childList: true});\n",
              "}}\n",
              "\n",
              "// Listen for the clearing of the current output cell\n",
              "var outputEl = gd.closest('.output');\n",
              "if (outputEl) {{\n",
              "    x.observe(outputEl, {childList: true});\n",
              "}}\n",
              "\n",
              "                        })                };                            </script>        </div>\n",
              "</body>\n",
              "</html>"
            ]
          },
          "metadata": {}
        }
      ]
    },
    {
      "cell_type": "markdown",
      "source": [
        "**Images for GitHub**"
      ],
      "metadata": {
        "id": "3ZxQzcbFuUaF"
      }
    },
    {
      "cell_type": "code",
      "source": [
        "plot_metrics(renderer=\"png\", metric=\"sparse_categorical_accuracy\")\n",
        "plot_metrics(renderer=\"png\")"
      ],
      "metadata": {
        "id": "jU2ln7oba0bo",
        "colab": {
          "base_uri": "https://localhost:8080/",
          "height": 1000
        },
        "outputId": "d215fa1f-d28f-4e86-ac00-12b1dfdc26ef"
      },
      "execution_count": 22,
      "outputs": [
        {
          "output_type": "display_data",
          "data": {
            "image/png": "[encoded data removed]"
          },
          "metadata": {}
        },
        {
          "output_type": "display_data",
          "data": {
            "image/png": "[encoded data removed]"
          },
          "metadata": {}
        }
      ]
    },
    {
      "cell_type": "markdown",
      "source": [
        "**Confusion Matrix**"
      ],
      "metadata": {
        "id": "fFnZutbcuZSe"
      }
    },
    {
      "cell_type": "code",
      "source": [
        "labels_test = test_dataset.unbatch().map(lambda x, y: y).as_numpy_iterator()\n",
        "labels_test = np.array(list(labels_test))\n",
        "\n",
        "labels_test_pred = model.predict(test_dataset, verbose=0)\n",
        "labels_test_pred = np.argmax(labels_test_pred, axis=-1)\n",
        "print(\"Accuracy:\", np.mean(labels_test == labels_test_pred))\n",
        "print(f\"F1 Score: {f1_score(labels_test, labels_test_pred)}\")\n",
        "\n",
        "cm = confusion_matrix(labels_test, labels_test_pred)\n",
        "cmd = ConfusionMatrixDisplay(cm, display_labels=[\"Not duplicated\", \"Duplicated\"])\n",
        "cmd.plot(colorbar=False, cmap=\"coolwarm_r\");\n",
        "\n",
        "print(\"Total not duplicates: \", np.bincount(labels_test)[0], \"; Total duplicates: \", np.bincount(labels_test)[1])\n",
        "print(((np.bincount(labels_test) - np.diag(cm)) / np.bincount(labels_test)) * 100)"
      ],
      "metadata": {
        "colab": {
          "base_uri": "https://localhost:8080/",
          "height": 518
        },
        "id": "B_DnX3ZSIsH7",
        "outputId": "fe6ea5b8-ac5a-41b7-c1ff-b76778fe6887"
      },
      "execution_count": 23,
      "outputs": [
        {
          "output_type": "stream",
          "name": "stdout",
          "text": [
            "Accuracy: 0.9118376097005426\n",
            "F1 Score: 0.9140431090790334\n",
            "Total not duplicates:  7464 ; Total duplicates:  7463\n",
            "[11.38799571  6.24413775]\n"
          ]
        },
        {
          "output_type": "display_data",
          "data": {
            "text/plain": [
              "<Figure size 640x480 with 1 Axes>"
            ],
            "image/png": "[encoded data removed]"
          },
          "metadata": {}
        }
      ]
    },
    {
      "cell_type": "markdown",
      "source": [
        "It is evident that the model faces a greater difficulty in correctly classifying non-duplicate questions, as reflected in a higher percentage of false positives (11.4%) compared to false negatives (6.2%). However, compared to the LSTM network, it has significantly improved. This is because the model is quite capable of detecting the complex relationships necessary to correctly classify whether two questions are paraphrases of each other, much like how humans would, thanks to BERT pretraining."
      ],
      "metadata": {
        "id": "wQBDna3UFXOV"
      }
    },
    {
      "cell_type": "markdown",
      "source": [
        "### **Predictions with the trained model**"
      ],
      "metadata": {
        "id": "9NhEDFT-uiav"
      }
    },
    {
      "cell_type": "code",
      "source": [
        "# Load the trained model and the testing dataframe\n",
        "\n",
        "model = TFAutoModelForSequenceClassification.from_pretrained(trained_model_path, num_labels=2)\n",
        "df_test = pd.read_csv(\"/content/drive/MyDrive/Datasets/test_dataset_quora.csv\")"
      ],
      "metadata": {
        "colab": {
          "base_uri": "https://localhost:8080/"
        },
        "id": "AMfOhnVovZl2",
        "outputId": "85e81a17-7c6c-4617-ba6a-da04d251e5cf"
      },
      "execution_count": 11,
      "outputs": [
        {
          "output_type": "stream",
          "name": "stderr",
          "text": [
            "All model checkpoint layers were used when initializing TFBertForSequenceClassification.\n",
            "\n",
            "All the layers of TFBertForSequenceClassification were initialized from the model checkpoint at /content/drive/MyDrive/models/DuplicateQuestions_BERT_Quora.\n",
            "If your task is similar to the task the model of the checkpoint was trained on, you can already use TFBertForSequenceClassification for predictions without further training.\n"
          ]
        }
      ]
    },
    {
      "cell_type": "code",
      "source": [
        "def predict_duplicate(questions_1, questions_2, labels, random=True, indice=0):\n",
        "  label_names = [\"Non-Duplicate Question\", \"Duplicate Question\"]\n",
        "  label_colors = [\"green\", \"red\"]\n",
        "\n",
        "  indice = np.random.choice(len(questions_1)) if random else indice\n",
        "  q1 = questions_1[indice]\n",
        "  q2 = questions_2[indice]\n",
        "  input_ids, attention_mask = preprocessing(q1, q2, return_tensors=\"tf\")\n",
        "\n",
        "  label_pred = model(input_ids, attention_mask).logits.numpy()\n",
        "  label_pred = np.argmax(label_pred, axis=-1)[0]\n",
        "\n",
        "  html_content = f\"\"\"\n",
        "    <b>Question 1:</b> {q1}<br><br>\n",
        "    <b>Question 2:</b> {q2}<br><br>\n",
        "    <b>True Label: <span style=\"color: {label_colors[labels[indice]]}\">{label_names[labels[indice]]}</span></b><br>\n",
        "    <b>Predicted Label: <span style=\"color: {label_colors[label_pred]}\">{label_names[label_pred]}</span></b>\n",
        "    \"\"\"\n",
        "  display(HTML(html_content))"
      ],
      "metadata": {
        "id": "lNaog1WpyrdE"
      },
      "execution_count": 88,
      "outputs": []
    },
    {
      "cell_type": "markdown",
      "source": [
        "#### **Test Dataset**"
      ],
      "metadata": {
        "id": "yGcbjPzn_Cp5"
      }
    },
    {
      "cell_type": "code",
      "source": [
        "questions_1, questions_2 = df_test.question_1.values, df_test.question_2.values\n",
        "labels = df_test.is_duplicate.values"
      ],
      "metadata": {
        "id": "yUm0T0s2_KJM"
      },
      "execution_count": 13,
      "outputs": []
    },
    {
      "cell_type": "code",
      "source": [
        "predict_duplicate(questions_1, questions_2, labels, random=False)"
      ],
      "metadata": {
        "colab": {
          "base_uri": "https://localhost:8080/",
          "height": 121
        },
        "id": "azel446wKijq",
        "outputId": "52182d88-c787-45ba-9bff-87b93e1c28ee"
      },
      "execution_count": 14,
      "outputs": [
        {
          "output_type": "display_data",
          "data": {
            "text/plain": [
              "<IPython.core.display.HTML object>"
            ],
            "text/html": [
              "\n",
              "    <b>Question 1:</b> Can I import airsoft guns (usually toy guns that shoots bbs) to india?<br><br>\n",
              "    <b>Question 2:</b> Is India importing any goods from PAK?<br><br>\n",
              "    <b>True Label: <span style=\"color: green\">Non-Duplicate Question</span></b><br>\n",
              "    <b>Predicted Label: <span style=\"color: green\">Non-Duplicate Question</span></b>\n",
              "    "
            ]
          },
          "metadata": {}
        }
      ]
    },
    {
      "cell_type": "code",
      "source": [
        "predict_duplicate(questions_1, questions_2, labels)"
      ],
      "metadata": {
        "colab": {
          "base_uri": "https://localhost:8080/",
          "height": 121
        },
        "id": "uWtBkI8e9wX0",
        "outputId": "ba796af6-8eea-41a1-c26e-b75b98afbb57"
      },
      "execution_count": 31,
      "outputs": [
        {
          "output_type": "display_data",
          "data": {
            "text/plain": [
              "<IPython.core.display.HTML object>"
            ],
            "text/html": [
              "\n",
              "    <b>Question 1:</b> Can I crack the JEE Mains without coaching in two months?<br><br>\n",
              "    <b>Question 2:</b> Can I crack the JEE Mains in two months without any coaching?<br><br>\n",
              "    <b>True Label: <span style=\"color: red\">Duplicate Question</span></b><br>\n",
              "    <b>Predicted Label: <span style=\"color: red\">Duplicate Question</span></b>\n",
              "    "
            ]
          },
          "metadata": {}
        }
      ]
    },
    {
      "cell_type": "code",
      "source": [
        "# Long Questions\n",
        "predict_duplicate(questions_1, questions_2, labels)"
      ],
      "metadata": {
        "colab": {
          "base_uri": "https://localhost:8080/",
          "height": 139
        },
        "id": "kzcvKeW2EIue",
        "outputId": "00c73d24-b0f9-4543-f461-f5d496be75cd"
      },
      "execution_count": 34,
      "outputs": [
        {
          "output_type": "display_data",
          "data": {
            "text/plain": [
              "<IPython.core.display.HTML object>"
            ],
            "text/html": [
              "\n",
              "    <b>Question 1:</b> Did the condition of Delhi really improve after Mr Arvind Kejriwal became the CM of Delhi? I was really surprised after seeing 67 seats given to the AAP in the assembly election by the people of Delhi. Is he really justifying the faith of the Delhi people?<br><br>\n",
              "    <b>Question 2:</b> Now that the Aam Aadmi Party is in power again in 2015, what changes have been noticed so far in Delhi?<br><br>\n",
              "    <b>True Label: <span style=\"color: green\">Non-Duplicate Question</span></b><br>\n",
              "    <b>Predicted Label: <span style=\"color: green\">Non-Duplicate Question</span></b>\n",
              "    "
            ]
          },
          "metadata": {}
        }
      ]
    },
    {
      "cell_type": "code",
      "source": [
        "# Long Questions\n",
        "predict_duplicate(questions_1, questions_2, labels, random=False, indice=1392)"
      ],
      "metadata": {
        "colab": {
          "base_uri": "https://localhost:8080/",
          "height": 121
        },
        "id": "1GojKUpOP3Z3",
        "outputId": "ec386ad7-329c-472f-85ae-56d8cc5d2f57"
      },
      "execution_count": 95,
      "outputs": [
        {
          "output_type": "display_data",
          "data": {
            "text/plain": [
              "<IPython.core.display.HTML object>"
            ],
            "text/html": [
              "\n",
              "    <b>Question 1:</b> I have an old instagram account but I dont know the password or the email I used for it, and its not linked with my Facebook account. how do I delete it?<br><br>\n",
              "    <b>Question 2:</b> I forgot the password of my old instagram account that I haven't used for 2+ years. I don't have any way to reset it, is there a way I can hack it?<br><br>\n",
              "    <b>True Label: <span style=\"color: red\">Duplicate Question</span></b><br>\n",
              "    <b>Predicted Label: <span style=\"color: red\">Duplicate Question</span></b>\n",
              "    "
            ]
          },
          "metadata": {}
        }
      ]
    },
    {
      "cell_type": "code",
      "source": [
        "# Long Questions\n",
        "predict_duplicate(questions_1, questions_2, labels)"
      ],
      "metadata": {
        "colab": {
          "base_uri": "https://localhost:8080/",
          "height": 121
        },
        "id": "iuyimgMPK8hy",
        "outputId": "9ab5e546-7b5b-4a8c-8b8c-5e1fc87ebd64"
      },
      "execution_count": 66,
      "outputs": [
        {
          "output_type": "display_data",
          "data": {
            "text/plain": [
              "<IPython.core.display.HTML object>"
            ],
            "text/html": [
              "\n",
              "    <b>Question 1:</b> Is it advisable to start working on ETL tool (iway data migrator) after working 10 years on EAI tools (Tibco products)?<br><br>\n",
              "    <b>Question 2:</b> Now Tibco has been sold and most companies are replacing Tibco products. I have just started working on Tibco. Should I continue or switch to some other technology like Oracle Fusion?<br><br>\n",
              "    <b>True Label: <span style=\"color: green\">Non-Duplicate Question</span></b><br>\n",
              "    <b>Predicted Label: <span style=\"color: green\">Non-Duplicate Question</span></b>\n",
              "    "
            ]
          },
          "metadata": {}
        }
      ]
    },
    {
      "cell_type": "code",
      "source": [
        "# Long Questions\n",
        "predict_duplicate(questions_1, questions_2, labels, random=False, indice=2358)"
      ],
      "metadata": {
        "colab": {
          "base_uri": "https://localhost:8080/",
          "height": 121
        },
        "id": "3lE9mt-HSFcP",
        "outputId": "a6c8446a-925d-431f-8f71-4969676f9e60"
      },
      "execution_count": 96,
      "outputs": [
        {
          "output_type": "display_data",
          "data": {
            "text/plain": [
              "<IPython.core.display.HTML object>"
            ],
            "text/html": [
              "\n",
              "    <b>Question 1:</b> How will the ban on 500 and 1000 rupee notes bring out the black money of the big shots who have lots of it in the Swiss bank in a different currency?<br><br>\n",
              "    <b>Question 2:</b> How is demonetizing the Rs 500 and 1000 currencies affects Indian economy? How this affect the black money in Swiss accounts?<br><br>\n",
              "    <b>True Label: <span style=\"color: red\">Duplicate Question</span></b><br>\n",
              "    <b>Predicted Label: <span style=\"color: red\">Duplicate Question</span></b>\n",
              "    "
            ]
          },
          "metadata": {}
        }
      ]
    },
    {
      "cell_type": "code",
      "source": [
        "# Correct Prediction!!!\n",
        "predict_duplicate(questions_1, questions_2, labels, random=False, indice=13086)"
      ],
      "metadata": {
        "colab": {
          "base_uri": "https://localhost:8080/",
          "height": 121
        },
        "id": "s4sOfPp3SrwT",
        "outputId": "12bcc45c-2056-41fe-b30a-41805b3d788d"
      },
      "execution_count": 98,
      "outputs": [
        {
          "output_type": "display_data",
          "data": {
            "text/plain": [
              "<IPython.core.display.HTML object>"
            ],
            "text/html": [
              "\n",
              "    <b>Question 1:</b> Movie Lists: What are the Ten Hollywood flicks that we should (must) watch before we die?<br><br>\n",
              "    <b>Question 2:</b> Which are the top 100 Hollywood movies one should watch before dying?<br><br>\n",
              "    <b>True Label: <span style=\"color: red\">Duplicate Question</span></b><br>\n",
              "    <b>Predicted Label: <span style=\"color: red\">Duplicate Question</span></b>\n",
              "    "
            ]
          },
          "metadata": {}
        }
      ]
    },
    {
      "cell_type": "markdown",
      "source": [
        "#### **Other Questions**"
      ],
      "metadata": {
        "id": "E4kWofXv_HYT"
      }
    },
    {
      "cell_type": "code",
      "source": [
        "q1 = [\"How can I lose weight fast?\"]\n",
        "q2 = [\"What are some effective weight loss strategies?\"]\n",
        "label = [1]\n",
        "\n",
        "predict_duplicate(q1, q2, label)"
      ],
      "metadata": {
        "colab": {
          "base_uri": "https://localhost:8080/",
          "height": 121
        },
        "id": "n4wASFrL-i7k",
        "outputId": "105c214b-2db2-40ff-e716-ee118d623df5"
      },
      "execution_count": 92,
      "outputs": [
        {
          "output_type": "display_data",
          "data": {
            "text/plain": [
              "<IPython.core.display.HTML object>"
            ],
            "text/html": [
              "\n",
              "    <b>Question 1:</b> How can I lose weight fast?<br><br>\n",
              "    <b>Question 2:</b> What are some effective weight loss strategies?<br><br>\n",
              "    <b>True Label: <span style=\"color: red\">Duplicate Question</span></b><br>\n",
              "    <b>Predicted Label: <span style=\"color: red\">Duplicate Question</span></b>\n",
              "    "
            ]
          },
          "metadata": {}
        }
      ]
    },
    {
      "cell_type": "code",
      "source": [
        "q1 = [\"What is the difference between a quadratic equation and a cubic equation?\"]\n",
        "q2 = [\"How do you solve a cubic equation?\"]\n",
        "label = [0]\n",
        "\n",
        "predict_duplicate(q1, q2, label)"
      ],
      "metadata": {
        "colab": {
          "base_uri": "https://localhost:8080/",
          "height": 121
        },
        "id": "_XzK3g58-sXf",
        "outputId": "5d9cc9f0-6fca-4f62-b75c-e6f873358e9a"
      },
      "execution_count": 18,
      "outputs": [
        {
          "output_type": "display_data",
          "data": {
            "text/plain": [
              "<IPython.core.display.HTML object>"
            ],
            "text/html": [
              "\n",
              "    <b>Question 1:</b> What is the difference between a quadratic equation and a cubic equation?<br><br>\n",
              "    <b>Question 2:</b> How do you solve a cubic equation?<br><br>\n",
              "    <b>True Label: <span style=\"color: green\">Non-Duplicate Question</span></b><br>\n",
              "    <b>Predicted Label: <span style=\"color: green\">Non-Duplicate Question</span></b>\n",
              "    "
            ]
          },
          "metadata": {}
        }
      ]
    },
    {
      "cell_type": "code",
      "source": [
        "# More challenging questions\n",
        "q1 = [\"What are the most effective methods for reducing carbon emissions in urban areas to combat climate change?\"]\n",
        "q2 = [\"How can cities reduce carbon emissions to mitigate the impacts of climate change?\"]\n",
        "label = [1]\n",
        "\n",
        "predict_duplicate(q1, q2, label)"
      ],
      "metadata": {
        "colab": {
          "base_uri": "https://localhost:8080/",
          "height": 121
        },
        "id": "k5cdg4KiJ39Q",
        "outputId": "e486cb1d-622d-4d14-b75f-5913f6d31035"
      },
      "execution_count": 19,
      "outputs": [
        {
          "output_type": "display_data",
          "data": {
            "text/plain": [
              "<IPython.core.display.HTML object>"
            ],
            "text/html": [
              "\n",
              "    <b>Question 1:</b> What are the most effective methods for reducing carbon emissions in urban areas to combat climate change?<br><br>\n",
              "    <b>Question 2:</b> How can cities reduce carbon emissions to mitigate the impacts of climate change?<br><br>\n",
              "    <b>True Label: <span style=\"color: red\">Duplicate Question</span></b><br>\n",
              "    <b>Predicted Label: <span style=\"color: red\">Duplicate Question</span></b>\n",
              "    "
            ]
          },
          "metadata": {}
        }
      ]
    },
    {
      "cell_type": "code",
      "source": [
        "# More challenging questions\n",
        "q1 = [\"What are the key differences between traditional Chinese medicine and modern Western medicine?\"]\n",
        "q2 = [\"How do Eastern and Western medical practices differ in their approaches to healthcare?\"]\n",
        "label = [0]\n",
        "\n",
        "predict_duplicate(q1, q2, label)"
      ],
      "metadata": {
        "colab": {
          "base_uri": "https://localhost:8080/",
          "height": 121
        },
        "id": "_zlhWZYIKFFk",
        "outputId": "f9bbf512-0ed2-4a16-9b91-3280e0c15aa7"
      },
      "execution_count": 20,
      "outputs": [
        {
          "output_type": "display_data",
          "data": {
            "text/plain": [
              "<IPython.core.display.HTML object>"
            ],
            "text/html": [
              "\n",
              "    <b>Question 1:</b> What are the key differences between traditional Chinese medicine and modern Western medicine?<br><br>\n",
              "    <b>Question 2:</b> How do Eastern and Western medical practices differ in their approaches to healthcare?<br><br>\n",
              "    <b>True Label: <span style=\"color: green\">Non-Duplicate Question</span></b><br>\n",
              "    <b>Predicted Label: <span style=\"color: green\">Non-Duplicate Question</span></b>\n",
              "    "
            ]
          },
          "metadata": {}
        }
      ]
    },
    {
      "cell_type": "markdown",
      "source": [
        "**Conclusion:** The model demonstrates accurate predictions not only within the test set but also when presented with other pairs of complex and/or lengthy questions that are not part of the Quora dataset. Additionally, it accurately predicts questions that require a deep understanding of context, a task where the LSTM network fails. This is due to the model's multiple layers of attention, which can capture complex relationships within sentences."
      ],
      "metadata": {
        "id": "-gg-98FeJbRb"
      }
    }
  ],
  "metadata": {
    "colab": {
      "provenance": []
    },
    "coursera": {
      "schema_names": [
        "NLPC3-4A"
      ]
    },
    "grader_version": "1",
    "kernelspec": {
      "display_name": "Python 3",
      "name": "python3"
    },
    "language_info": {
      "codemirror_mode": {
        "name": "ipython",
        "version": 3
      },
      "file_extension": ".py",
      "mimetype": "text/x-python",
      "name": "python",
      "nbconvert_exporter": "python",
      "pygments_lexer": "ipython3",
      "version": "3.8.10"
    },
    "widgets": {
      "application/vnd.jupyter.widget-state+json": {
        "61af0adabf924872bdbc568be263e397": {
          "model_module": "@jupyter-widgets/controls",
          "model_name": "HBoxModel",
          "model_module_version": "1.5.0",
          "state": {
            "_dom_classes": [],
            "_model_module": "@jupyter-widgets/controls",
            "_model_module_version": "1.5.0",
            "_model_name": "HBoxModel",
            "_view_count": null,
            "_view_module": "@jupyter-widgets/controls",
            "_view_module_version": "1.5.0",
            "_view_name": "HBoxView",
            "box_style": "",
            "children": [
              "IPY_MODEL_cd179363fb0c44df898876c0398d2a7a",
              "IPY_MODEL_984e20052edc4cacab9ea13ddc75f75a",
              "IPY_MODEL_3f1bf49cd8b24212ad57b718b890365a"
            ],
            "layout": "IPY_MODEL_b4706e52ebef49919f201a6bee85b0cd"
          }
        },
        "cd179363fb0c44df898876c0398d2a7a": {
          "model_module": "@jupyter-widgets/controls",
          "model_name": "HTMLModel",
          "model_module_version": "1.5.0",
          "state": {
            "_dom_classes": [],
            "_model_module": "@jupyter-widgets/controls",
            "_model_module_version": "1.5.0",
            "_model_name": "HTMLModel",
            "_view_count": null,
            "_view_module": "@jupyter-widgets/controls",
            "_view_module_version": "1.5.0",
            "_view_name": "HTMLView",
            "description": "",
            "description_tooltip": null,
            "layout": "IPY_MODEL_ffd99c952cd7447a8ea9554669d027df",
            "placeholder": "​",
            "style": "IPY_MODEL_545024a9c9854c8589970fdf6c208b26",
            "value": "model.safetensors: 100%"
          }
        },
        "984e20052edc4cacab9ea13ddc75f75a": {
          "model_module": "@jupyter-widgets/controls",
          "model_name": "FloatProgressModel",
          "model_module_version": "1.5.0",
          "state": {
            "_dom_classes": [],
            "_model_module": "@jupyter-widgets/controls",
            "_model_module_version": "1.5.0",
            "_model_name": "FloatProgressModel",
            "_view_count": null,
            "_view_module": "@jupyter-widgets/controls",
            "_view_module_version": "1.5.0",
            "_view_name": "ProgressView",
            "bar_style": "success",
            "description": "",
            "description_tooltip": null,
            "layout": "IPY_MODEL_6ec7b958bc814c91a9b00536305c6a4c",
            "max": 1344951957,
            "min": 0,
            "orientation": "horizontal",
            "style": "IPY_MODEL_3af45f5de6364910bd3a05da467eaacb",
            "value": 1344951957
          }
        },
        "3f1bf49cd8b24212ad57b718b890365a": {
          "model_module": "@jupyter-widgets/controls",
          "model_name": "HTMLModel",
          "model_module_version": "1.5.0",
          "state": {
            "_dom_classes": [],
            "_model_module": "@jupyter-widgets/controls",
            "_model_module_version": "1.5.0",
            "_model_name": "HTMLModel",
            "_view_count": null,
            "_view_module": "@jupyter-widgets/controls",
            "_view_module_version": "1.5.0",
            "_view_name": "HTMLView",
            "description": "",
            "description_tooltip": null,
            "layout": "IPY_MODEL_9424a63862ec49698e354966249686d1",
            "placeholder": "​",
            "style": "IPY_MODEL_0af6811bb1f641638d42e6f037bcf3e7",
            "value": " 1.34G/1.34G [00:04&lt;00:00, 274MB/s]"
          }
        },
        "b4706e52ebef49919f201a6bee85b0cd": {
          "model_module": "@jupyter-widgets/base",
          "model_name": "LayoutModel",
          "model_module_version": "1.2.0",
          "state": {
            "_model_module": "@jupyter-widgets/base",
            "_model_module_version": "1.2.0",
            "_model_name": "LayoutModel",
            "_view_count": null,
            "_view_module": "@jupyter-widgets/base",
            "_view_module_version": "1.2.0",
            "_view_name": "LayoutView",
            "align_content": null,
            "align_items": null,
            "align_self": null,
            "border": null,
            "bottom": null,
            "display": null,
            "flex": null,
            "flex_flow": null,
            "grid_area": null,
            "grid_auto_columns": null,
            "grid_auto_flow": null,
            "grid_auto_rows": null,
            "grid_column": null,
            "grid_gap": null,
            "grid_row": null,
            "grid_template_areas": null,
            "grid_template_columns": null,
            "grid_template_rows": null,
            "height": null,
            "justify_content": null,
            "justify_items": null,
            "left": null,
            "margin": null,
            "max_height": null,
            "max_width": null,
            "min_height": null,
            "min_width": null,
            "object_fit": null,
            "object_position": null,
            "order": null,
            "overflow": null,
            "overflow_x": null,
            "overflow_y": null,
            "padding": null,
            "right": null,
            "top": null,
            "visibility": null,
            "width": null
          }
        },
        "ffd99c952cd7447a8ea9554669d027df": {
          "model_module": "@jupyter-widgets/base",
          "model_name": "LayoutModel",
          "model_module_version": "1.2.0",
          "state": {
            "_model_module": "@jupyter-widgets/base",
            "_model_module_version": "1.2.0",
            "_model_name": "LayoutModel",
            "_view_count": null,
            "_view_module": "@jupyter-widgets/base",
            "_view_module_version": "1.2.0",
            "_view_name": "LayoutView",
            "align_content": null,
            "align_items": null,
            "align_self": null,
            "border": null,
            "bottom": null,
            "display": null,
            "flex": null,
            "flex_flow": null,
            "grid_area": null,
            "grid_auto_columns": null,
            "grid_auto_flow": null,
            "grid_auto_rows": null,
            "grid_column": null,
            "grid_gap": null,
            "grid_row": null,
            "grid_template_areas": null,
            "grid_template_columns": null,
            "grid_template_rows": null,
            "height": null,
            "justify_content": null,
            "justify_items": null,
            "left": null,
            "margin": null,
            "max_height": null,
            "max_width": null,
            "min_height": null,
            "min_width": null,
            "object_fit": null,
            "object_position": null,
            "order": null,
            "overflow": null,
            "overflow_x": null,
            "overflow_y": null,
            "padding": null,
            "right": null,
            "top": null,
            "visibility": null,
            "width": null
          }
        },
        "545024a9c9854c8589970fdf6c208b26": {
          "model_module": "@jupyter-widgets/controls",
          "model_name": "DescriptionStyleModel",
          "model_module_version": "1.5.0",
          "state": {
            "_model_module": "@jupyter-widgets/controls",
            "_model_module_version": "1.5.0",
            "_model_name": "DescriptionStyleModel",
            "_view_count": null,
            "_view_module": "@jupyter-widgets/base",
            "_view_module_version": "1.2.0",
            "_view_name": "StyleView",
            "description_width": ""
          }
        },
        "6ec7b958bc814c91a9b00536305c6a4c": {
          "model_module": "@jupyter-widgets/base",
          "model_name": "LayoutModel",
          "model_module_version": "1.2.0",
          "state": {
            "_model_module": "@jupyter-widgets/base",
            "_model_module_version": "1.2.0",
            "_model_name": "LayoutModel",
            "_view_count": null,
            "_view_module": "@jupyter-widgets/base",
            "_view_module_version": "1.2.0",
            "_view_name": "LayoutView",
            "align_content": null,
            "align_items": null,
            "align_self": null,
            "border": null,
            "bottom": null,
            "display": null,
            "flex": null,
            "flex_flow": null,
            "grid_area": null,
            "grid_auto_columns": null,
            "grid_auto_flow": null,
            "grid_auto_rows": null,
            "grid_column": null,
            "grid_gap": null,
            "grid_row": null,
            "grid_template_areas": null,
            "grid_template_columns": null,
            "grid_template_rows": null,
            "height": null,
            "justify_content": null,
            "justify_items": null,
            "left": null,
            "margin": null,
            "max_height": null,
            "max_width": null,
            "min_height": null,
            "min_width": null,
            "object_fit": null,
            "object_position": null,
            "order": null,
            "overflow": null,
            "overflow_x": null,
            "overflow_y": null,
            "padding": null,
            "right": null,
            "top": null,
            "visibility": null,
            "width": null
          }
        },
        "3af45f5de6364910bd3a05da467eaacb": {
          "model_module": "@jupyter-widgets/controls",
          "model_name": "ProgressStyleModel",
          "model_module_version": "1.5.0",
          "state": {
            "_model_module": "@jupyter-widgets/controls",
            "_model_module_version": "1.5.0",
            "_model_name": "ProgressStyleModel",
            "_view_count": null,
            "_view_module": "@jupyter-widgets/base",
            "_view_module_version": "1.2.0",
            "_view_name": "StyleView",
            "bar_color": null,
            "description_width": ""
          }
        },
        "9424a63862ec49698e354966249686d1": {
          "model_module": "@jupyter-widgets/base",
          "model_name": "LayoutModel",
          "model_module_version": "1.2.0",
          "state": {
            "_model_module": "@jupyter-widgets/base",
            "_model_module_version": "1.2.0",
            "_model_name": "LayoutModel",
            "_view_count": null,
            "_view_module": "@jupyter-widgets/base",
            "_view_module_version": "1.2.0",
            "_view_name": "LayoutView",
            "align_content": null,
            "align_items": null,
            "align_self": null,
            "border": null,
            "bottom": null,
            "display": null,
            "flex": null,
            "flex_flow": null,
            "grid_area": null,
            "grid_auto_columns": null,
            "grid_auto_flow": null,
            "grid_auto_rows": null,
            "grid_column": null,
            "grid_gap": null,
            "grid_row": null,
            "grid_template_areas": null,
            "grid_template_columns": null,
            "grid_template_rows": null,
            "height": null,
            "justify_content": null,
            "justify_items": null,
            "left": null,
            "margin": null,
            "max_height": null,
            "max_width": null,
            "min_height": null,
            "min_width": null,
            "object_fit": null,
            "object_position": null,
            "order": null,
            "overflow": null,
            "overflow_x": null,
            "overflow_y": null,
            "padding": null,
            "right": null,
            "top": null,
            "visibility": null,
            "width": null
          }
        },
        "0af6811bb1f641638d42e6f037bcf3e7": {
          "model_module": "@jupyter-widgets/controls",
          "model_name": "DescriptionStyleModel",
          "model_module_version": "1.5.0",
          "state": {
            "_model_module": "@jupyter-widgets/controls",
            "_model_module_version": "1.5.0",
            "_model_name": "DescriptionStyleModel",
            "_view_count": null,
            "_view_module": "@jupyter-widgets/base",
            "_view_module_version": "1.2.0",
            "_view_name": "StyleView",
            "description_width": ""
          }
        }
      }
    }
  },
  "nbformat": 4,
  "nbformat_minor": 0
}