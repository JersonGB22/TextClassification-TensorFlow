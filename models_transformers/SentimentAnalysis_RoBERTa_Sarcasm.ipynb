{
  "cells": [
    {
      "cell_type": "markdown",
      "metadata": {
        "id": "ezzKLPtx8S6C"
      },
      "source": [
        "# **Text Classifier with the News Headlines Dataset**"
      ]
    },
    {
      "cell_type": "markdown",
      "metadata": {
        "id": "Q2zgcLmK7_i7"
      },
      "source": [
        "This notebook demonstrates the implementation of a text classification model using a Transformer network for sarcasm detection, a more challenging task compared to traditional sentiment analysis. Its purpose is to determine whether news headlines are sarcastic or not, using the [News Headlines Dataset for Sarcasm Detection](https://www.kaggle.com/rmisra/news-headlines-dataset-for-sarcasm-detection/home). For this task, the pre-trained [RoBERTa (Robustly Optimized BERT Pretraining Approach)](https://huggingface.co/docs/transformers/en/model_doc/roberta) model from [Hugging Face 🤗](https://huggingface.co/) is fine-tuned to improve its performance in sarcasm detection. Hugging Face is a platform focused on developing tools and AI models for natural language processing (NLP). It is known for its open-source library called Transformers, which provides a simple interface for working with advanced and pre-trained NLP models such as BERT, T5, GPT, and others.\n",
        "\n",
        "**Key Points:**\n",
        "- **Model Architecture:** The RoBERTa Large model from Hugging Face is used, which is based on [BERT](https://huggingface.co/docs/transformers/en/model_doc/bert), but achieves better results on GLUE, RACE, and SQuAD, datasets used to evaluate text comprehension and reasoning models. It is loaded using the generic class [TFAutoModel](https://huggingface.co/transformers/v3.0.2/model_doc/auto.html#tfautomodel), which allows instantiating a pre-trained model based on TensorFlow with just its name. Then, it is fine-tuned by adding a dropout layer and a dense classification layer with ``sigmoid`` activation, where 0 indicates a non-sarcastic headline and 1 indicates a sarcastic headline.\n",
        "\n",
        "- **Tokenization:** RoBERTa uses ``input_ids``, which are the indices of the tokenized input sequence in the vocabulary, and ``attention_mask``, a mask to avoid paying attention to padding token indices. Hugging Face has already implemented a tokenizer for each of its models that returns everything needed for the respective model's inputs, so for this case, the generic tokenizer [AutoTokenizer](https://huggingface.co/docs/transformers/model_doc/auto#transformers.AutoTokenizer) will be used, which allows instantiating the model's tokenizer with just its name.\n",
        "\n",
        "- **Using a TPU:** Due to the massive size of the RoBERTa model, specifically `roberta-large`, which has over 300 million parameters, the use of a TPU in Google Colab is required to significantly accelerate training. Although only the parameters of the classification layer are adjusted during fine-tuning, loading and processing pre-trained embeddings, along with intensive backpropagation calculations, require considerable computational resources. The TPU facilitates efficient handling of these tasks compared to GPUs or CPUs, optimizing performance and training time.\n",
        "\n",
        "- **Comparison with the [Bidirectional LSTM Network Model](https://github.com/JersonGB22/TextClassification-TensorFlow/blob/main/models_lstm/SentimentAnalysis_LSTM_Sarcasm.ipynb):** In this notebook, the results obtained with the Transformer network using the RoBERTa model will be compared with the results obtained from the model with a bidirectional LSTM network."
      ]
    },
    {
      "cell_type": "markdown",
      "metadata": {
        "id": "ohI0LZ0I8qQs"
      },
      "source": [
        "### **Imports**"
      ]
    },
    {
      "cell_type": "code",
      "execution_count": null,
      "metadata": {
        "id": "D1M4u0Ah5kZH"
      },
      "outputs": [],
      "source": [
        "import tensorflow as tf\n",
        "from transformers import TFAutoModel, AutoTokenizer\n",
        "from sklearn.metrics import confusion_matrix, ConfusionMatrixDisplay\n",
        "from sklearn.model_selection import train_test_split\n",
        "import numpy as np\n",
        "import pandas as pd\n",
        "from IPython.core.display import HTML\n",
        "from google.colab import drive"
      ]
    },
    {
      "cell_type": "code",
      "execution_count": null,
      "metadata": {
        "colab": {
          "base_uri": "https://localhost:8080/"
        },
        "id": "xEPPd4styIwd",
        "outputId": "d62bf2d1-19c9-4a31-c8de-010a7c4baf4b"
      },
      "outputs": [
        {
          "name": "stdout",
          "output_type": "stream",
          "text": [
            "TPU initialized:\n",
            "All devices:  [LogicalDevice(name='/job:worker/replica:0/task:0/device:TPU:0', device_type='TPU'), LogicalDevice(name='/job:worker/replica:0/task:0/device:TPU:1', device_type='TPU'), LogicalDevice(name='/job:worker/replica:0/task:0/device:TPU:2', device_type='TPU'), LogicalDevice(name='/job:worker/replica:0/task:0/device:TPU:3', device_type='TPU'), LogicalDevice(name='/job:worker/replica:0/task:0/device:TPU:4', device_type='TPU'), LogicalDevice(name='/job:worker/replica:0/task:0/device:TPU:5', device_type='TPU'), LogicalDevice(name='/job:worker/replica:0/task:0/device:TPU:6', device_type='TPU'), LogicalDevice(name='/job:worker/replica:0/task:0/device:TPU:7', device_type='TPU')]\n"
          ]
        }
      ],
      "source": [
        "# TPU setup\n",
        "try:\n",
        "  tpu = tf.distribute.cluster_resolver.TPUClusterResolver()\n",
        "  tf.config.experimental_connect_to_cluster(tpu)\n",
        "  tf.tpu.experimental.initialize_tpu_system(tpu)\n",
        "  strategy = tf.distribute.TPUStrategy(tpu)\n",
        "  print(\"TPU initialized:\")\n",
        "  print(\"All devices: \", tf.config.list_logical_devices(\"TPU\"))\n",
        "except ValueError:\n",
        "  print(\"TPU not found\")"
      ]
    },
    {
      "cell_type": "markdown",
      "metadata": {
        "id": "piIYd5Nl-8SX"
      },
      "source": [
        "### **Parameters**"
      ]
    },
    {
      "cell_type": "code",
      "execution_count": null,
      "metadata": {
        "id": "mFvpDxgx85Yt"
      },
      "outputs": [],
      "source": [
        "epochs = 3\n",
        "batch_size = 32\n",
        "buffer_size = 1024\n",
        "max_length = 64 #The headlines are short texts\n",
        "AUTOTUNE = tf.data.AUTOTUNE\n",
        "model_name = \"roberta-large\""
      ]
    },
    {
      "cell_type": "markdown",
      "metadata": {
        "id": "2Jb1Tnf8-6m3"
      },
      "source": [
        "### **Load and Preprocess the Dataset**"
      ]
    },
    {
      "cell_type": "code",
      "execution_count": null,
      "metadata": {
        "id": "m09K-cJ6_eh0"
      },
      "outputs": [],
      "source": [
        "data_url = \"https://storage.googleapis.com/tensorflow-1-public/course3/sarcasm.json\"\n",
        "data_path = \"/content/sarcasm.json\"\n",
        "\n",
        "# Download dataset\n",
        "!wget -q $data_url  -O $data_path"
      ]
    },
    {
      "cell_type": "code",
      "execution_count": null,
      "metadata": {
        "colab": {
          "base_uri": "https://localhost:8080/",
          "height": 424
        },
        "id": "LQbHlUjOSaOg",
        "outputId": "bc22138a-4cd7-4fc0-88d7-1e65bb559825"
      },
      "outputs": [
        {
          "data": {
            "application/vnd.google.colaboratory.intrinsic+json": {
              "summary": "{\n  \"name\": \"df\",\n  \"rows\": 26709,\n  \"fields\": [\n    {\n      \"column\": \"article_link\",\n      \"properties\": {\n        \"dtype\": \"string\",\n        \"num_unique_values\": 26708,\n        \"samples\": [\n          \"https://www.theonion.com/isis-recruiter-excited-to-be-talking-to-popular-high-sc-1819579508\",\n          \"https://www.huffingtonpost.com/entry/jimmy-fallon-could-barely-keep-it-together-during-this-cardi-b-interview_us_5a3c01aae4b06d1621b2de98\",\n          \"https://www.huffingtonpost.com/entry/4-ways-to-support-farmtos_b_5906452.html\"\n        ],\n        \"semantic_type\": \"\",\n        \"description\": \"\"\n      }\n    },\n    {\n      \"column\": \"headline\",\n      \"properties\": {\n        \"dtype\": \"string\",\n        \"num_unique_values\": 26602,\n        \"samples\": [\n          \"departing employee not quite important enough for send-off\",\n          \"college student still managing to look like asshole in picture of village he helped build\",\n          \"fun sticker placed on child's ventilator\"\n        ],\n        \"semantic_type\": \"\",\n        \"description\": \"\"\n      }\n    },\n    {\n      \"column\": \"is_sarcastic\",\n      \"properties\": {\n        \"dtype\": \"number\",\n        \"std\": 0,\n        \"min\": 0,\n        \"max\": 1,\n        \"num_unique_values\": 2,\n        \"samples\": [\n          1,\n          0\n        ],\n        \"semantic_type\": \"\",\n        \"description\": \"\"\n      }\n    }\n  ]\n}",
              "type": "dataframe",
              "variable_name": "df"
            },
            "text/html": [
              "\n",
              "  <div id=\"df-3a06bea9-78c4-4cc8-89a5-36773d0a55eb\" class=\"colab-df-container\">\n",
              "    <div>\n",
              "<style scoped>\n",
              "    .dataframe tbody tr th:only-of-type {\n",
              "        vertical-align: middle;\n",
              "    }\n",
              "\n",
              "    .dataframe tbody tr th {\n",
              "        vertical-align: top;\n",
              "    }\n",
              "\n",
              "    .dataframe thead th {\n",
              "        text-align: right;\n",
              "    }\n",
              "</style>\n",
              "<table border=\"1\" class=\"dataframe\">\n",
              "  <thead>\n",
              "    <tr style=\"text-align: right;\">\n",
              "      <th></th>\n",
              "      <th>article_link</th>\n",
              "      <th>headline</th>\n",
              "      <th>is_sarcastic</th>\n",
              "    </tr>\n",
              "  </thead>\n",
              "  <tbody>\n",
              "    <tr>\n",
              "      <th>0</th>\n",
              "      <td>https://www.huffingtonpost.com/entry/versace-b...</td>\n",
              "      <td>former versace store clerk sues over secret 'b...</td>\n",
              "      <td>0</td>\n",
              "    </tr>\n",
              "    <tr>\n",
              "      <th>1</th>\n",
              "      <td>https://www.huffingtonpost.com/entry/roseanne-...</td>\n",
              "      <td>the 'roseanne' revival catches up to our thorn...</td>\n",
              "      <td>0</td>\n",
              "    </tr>\n",
              "    <tr>\n",
              "      <th>2</th>\n",
              "      <td>https://local.theonion.com/mom-starting-to-fea...</td>\n",
              "      <td>mom starting to fear son's web series closest ...</td>\n",
              "      <td>1</td>\n",
              "    </tr>\n",
              "    <tr>\n",
              "      <th>3</th>\n",
              "      <td>https://politics.theonion.com/boehner-just-wan...</td>\n",
              "      <td>boehner just wants wife to listen, not come up...</td>\n",
              "      <td>1</td>\n",
              "    </tr>\n",
              "    <tr>\n",
              "      <th>4</th>\n",
              "      <td>https://www.huffingtonpost.com/entry/jk-rowlin...</td>\n",
              "      <td>j.k. rowling wishes snape happy birthday in th...</td>\n",
              "      <td>0</td>\n",
              "    </tr>\n",
              "    <tr>\n",
              "      <th>...</th>\n",
              "      <td>...</td>\n",
              "      <td>...</td>\n",
              "      <td>...</td>\n",
              "    </tr>\n",
              "    <tr>\n",
              "      <th>26704</th>\n",
              "      <td>https://www.huffingtonpost.com/entry/american-...</td>\n",
              "      <td>american politics in moral free-fall</td>\n",
              "      <td>0</td>\n",
              "    </tr>\n",
              "    <tr>\n",
              "      <th>26705</th>\n",
              "      <td>https://www.huffingtonpost.com/entry/americas-...</td>\n",
              "      <td>america's best 20 hikes</td>\n",
              "      <td>0</td>\n",
              "    </tr>\n",
              "    <tr>\n",
              "      <th>26706</th>\n",
              "      <td>https://www.huffingtonpost.com/entry/reparatio...</td>\n",
              "      <td>reparations and obama</td>\n",
              "      <td>0</td>\n",
              "    </tr>\n",
              "    <tr>\n",
              "      <th>26707</th>\n",
              "      <td>https://www.huffingtonpost.com/entry/israeli-b...</td>\n",
              "      <td>israeli ban targeting boycott supporters raise...</td>\n",
              "      <td>0</td>\n",
              "    </tr>\n",
              "    <tr>\n",
              "      <th>26708</th>\n",
              "      <td>https://www.huffingtonpost.com/entry/gourmet-g...</td>\n",
              "      <td>gourmet gifts for the foodie 2014</td>\n",
              "      <td>0</td>\n",
              "    </tr>\n",
              "  </tbody>\n",
              "</table>\n",
              "<p>26709 rows × 3 columns</p>\n",
              "</div>\n",
              "    <div class=\"colab-df-buttons\">\n",
              "\n",
              "  <div class=\"colab-df-container\">\n",
              "    <button class=\"colab-df-convert\" onclick=\"convertToInteractive('df-3a06bea9-78c4-4cc8-89a5-36773d0a55eb')\"\n",
              "            title=\"Convert this dataframe to an interactive table.\"\n",
              "            style=\"display:none;\">\n",
              "\n",
              "  <svg xmlns=\"http://www.w3.org/2000/svg\" height=\"24px\" viewBox=\"0 -960 960 960\">\n",
              "    <path d=\"M120-120v-720h720v720H120Zm60-500h600v-160H180v160Zm220 220h160v-160H400v160Zm0 220h160v-160H400v160ZM180-400h160v-160H180v160Zm440 0h160v-160H620v160ZM180-180h160v-160H180v160Zm440 0h160v-160H620v160Z\"/>\n",
              "  </svg>\n",
              "    </button>\n",
              "\n",
              "  <style>\n",
              "    .colab-df-container {\n",
              "      display:flex;\n",
              "      gap: 12px;\n",
              "    }\n",
              "\n",
              "    .colab-df-convert {\n",
              "      background-color: #E8F0FE;\n",
              "      border: none;\n",
              "      border-radius: 50%;\n",
              "      cursor: pointer;\n",
              "      display: none;\n",
              "      fill: #1967D2;\n",
              "      height: 32px;\n",
              "      padding: 0 0 0 0;\n",
              "      width: 32px;\n",
              "    }\n",
              "\n",
              "    .colab-df-convert:hover {\n",
              "      background-color: #E2EBFA;\n",
              "      box-shadow: 0px 1px 2px rgba(60, 64, 67, 0.3), 0px 1px 3px 1px rgba(60, 64, 67, 0.15);\n",
              "      fill: #174EA6;\n",
              "    }\n",
              "\n",
              "    .colab-df-buttons div {\n",
              "      margin-bottom: 4px;\n",
              "    }\n",
              "\n",
              "    [theme=dark] .colab-df-convert {\n",
              "      background-color: #3B4455;\n",
              "      fill: #D2E3FC;\n",
              "    }\n",
              "\n",
              "    [theme=dark] .colab-df-convert:hover {\n",
              "      background-color: #434B5C;\n",
              "      box-shadow: 0px 1px 3px 1px rgba(0, 0, 0, 0.15);\n",
              "      filter: drop-shadow(0px 1px 2px rgba(0, 0, 0, 0.3));\n",
              "      fill: #FFFFFF;\n",
              "    }\n",
              "  </style>\n",
              "\n",
              "    <script>\n",
              "      const buttonEl =\n",
              "        document.querySelector('#df-3a06bea9-78c4-4cc8-89a5-36773d0a55eb button.colab-df-convert');\n",
              "      buttonEl.style.display =\n",
              "        google.colab.kernel.accessAllowed ? 'block' : 'none';\n",
              "\n",
              "      async function convertToInteractive(key) {\n",
              "        const element = document.querySelector('#df-3a06bea9-78c4-4cc8-89a5-36773d0a55eb');\n",
              "        const dataTable =\n",
              "          await google.colab.kernel.invokeFunction('convertToInteractive',\n",
              "                                                    [key], {});\n",
              "        if (!dataTable) return;\n",
              "\n",
              "        const docLinkHtml = 'Like what you see? Visit the ' +\n",
              "          '<a target=\"_blank\" href=https://colab.research.google.com/notebooks/data_table.ipynb>data table notebook</a>'\n",
              "          + ' to learn more about interactive tables.';\n",
              "        element.innerHTML = '';\n",
              "        dataTable['output_type'] = 'display_data';\n",
              "        await google.colab.output.renderOutput(dataTable, element);\n",
              "        const docLink = document.createElement('div');\n",
              "        docLink.innerHTML = docLinkHtml;\n",
              "        element.appendChild(docLink);\n",
              "      }\n",
              "    </script>\n",
              "  </div>\n",
              "\n",
              "\n",
              "<div id=\"df-362cbf73-d5e1-46c7-8576-c9ae2a040706\">\n",
              "  <button class=\"colab-df-quickchart\" onclick=\"quickchart('df-362cbf73-d5e1-46c7-8576-c9ae2a040706')\"\n",
              "            title=\"Suggest charts\"\n",
              "            style=\"display:none;\">\n",
              "\n",
              "<svg xmlns=\"http://www.w3.org/2000/svg\" height=\"24px\"viewBox=\"0 0 24 24\"\n",
              "     width=\"24px\">\n",
              "    <g>\n",
              "        <path d=\"M19 3H5c-1.1 0-2 .9-2 2v14c0 1.1.9 2 2 2h14c1.1 0 2-.9 2-2V5c0-1.1-.9-2-2-2zM9 17H7v-7h2v7zm4 0h-2V7h2v10zm4 0h-2v-4h2v4z\"/>\n",
              "    </g>\n",
              "</svg>\n",
              "  </button>\n",
              "\n",
              "<style>\n",
              "  .colab-df-quickchart {\n",
              "      --bg-color: #E8F0FE;\n",
              "      --fill-color: #1967D2;\n",
              "      --hover-bg-color: #E2EBFA;\n",
              "      --hover-fill-color: #174EA6;\n",
              "      --disabled-fill-color: #AAA;\n",
              "      --disabled-bg-color: #DDD;\n",
              "  }\n",
              "\n",
              "  [theme=dark] .colab-df-quickchart {\n",
              "      --bg-color: #3B4455;\n",
              "      --fill-color: #D2E3FC;\n",
              "      --hover-bg-color: #434B5C;\n",
              "      --hover-fill-color: #FFFFFF;\n",
              "      --disabled-bg-color: #3B4455;\n",
              "      --disabled-fill-color: #666;\n",
              "  }\n",
              "\n",
              "  .colab-df-quickchart {\n",
              "    background-color: var(--bg-color);\n",
              "    border: none;\n",
              "    border-radius: 50%;\n",
              "    cursor: pointer;\n",
              "    display: none;\n",
              "    fill: var(--fill-color);\n",
              "    height: 32px;\n",
              "    padding: 0;\n",
              "    width: 32px;\n",
              "  }\n",
              "\n",
              "  .colab-df-quickchart:hover {\n",
              "    background-color: var(--hover-bg-color);\n",
              "    box-shadow: 0 1px 2px rgba(60, 64, 67, 0.3), 0 1px 3px 1px rgba(60, 64, 67, 0.15);\n",
              "    fill: var(--button-hover-fill-color);\n",
              "  }\n",
              "\n",
              "  .colab-df-quickchart-complete:disabled,\n",
              "  .colab-df-quickchart-complete:disabled:hover {\n",
              "    background-color: var(--disabled-bg-color);\n",
              "    fill: var(--disabled-fill-color);\n",
              "    box-shadow: none;\n",
              "  }\n",
              "\n",
              "  .colab-df-spinner {\n",
              "    border: 2px solid var(--fill-color);\n",
              "    border-color: transparent;\n",
              "    border-bottom-color: var(--fill-color);\n",
              "    animation:\n",
              "      spin 1s steps(1) infinite;\n",
              "  }\n",
              "\n",
              "  @keyframes spin {\n",
              "    0% {\n",
              "      border-color: transparent;\n",
              "      border-bottom-color: var(--fill-color);\n",
              "      border-left-color: var(--fill-color);\n",
              "    }\n",
              "    20% {\n",
              "      border-color: transparent;\n",
              "      border-left-color: var(--fill-color);\n",
              "      border-top-color: var(--fill-color);\n",
              "    }\n",
              "    30% {\n",
              "      border-color: transparent;\n",
              "      border-left-color: var(--fill-color);\n",
              "      border-top-color: var(--fill-color);\n",
              "      border-right-color: var(--fill-color);\n",
              "    }\n",
              "    40% {\n",
              "      border-color: transparent;\n",
              "      border-right-color: var(--fill-color);\n",
              "      border-top-color: var(--fill-color);\n",
              "    }\n",
              "    60% {\n",
              "      border-color: transparent;\n",
              "      border-right-color: var(--fill-color);\n",
              "    }\n",
              "    80% {\n",
              "      border-color: transparent;\n",
              "      border-right-color: var(--fill-color);\n",
              "      border-bottom-color: var(--fill-color);\n",
              "    }\n",
              "    90% {\n",
              "      border-color: transparent;\n",
              "      border-bottom-color: var(--fill-color);\n",
              "    }\n",
              "  }\n",
              "</style>\n",
              "\n",
              "  <script>\n",
              "    async function quickchart(key) {\n",
              "      const quickchartButtonEl =\n",
              "        document.querySelector('#' + key + ' button');\n",
              "      quickchartButtonEl.disabled = true;  // To prevent multiple clicks.\n",
              "      quickchartButtonEl.classList.add('colab-df-spinner');\n",
              "      try {\n",
              "        const charts = await google.colab.kernel.invokeFunction(\n",
              "            'suggestCharts', [key], {});\n",
              "      } catch (error) {\n",
              "        console.error('Error during call to suggestCharts:', error);\n",
              "      }\n",
              "      quickchartButtonEl.classList.remove('colab-df-spinner');\n",
              "      quickchartButtonEl.classList.add('colab-df-quickchart-complete');\n",
              "    }\n",
              "    (() => {\n",
              "      let quickchartButtonEl =\n",
              "        document.querySelector('#df-362cbf73-d5e1-46c7-8576-c9ae2a040706 button');\n",
              "      quickchartButtonEl.style.display =\n",
              "        google.colab.kernel.accessAllowed ? 'block' : 'none';\n",
              "    })();\n",
              "  </script>\n",
              "</div>\n",
              "\n",
              "  <div id=\"id_5d4b466a-8683-4d31-9018-08e1e4f6fc34\">\n",
              "    <style>\n",
              "      .colab-df-generate {\n",
              "        background-color: #E8F0FE;\n",
              "        border: none;\n",
              "        border-radius: 50%;\n",
              "        cursor: pointer;\n",
              "        display: none;\n",
              "        fill: #1967D2;\n",
              "        height: 32px;\n",
              "        padding: 0 0 0 0;\n",
              "        width: 32px;\n",
              "      }\n",
              "\n",
              "      .colab-df-generate:hover {\n",
              "        background-color: #E2EBFA;\n",
              "        box-shadow: 0px 1px 2px rgba(60, 64, 67, 0.3), 0px 1px 3px 1px rgba(60, 64, 67, 0.15);\n",
              "        fill: #174EA6;\n",
              "      }\n",
              "\n",
              "      [theme=dark] .colab-df-generate {\n",
              "        background-color: #3B4455;\n",
              "        fill: #D2E3FC;\n",
              "      }\n",
              "\n",
              "      [theme=dark] .colab-df-generate:hover {\n",
              "        background-color: #434B5C;\n",
              "        box-shadow: 0px 1px 3px 1px rgba(0, 0, 0, 0.15);\n",
              "        filter: drop-shadow(0px 1px 2px rgba(0, 0, 0, 0.3));\n",
              "        fill: #FFFFFF;\n",
              "      }\n",
              "    </style>\n",
              "    <button class=\"colab-df-generate\" onclick=\"generateWithVariable('df')\"\n",
              "            title=\"Generate code using this dataframe.\"\n",
              "            style=\"display:none;\">\n",
              "\n",
              "  <svg xmlns=\"http://www.w3.org/2000/svg\" height=\"24px\"viewBox=\"0 0 24 24\"\n",
              "       width=\"24px\">\n",
              "    <path d=\"M7,19H8.4L18.45,9,17,7.55,7,17.6ZM5,21V16.75L18.45,3.32a2,2,0,0,1,2.83,0l1.4,1.43a1.91,1.91,0,0,1,.58,1.4,1.91,1.91,0,0,1-.58,1.4L9.25,21ZM18.45,9,17,7.55Zm-12,3A5.31,5.31,0,0,0,4.9,8.1,5.31,5.31,0,0,0,1,6.5,5.31,5.31,0,0,0,4.9,4.9,5.31,5.31,0,0,0,6.5,1,5.31,5.31,0,0,0,8.1,4.9,5.31,5.31,0,0,0,12,6.5,5.46,5.46,0,0,0,6.5,12Z\"/>\n",
              "  </svg>\n",
              "    </button>\n",
              "    <script>\n",
              "      (() => {\n",
              "      const buttonEl =\n",
              "        document.querySelector('#id_5d4b466a-8683-4d31-9018-08e1e4f6fc34 button.colab-df-generate');\n",
              "      buttonEl.style.display =\n",
              "        google.colab.kernel.accessAllowed ? 'block' : 'none';\n",
              "\n",
              "      buttonEl.onclick = () => {\n",
              "        google.colab.notebook.generateWithVariable('df');\n",
              "      }\n",
              "      })();\n",
              "    </script>\n",
              "  </div>\n",
              "\n",
              "    </div>\n",
              "  </div>\n"
            ],
            "text/plain": [
              "                                            article_link  \\\n",
              "0      https://www.huffingtonpost.com/entry/versace-b...   \n",
              "1      https://www.huffingtonpost.com/entry/roseanne-...   \n",
              "2      https://local.theonion.com/mom-starting-to-fea...   \n",
              "3      https://politics.theonion.com/boehner-just-wan...   \n",
              "4      https://www.huffingtonpost.com/entry/jk-rowlin...   \n",
              "...                                                  ...   \n",
              "26704  https://www.huffingtonpost.com/entry/american-...   \n",
              "26705  https://www.huffingtonpost.com/entry/americas-...   \n",
              "26706  https://www.huffingtonpost.com/entry/reparatio...   \n",
              "26707  https://www.huffingtonpost.com/entry/israeli-b...   \n",
              "26708  https://www.huffingtonpost.com/entry/gourmet-g...   \n",
              "\n",
              "                                                headline  is_sarcastic  \n",
              "0      former versace store clerk sues over secret 'b...             0  \n",
              "1      the 'roseanne' revival catches up to our thorn...             0  \n",
              "2      mom starting to fear son's web series closest ...             1  \n",
              "3      boehner just wants wife to listen, not come up...             1  \n",
              "4      j.k. rowling wishes snape happy birthday in th...             0  \n",
              "...                                                  ...           ...  \n",
              "26704               american politics in moral free-fall             0  \n",
              "26705                            america's best 20 hikes             0  \n",
              "26706                              reparations and obama             0  \n",
              "26707  israeli ban targeting boycott supporters raise...             0  \n",
              "26708                  gourmet gifts for the foodie 2014             0  \n",
              "\n",
              "[26709 rows x 3 columns]"
            ]
          },
          "execution_count": 5,
          "metadata": {},
          "output_type": "execute_result"
        }
      ],
      "source": [
        "df = pd.read_json(data_path)\n",
        "df"
      ]
    },
    {
      "cell_type": "code",
      "execution_count": null,
      "metadata": {
        "colab": {
          "base_uri": "https://localhost:8080/"
        },
        "id": "yjpB-Gj9Si2R",
        "outputId": "b04e6f36-78cc-4f09-e4f7-c8c48bcc6ec5"
      },
      "outputs": [
        {
          "name": "stdout",
          "output_type": "stream",
          "text": [
            "<class 'pandas.core.frame.DataFrame'>\n",
            "RangeIndex: 26709 entries, 0 to 26708\n",
            "Data columns (total 3 columns):\n",
            " #   Column        Non-Null Count  Dtype \n",
            "---  ------        --------------  ----- \n",
            " 0   article_link  26709 non-null  object\n",
            " 1   headline      26709 non-null  object\n",
            " 2   is_sarcastic  26709 non-null  int64 \n",
            "dtypes: int64(1), object(2)\n",
            "memory usage: 626.1+ KB\n"
          ]
        }
      ],
      "source": [
        "# There are no null values\n",
        "df.info()"
      ]
    },
    {
      "cell_type": "code",
      "execution_count": null,
      "metadata": {
        "colab": {
          "base_uri": "https://localhost:8080/"
        },
        "id": "0woUm1UxZYWk",
        "outputId": "c57b9b17-dbfd-4f53-b3cb-551d9cfada66"
      },
      "outputs": [
        {
          "data": {
            "text/plain": [
              "is_sarcastic\n",
              "0    56.104684\n",
              "1    43.895316\n",
              "Name: count, dtype: float64"
            ]
          },
          "execution_count": 7,
          "metadata": {},
          "output_type": "execute_result"
        }
      ],
      "source": [
        "# The dataset is roughly balanced\n",
        "(df.is_sarcastic.value_counts()/df.shape[0]) * 100"
      ]
    },
    {
      "cell_type": "code",
      "execution_count": null,
      "metadata": {
        "colab": {
          "base_uri": "https://localhost:8080/"
        },
        "id": "MkXXSyB2C1Zn",
        "outputId": "e6861150-72ed-456d-ca57-9e3f89d952d2"
      },
      "outputs": [
        {
          "data": {
            "text/plain": [
              "RobertaTokenizerFast(name_or_path='roberta-large', vocab_size=50265, model_max_length=512, is_fast=True, padding_side='right', truncation_side='right', special_tokens={'bos_token': '<s>', 'eos_token': '</s>', 'unk_token': '<unk>', 'sep_token': '</s>', 'pad_token': '<pad>', 'cls_token': '<s>', 'mask_token': '<mask>'}, clean_up_tokenization_spaces=True),  added_tokens_decoder={\n",
              "\t0: AddedToken(\"<s>\", rstrip=False, lstrip=False, single_word=False, normalized=True, special=True),\n",
              "\t1: AddedToken(\"<pad>\", rstrip=False, lstrip=False, single_word=False, normalized=True, special=True),\n",
              "\t2: AddedToken(\"</s>\", rstrip=False, lstrip=False, single_word=False, normalized=True, special=True),\n",
              "\t3: AddedToken(\"<unk>\", rstrip=False, lstrip=False, single_word=False, normalized=True, special=True),\n",
              "\t50264: AddedToken(\"<mask>\", rstrip=False, lstrip=True, single_word=False, normalized=False, special=True),\n",
              "}"
            ]
          },
          "execution_count": 6,
          "metadata": {},
          "output_type": "execute_result"
        }
      ],
      "source": [
        "# Import the AutoTokenizer\n",
        "# 'use_fast=True': improves the tokenizer's performance when processing large volumes of text\n",
        "\n",
        "tokenizer = AutoTokenizer.from_pretrained(model_name, use_fast=True)\n",
        "tokenizer"
      ]
    },
    {
      "cell_type": "code",
      "execution_count": null,
      "metadata": {
        "colab": {
          "base_uri": "https://localhost:8080/"
        },
        "id": "NHGlmFI9GDGV",
        "outputId": "d71e0296-39ae-41eb-8def-21c5fab9bb0e"
      },
      "outputs": [
        {
          "name": "stdout",
          "output_type": "stream",
          "text": [
            "boehner just wants wife to listen, not come up with alternative debt-reduction ideas\n",
            "[    0  3983 14897  1396    95  1072  1141     7  4161     6    45   283\n",
            "    62    19  3626  1126    12  2050 27345  2956     2     1     1     1\n",
            "     1]\n",
            "['<s>', 'bo', 'eh', 'ner', 'Ġjust', 'Ġwants', 'Ġwife', 'Ġto', 'Ġlisten', ',', 'Ġnot', 'Ġcome', 'Ġup', 'Ġwith', 'Ġalternative', 'Ġdebt', '-', 'red', 'uction', 'Ġideas', '</s>', '<pad>', '<pad>', '<pad>', '<pad>']\n",
            "<s>boehner just wants wife to listen, not come up with alternative debt-reduction ideas</s><pad><pad><pad><pad> \n",
            "\n",
            "[1 1 1 1 1 1 1 1 1 1 1 1 1 1 1 1 1 1 1 1 1 0 0 0 0]\n"
          ]
        }
      ],
      "source": [
        "# Example of tokenization\n",
        "\n",
        "sample_text = df.headline[3]\n",
        "print(sample_text)\n",
        "encoding = tokenizer(\n",
        "    sample_text,\n",
        "    padding=\"max_length\",\n",
        "    truncation=True,\n",
        "    max_length=25,\n",
        "    return_tensors=\"tf\" #Returns the results in TensorFlow tensor format\n",
        ")\n",
        "\n",
        "print(encoding[\"input_ids\"].numpy()[0])\n",
        "print(tokenizer.convert_ids_to_tokens(encoding[\"input_ids\"][0]))\n",
        "print(tokenizer.decode(encoding[\"input_ids\"][0]), \"\\n\")\n",
        "\n",
        "print(encoding[\"attention_mask\"].numpy()[0])"
      ]
    },
    {
      "cell_type": "markdown",
      "metadata": {
        "id": "eJuBqzMKwmaB"
      },
      "source": [
        "Unlike BERT, RoBERTa uses a byte-level BPE (Byte Pair Encoding) as a tokenizer, similar to GPT-2."
      ]
    },
    {
      "cell_type": "code",
      "execution_count": null,
      "metadata": {
        "id": "joZJhgZHUY6T"
      },
      "outputs": [],
      "source": [
        "# Function to convert texts to lowercase and then tokenize them\n",
        "\n",
        "def preprocessing(texts):\n",
        "  if type(texts) == list:\n",
        "    texts = list(map(str.lower, texts))\n",
        "  else:\n",
        "    texts = texts.lower()\n",
        "\n",
        "  encoding = tokenizer(\n",
        "      texts,\n",
        "      padding=\"max_length\",\n",
        "      truncation=True,\n",
        "      max_length=max_length,\n",
        "      return_tensors=\"tf\"\n",
        "  )\n",
        "\n",
        "  return encoding[\"input_ids\"], encoding[\"attention_mask\"]"
      ]
    },
    {
      "cell_type": "code",
      "execution_count": null,
      "metadata": {
        "id": "Tvhd8uOi2Wpm"
      },
      "outputs": [],
      "source": [
        "# Splitting the dataframe into training and testing sets\n",
        "\n",
        "df_train, df_test = train_test_split(df, test_size=0.15, random_state=123, stratify=df[\"is_sarcastic\"])\n",
        "\n",
        "train_dataset = tf.data.Dataset.from_tensor_slices(\n",
        "    (preprocessing(df_train.headline.to_list()), df_train[\"is_sarcastic\"].values)\n",
        ")\n",
        "test_dataset = tf.data.Dataset.from_tensor_slices(\n",
        "    (preprocessing(df_test.headline.to_list()), df_test[\"is_sarcastic\"].values)\n",
        ")\n",
        "\n",
        "train_dataset = train_dataset.shuffle(buffer_size, seed=123).batch(batch_size).prefetch(AUTOTUNE)\n",
        "test_dataset = test_dataset.batch(batch_size).prefetch(AUTOTUNE)"
      ]
    },
    {
      "cell_type": "code",
      "execution_count": null,
      "metadata": {
        "colab": {
          "base_uri": "https://localhost:8080/"
        },
        "id": "vsiZJidlbqCa",
        "outputId": "ff25e07a-2666-45b8-efb8-bbf71fd28962"
      },
      "outputs": [
        {
          "name": "stdout",
          "output_type": "stream",
          "text": [
            "tf.Tensor(\n",
            "[[    0 26302  4189 ...     1     1     1]\n",
            " [    0 31818    95 ...     1     1     1]\n",
            " [    0   306 20125 ...     1     1     1]\n",
            " ...\n",
            " [    0  9178     7 ...     1     1     1]\n",
            " [    0  8458   225 ...     1     1     1]\n",
            " [    0  1069   298 ...     1     1     1]], shape=(32, 64), dtype=int32) \n",
            "\n",
            "tf.Tensor(\n",
            "[[1 1 1 ... 0 0 0]\n",
            " [1 1 1 ... 0 0 0]\n",
            " [1 1 1 ... 0 0 0]\n",
            " ...\n",
            " [1 1 1 ... 0 0 0]\n",
            " [1 1 1 ... 0 0 0]\n",
            " [1 1 1 ... 0 0 0]], shape=(32, 64), dtype=int32) \n",
            "\n",
            "tf.Tensor([0 1 0 1 1 0 1 0 1 0 0 0 0 0 0 1 0 0 0 1 1 0 1 1 1 1 1 0 1 0 0 0], shape=(32,), dtype=int64)\n"
          ]
        }
      ],
      "source": [
        "# View a processed batch\n",
        "\n",
        "for (ids, masks), labels in train_dataset.take(1):\n",
        "  print(ids, \"\\n\")\n",
        "  print(masks, \"\\n\")\n",
        "  print(labels)"
      ]
    },
    {
      "cell_type": "code",
      "execution_count": null,
      "metadata": {
        "colab": {
          "base_uri": "https://localhost:8080/"
        },
        "id": "_NUT2w67cHfI",
        "outputId": "db9d0010-b626-4158-c6d9-8262735a7a35"
      },
      "outputs": [
        {
          "name": "stdout",
          "output_type": "stream",
          "text": [
            "22702 4007 \n",
            "\n",
            "is_sarcastic\n",
            "0    56.105189\n",
            "1    43.894811\n",
            "Name: count, dtype: float64 \n",
            "\n",
            "is_sarcastic\n",
            "0    56.101822\n",
            "1    43.898178\n",
            "Name: count, dtype: float64\n"
          ]
        }
      ],
      "source": [
        "# Thanks to the 'stratify' argument, the distribution is preserved\n",
        "\n",
        "print(len(df_train), len(df_test), \"\\n\")\n",
        "print((df_train.is_sarcastic.value_counts()/df_train.shape[0]) * 100, \"\\n\")\n",
        "print((df_test.is_sarcastic.value_counts()/df_test.shape[0]) * 100)"
      ]
    },
    {
      "cell_type": "markdown",
      "metadata": {
        "id": "JjdJe11iKuZX"
      },
      "source": [
        "### **Build the Model**"
      ]
    },
    {
      "cell_type": "code",
      "execution_count": null,
      "metadata": {
        "id": "5-Rswgl13dDp"
      },
      "outputs": [],
      "source": [
        "def create_model():\n",
        "  # Import the AutoModel\n",
        "  model_base = TFAutoModel.from_pretrained(model_name)\n",
        "\n",
        "  input_ids = tf.keras.Input((max_length, ), dtype=tf.int32)\n",
        "  attention_mask = tf.keras.Input((max_length, ), dtype=tf.int32)\n",
        "\n",
        "  x = model_base(input_ids=input_ids, attention_mask=attention_mask).pooler_output\n",
        "  x = tf.keras.layers.Dropout(0.2)(x)\n",
        "  x = tf.keras.layers.Dense(1, activation=\"sigmoid\")(x)\n",
        "\n",
        "  model = tf.keras.Model(inputs=[input_ids, attention_mask], outputs=x)\n",
        "\n",
        "  return model"
      ]
    },
    {
      "cell_type": "code",
      "execution_count": null,
      "metadata": {
        "colab": {
          "base_uri": "https://localhost:8080/",
          "height": 156,
          "referenced_widgets": [
            "4d5b062796f743cebe2b3de299c0adf6",
            "9135a9e8a7df42f3afad48123ced8cc7",
            "9b5c107ecaf444ce8e6b3d05a12f841e",
            "ac598941156d46e1be1666fd323b3a44",
            "c0617ab6111a4cfba6d688256355a963",
            "7f4b3a5b0d20495ebe8fe72c6fb4cc0f",
            "2cfd0fbb3b3b4ae9b69fea5b0b4582a7",
            "7c05039bcde24823ab80ea0e2019ebdd",
            "5dcf8480722946a2a92dd18b0e8e02f1",
            "60c412f6d40844a28b298e6fa67d2035",
            "5999c02362b74d87a7e6d66d113023cd"
          ]
        },
        "id": "FkkwGtJC8yqD",
        "outputId": "209b636c-1403-4090-df3d-832a37238ed5"
      },
      "outputs": [
        {
          "data": {
            "application/vnd.jupyter.widget-view+json": {
              "model_id": "4d5b062796f743cebe2b3de299c0adf6",
              "version_major": 2,
              "version_minor": 0
            },
            "text/plain": [
              "model.safetensors:   0%|          | 0.00/1.42G [00:00<?, ?B/s]"
            ]
          },
          "metadata": {},
          "output_type": "display_data"
        },
        {
          "name": "stderr",
          "output_type": "stream",
          "text": [
            "Some weights of the PyTorch model were not used when initializing the TF 2.0 model TFRobertaModel: ['lm_head.dense.weight', 'lm_head.bias', 'lm_head.dense.bias', 'lm_head.layer_norm.weight', 'roberta.embeddings.position_ids', 'lm_head.layer_norm.bias']\n",
            "- This IS expected if you are initializing TFRobertaModel from a PyTorch model trained on another task or with another architecture (e.g. initializing a TFBertForSequenceClassification model from a BertForPreTraining model).\n",
            "- This IS NOT expected if you are initializing TFRobertaModel from a PyTorch model that you expect to be exactly identical (e.g. initializing a TFBertForSequenceClassification model from a BertForSequenceClassification model).\n",
            "Some weights or buffers of the TF 2.0 model TFRobertaModel were not initialized from the PyTorch model and are newly initialized: ['roberta.pooler.dense.weight', 'roberta.pooler.dense.bias']\n",
            "You should probably TRAIN this model on a down-stream task to be able to use it for predictions and inference.\n"
          ]
        }
      ],
      "source": [
        "tf.keras.backend.clear_session() #Clearing Keras memory\n",
        "tf.random.set_seed(123) #For reproducibility\n",
        "\n",
        "# Creation and compilation of the model within the distribution strategy\n",
        "with strategy.scope():\n",
        "  model = create_model()\n",
        "\n",
        "  model.compile(optimizer=tf.keras.optimizers.AdamW(learning_rate=2e-5, weight_decay=0.01),\n",
        "                loss=\"binary_crossentropy\",\n",
        "                metrics=[\"accuracy\"],\n",
        "                steps_per_execution=100)"
      ]
    },
    {
      "cell_type": "markdown",
      "metadata": {
        "id": "noTC2zg54mWQ"
      },
      "source": [
        "The message indicates that it is recommended to train the model on a downstream task before using it for predictions and inferences. This is correct, as the model has not been fine-tuned yet."
      ]
    },
    {
      "cell_type": "code",
      "execution_count": null,
      "metadata": {
        "colab": {
          "base_uri": "https://localhost:8080/"
        },
        "id": "G3zPtMFGhvo0",
        "outputId": "b0f0917a-3665-4208-b6ef-175962c2af8a"
      },
      "outputs": [
        {
          "name": "stdout",
          "output_type": "stream",
          "text": [
            "Model: \"model\"\n",
            "__________________________________________________________________________________________________\n",
            " Layer (type)                   Output Shape         Param #     Connected to                     \n",
            "==================================================================================================\n",
            " input_1 (InputLayer)           [(None, 64)]         0           []                               \n",
            "                                                                                                  \n",
            " input_2 (InputLayer)           [(None, 64)]         0           []                               \n",
            "                                                                                                  \n",
            " tf_roberta_model (TFRobertaMod  TFBaseModelOutputWi  355359744  ['input_1[0][0]',                \n",
            " el)                            thPoolingAndCrossAt               'input_2[0][0]']                \n",
            "                                tentions(last_hidde                                               \n",
            "                                n_state=(None, 64,                                                \n",
            "                                1024),                                                            \n",
            "                                 pooler_output=(Non                                               \n",
            "                                e, 1024),                                                         \n",
            "                                 past_key_values=No                                               \n",
            "                                ne, hidden_states=N                                               \n",
            "                                one, attentions=Non                                               \n",
            "                                e, cross_attentions                                               \n",
            "                                =None)                                                            \n",
            "                                                                                                  \n",
            " dropout_73 (Dropout)           (None, 1024)         0           ['tf_roberta_model[0][1]']       \n",
            "                                                                                                  \n",
            " dense (Dense)                  (None, 1)            1025        ['dropout_73[0][0]']             \n",
            "                                                                                                  \n",
            "==================================================================================================\n",
            "Total params: 355,360,769\n",
            "Trainable params: 355,360,769\n",
            "Non-trainable params: 0\n",
            "__________________________________________________________________________________________________\n"
          ]
        }
      ],
      "source": [
        "model.summary()"
      ]
    },
    {
      "cell_type": "code",
      "execution_count": null,
      "metadata": {
        "colab": {
          "base_uri": "https://localhost:8080/",
          "height": 270
        },
        "id": "RIq3mE4zKH8n",
        "outputId": "b6c7be2c-a83a-40ea-8817-cf4c4bdd4861"
      },
      "outputs": [
        {
          "data": {
            "image/png": "[encoded data removed]",
            "text/plain": [
              "<IPython.core.display.Image object>"
            ]
          },
          "execution_count": 18,
          "metadata": {},
          "output_type": "execute_result"
        }
      ],
      "source": [
        "# Visualizing the architecture of the model\n",
        "tf.keras.utils.plot_model(model, show_shapes=True, show_layer_names=False, dpi=60)"
      ]
    },
    {
      "cell_type": "markdown",
      "metadata": {
        "id": "Bc5_feTTXNVu"
      },
      "source": [
        "### **Train the Model**"
      ]
    },
    {
      "cell_type": "code",
      "execution_count": null,
      "metadata": {
        "colab": {
          "base_uri": "https://localhost:8080/"
        },
        "id": "7vRc5O9HlpDm",
        "outputId": "a9396935-693e-407e-fbec-f5dddb9d9dc1"
      },
      "outputs": [
        {
          "name": "stdout",
          "output_type": "stream",
          "text": [
            "Epoch 1/3\n",
            "710/710 [==============================] - 267s 375ms/step - loss: 0.2789 - accuracy: 0.8762 - val_loss: 0.1554 - val_accuracy: 0.9386\n",
            "Epoch 2/3\n",
            "710/710 [==============================] - 60s 84ms/step - loss: 0.1288 - accuracy: 0.9514 - val_loss: 0.1711 - val_accuracy: 0.9354\n",
            "Epoch 3/3\n",
            "710/710 [==============================] - 60s 84ms/step - loss: 0.0751 - accuracy: 0.9734 - val_loss: 0.1749 - val_accuracy: 0.9478\n"
          ]
        }
      ],
      "source": [
        "tf.random.set_seed(123)\n",
        "history = model.fit(train_dataset, epochs=epochs, validation_data=test_dataset)"
      ]
    },
    {
      "cell_type": "markdown",
      "metadata": {
        "id": "S7cewteBIwua"
      },
      "source": [
        "**Save model**"
      ]
    },
    {
      "cell_type": "markdown",
      "metadata": {
        "id": "aNRvySoz2zK-"
      },
      "source": [
        "Due to the large size of the model, only its weights are saved."
      ]
    },
    {
      "cell_type": "code",
      "execution_count": null,
      "metadata": {
        "colab": {
          "base_uri": "https://localhost:8080/"
        },
        "id": "Dqzc8YbeIWQe",
        "outputId": "deb48688-de0a-4020-fcc8-0e3f5a9764cc"
      },
      "outputs": [
        {
          "name": "stdout",
          "output_type": "stream",
          "text": [
            "Mounted at /content/drive/\n"
          ]
        }
      ],
      "source": [
        "drive.mount(\"/content/drive/\")\n",
        "\n",
        "trained_model_path = \"/content/drive/MyDrive/models/SentimentAnalysis_RoBERTa_Sarcasm.h5\"\n",
        "model.save_weights(trained_model_path)"
      ]
    },
    {
      "cell_type": "markdown",
      "metadata": {
        "id": "WSJL2EanOvQH"
      },
      "source": [
        "### **Dataset Evaluation**"
      ]
    },
    {
      "cell_type": "code",
      "execution_count": null,
      "metadata": {
        "colab": {
          "base_uri": "https://localhost:8080/"
        },
        "id": "r8OjTK1bs0Xz",
        "outputId": "f41b75a8-e2ba-4d92-d71d-9f63f819ece2"
      },
      "outputs": [
        {
          "name": "stdout",
          "output_type": "stream",
          "text": [
            "[0.015240246430039406, 0.9950224757194519]\n",
            "[0.17489857971668243, 0.9478412866592407]\n"
          ]
        }
      ],
      "source": [
        "print(model.evaluate(train_dataset, verbose=0))\n",
        "print(model.evaluate(test_dataset, verbose=0))"
      ]
    },
    {
      "cell_type": "markdown",
      "metadata": {
        "id": "1oY6USAfE-5P"
      },
      "source": [
        "The training set achieves an accuracy of 99.5% in just 3 epochs, while the test set accuracy is 94.8%. This demonstrates that the Transformer model is significantly superior to the bidirectional LSTM model, which achieved only an 86.3% accuracy on the test set. There is a noticeable reduction in overfitting; however, the model still exhibits some overfitting. This could be mitigated by increasing the size of the training set, since we are already using a robust model for NLP tasks with the selection of appropriate hyperparameters."
      ]
    },
    {
      "cell_type": "markdown",
      "metadata": {
        "id": "oVbqn5CwPDpG"
      },
      "source": [
        "**Confusion Matrix**"
      ]
    },
    {
      "cell_type": "code",
      "execution_count": null,
      "metadata": {
        "id": "DWddFscWPKUx"
      },
      "outputs": [],
      "source": [
        "labels_test = test_dataset.unbatch().map(lambda text, label: label)\n",
        "labels_test = np.array(list(labels_test.as_numpy_iterator()))\n",
        "\n",
        "labels_test_pred = model.predict(test_dataset, verbose=0).squeeze()\n",
        "labels_test_pred = (labels_test_pred>=0.5).astype(np.int32)"
      ]
    },
    {
      "cell_type": "code",
      "execution_count": null,
      "metadata": {
        "colab": {
          "base_uri": "https://localhost:8080/"
        },
        "id": "8-r4YB8rJuoP",
        "outputId": "4aebaa99-ed03-495d-a2b1-183f58dd7b10"
      },
      "outputs": [
        {
          "data": {
            "text/plain": [
              "0.9478412777639131"
            ]
          },
          "execution_count": 22,
          "metadata": {},
          "output_type": "execute_result"
        }
      ],
      "source": [
        "# Consolidating the accuracy of the testing set\n",
        "np.mean(labels_test == labels_test_pred)"
      ]
    },
    {
      "cell_type": "code",
      "execution_count": null,
      "metadata": {
        "colab": {
          "base_uri": "https://localhost:8080/",
          "height": 466
        },
        "id": "IEjSSdhxtQdK",
        "outputId": "9186dd4d-2106-44fc-8114-5a246ea3d8ca"
      },
      "outputs": [
        {
          "name": "stdout",
          "output_type": "stream",
          "text": [
            "Total non-sarcastic:  2248 ; Total sarcastic:  1759\n"
          ]
        },
        {
          "data": {
            "image/png": "[encoded data removed]",
            "text/plain": [
              "<Figure size 640x480 with 1 Axes>"
            ]
          },
          "metadata": {},
          "output_type": "display_data"
        }
      ],
      "source": [
        "cm = confusion_matrix(labels_test, labels_test_pred)\n",
        "cmd = ConfusionMatrixDisplay(cm, display_labels=[\"Non-sarcastic\", \"Sarcastic\"])\n",
        "cmd.plot(colorbar=False, cmap=\"coolwarm_r\");\n",
        "print(\"Total non-sarcastic: \", np.bincount(labels_test)[0], \"; Total sarcastic: \", np.bincount(labels_test)[1])"
      ]
    },
    {
      "cell_type": "code",
      "execution_count": null,
      "metadata": {
        "colab": {
          "base_uri": "https://localhost:8080/"
        },
        "id": "p3j-xGTotfdc",
        "outputId": "8aadf0ba-da70-42b6-9cee-1bcf4ad4a1a1"
      },
      "outputs": [
        {
          "data": {
            "text/plain": [
              "(4.092526690391459, 6.651506537805571)"
            ]
          },
          "execution_count": 24,
          "metadata": {},
          "output_type": "execute_result"
        }
      ],
      "source": [
        "(92/2248)*100, (117/1759)*100"
      ]
    },
    {
      "cell_type": "markdown",
      "metadata": {
        "id": "NXR1p2QJeokh"
      },
      "source": [
        "It is observed that the model encounters slightly greater difficulty in correctly classifying sarcastic news headlines, as reflected in a higher percentage of false negatives (6.7%) compared to false positives (4.1%). However, in comparison with the LSTM network, it has improved significantly. This is because the model is quite capable of detecting the complex relationships required for sarcasm detection, akin to how humans would do it, due to the pretraining of RoBERTa."
      ]
    },
    {
      "cell_type": "markdown",
      "metadata": {
        "id": "j2VNNRAeJ_hx"
      },
      "source": [
        "### **Predictions with the trained model**"
      ]
    },
    {
      "cell_type": "markdown",
      "metadata": {
        "id": "HLMkX5M13Ank"
      },
      "source": [
        "**``Example of how to save and load the complete model``**\n",
        "\n",
        "```\n",
        "trained_model_path = \"/content/drive/MyDrive/models/SentimentAnalysis_RoBERTa_Sarcasm.keras\"\n",
        "model.save(trained_model_path)\n",
        "\n",
        "model_base = TFAutoModel.from_pretrained(model_name)\n",
        "model = tf.keras.models.load_model(trained_model_path,\n",
        "                                  custom_objects={\"TFRobertaModel\": model_base})\n",
        "\n",
        "model.summary()\n",
        "```"
      ]
    },
    {
      "cell_type": "code",
      "execution_count": null,
      "metadata": {
        "colab": {
          "base_uri": "https://localhost:8080/"
        },
        "id": "_6hQP421B7hc",
        "outputId": "72499202-39b6-4ba4-f7f4-d0e1207015cd"
      },
      "outputs": [
        {
          "name": "stderr",
          "output_type": "stream",
          "text": [
            "Some weights of the PyTorch model were not used when initializing the TF 2.0 model TFRobertaModel: ['lm_head.layer_norm.bias', 'lm_head.dense.weight', 'roberta.embeddings.position_ids', 'lm_head.bias', 'lm_head.dense.bias', 'lm_head.layer_norm.weight']\n",
            "- This IS expected if you are initializing TFRobertaModel from a PyTorch model trained on another task or with another architecture (e.g. initializing a TFBertForSequenceClassification model from a BertForPreTraining model).\n",
            "- This IS NOT expected if you are initializing TFRobertaModel from a PyTorch model that you expect to be exactly identical (e.g. initializing a TFBertForSequenceClassification model from a BertForSequenceClassification model).\n",
            "Some weights or buffers of the TF 2.0 model TFRobertaModel were not initialized from the PyTorch model and are newly initialized: ['roberta.pooler.dense.weight', 'roberta.pooler.dense.bias']\n",
            "You should probably TRAIN this model on a down-stream task to be able to use it for predictions and inference.\n"
          ]
        },
        {
          "name": "stdout",
          "output_type": "stream",
          "text": [
            "Model: \"model\"\n",
            "__________________________________________________________________________________________________\n",
            " Layer (type)                Output Shape                 Param #   Connected to                  \n",
            "==================================================================================================\n",
            " input_1 (InputLayer)        [(None, 64)]                 0         []                            \n",
            "                                                                                                  \n",
            " input_2 (InputLayer)        [(None, 64)]                 0         []                            \n",
            "                                                                                                  \n",
            " tf_roberta_model (TFRobert  TFBaseModelOutputWithPooli   3553597   ['input_1[0][0]',             \n",
            " aModel)                     ngAndCrossAttentions(last_   44         'input_2[0][0]']             \n",
            "                             hidden_state=(None, 64, 10                                           \n",
            "                             24),                                                                 \n",
            "                              pooler_output=(None, 1024                                           \n",
            "                             ),                                                                   \n",
            "                              past_key_values=None, hid                                           \n",
            "                             den_states=None, attention                                           \n",
            "                             s=None, cross_attentions=N                                           \n",
            "                             one)                                                                 \n",
            "                                                                                                  \n",
            " dropout_73 (Dropout)        (None, 1024)                 0         ['tf_roberta_model[0][1]']    \n",
            "                                                                                                  \n",
            " dense (Dense)               (None, 1)                    1025      ['dropout_73[0][0]']          \n",
            "                                                                                                  \n",
            "==================================================================================================\n",
            "Total params: 355360769 (1.32 GB)\n",
            "Trainable params: 355360769 (1.32 GB)\n",
            "Non-trainable params: 0 (0.00 Byte)\n",
            "__________________________________________________________________________________________________\n"
          ]
        }
      ],
      "source": [
        "# Load the weights of the trained model\n",
        "tf.keras.backend.clear_session()\n",
        "\n",
        "model = create_model()\n",
        "model.load_weights(trained_model_path)\n",
        "model.summary()"
      ]
    },
    {
      "cell_type": "code",
      "execution_count": null,
      "metadata": {
        "id": "cs6eubKxPVlI"
      },
      "outputs": [],
      "source": [
        "def predict_sarcasm(texts, labels, random=True):\n",
        "  label_names = [\"Non-sarcastic Headline\", \"Sarcastic Headline\"]\n",
        "  label_colors = [\"blue\", \"orange\"]\n",
        "\n",
        "  indice = np.random.choice(len(texts)) if random else 0\n",
        "  text = texts[indice]\n",
        "  input_ids, attention_mask = preprocessing(text)\n",
        "\n",
        "  label_pred = model.predict([input_ids, attention_mask], verbose=0).squeeze()\n",
        "  label_pred = (label_pred>=0.5).astype(np.int32)\n",
        "\n",
        "  html_content = f\"\"\"\n",
        "    <b>News Headline:</b><br><br>\n",
        "    {text}<br><br>\n",
        "    <b>True Label: <span style=\"color: {label_colors[labels[indice]]}\">{label_names[labels[indice]]}</span></b><br><br>\n",
        "    <b>Predicted Label: <span style=\"color: {label_colors[label_pred]}\">{label_names[label_pred]}</span></b>\n",
        "    \"\"\"\n",
        "  display(HTML(html_content))"
      ]
    },
    {
      "cell_type": "markdown",
      "metadata": {
        "id": "7O5A_x0lq5ew"
      },
      "source": [
        "**Test Dataset**"
      ]
    },
    {
      "cell_type": "code",
      "execution_count": null,
      "metadata": {
        "id": "VuyWzQ-6qxmv"
      },
      "outputs": [],
      "source": [
        "texts, labels = df_test.headline.to_list(), df_test.is_sarcastic.to_list()"
      ]
    },
    {
      "cell_type": "code",
      "execution_count": null,
      "metadata": {
        "colab": {
          "base_uri": "https://localhost:8080/",
          "height": 139
        },
        "id": "65EdTsRyHiOL",
        "outputId": "b97c63c6-8952-4c87-f2c0-290b1b3a1eed"
      },
      "outputs": [
        {
          "data": {
            "text/html": [
              "\n",
              "    <b>News Headline:</b><br><br>\n",
              "    area man got so wasted and abusive last night<br><br>\n",
              "    <b>True Label: <span style=\"color: orange\">Sarcastic Headline</span></b><br><br>\n",
              "    <b>Predicted Label: <span style=\"color: orange\">Sarcastic Headline</span></b>\n",
              "    "
            ],
            "text/plain": [
              "<IPython.core.display.HTML object>"
            ]
          },
          "metadata": {},
          "output_type": "display_data"
        }
      ],
      "source": [
        "predict_sarcasm(texts, labels, random=False)"
      ]
    },
    {
      "cell_type": "code",
      "execution_count": null,
      "metadata": {
        "colab": {
          "base_uri": "https://localhost:8080/",
          "height": 139
        },
        "id": "5hclE9-4ap_W",
        "outputId": "e10a0c1d-67c4-4b2e-ae03-56c83bf6a394"
      },
      "outputs": [
        {
          "data": {
            "text/html": [
              "\n",
              "    <b>News Headline:</b><br><br>\n",
              "    economic anxiety, distrust of government fuel gold rush<br><br>\n",
              "    <b>True Label: <span style=\"color: blue\">Non-sarcastic Headline</span></b><br><br>\n",
              "    <b>Predicted Label: <span style=\"color: blue\">Non-sarcastic Headline</span></b>\n",
              "    "
            ],
            "text/plain": [
              "<IPython.core.display.HTML object>"
            ]
          },
          "metadata": {},
          "output_type": "display_data"
        }
      ],
      "source": [
        "predict_sarcasm(texts, labels)"
      ]
    },
    {
      "cell_type": "code",
      "execution_count": null,
      "metadata": {
        "colab": {
          "base_uri": "https://localhost:8080/",
          "height": 139
        },
        "id": "_-bF7M_BL_8c",
        "outputId": "0dad633b-e540-41fc-87ca-4ed093b008a3"
      },
      "outputs": [
        {
          "data": {
            "text/html": [
              "\n",
              "    <b>News Headline:</b><br><br>\n",
              "    the most important first step to success<br><br>\n",
              "    <b>True Label: <span style=\"color: blue\">Non-sarcastic Headline</span></b><br><br>\n",
              "    <b>Predicted Label: <span style=\"color: blue\">Non-sarcastic Headline</span></b>\n",
              "    "
            ],
            "text/plain": [
              "<IPython.core.display.HTML object>"
            ]
          },
          "metadata": {},
          "output_type": "display_data"
        }
      ],
      "source": [
        "predict_sarcasm(texts, labels)"
      ]
    },
    {
      "cell_type": "code",
      "execution_count": null,
      "metadata": {
        "colab": {
          "base_uri": "https://localhost:8080/",
          "height": 139
        },
        "id": "yknsHvBQMRXl",
        "outputId": "52817bf8-bba5-4188-cb39-f4e3a5af7e77"
      },
      "outputs": [
        {
          "data": {
            "text/html": [
              "\n",
              "    <b>News Headline:</b><br><br>\n",
              "    depressed matt lauer up all night rewatching 8-second clip of career highlights<br><br>\n",
              "    <b>True Label: <span style=\"color: orange\">Sarcastic Headline</span></b><br><br>\n",
              "    <b>Predicted Label: <span style=\"color: orange\">Sarcastic Headline</span></b>\n",
              "    "
            ],
            "text/plain": [
              "<IPython.core.display.HTML object>"
            ]
          },
          "metadata": {},
          "output_type": "display_data"
        }
      ],
      "source": [
        "predict_sarcasm(texts, labels)"
      ]
    },
    {
      "cell_type": "code",
      "execution_count": null,
      "metadata": {
        "colab": {
          "base_uri": "https://localhost:8080/",
          "height": 139
        },
        "id": "fBc86IJaMbLh",
        "outputId": "1dbe46f2-ef08-40f0-e6c8-798767188acc"
      },
      "outputs": [
        {
          "data": {
            "text/html": [
              "\n",
              "    <b>News Headline:</b><br><br>\n",
              "    12 women who absolutely killed the sports game in 2015<br><br>\n",
              "    <b>True Label: <span style=\"color: blue\">Non-sarcastic Headline</span></b><br><br>\n",
              "    <b>Predicted Label: <span style=\"color: blue\">Non-sarcastic Headline</span></b>\n",
              "    "
            ],
            "text/plain": [
              "<IPython.core.display.HTML object>"
            ]
          },
          "metadata": {},
          "output_type": "display_data"
        }
      ],
      "source": [
        "predict_sarcasm(texts, labels)"
      ]
    },
    {
      "cell_type": "code",
      "execution_count": null,
      "metadata": {
        "colab": {
          "base_uri": "https://localhost:8080/",
          "height": 139
        },
        "id": "RDKC5SuCIfiW",
        "outputId": "fdb479a4-3c38-4e99-fdc2-513e74b92933"
      },
      "outputs": [
        {
          "data": {
            "text/html": [
              "\n",
              "    <b>News Headline:</b><br><br>\n",
              "    cia awkwardly debriefs obama on creation of crack cocaine<br><br>\n",
              "    <b>True Label: <span style=\"color: orange\">Sarcastic Headline</span></b><br><br>\n",
              "    <b>Predicted Label: <span style=\"color: orange\">Sarcastic Headline</span></b>\n",
              "    "
            ],
            "text/plain": [
              "<IPython.core.display.HTML object>"
            ]
          },
          "metadata": {},
          "output_type": "display_data"
        }
      ],
      "source": [
        "predict_sarcasm(texts, labels)"
      ]
    },
    {
      "cell_type": "code",
      "execution_count": null,
      "metadata": {
        "colab": {
          "base_uri": "https://localhost:8080/",
          "height": 139
        },
        "id": "ueYa6vD2JHLV",
        "outputId": "37543439-188b-46cf-e09e-4d93c4218671"
      },
      "outputs": [
        {
          "data": {
            "text/html": [
              "\n",
              "    <b>News Headline:</b><br><br>\n",
              "    detroit tourism board's 'hidden detroit' campaign results in 24 deaths<br><br>\n",
              "    <b>True Label: <span style=\"color: orange\">Sarcastic Headline</span></b><br><br>\n",
              "    <b>Predicted Label: <span style=\"color: orange\">Sarcastic Headline</span></b>\n",
              "    "
            ],
            "text/plain": [
              "<IPython.core.display.HTML object>"
            ]
          },
          "metadata": {},
          "output_type": "display_data"
        }
      ],
      "source": [
        "# More complex news headline\n",
        "predict_sarcasm([texts[80]], [labels[80]])"
      ]
    },
    {
      "cell_type": "markdown",
      "metadata": {
        "id": "NQnOl24ELYcf"
      },
      "source": [
        "Correct prediction! The news headline is quite complex even for a human, as it requires a deep understanding of the context. At first glance, it may not seem sarcastic, but it is. However, the Transformer model predicted it correctly, thanks to its multiple layers of attention that capture complex relationships within sentences."
      ]
    },
    {
      "cell_type": "markdown",
      "metadata": {
        "id": "A1dq-wuO4gDI"
      },
      "source": [
        "**Other News Headlines**"
      ]
    },
    {
      "cell_type": "code",
      "execution_count": null,
      "metadata": {
        "colab": {
          "base_uri": "https://localhost:8080/",
          "height": 139
        },
        "id": "5hgI2Y_AdwRU",
        "outputId": "96e37a48-b447-4a6b-868d-19f9b96e7255"
      },
      "outputs": [
        {
          "data": {
            "text/html": [
              "\n",
              "    <b>News Headline:</b><br><br>\n",
              "    New Study Reveals Surprising Benefits of Meditation for Stress Reduction<br><br>\n",
              "    <b>True Label: <span style=\"color: blue\">Non-sarcastic Headline</span></b><br><br>\n",
              "    <b>Predicted Label: <span style=\"color: blue\">Non-sarcastic Headline</span></b>\n",
              "    "
            ],
            "text/plain": [
              "<IPython.core.display.HTML object>"
            ]
          },
          "metadata": {},
          "output_type": "display_data"
        }
      ],
      "source": [
        "text = [\"New Study Reveals Surprising Benefits of Meditation for Stress Reduction\"]\n",
        "label = [0]\n",
        "predict_sarcasm(text, label)"
      ]
    },
    {
      "cell_type": "code",
      "execution_count": null,
      "metadata": {
        "colab": {
          "base_uri": "https://localhost:8080/",
          "height": 139
        },
        "id": "trfOybCZCSp6",
        "outputId": "0549beb1-83d2-4c3e-d770-9872ff0b09aa"
      },
      "outputs": [
        {
          "data": {
            "text/html": [
              "\n",
              "    <b>News Headline:</b><br><br>\n",
              "    Scientists Discover Groundbreaking Method to Turn Water into Wine<br><br>\n",
              "    <b>True Label: <span style=\"color: orange\">Sarcastic Headline</span></b><br><br>\n",
              "    <b>Predicted Label: <span style=\"color: orange\">Sarcastic Headline</span></b>\n",
              "    "
            ],
            "text/plain": [
              "<IPython.core.display.HTML object>"
            ]
          },
          "metadata": {},
          "output_type": "display_data"
        }
      ],
      "source": [
        "text = [\"Scientists Discover Groundbreaking Method to Turn Water into Wine\"]\n",
        "label = [1]\n",
        "\n",
        "predict_sarcasm(text, label)"
      ]
    },
    {
      "cell_type": "code",
      "execution_count": null,
      "metadata": {
        "colab": {
          "base_uri": "https://localhost:8080/",
          "height": 139
        },
        "id": "nnEgM-GDkQm3",
        "outputId": "9dbbcb9d-99ad-472e-fd93-2b39140f56a3"
      },
      "outputs": [
        {
          "data": {
            "text/html": [
              "\n",
              "    <b>News Headline:</b><br><br>\n",
              "    Government announces new tax relief measures for small businesses, aims to boost economic recovery.<br><br>\n",
              "    <b>True Label: <span style=\"color: blue\">Non-sarcastic Headline</span></b><br><br>\n",
              "    <b>Predicted Label: <span style=\"color: blue\">Non-sarcastic Headline</span></b>\n",
              "    "
            ],
            "text/plain": [
              "<IPython.core.display.HTML object>"
            ]
          },
          "metadata": {},
          "output_type": "display_data"
        }
      ],
      "source": [
        "text = [\"Government announces new tax relief measures for small businesses, aims to boost economic recovery.\"]\n",
        "label = [0]\n",
        "predict_sarcasm(text, label)"
      ]
    },
    {
      "cell_type": "code",
      "execution_count": null,
      "metadata": {
        "colab": {
          "base_uri": "https://localhost:8080/",
          "height": 139
        },
        "id": "f12zIjBKkYCZ",
        "outputId": "d1ed8111-2b04-4778-a234-fa4886433656"
      },
      "outputs": [
        {
          "data": {
            "text/html": [
              "\n",
              "    <b>News Headline:</b><br><br>\n",
              "    New study finds that chocolate makes you gain weight, who knew?<br><br>\n",
              "    <b>True Label: <span style=\"color: orange\">Sarcastic Headline</span></b><br><br>\n",
              "    <b>Predicted Label: <span style=\"color: orange\">Sarcastic Headline</span></b>\n",
              "    "
            ],
            "text/plain": [
              "<IPython.core.display.HTML object>"
            ]
          },
          "metadata": {},
          "output_type": "display_data"
        }
      ],
      "source": [
        "text = [\"New study finds that chocolate makes you gain weight, who knew?\"]\n",
        "label = [1]\n",
        "predict_sarcasm(text, label)"
      ]
    }
  ],
  "metadata": {
    "colab": {
      "provenance": []
    },
    "kernelspec": {
      "display_name": "Python 3",
      "name": "python3"
    },
    "language_info": {
      "name": "python"
    },
    "widgets": {
      "application/vnd.jupyter.widget-state+json": {
        "2cfd0fbb3b3b4ae9b69fea5b0b4582a7": {
          "model_module": "@jupyter-widgets/controls",
          "model_module_version": "1.5.0",
          "model_name": "DescriptionStyleModel",
          "state": {
            "_model_module": "@jupyter-widgets/controls",
            "_model_module_version": "1.5.0",
            "_model_name": "DescriptionStyleModel",
            "_view_count": null,
            "_view_module": "@jupyter-widgets/base",
            "_view_module_version": "1.2.0",
            "_view_name": "StyleView",
            "description_width": ""
          }
        },
        "4d5b062796f743cebe2b3de299c0adf6": {
          "model_module": "@jupyter-widgets/controls",
          "model_module_version": "1.5.0",
          "model_name": "HBoxModel",
          "state": {
            "_dom_classes": [],
            "_model_module": "@jupyter-widgets/controls",
            "_model_module_version": "1.5.0",
            "_model_name": "HBoxModel",
            "_view_count": null,
            "_view_module": "@jupyter-widgets/controls",
            "_view_module_version": "1.5.0",
            "_view_name": "HBoxView",
            "box_style": "",
            "children": [
              "IPY_MODEL_9135a9e8a7df42f3afad48123ced8cc7",
              "IPY_MODEL_9b5c107ecaf444ce8e6b3d05a12f841e",
              "IPY_MODEL_ac598941156d46e1be1666fd323b3a44"
            ],
            "layout": "IPY_MODEL_c0617ab6111a4cfba6d688256355a963"
          }
        },
        "5999c02362b74d87a7e6d66d113023cd": {
          "model_module": "@jupyter-widgets/controls",
          "model_module_version": "1.5.0",
          "model_name": "DescriptionStyleModel",
          "state": {
            "_model_module": "@jupyter-widgets/controls",
            "_model_module_version": "1.5.0",
            "_model_name": "DescriptionStyleModel",
            "_view_count": null,
            "_view_module": "@jupyter-widgets/base",
            "_view_module_version": "1.2.0",
            "_view_name": "StyleView",
            "description_width": ""
          }
        },
        "5dcf8480722946a2a92dd18b0e8e02f1": {
          "model_module": "@jupyter-widgets/controls",
          "model_module_version": "1.5.0",
          "model_name": "ProgressStyleModel",
          "state": {
            "_model_module": "@jupyter-widgets/controls",
            "_model_module_version": "1.5.0",
            "_model_name": "ProgressStyleModel",
            "_view_count": null,
            "_view_module": "@jupyter-widgets/base",
            "_view_module_version": "1.2.0",
            "_view_name": "StyleView",
            "bar_color": null,
            "description_width": ""
          }
        },
        "60c412f6d40844a28b298e6fa67d2035": {
          "model_module": "@jupyter-widgets/base",
          "model_module_version": "1.2.0",
          "model_name": "LayoutModel",
          "state": {
            "_model_module": "@jupyter-widgets/base",
            "_model_module_version": "1.2.0",
            "_model_name": "LayoutModel",
            "_view_count": null,
            "_view_module": "@jupyter-widgets/base",
            "_view_module_version": "1.2.0",
            "_view_name": "LayoutView",
            "align_content": null,
            "align_items": null,
            "align_self": null,
            "border": null,
            "bottom": null,
            "display": null,
            "flex": null,
            "flex_flow": null,
            "grid_area": null,
            "grid_auto_columns": null,
            "grid_auto_flow": null,
            "grid_auto_rows": null,
            "grid_column": null,
            "grid_gap": null,
            "grid_row": null,
            "grid_template_areas": null,
            "grid_template_columns": null,
            "grid_template_rows": null,
            "height": null,
            "justify_content": null,
            "justify_items": null,
            "left": null,
            "margin": null,
            "max_height": null,
            "max_width": null,
            "min_height": null,
            "min_width": null,
            "object_fit": null,
            "object_position": null,
            "order": null,
            "overflow": null,
            "overflow_x": null,
            "overflow_y": null,
            "padding": null,
            "right": null,
            "top": null,
            "visibility": null,
            "width": null
          }
        },
        "7c05039bcde24823ab80ea0e2019ebdd": {
          "model_module": "@jupyter-widgets/base",
          "model_module_version": "1.2.0",
          "model_name": "LayoutModel",
          "state": {
            "_model_module": "@jupyter-widgets/base",
            "_model_module_version": "1.2.0",
            "_model_name": "LayoutModel",
            "_view_count": null,
            "_view_module": "@jupyter-widgets/base",
            "_view_module_version": "1.2.0",
            "_view_name": "LayoutView",
            "align_content": null,
            "align_items": null,
            "align_self": null,
            "border": null,
            "bottom": null,
            "display": null,
            "flex": null,
            "flex_flow": null,
            "grid_area": null,
            "grid_auto_columns": null,
            "grid_auto_flow": null,
            "grid_auto_rows": null,
            "grid_column": null,
            "grid_gap": null,
            "grid_row": null,
            "grid_template_areas": null,
            "grid_template_columns": null,
            "grid_template_rows": null,
            "height": null,
            "justify_content": null,
            "justify_items": null,
            "left": null,
            "margin": null,
            "max_height": null,
            "max_width": null,
            "min_height": null,
            "min_width": null,
            "object_fit": null,
            "object_position": null,
            "order": null,
            "overflow": null,
            "overflow_x": null,
            "overflow_y": null,
            "padding": null,
            "right": null,
            "top": null,
            "visibility": null,
            "width": null
          }
        },
        "7f4b3a5b0d20495ebe8fe72c6fb4cc0f": {
          "model_module": "@jupyter-widgets/base",
          "model_module_version": "1.2.0",
          "model_name": "LayoutModel",
          "state": {
            "_model_module": "@jupyter-widgets/base",
            "_model_module_version": "1.2.0",
            "_model_name": "LayoutModel",
            "_view_count": null,
            "_view_module": "@jupyter-widgets/base",
            "_view_module_version": "1.2.0",
            "_view_name": "LayoutView",
            "align_content": null,
            "align_items": null,
            "align_self": null,
            "border": null,
            "bottom": null,
            "display": null,
            "flex": null,
            "flex_flow": null,
            "grid_area": null,
            "grid_auto_columns": null,
            "grid_auto_flow": null,
            "grid_auto_rows": null,
            "grid_column": null,
            "grid_gap": null,
            "grid_row": null,
            "grid_template_areas": null,
            "grid_template_columns": null,
            "grid_template_rows": null,
            "height": null,
            "justify_content": null,
            "justify_items": null,
            "left": null,
            "margin": null,
            "max_height": null,
            "max_width": null,
            "min_height": null,
            "min_width": null,
            "object_fit": null,
            "object_position": null,
            "order": null,
            "overflow": null,
            "overflow_x": null,
            "overflow_y": null,
            "padding": null,
            "right": null,
            "top": null,
            "visibility": null,
            "width": null
          }
        },
        "9135a9e8a7df42f3afad48123ced8cc7": {
          "model_module": "@jupyter-widgets/controls",
          "model_module_version": "1.5.0",
          "model_name": "HTMLModel",
          "state": {
            "_dom_classes": [],
            "_model_module": "@jupyter-widgets/controls",
            "_model_module_version": "1.5.0",
            "_model_name": "HTMLModel",
            "_view_count": null,
            "_view_module": "@jupyter-widgets/controls",
            "_view_module_version": "1.5.0",
            "_view_name": "HTMLView",
            "description": "",
            "description_tooltip": null,
            "layout": "IPY_MODEL_7f4b3a5b0d20495ebe8fe72c6fb4cc0f",
            "placeholder": "​",
            "style": "IPY_MODEL_2cfd0fbb3b3b4ae9b69fea5b0b4582a7",
            "value": "model.safetensors: 100%"
          }
        },
        "9b5c107ecaf444ce8e6b3d05a12f841e": {
          "model_module": "@jupyter-widgets/controls",
          "model_module_version": "1.5.0",
          "model_name": "FloatProgressModel",
          "state": {
            "_dom_classes": [],
            "_model_module": "@jupyter-widgets/controls",
            "_model_module_version": "1.5.0",
            "_model_name": "FloatProgressModel",
            "_view_count": null,
            "_view_module": "@jupyter-widgets/controls",
            "_view_module_version": "1.5.0",
            "_view_name": "ProgressView",
            "bar_style": "success",
            "description": "",
            "description_tooltip": null,
            "layout": "IPY_MODEL_7c05039bcde24823ab80ea0e2019ebdd",
            "max": 1421700479,
            "min": 0,
            "orientation": "horizontal",
            "style": "IPY_MODEL_5dcf8480722946a2a92dd18b0e8e02f1",
            "value": 1421700479
          }
        },
        "ac598941156d46e1be1666fd323b3a44": {
          "model_module": "@jupyter-widgets/controls",
          "model_module_version": "1.5.0",
          "model_name": "HTMLModel",
          "state": {
            "_dom_classes": [],
            "_model_module": "@jupyter-widgets/controls",
            "_model_module_version": "1.5.0",
            "_model_name": "HTMLModel",
            "_view_count": null,
            "_view_module": "@jupyter-widgets/controls",
            "_view_module_version": "1.5.0",
            "_view_name": "HTMLView",
            "description": "",
            "description_tooltip": null,
            "layout": "IPY_MODEL_60c412f6d40844a28b298e6fa67d2035",
            "placeholder": "​",
            "style": "IPY_MODEL_5999c02362b74d87a7e6d66d113023cd",
            "value": " 1.42G/1.42G [00:18&lt;00:00, 127MB/s]"
          }
        },
        "c0617ab6111a4cfba6d688256355a963": {
          "model_module": "@jupyter-widgets/base",
          "model_module_version": "1.2.0",
          "model_name": "LayoutModel",
          "state": {
            "_model_module": "@jupyter-widgets/base",
            "_model_module_version": "1.2.0",
            "_model_name": "LayoutModel",
            "_view_count": null,
            "_view_module": "@jupyter-widgets/base",
            "_view_module_version": "1.2.0",
            "_view_name": "LayoutView",
            "align_content": null,
            "align_items": null,
            "align_self": null,
            "border": null,
            "bottom": null,
            "display": null,
            "flex": null,
            "flex_flow": null,
            "grid_area": null,
            "grid_auto_columns": null,
            "grid_auto_flow": null,
            "grid_auto_rows": null,
            "grid_column": null,
            "grid_gap": null,
            "grid_row": null,
            "grid_template_areas": null,
            "grid_template_columns": null,
            "grid_template_rows": null,
            "height": null,
            "justify_content": null,
            "justify_items": null,
            "left": null,
            "margin": null,
            "max_height": null,
            "max_width": null,
            "min_height": null,
            "min_width": null,
            "object_fit": null,
            "object_position": null,
            "order": null,
            "overflow": null,
            "overflow_x": null,
            "overflow_y": null,
            "padding": null,
            "right": null,
            "top": null,
            "visibility": null,
            "width": null
          }
        }
      }
    }
  },
  "nbformat": 4,
  "nbformat_minor": 0
}
