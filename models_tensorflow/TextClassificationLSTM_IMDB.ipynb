{
  "nbformat": 4,
  "nbformat_minor": 0,
  "metadata": {
    "colab": {
      "provenance": []
    },
    "kernelspec": {
      "name": "python3",
      "display_name": "Python 3"
    },
    "language_info": {
      "name": "python"
    },
    "widgets": {
      "application/vnd.jupyter.widget-state+json": {
        "4463d72f02bd4bedaad2ef51c92fe572": {
          "model_module": "@jupyter-widgets/controls",
          "model_name": "HBoxModel",
          "model_module_version": "1.5.0",
          "state": {
            "_dom_classes": [],
            "_model_module": "@jupyter-widgets/controls",
            "_model_module_version": "1.5.0",
            "_model_name": "HBoxModel",
            "_view_count": null,
            "_view_module": "@jupyter-widgets/controls",
            "_view_module_version": "1.5.0",
            "_view_name": "HBoxView",
            "box_style": "",
            "children": [
              "IPY_MODEL_c839b977863042c5b3a870eb565bd778",
              "IPY_MODEL_071d2590050c4011a5486335d6188358",
              "IPY_MODEL_e193eeddf20946b78fec2974765a1359"
            ],
            "layout": "IPY_MODEL_074f02869f174ff394218f1d20e9b09d"
          }
        },
        "c839b977863042c5b3a870eb565bd778": {
          "model_module": "@jupyter-widgets/controls",
          "model_name": "HTMLModel",
          "model_module_version": "1.5.0",
          "state": {
            "_dom_classes": [],
            "_model_module": "@jupyter-widgets/controls",
            "_model_module_version": "1.5.0",
            "_model_name": "HTMLModel",
            "_view_count": null,
            "_view_module": "@jupyter-widgets/controls",
            "_view_module_version": "1.5.0",
            "_view_name": "HTMLView",
            "description": "",
            "description_tooltip": null,
            "layout": "IPY_MODEL_eee05b43453641b890d98f503ec6db20",
            "placeholder": "​",
            "style": "IPY_MODEL_618c373b0c3c4ca6b006f9ce530d64e1",
            "value": "Dl Completed...: 100%"
          }
        },
        "071d2590050c4011a5486335d6188358": {
          "model_module": "@jupyter-widgets/controls",
          "model_name": "FloatProgressModel",
          "model_module_version": "1.5.0",
          "state": {
            "_dom_classes": [],
            "_model_module": "@jupyter-widgets/controls",
            "_model_module_version": "1.5.0",
            "_model_name": "FloatProgressModel",
            "_view_count": null,
            "_view_module": "@jupyter-widgets/controls",
            "_view_module_version": "1.5.0",
            "_view_name": "ProgressView",
            "bar_style": "success",
            "description": "",
            "description_tooltip": null,
            "layout": "IPY_MODEL_2cccdf898dd64fefbc52fcf03895e550",
            "max": 1,
            "min": 0,
            "orientation": "horizontal",
            "style": "IPY_MODEL_430aa5c69c85479d80381fc87c81e500",
            "value": 1
          }
        },
        "e193eeddf20946b78fec2974765a1359": {
          "model_module": "@jupyter-widgets/controls",
          "model_name": "HTMLModel",
          "model_module_version": "1.5.0",
          "state": {
            "_dom_classes": [],
            "_model_module": "@jupyter-widgets/controls",
            "_model_module_version": "1.5.0",
            "_model_name": "HTMLModel",
            "_view_count": null,
            "_view_module": "@jupyter-widgets/controls",
            "_view_module_version": "1.5.0",
            "_view_name": "HTMLView",
            "description": "",
            "description_tooltip": null,
            "layout": "IPY_MODEL_1b3fe1fdcaee482cb8e3e7d45c53037b",
            "placeholder": "​",
            "style": "IPY_MODEL_0927d49933eb4109a340aa5f0eceb400",
            "value": " 1/1 [00:10&lt;00:00, 10.66s/ url]"
          }
        },
        "074f02869f174ff394218f1d20e9b09d": {
          "model_module": "@jupyter-widgets/base",
          "model_name": "LayoutModel",
          "model_module_version": "1.2.0",
          "state": {
            "_model_module": "@jupyter-widgets/base",
            "_model_module_version": "1.2.0",
            "_model_name": "LayoutModel",
            "_view_count": null,
            "_view_module": "@jupyter-widgets/base",
            "_view_module_version": "1.2.0",
            "_view_name": "LayoutView",
            "align_content": null,
            "align_items": null,
            "align_self": null,
            "border": null,
            "bottom": null,
            "display": null,
            "flex": null,
            "flex_flow": null,
            "grid_area": null,
            "grid_auto_columns": null,
            "grid_auto_flow": null,
            "grid_auto_rows": null,
            "grid_column": null,
            "grid_gap": null,
            "grid_row": null,
            "grid_template_areas": null,
            "grid_template_columns": null,
            "grid_template_rows": null,
            "height": null,
            "justify_content": null,
            "justify_items": null,
            "left": null,
            "margin": null,
            "max_height": null,
            "max_width": null,
            "min_height": null,
            "min_width": null,
            "object_fit": null,
            "object_position": null,
            "order": null,
            "overflow": null,
            "overflow_x": null,
            "overflow_y": null,
            "padding": null,
            "right": null,
            "top": null,
            "visibility": null,
            "width": null
          }
        },
        "eee05b43453641b890d98f503ec6db20": {
          "model_module": "@jupyter-widgets/base",
          "model_name": "LayoutModel",
          "model_module_version": "1.2.0",
          "state": {
            "_model_module": "@jupyter-widgets/base",
            "_model_module_version": "1.2.0",
            "_model_name": "LayoutModel",
            "_view_count": null,
            "_view_module": "@jupyter-widgets/base",
            "_view_module_version": "1.2.0",
            "_view_name": "LayoutView",
            "align_content": null,
            "align_items": null,
            "align_self": null,
            "border": null,
            "bottom": null,
            "display": null,
            "flex": null,
            "flex_flow": null,
            "grid_area": null,
            "grid_auto_columns": null,
            "grid_auto_flow": null,
            "grid_auto_rows": null,
            "grid_column": null,
            "grid_gap": null,
            "grid_row": null,
            "grid_template_areas": null,
            "grid_template_columns": null,
            "grid_template_rows": null,
            "height": null,
            "justify_content": null,
            "justify_items": null,
            "left": null,
            "margin": null,
            "max_height": null,
            "max_width": null,
            "min_height": null,
            "min_width": null,
            "object_fit": null,
            "object_position": null,
            "order": null,
            "overflow": null,
            "overflow_x": null,
            "overflow_y": null,
            "padding": null,
            "right": null,
            "top": null,
            "visibility": null,
            "width": null
          }
        },
        "618c373b0c3c4ca6b006f9ce530d64e1": {
          "model_module": "@jupyter-widgets/controls",
          "model_name": "DescriptionStyleModel",
          "model_module_version": "1.5.0",
          "state": {
            "_model_module": "@jupyter-widgets/controls",
            "_model_module_version": "1.5.0",
            "_model_name": "DescriptionStyleModel",
            "_view_count": null,
            "_view_module": "@jupyter-widgets/base",
            "_view_module_version": "1.2.0",
            "_view_name": "StyleView",
            "description_width": ""
          }
        },
        "2cccdf898dd64fefbc52fcf03895e550": {
          "model_module": "@jupyter-widgets/base",
          "model_name": "LayoutModel",
          "model_module_version": "1.2.0",
          "state": {
            "_model_module": "@jupyter-widgets/base",
            "_model_module_version": "1.2.0",
            "_model_name": "LayoutModel",
            "_view_count": null,
            "_view_module": "@jupyter-widgets/base",
            "_view_module_version": "1.2.0",
            "_view_name": "LayoutView",
            "align_content": null,
            "align_items": null,
            "align_self": null,
            "border": null,
            "bottom": null,
            "display": null,
            "flex": null,
            "flex_flow": null,
            "grid_area": null,
            "grid_auto_columns": null,
            "grid_auto_flow": null,
            "grid_auto_rows": null,
            "grid_column": null,
            "grid_gap": null,
            "grid_row": null,
            "grid_template_areas": null,
            "grid_template_columns": null,
            "grid_template_rows": null,
            "height": null,
            "justify_content": null,
            "justify_items": null,
            "left": null,
            "margin": null,
            "max_height": null,
            "max_width": null,
            "min_height": null,
            "min_width": null,
            "object_fit": null,
            "object_position": null,
            "order": null,
            "overflow": null,
            "overflow_x": null,
            "overflow_y": null,
            "padding": null,
            "right": null,
            "top": null,
            "visibility": null,
            "width": "20px"
          }
        },
        "430aa5c69c85479d80381fc87c81e500": {
          "model_module": "@jupyter-widgets/controls",
          "model_name": "ProgressStyleModel",
          "model_module_version": "1.5.0",
          "state": {
            "_model_module": "@jupyter-widgets/controls",
            "_model_module_version": "1.5.0",
            "_model_name": "ProgressStyleModel",
            "_view_count": null,
            "_view_module": "@jupyter-widgets/base",
            "_view_module_version": "1.2.0",
            "_view_name": "StyleView",
            "bar_color": null,
            "description_width": ""
          }
        },
        "1b3fe1fdcaee482cb8e3e7d45c53037b": {
          "model_module": "@jupyter-widgets/base",
          "model_name": "LayoutModel",
          "model_module_version": "1.2.0",
          "state": {
            "_model_module": "@jupyter-widgets/base",
            "_model_module_version": "1.2.0",
            "_model_name": "LayoutModel",
            "_view_count": null,
            "_view_module": "@jupyter-widgets/base",
            "_view_module_version": "1.2.0",
            "_view_name": "LayoutView",
            "align_content": null,
            "align_items": null,
            "align_self": null,
            "border": null,
            "bottom": null,
            "display": null,
            "flex": null,
            "flex_flow": null,
            "grid_area": null,
            "grid_auto_columns": null,
            "grid_auto_flow": null,
            "grid_auto_rows": null,
            "grid_column": null,
            "grid_gap": null,
            "grid_row": null,
            "grid_template_areas": null,
            "grid_template_columns": null,
            "grid_template_rows": null,
            "height": null,
            "justify_content": null,
            "justify_items": null,
            "left": null,
            "margin": null,
            "max_height": null,
            "max_width": null,
            "min_height": null,
            "min_width": null,
            "object_fit": null,
            "object_position": null,
            "order": null,
            "overflow": null,
            "overflow_x": null,
            "overflow_y": null,
            "padding": null,
            "right": null,
            "top": null,
            "visibility": null,
            "width": null
          }
        },
        "0927d49933eb4109a340aa5f0eceb400": {
          "model_module": "@jupyter-widgets/controls",
          "model_name": "DescriptionStyleModel",
          "model_module_version": "1.5.0",
          "state": {
            "_model_module": "@jupyter-widgets/controls",
            "_model_module_version": "1.5.0",
            "_model_name": "DescriptionStyleModel",
            "_view_count": null,
            "_view_module": "@jupyter-widgets/base",
            "_view_module_version": "1.2.0",
            "_view_name": "StyleView",
            "description_width": ""
          }
        },
        "797cb5f27f194edf95876292c04fe24d": {
          "model_module": "@jupyter-widgets/controls",
          "model_name": "HBoxModel",
          "model_module_version": "1.5.0",
          "state": {
            "_dom_classes": [],
            "_model_module": "@jupyter-widgets/controls",
            "_model_module_version": "1.5.0",
            "_model_name": "HBoxModel",
            "_view_count": null,
            "_view_module": "@jupyter-widgets/controls",
            "_view_module_version": "1.5.0",
            "_view_name": "HBoxView",
            "box_style": "",
            "children": [
              "IPY_MODEL_fc5d26914dac49ed91570b5b738541f5",
              "IPY_MODEL_9749ff5d04ef446dafcea6c7eaffa112",
              "IPY_MODEL_df4dd96e155b429888dfb21013466093"
            ],
            "layout": "IPY_MODEL_335657e73b484f3f84c2d062f6bc40c7"
          }
        },
        "fc5d26914dac49ed91570b5b738541f5": {
          "model_module": "@jupyter-widgets/controls",
          "model_name": "HTMLModel",
          "model_module_version": "1.5.0",
          "state": {
            "_dom_classes": [],
            "_model_module": "@jupyter-widgets/controls",
            "_model_module_version": "1.5.0",
            "_model_name": "HTMLModel",
            "_view_count": null,
            "_view_module": "@jupyter-widgets/controls",
            "_view_module_version": "1.5.0",
            "_view_name": "HTMLView",
            "description": "",
            "description_tooltip": null,
            "layout": "IPY_MODEL_06bd2e2d248c47b1bd27a36c21e97e6a",
            "placeholder": "​",
            "style": "IPY_MODEL_8e7c27957f3f4eaeae9189f9b5e4b2b5",
            "value": "Dl Size...: 100%"
          }
        },
        "9749ff5d04ef446dafcea6c7eaffa112": {
          "model_module": "@jupyter-widgets/controls",
          "model_name": "FloatProgressModel",
          "model_module_version": "1.5.0",
          "state": {
            "_dom_classes": [],
            "_model_module": "@jupyter-widgets/controls",
            "_model_module_version": "1.5.0",
            "_model_name": "FloatProgressModel",
            "_view_count": null,
            "_view_module": "@jupyter-widgets/controls",
            "_view_module_version": "1.5.0",
            "_view_name": "ProgressView",
            "bar_style": "success",
            "description": "",
            "description_tooltip": null,
            "layout": "IPY_MODEL_b6c3ef009fc74aaa91c05aaa72814cbd",
            "max": 1,
            "min": 0,
            "orientation": "horizontal",
            "style": "IPY_MODEL_05a8dfdb540c4efe970c60c23e602e12",
            "value": 1
          }
        },
        "df4dd96e155b429888dfb21013466093": {
          "model_module": "@jupyter-widgets/controls",
          "model_name": "HTMLModel",
          "model_module_version": "1.5.0",
          "state": {
            "_dom_classes": [],
            "_model_module": "@jupyter-widgets/controls",
            "_model_module_version": "1.5.0",
            "_model_name": "HTMLModel",
            "_view_count": null,
            "_view_module": "@jupyter-widgets/controls",
            "_view_module_version": "1.5.0",
            "_view_name": "HTMLView",
            "description": "",
            "description_tooltip": null,
            "layout": "IPY_MODEL_eb3fb45d22c4471991e9bd589b79422a",
            "placeholder": "​",
            "style": "IPY_MODEL_3f675a521d8b47ca975a47627cbf4edb",
            "value": " 80/80 [00:10&lt;00:00, 12.39 MiB/s]"
          }
        },
        "335657e73b484f3f84c2d062f6bc40c7": {
          "model_module": "@jupyter-widgets/base",
          "model_name": "LayoutModel",
          "model_module_version": "1.2.0",
          "state": {
            "_model_module": "@jupyter-widgets/base",
            "_model_module_version": "1.2.0",
            "_model_name": "LayoutModel",
            "_view_count": null,
            "_view_module": "@jupyter-widgets/base",
            "_view_module_version": "1.2.0",
            "_view_name": "LayoutView",
            "align_content": null,
            "align_items": null,
            "align_self": null,
            "border": null,
            "bottom": null,
            "display": null,
            "flex": null,
            "flex_flow": null,
            "grid_area": null,
            "grid_auto_columns": null,
            "grid_auto_flow": null,
            "grid_auto_rows": null,
            "grid_column": null,
            "grid_gap": null,
            "grid_row": null,
            "grid_template_areas": null,
            "grid_template_columns": null,
            "grid_template_rows": null,
            "height": null,
            "justify_content": null,
            "justify_items": null,
            "left": null,
            "margin": null,
            "max_height": null,
            "max_width": null,
            "min_height": null,
            "min_width": null,
            "object_fit": null,
            "object_position": null,
            "order": null,
            "overflow": null,
            "overflow_x": null,
            "overflow_y": null,
            "padding": null,
            "right": null,
            "top": null,
            "visibility": null,
            "width": null
          }
        },
        "06bd2e2d248c47b1bd27a36c21e97e6a": {
          "model_module": "@jupyter-widgets/base",
          "model_name": "LayoutModel",
          "model_module_version": "1.2.0",
          "state": {
            "_model_module": "@jupyter-widgets/base",
            "_model_module_version": "1.2.0",
            "_model_name": "LayoutModel",
            "_view_count": null,
            "_view_module": "@jupyter-widgets/base",
            "_view_module_version": "1.2.0",
            "_view_name": "LayoutView",
            "align_content": null,
            "align_items": null,
            "align_self": null,
            "border": null,
            "bottom": null,
            "display": null,
            "flex": null,
            "flex_flow": null,
            "grid_area": null,
            "grid_auto_columns": null,
            "grid_auto_flow": null,
            "grid_auto_rows": null,
            "grid_column": null,
            "grid_gap": null,
            "grid_row": null,
            "grid_template_areas": null,
            "grid_template_columns": null,
            "grid_template_rows": null,
            "height": null,
            "justify_content": null,
            "justify_items": null,
            "left": null,
            "margin": null,
            "max_height": null,
            "max_width": null,
            "min_height": null,
            "min_width": null,
            "object_fit": null,
            "object_position": null,
            "order": null,
            "overflow": null,
            "overflow_x": null,
            "overflow_y": null,
            "padding": null,
            "right": null,
            "top": null,
            "visibility": null,
            "width": null
          }
        },
        "8e7c27957f3f4eaeae9189f9b5e4b2b5": {
          "model_module": "@jupyter-widgets/controls",
          "model_name": "DescriptionStyleModel",
          "model_module_version": "1.5.0",
          "state": {
            "_model_module": "@jupyter-widgets/controls",
            "_model_module_version": "1.5.0",
            "_model_name": "DescriptionStyleModel",
            "_view_count": null,
            "_view_module": "@jupyter-widgets/base",
            "_view_module_version": "1.2.0",
            "_view_name": "StyleView",
            "description_width": ""
          }
        },
        "b6c3ef009fc74aaa91c05aaa72814cbd": {
          "model_module": "@jupyter-widgets/base",
          "model_name": "LayoutModel",
          "model_module_version": "1.2.0",
          "state": {
            "_model_module": "@jupyter-widgets/base",
            "_model_module_version": "1.2.0",
            "_model_name": "LayoutModel",
            "_view_count": null,
            "_view_module": "@jupyter-widgets/base",
            "_view_module_version": "1.2.0",
            "_view_name": "LayoutView",
            "align_content": null,
            "align_items": null,
            "align_self": null,
            "border": null,
            "bottom": null,
            "display": null,
            "flex": null,
            "flex_flow": null,
            "grid_area": null,
            "grid_auto_columns": null,
            "grid_auto_flow": null,
            "grid_auto_rows": null,
            "grid_column": null,
            "grid_gap": null,
            "grid_row": null,
            "grid_template_areas": null,
            "grid_template_columns": null,
            "grid_template_rows": null,
            "height": null,
            "justify_content": null,
            "justify_items": null,
            "left": null,
            "margin": null,
            "max_height": null,
            "max_width": null,
            "min_height": null,
            "min_width": null,
            "object_fit": null,
            "object_position": null,
            "order": null,
            "overflow": null,
            "overflow_x": null,
            "overflow_y": null,
            "padding": null,
            "right": null,
            "top": null,
            "visibility": null,
            "width": "20px"
          }
        },
        "05a8dfdb540c4efe970c60c23e602e12": {
          "model_module": "@jupyter-widgets/controls",
          "model_name": "ProgressStyleModel",
          "model_module_version": "1.5.0",
          "state": {
            "_model_module": "@jupyter-widgets/controls",
            "_model_module_version": "1.5.0",
            "_model_name": "ProgressStyleModel",
            "_view_count": null,
            "_view_module": "@jupyter-widgets/base",
            "_view_module_version": "1.2.0",
            "_view_name": "StyleView",
            "bar_color": null,
            "description_width": ""
          }
        },
        "eb3fb45d22c4471991e9bd589b79422a": {
          "model_module": "@jupyter-widgets/base",
          "model_name": "LayoutModel",
          "model_module_version": "1.2.0",
          "state": {
            "_model_module": "@jupyter-widgets/base",
            "_model_module_version": "1.2.0",
            "_model_name": "LayoutModel",
            "_view_count": null,
            "_view_module": "@jupyter-widgets/base",
            "_view_module_version": "1.2.0",
            "_view_name": "LayoutView",
            "align_content": null,
            "align_items": null,
            "align_self": null,
            "border": null,
            "bottom": null,
            "display": null,
            "flex": null,
            "flex_flow": null,
            "grid_area": null,
            "grid_auto_columns": null,
            "grid_auto_flow": null,
            "grid_auto_rows": null,
            "grid_column": null,
            "grid_gap": null,
            "grid_row": null,
            "grid_template_areas": null,
            "grid_template_columns": null,
            "grid_template_rows": null,
            "height": null,
            "justify_content": null,
            "justify_items": null,
            "left": null,
            "margin": null,
            "max_height": null,
            "max_width": null,
            "min_height": null,
            "min_width": null,
            "object_fit": null,
            "object_position": null,
            "order": null,
            "overflow": null,
            "overflow_x": null,
            "overflow_y": null,
            "padding": null,
            "right": null,
            "top": null,
            "visibility": null,
            "width": null
          }
        },
        "3f675a521d8b47ca975a47627cbf4edb": {
          "model_module": "@jupyter-widgets/controls",
          "model_name": "DescriptionStyleModel",
          "model_module_version": "1.5.0",
          "state": {
            "_model_module": "@jupyter-widgets/controls",
            "_model_module_version": "1.5.0",
            "_model_name": "DescriptionStyleModel",
            "_view_count": null,
            "_view_module": "@jupyter-widgets/base",
            "_view_module_version": "1.2.0",
            "_view_name": "StyleView",
            "description_width": ""
          }
        },
        "1f24c4a3c90f45cfa2e82dc4e3055558": {
          "model_module": "@jupyter-widgets/controls",
          "model_name": "HBoxModel",
          "model_module_version": "1.5.0",
          "state": {
            "_dom_classes": [],
            "_model_module": "@jupyter-widgets/controls",
            "_model_module_version": "1.5.0",
            "_model_name": "HBoxModel",
            "_view_count": null,
            "_view_module": "@jupyter-widgets/controls",
            "_view_module_version": "1.5.0",
            "_view_name": "HBoxView",
            "box_style": "",
            "children": [
              "IPY_MODEL_006540ccdaa547a590307f2abfe925c6",
              "IPY_MODEL_7540f55be51e43f6b397e2a5f6c7effc",
              "IPY_MODEL_461d1948cbaa454c9158ec2dde86ddae"
            ],
            "layout": "IPY_MODEL_f95366f2c7fb4aa9ac42cd46239432d7"
          }
        },
        "006540ccdaa547a590307f2abfe925c6": {
          "model_module": "@jupyter-widgets/controls",
          "model_name": "HTMLModel",
          "model_module_version": "1.5.0",
          "state": {
            "_dom_classes": [],
            "_model_module": "@jupyter-widgets/controls",
            "_model_module_version": "1.5.0",
            "_model_name": "HTMLModel",
            "_view_count": null,
            "_view_module": "@jupyter-widgets/controls",
            "_view_module_version": "1.5.0",
            "_view_name": "HTMLView",
            "description": "",
            "description_tooltip": null,
            "layout": "IPY_MODEL_6b0cfe520e894264b6687184955f1d81",
            "placeholder": "​",
            "style": "IPY_MODEL_23913b2501e54a36a411ff7676708419",
            "value": "Generating splits...: 100%"
          }
        },
        "7540f55be51e43f6b397e2a5f6c7effc": {
          "model_module": "@jupyter-widgets/controls",
          "model_name": "FloatProgressModel",
          "model_module_version": "1.5.0",
          "state": {
            "_dom_classes": [],
            "_model_module": "@jupyter-widgets/controls",
            "_model_module_version": "1.5.0",
            "_model_name": "FloatProgressModel",
            "_view_count": null,
            "_view_module": "@jupyter-widgets/controls",
            "_view_module_version": "1.5.0",
            "_view_name": "ProgressView",
            "bar_style": "",
            "description": "",
            "description_tooltip": null,
            "layout": "IPY_MODEL_3836c73fb4dd419cbd39459f1444c654",
            "max": 3,
            "min": 0,
            "orientation": "horizontal",
            "style": "IPY_MODEL_d194791295bf4d6180bc8bd3bcc87e98",
            "value": 3
          }
        },
        "461d1948cbaa454c9158ec2dde86ddae": {
          "model_module": "@jupyter-widgets/controls",
          "model_name": "HTMLModel",
          "model_module_version": "1.5.0",
          "state": {
            "_dom_classes": [],
            "_model_module": "@jupyter-widgets/controls",
            "_model_module_version": "1.5.0",
            "_model_name": "HTMLModel",
            "_view_count": null,
            "_view_module": "@jupyter-widgets/controls",
            "_view_module_version": "1.5.0",
            "_view_name": "HTMLView",
            "description": "",
            "description_tooltip": null,
            "layout": "IPY_MODEL_0629972ebd3a47df85c2357ed48971e5",
            "placeholder": "​",
            "style": "IPY_MODEL_f3e6769edcbc4beeb68c2224d7e78f42",
            "value": " 3/3 [00:46&lt;00:00, 15.98s/ splits]"
          }
        },
        "f95366f2c7fb4aa9ac42cd46239432d7": {
          "model_module": "@jupyter-widgets/base",
          "model_name": "LayoutModel",
          "model_module_version": "1.2.0",
          "state": {
            "_model_module": "@jupyter-widgets/base",
            "_model_module_version": "1.2.0",
            "_model_name": "LayoutModel",
            "_view_count": null,
            "_view_module": "@jupyter-widgets/base",
            "_view_module_version": "1.2.0",
            "_view_name": "LayoutView",
            "align_content": null,
            "align_items": null,
            "align_self": null,
            "border": null,
            "bottom": null,
            "display": null,
            "flex": null,
            "flex_flow": null,
            "grid_area": null,
            "grid_auto_columns": null,
            "grid_auto_flow": null,
            "grid_auto_rows": null,
            "grid_column": null,
            "grid_gap": null,
            "grid_row": null,
            "grid_template_areas": null,
            "grid_template_columns": null,
            "grid_template_rows": null,
            "height": null,
            "justify_content": null,
            "justify_items": null,
            "left": null,
            "margin": null,
            "max_height": null,
            "max_width": null,
            "min_height": null,
            "min_width": null,
            "object_fit": null,
            "object_position": null,
            "order": null,
            "overflow": null,
            "overflow_x": null,
            "overflow_y": null,
            "padding": null,
            "right": null,
            "top": null,
            "visibility": "hidden",
            "width": null
          }
        },
        "6b0cfe520e894264b6687184955f1d81": {
          "model_module": "@jupyter-widgets/base",
          "model_name": "LayoutModel",
          "model_module_version": "1.2.0",
          "state": {
            "_model_module": "@jupyter-widgets/base",
            "_model_module_version": "1.2.0",
            "_model_name": "LayoutModel",
            "_view_count": null,
            "_view_module": "@jupyter-widgets/base",
            "_view_module_version": "1.2.0",
            "_view_name": "LayoutView",
            "align_content": null,
            "align_items": null,
            "align_self": null,
            "border": null,
            "bottom": null,
            "display": null,
            "flex": null,
            "flex_flow": null,
            "grid_area": null,
            "grid_auto_columns": null,
            "grid_auto_flow": null,
            "grid_auto_rows": null,
            "grid_column": null,
            "grid_gap": null,
            "grid_row": null,
            "grid_template_areas": null,
            "grid_template_columns": null,
            "grid_template_rows": null,
            "height": null,
            "justify_content": null,
            "justify_items": null,
            "left": null,
            "margin": null,
            "max_height": null,
            "max_width": null,
            "min_height": null,
            "min_width": null,
            "object_fit": null,
            "object_position": null,
            "order": null,
            "overflow": null,
            "overflow_x": null,
            "overflow_y": null,
            "padding": null,
            "right": null,
            "top": null,
            "visibility": null,
            "width": null
          }
        },
        "23913b2501e54a36a411ff7676708419": {
          "model_module": "@jupyter-widgets/controls",
          "model_name": "DescriptionStyleModel",
          "model_module_version": "1.5.0",
          "state": {
            "_model_module": "@jupyter-widgets/controls",
            "_model_module_version": "1.5.0",
            "_model_name": "DescriptionStyleModel",
            "_view_count": null,
            "_view_module": "@jupyter-widgets/base",
            "_view_module_version": "1.2.0",
            "_view_name": "StyleView",
            "description_width": ""
          }
        },
        "3836c73fb4dd419cbd39459f1444c654": {
          "model_module": "@jupyter-widgets/base",
          "model_name": "LayoutModel",
          "model_module_version": "1.2.0",
          "state": {
            "_model_module": "@jupyter-widgets/base",
            "_model_module_version": "1.2.0",
            "_model_name": "LayoutModel",
            "_view_count": null,
            "_view_module": "@jupyter-widgets/base",
            "_view_module_version": "1.2.0",
            "_view_name": "LayoutView",
            "align_content": null,
            "align_items": null,
            "align_self": null,
            "border": null,
            "bottom": null,
            "display": null,
            "flex": null,
            "flex_flow": null,
            "grid_area": null,
            "grid_auto_columns": null,
            "grid_auto_flow": null,
            "grid_auto_rows": null,
            "grid_column": null,
            "grid_gap": null,
            "grid_row": null,
            "grid_template_areas": null,
            "grid_template_columns": null,
            "grid_template_rows": null,
            "height": null,
            "justify_content": null,
            "justify_items": null,
            "left": null,
            "margin": null,
            "max_height": null,
            "max_width": null,
            "min_height": null,
            "min_width": null,
            "object_fit": null,
            "object_position": null,
            "order": null,
            "overflow": null,
            "overflow_x": null,
            "overflow_y": null,
            "padding": null,
            "right": null,
            "top": null,
            "visibility": null,
            "width": null
          }
        },
        "d194791295bf4d6180bc8bd3bcc87e98": {
          "model_module": "@jupyter-widgets/controls",
          "model_name": "ProgressStyleModel",
          "model_module_version": "1.5.0",
          "state": {
            "_model_module": "@jupyter-widgets/controls",
            "_model_module_version": "1.5.0",
            "_model_name": "ProgressStyleModel",
            "_view_count": null,
            "_view_module": "@jupyter-widgets/base",
            "_view_module_version": "1.2.0",
            "_view_name": "StyleView",
            "bar_color": null,
            "description_width": ""
          }
        },
        "0629972ebd3a47df85c2357ed48971e5": {
          "model_module": "@jupyter-widgets/base",
          "model_name": "LayoutModel",
          "model_module_version": "1.2.0",
          "state": {
            "_model_module": "@jupyter-widgets/base",
            "_model_module_version": "1.2.0",
            "_model_name": "LayoutModel",
            "_view_count": null,
            "_view_module": "@jupyter-widgets/base",
            "_view_module_version": "1.2.0",
            "_view_name": "LayoutView",
            "align_content": null,
            "align_items": null,
            "align_self": null,
            "border": null,
            "bottom": null,
            "display": null,
            "flex": null,
            "flex_flow": null,
            "grid_area": null,
            "grid_auto_columns": null,
            "grid_auto_flow": null,
            "grid_auto_rows": null,
            "grid_column": null,
            "grid_gap": null,
            "grid_row": null,
            "grid_template_areas": null,
            "grid_template_columns": null,
            "grid_template_rows": null,
            "height": null,
            "justify_content": null,
            "justify_items": null,
            "left": null,
            "margin": null,
            "max_height": null,
            "max_width": null,
            "min_height": null,
            "min_width": null,
            "object_fit": null,
            "object_position": null,
            "order": null,
            "overflow": null,
            "overflow_x": null,
            "overflow_y": null,
            "padding": null,
            "right": null,
            "top": null,
            "visibility": null,
            "width": null
          }
        },
        "f3e6769edcbc4beeb68c2224d7e78f42": {
          "model_module": "@jupyter-widgets/controls",
          "model_name": "DescriptionStyleModel",
          "model_module_version": "1.5.0",
          "state": {
            "_model_module": "@jupyter-widgets/controls",
            "_model_module_version": "1.5.0",
            "_model_name": "DescriptionStyleModel",
            "_view_count": null,
            "_view_module": "@jupyter-widgets/base",
            "_view_module_version": "1.2.0",
            "_view_name": "StyleView",
            "description_width": ""
          }
        },
        "8c96ae17059741c89af692ea5a23bbb2": {
          "model_module": "@jupyter-widgets/controls",
          "model_name": "HBoxModel",
          "model_module_version": "1.5.0",
          "state": {
            "_dom_classes": [],
            "_model_module": "@jupyter-widgets/controls",
            "_model_module_version": "1.5.0",
            "_model_name": "HBoxModel",
            "_view_count": null,
            "_view_module": "@jupyter-widgets/controls",
            "_view_module_version": "1.5.0",
            "_view_name": "HBoxView",
            "box_style": "",
            "children": [
              "IPY_MODEL_8ec2ab3ae5304b9ea1442333bf563674",
              "IPY_MODEL_0221c5ef10d64ab0a57c8ab2411ce3ed",
              "IPY_MODEL_5a9179cc5b3049d68f8f24f9888816ab"
            ],
            "layout": "IPY_MODEL_89662406457d4383b3a4a9d314ac66a9"
          }
        },
        "8ec2ab3ae5304b9ea1442333bf563674": {
          "model_module": "@jupyter-widgets/controls",
          "model_name": "HTMLModel",
          "model_module_version": "1.5.0",
          "state": {
            "_dom_classes": [],
            "_model_module": "@jupyter-widgets/controls",
            "_model_module_version": "1.5.0",
            "_model_name": "HTMLModel",
            "_view_count": null,
            "_view_module": "@jupyter-widgets/controls",
            "_view_module_version": "1.5.0",
            "_view_name": "HTMLView",
            "description": "",
            "description_tooltip": null,
            "layout": "IPY_MODEL_058ac9c1ae8d47afb009ee3678393188",
            "placeholder": "​",
            "style": "IPY_MODEL_ff6ca5e0b26640e28555d0d7b16a5e94",
            "value": "Generating train examples...:  90%"
          }
        },
        "0221c5ef10d64ab0a57c8ab2411ce3ed": {
          "model_module": "@jupyter-widgets/controls",
          "model_name": "FloatProgressModel",
          "model_module_version": "1.5.0",
          "state": {
            "_dom_classes": [],
            "_model_module": "@jupyter-widgets/controls",
            "_model_module_version": "1.5.0",
            "_model_name": "FloatProgressModel",
            "_view_count": null,
            "_view_module": "@jupyter-widgets/controls",
            "_view_module_version": "1.5.0",
            "_view_name": "ProgressView",
            "bar_style": "",
            "description": "",
            "description_tooltip": null,
            "layout": "IPY_MODEL_71a372f1976e4c688b32b2af1fc0b380",
            "max": 25000,
            "min": 0,
            "orientation": "horizontal",
            "style": "IPY_MODEL_5b0eaff70e284419991bdbb742037e77",
            "value": 25000
          }
        },
        "5a9179cc5b3049d68f8f24f9888816ab": {
          "model_module": "@jupyter-widgets/controls",
          "model_name": "HTMLModel",
          "model_module_version": "1.5.0",
          "state": {
            "_dom_classes": [],
            "_model_module": "@jupyter-widgets/controls",
            "_model_module_version": "1.5.0",
            "_model_name": "HTMLModel",
            "_view_count": null,
            "_view_module": "@jupyter-widgets/controls",
            "_view_module_version": "1.5.0",
            "_view_name": "HTMLView",
            "description": "",
            "description_tooltip": null,
            "layout": "IPY_MODEL_f0cd7248de6c49f0b11f52ef5b17dc95",
            "placeholder": "​",
            "style": "IPY_MODEL_6acc6d3ecbd4448684716057ece929b4",
            "value": " 22490/25000 [00:08&lt;00:00, 3604.35 examples/s]"
          }
        },
        "89662406457d4383b3a4a9d314ac66a9": {
          "model_module": "@jupyter-widgets/base",
          "model_name": "LayoutModel",
          "model_module_version": "1.2.0",
          "state": {
            "_model_module": "@jupyter-widgets/base",
            "_model_module_version": "1.2.0",
            "_model_name": "LayoutModel",
            "_view_count": null,
            "_view_module": "@jupyter-widgets/base",
            "_view_module_version": "1.2.0",
            "_view_name": "LayoutView",
            "align_content": null,
            "align_items": null,
            "align_self": null,
            "border": null,
            "bottom": null,
            "display": null,
            "flex": null,
            "flex_flow": null,
            "grid_area": null,
            "grid_auto_columns": null,
            "grid_auto_flow": null,
            "grid_auto_rows": null,
            "grid_column": null,
            "grid_gap": null,
            "grid_row": null,
            "grid_template_areas": null,
            "grid_template_columns": null,
            "grid_template_rows": null,
            "height": null,
            "justify_content": null,
            "justify_items": null,
            "left": null,
            "margin": null,
            "max_height": null,
            "max_width": null,
            "min_height": null,
            "min_width": null,
            "object_fit": null,
            "object_position": null,
            "order": null,
            "overflow": null,
            "overflow_x": null,
            "overflow_y": null,
            "padding": null,
            "right": null,
            "top": null,
            "visibility": "hidden",
            "width": null
          }
        },
        "058ac9c1ae8d47afb009ee3678393188": {
          "model_module": "@jupyter-widgets/base",
          "model_name": "LayoutModel",
          "model_module_version": "1.2.0",
          "state": {
            "_model_module": "@jupyter-widgets/base",
            "_model_module_version": "1.2.0",
            "_model_name": "LayoutModel",
            "_view_count": null,
            "_view_module": "@jupyter-widgets/base",
            "_view_module_version": "1.2.0",
            "_view_name": "LayoutView",
            "align_content": null,
            "align_items": null,
            "align_self": null,
            "border": null,
            "bottom": null,
            "display": null,
            "flex": null,
            "flex_flow": null,
            "grid_area": null,
            "grid_auto_columns": null,
            "grid_auto_flow": null,
            "grid_auto_rows": null,
            "grid_column": null,
            "grid_gap": null,
            "grid_row": null,
            "grid_template_areas": null,
            "grid_template_columns": null,
            "grid_template_rows": null,
            "height": null,
            "justify_content": null,
            "justify_items": null,
            "left": null,
            "margin": null,
            "max_height": null,
            "max_width": null,
            "min_height": null,
            "min_width": null,
            "object_fit": null,
            "object_position": null,
            "order": null,
            "overflow": null,
            "overflow_x": null,
            "overflow_y": null,
            "padding": null,
            "right": null,
            "top": null,
            "visibility": null,
            "width": null
          }
        },
        "ff6ca5e0b26640e28555d0d7b16a5e94": {
          "model_module": "@jupyter-widgets/controls",
          "model_name": "DescriptionStyleModel",
          "model_module_version": "1.5.0",
          "state": {
            "_model_module": "@jupyter-widgets/controls",
            "_model_module_version": "1.5.0",
            "_model_name": "DescriptionStyleModel",
            "_view_count": null,
            "_view_module": "@jupyter-widgets/base",
            "_view_module_version": "1.2.0",
            "_view_name": "StyleView",
            "description_width": ""
          }
        },
        "71a372f1976e4c688b32b2af1fc0b380": {
          "model_module": "@jupyter-widgets/base",
          "model_name": "LayoutModel",
          "model_module_version": "1.2.0",
          "state": {
            "_model_module": "@jupyter-widgets/base",
            "_model_module_version": "1.2.0",
            "_model_name": "LayoutModel",
            "_view_count": null,
            "_view_module": "@jupyter-widgets/base",
            "_view_module_version": "1.2.0",
            "_view_name": "LayoutView",
            "align_content": null,
            "align_items": null,
            "align_self": null,
            "border": null,
            "bottom": null,
            "display": null,
            "flex": null,
            "flex_flow": null,
            "grid_area": null,
            "grid_auto_columns": null,
            "grid_auto_flow": null,
            "grid_auto_rows": null,
            "grid_column": null,
            "grid_gap": null,
            "grid_row": null,
            "grid_template_areas": null,
            "grid_template_columns": null,
            "grid_template_rows": null,
            "height": null,
            "justify_content": null,
            "justify_items": null,
            "left": null,
            "margin": null,
            "max_height": null,
            "max_width": null,
            "min_height": null,
            "min_width": null,
            "object_fit": null,
            "object_position": null,
            "order": null,
            "overflow": null,
            "overflow_x": null,
            "overflow_y": null,
            "padding": null,
            "right": null,
            "top": null,
            "visibility": null,
            "width": null
          }
        },
        "5b0eaff70e284419991bdbb742037e77": {
          "model_module": "@jupyter-widgets/controls",
          "model_name": "ProgressStyleModel",
          "model_module_version": "1.5.0",
          "state": {
            "_model_module": "@jupyter-widgets/controls",
            "_model_module_version": "1.5.0",
            "_model_name": "ProgressStyleModel",
            "_view_count": null,
            "_view_module": "@jupyter-widgets/base",
            "_view_module_version": "1.2.0",
            "_view_name": "StyleView",
            "bar_color": null,
            "description_width": ""
          }
        },
        "f0cd7248de6c49f0b11f52ef5b17dc95": {
          "model_module": "@jupyter-widgets/base",
          "model_name": "LayoutModel",
          "model_module_version": "1.2.0",
          "state": {
            "_model_module": "@jupyter-widgets/base",
            "_model_module_version": "1.2.0",
            "_model_name": "LayoutModel",
            "_view_count": null,
            "_view_module": "@jupyter-widgets/base",
            "_view_module_version": "1.2.0",
            "_view_name": "LayoutView",
            "align_content": null,
            "align_items": null,
            "align_self": null,
            "border": null,
            "bottom": null,
            "display": null,
            "flex": null,
            "flex_flow": null,
            "grid_area": null,
            "grid_auto_columns": null,
            "grid_auto_flow": null,
            "grid_auto_rows": null,
            "grid_column": null,
            "grid_gap": null,
            "grid_row": null,
            "grid_template_areas": null,
            "grid_template_columns": null,
            "grid_template_rows": null,
            "height": null,
            "justify_content": null,
            "justify_items": null,
            "left": null,
            "margin": null,
            "max_height": null,
            "max_width": null,
            "min_height": null,
            "min_width": null,
            "object_fit": null,
            "object_position": null,
            "order": null,
            "overflow": null,
            "overflow_x": null,
            "overflow_y": null,
            "padding": null,
            "right": null,
            "top": null,
            "visibility": null,
            "width": null
          }
        },
        "6acc6d3ecbd4448684716057ece929b4": {
          "model_module": "@jupyter-widgets/controls",
          "model_name": "DescriptionStyleModel",
          "model_module_version": "1.5.0",
          "state": {
            "_model_module": "@jupyter-widgets/controls",
            "_model_module_version": "1.5.0",
            "_model_name": "DescriptionStyleModel",
            "_view_count": null,
            "_view_module": "@jupyter-widgets/base",
            "_view_module_version": "1.2.0",
            "_view_name": "StyleView",
            "description_width": ""
          }
        },
        "617150de2a4141858ea6f7250e7bd09d": {
          "model_module": "@jupyter-widgets/controls",
          "model_name": "HBoxModel",
          "model_module_version": "1.5.0",
          "state": {
            "_dom_classes": [],
            "_model_module": "@jupyter-widgets/controls",
            "_model_module_version": "1.5.0",
            "_model_name": "HBoxModel",
            "_view_count": null,
            "_view_module": "@jupyter-widgets/controls",
            "_view_module_version": "1.5.0",
            "_view_name": "HBoxView",
            "box_style": "",
            "children": [
              "IPY_MODEL_9b308f634c524a3cb355f79258e10a3c",
              "IPY_MODEL_07b9c5b8232a46619f39323c21f463f2",
              "IPY_MODEL_6181bf2c2b574c20a8939d93735678e2"
            ],
            "layout": "IPY_MODEL_b4f2aa2cb9744d15874df6fa86c96759"
          }
        },
        "9b308f634c524a3cb355f79258e10a3c": {
          "model_module": "@jupyter-widgets/controls",
          "model_name": "HTMLModel",
          "model_module_version": "1.5.0",
          "state": {
            "_dom_classes": [],
            "_model_module": "@jupyter-widgets/controls",
            "_model_module_version": "1.5.0",
            "_model_name": "HTMLModel",
            "_view_count": null,
            "_view_module": "@jupyter-widgets/controls",
            "_view_module_version": "1.5.0",
            "_view_name": "HTMLView",
            "description": "",
            "description_tooltip": null,
            "layout": "IPY_MODEL_6f83792a4be64a7b984961f3bf57ee37",
            "placeholder": "​",
            "style": "IPY_MODEL_0531e7a8d6b741bfb674f3ff5d183f8d",
            "value": "Shuffling /root/tensorflow_datasets/imdb_reviews/plain_text/1.0.0.incomplete6FOZPX/imdb_reviews-train.tfrecord*...:  91%"
          }
        },
        "07b9c5b8232a46619f39323c21f463f2": {
          "model_module": "@jupyter-widgets/controls",
          "model_name": "FloatProgressModel",
          "model_module_version": "1.5.0",
          "state": {
            "_dom_classes": [],
            "_model_module": "@jupyter-widgets/controls",
            "_model_module_version": "1.5.0",
            "_model_name": "FloatProgressModel",
            "_view_count": null,
            "_view_module": "@jupyter-widgets/controls",
            "_view_module_version": "1.5.0",
            "_view_name": "ProgressView",
            "bar_style": "",
            "description": "",
            "description_tooltip": null,
            "layout": "IPY_MODEL_8d0eb9d421f24131bd594bd80237d775",
            "max": 25000,
            "min": 0,
            "orientation": "horizontal",
            "style": "IPY_MODEL_0c836073761949fda3732a0723ae7dae",
            "value": 25000
          }
        },
        "6181bf2c2b574c20a8939d93735678e2": {
          "model_module": "@jupyter-widgets/controls",
          "model_name": "HTMLModel",
          "model_module_version": "1.5.0",
          "state": {
            "_dom_classes": [],
            "_model_module": "@jupyter-widgets/controls",
            "_model_module_version": "1.5.0",
            "_model_name": "HTMLModel",
            "_view_count": null,
            "_view_module": "@jupyter-widgets/controls",
            "_view_module_version": "1.5.0",
            "_view_name": "HTMLView",
            "description": "",
            "description_tooltip": null,
            "layout": "IPY_MODEL_7af8c3cd349f41ad9b543ca9ac6ff222",
            "placeholder": "​",
            "style": "IPY_MODEL_35e5643e9d514beda51e27cffbad100c",
            "value": " 22772/25000 [00:00&lt;00:00, 128090.96 examples/s]"
          }
        },
        "b4f2aa2cb9744d15874df6fa86c96759": {
          "model_module": "@jupyter-widgets/base",
          "model_name": "LayoutModel",
          "model_module_version": "1.2.0",
          "state": {
            "_model_module": "@jupyter-widgets/base",
            "_model_module_version": "1.2.0",
            "_model_name": "LayoutModel",
            "_view_count": null,
            "_view_module": "@jupyter-widgets/base",
            "_view_module_version": "1.2.0",
            "_view_name": "LayoutView",
            "align_content": null,
            "align_items": null,
            "align_self": null,
            "border": null,
            "bottom": null,
            "display": null,
            "flex": null,
            "flex_flow": null,
            "grid_area": null,
            "grid_auto_columns": null,
            "grid_auto_flow": null,
            "grid_auto_rows": null,
            "grid_column": null,
            "grid_gap": null,
            "grid_row": null,
            "grid_template_areas": null,
            "grid_template_columns": null,
            "grid_template_rows": null,
            "height": null,
            "justify_content": null,
            "justify_items": null,
            "left": null,
            "margin": null,
            "max_height": null,
            "max_width": null,
            "min_height": null,
            "min_width": null,
            "object_fit": null,
            "object_position": null,
            "order": null,
            "overflow": null,
            "overflow_x": null,
            "overflow_y": null,
            "padding": null,
            "right": null,
            "top": null,
            "visibility": "hidden",
            "width": null
          }
        },
        "6f83792a4be64a7b984961f3bf57ee37": {
          "model_module": "@jupyter-widgets/base",
          "model_name": "LayoutModel",
          "model_module_version": "1.2.0",
          "state": {
            "_model_module": "@jupyter-widgets/base",
            "_model_module_version": "1.2.0",
            "_model_name": "LayoutModel",
            "_view_count": null,
            "_view_module": "@jupyter-widgets/base",
            "_view_module_version": "1.2.0",
            "_view_name": "LayoutView",
            "align_content": null,
            "align_items": null,
            "align_self": null,
            "border": null,
            "bottom": null,
            "display": null,
            "flex": null,
            "flex_flow": null,
            "grid_area": null,
            "grid_auto_columns": null,
            "grid_auto_flow": null,
            "grid_auto_rows": null,
            "grid_column": null,
            "grid_gap": null,
            "grid_row": null,
            "grid_template_areas": null,
            "grid_template_columns": null,
            "grid_template_rows": null,
            "height": null,
            "justify_content": null,
            "justify_items": null,
            "left": null,
            "margin": null,
            "max_height": null,
            "max_width": null,
            "min_height": null,
            "min_width": null,
            "object_fit": null,
            "object_position": null,
            "order": null,
            "overflow": null,
            "overflow_x": null,
            "overflow_y": null,
            "padding": null,
            "right": null,
            "top": null,
            "visibility": null,
            "width": null
          }
        },
        "0531e7a8d6b741bfb674f3ff5d183f8d": {
          "model_module": "@jupyter-widgets/controls",
          "model_name": "DescriptionStyleModel",
          "model_module_version": "1.5.0",
          "state": {
            "_model_module": "@jupyter-widgets/controls",
            "_model_module_version": "1.5.0",
            "_model_name": "DescriptionStyleModel",
            "_view_count": null,
            "_view_module": "@jupyter-widgets/base",
            "_view_module_version": "1.2.0",
            "_view_name": "StyleView",
            "description_width": ""
          }
        },
        "8d0eb9d421f24131bd594bd80237d775": {
          "model_module": "@jupyter-widgets/base",
          "model_name": "LayoutModel",
          "model_module_version": "1.2.0",
          "state": {
            "_model_module": "@jupyter-widgets/base",
            "_model_module_version": "1.2.0",
            "_model_name": "LayoutModel",
            "_view_count": null,
            "_view_module": "@jupyter-widgets/base",
            "_view_module_version": "1.2.0",
            "_view_name": "LayoutView",
            "align_content": null,
            "align_items": null,
            "align_self": null,
            "border": null,
            "bottom": null,
            "display": null,
            "flex": null,
            "flex_flow": null,
            "grid_area": null,
            "grid_auto_columns": null,
            "grid_auto_flow": null,
            "grid_auto_rows": null,
            "grid_column": null,
            "grid_gap": null,
            "grid_row": null,
            "grid_template_areas": null,
            "grid_template_columns": null,
            "grid_template_rows": null,
            "height": null,
            "justify_content": null,
            "justify_items": null,
            "left": null,
            "margin": null,
            "max_height": null,
            "max_width": null,
            "min_height": null,
            "min_width": null,
            "object_fit": null,
            "object_position": null,
            "order": null,
            "overflow": null,
            "overflow_x": null,
            "overflow_y": null,
            "padding": null,
            "right": null,
            "top": null,
            "visibility": null,
            "width": null
          }
        },
        "0c836073761949fda3732a0723ae7dae": {
          "model_module": "@jupyter-widgets/controls",
          "model_name": "ProgressStyleModel",
          "model_module_version": "1.5.0",
          "state": {
            "_model_module": "@jupyter-widgets/controls",
            "_model_module_version": "1.5.0",
            "_model_name": "ProgressStyleModel",
            "_view_count": null,
            "_view_module": "@jupyter-widgets/base",
            "_view_module_version": "1.2.0",
            "_view_name": "StyleView",
            "bar_color": null,
            "description_width": ""
          }
        },
        "7af8c3cd349f41ad9b543ca9ac6ff222": {
          "model_module": "@jupyter-widgets/base",
          "model_name": "LayoutModel",
          "model_module_version": "1.2.0",
          "state": {
            "_model_module": "@jupyter-widgets/base",
            "_model_module_version": "1.2.0",
            "_model_name": "LayoutModel",
            "_view_count": null,
            "_view_module": "@jupyter-widgets/base",
            "_view_module_version": "1.2.0",
            "_view_name": "LayoutView",
            "align_content": null,
            "align_items": null,
            "align_self": null,
            "border": null,
            "bottom": null,
            "display": null,
            "flex": null,
            "flex_flow": null,
            "grid_area": null,
            "grid_auto_columns": null,
            "grid_auto_flow": null,
            "grid_auto_rows": null,
            "grid_column": null,
            "grid_gap": null,
            "grid_row": null,
            "grid_template_areas": null,
            "grid_template_columns": null,
            "grid_template_rows": null,
            "height": null,
            "justify_content": null,
            "justify_items": null,
            "left": null,
            "margin": null,
            "max_height": null,
            "max_width": null,
            "min_height": null,
            "min_width": null,
            "object_fit": null,
            "object_position": null,
            "order": null,
            "overflow": null,
            "overflow_x": null,
            "overflow_y": null,
            "padding": null,
            "right": null,
            "top": null,
            "visibility": null,
            "width": null
          }
        },
        "35e5643e9d514beda51e27cffbad100c": {
          "model_module": "@jupyter-widgets/controls",
          "model_name": "DescriptionStyleModel",
          "model_module_version": "1.5.0",
          "state": {
            "_model_module": "@jupyter-widgets/controls",
            "_model_module_version": "1.5.0",
            "_model_name": "DescriptionStyleModel",
            "_view_count": null,
            "_view_module": "@jupyter-widgets/base",
            "_view_module_version": "1.2.0",
            "_view_name": "StyleView",
            "description_width": ""
          }
        },
        "3db987a57f354b6d8cf3d4904c703eda": {
          "model_module": "@jupyter-widgets/controls",
          "model_name": "HBoxModel",
          "model_module_version": "1.5.0",
          "state": {
            "_dom_classes": [],
            "_model_module": "@jupyter-widgets/controls",
            "_model_module_version": "1.5.0",
            "_model_name": "HBoxModel",
            "_view_count": null,
            "_view_module": "@jupyter-widgets/controls",
            "_view_module_version": "1.5.0",
            "_view_name": "HBoxView",
            "box_style": "",
            "children": [
              "IPY_MODEL_feda3f14cd4e4772995120f225766a08",
              "IPY_MODEL_12be342adedd4805a85c66e0bec1d6e9",
              "IPY_MODEL_489a3934a33d4d869d94257261ea50bb"
            ],
            "layout": "IPY_MODEL_72229f94f2ce48ecae634d2be1ab3442"
          }
        },
        "feda3f14cd4e4772995120f225766a08": {
          "model_module": "@jupyter-widgets/controls",
          "model_name": "HTMLModel",
          "model_module_version": "1.5.0",
          "state": {
            "_dom_classes": [],
            "_model_module": "@jupyter-widgets/controls",
            "_model_module_version": "1.5.0",
            "_model_name": "HTMLModel",
            "_view_count": null,
            "_view_module": "@jupyter-widgets/controls",
            "_view_module_version": "1.5.0",
            "_view_name": "HTMLView",
            "description": "",
            "description_tooltip": null,
            "layout": "IPY_MODEL_e25f8b44a4da4c1a9bb48e089d528457",
            "placeholder": "​",
            "style": "IPY_MODEL_34b5fd7821e8424ebece71d0b65d5f20",
            "value": "Generating test examples...:  91%"
          }
        },
        "12be342adedd4805a85c66e0bec1d6e9": {
          "model_module": "@jupyter-widgets/controls",
          "model_name": "FloatProgressModel",
          "model_module_version": "1.5.0",
          "state": {
            "_dom_classes": [],
            "_model_module": "@jupyter-widgets/controls",
            "_model_module_version": "1.5.0",
            "_model_name": "FloatProgressModel",
            "_view_count": null,
            "_view_module": "@jupyter-widgets/controls",
            "_view_module_version": "1.5.0",
            "_view_name": "ProgressView",
            "bar_style": "",
            "description": "",
            "description_tooltip": null,
            "layout": "IPY_MODEL_806160588c8b41c39df35b40e0b9ffe8",
            "max": 25000,
            "min": 0,
            "orientation": "horizontal",
            "style": "IPY_MODEL_200b7565ac29400bbfa4fc8e04e96b29",
            "value": 25000
          }
        },
        "489a3934a33d4d869d94257261ea50bb": {
          "model_module": "@jupyter-widgets/controls",
          "model_name": "HTMLModel",
          "model_module_version": "1.5.0",
          "state": {
            "_dom_classes": [],
            "_model_module": "@jupyter-widgets/controls",
            "_model_module_version": "1.5.0",
            "_model_name": "HTMLModel",
            "_view_count": null,
            "_view_module": "@jupyter-widgets/controls",
            "_view_module_version": "1.5.0",
            "_view_name": "HTMLView",
            "description": "",
            "description_tooltip": null,
            "layout": "IPY_MODEL_735e8ce55e8a4d67a17dece761693643",
            "placeholder": "​",
            "style": "IPY_MODEL_6e16e7d8a20b4088b05c59e6d1c73b1d",
            "value": " 22728/25000 [00:07&lt;00:00, 3915.51 examples/s]"
          }
        },
        "72229f94f2ce48ecae634d2be1ab3442": {
          "model_module": "@jupyter-widgets/base",
          "model_name": "LayoutModel",
          "model_module_version": "1.2.0",
          "state": {
            "_model_module": "@jupyter-widgets/base",
            "_model_module_version": "1.2.0",
            "_model_name": "LayoutModel",
            "_view_count": null,
            "_view_module": "@jupyter-widgets/base",
            "_view_module_version": "1.2.0",
            "_view_name": "LayoutView",
            "align_content": null,
            "align_items": null,
            "align_self": null,
            "border": null,
            "bottom": null,
            "display": null,
            "flex": null,
            "flex_flow": null,
            "grid_area": null,
            "grid_auto_columns": null,
            "grid_auto_flow": null,
            "grid_auto_rows": null,
            "grid_column": null,
            "grid_gap": null,
            "grid_row": null,
            "grid_template_areas": null,
            "grid_template_columns": null,
            "grid_template_rows": null,
            "height": null,
            "justify_content": null,
            "justify_items": null,
            "left": null,
            "margin": null,
            "max_height": null,
            "max_width": null,
            "min_height": null,
            "min_width": null,
            "object_fit": null,
            "object_position": null,
            "order": null,
            "overflow": null,
            "overflow_x": null,
            "overflow_y": null,
            "padding": null,
            "right": null,
            "top": null,
            "visibility": "hidden",
            "width": null
          }
        },
        "e25f8b44a4da4c1a9bb48e089d528457": {
          "model_module": "@jupyter-widgets/base",
          "model_name": "LayoutModel",
          "model_module_version": "1.2.0",
          "state": {
            "_model_module": "@jupyter-widgets/base",
            "_model_module_version": "1.2.0",
            "_model_name": "LayoutModel",
            "_view_count": null,
            "_view_module": "@jupyter-widgets/base",
            "_view_module_version": "1.2.0",
            "_view_name": "LayoutView",
            "align_content": null,
            "align_items": null,
            "align_self": null,
            "border": null,
            "bottom": null,
            "display": null,
            "flex": null,
            "flex_flow": null,
            "grid_area": null,
            "grid_auto_columns": null,
            "grid_auto_flow": null,
            "grid_auto_rows": null,
            "grid_column": null,
            "grid_gap": null,
            "grid_row": null,
            "grid_template_areas": null,
            "grid_template_columns": null,
            "grid_template_rows": null,
            "height": null,
            "justify_content": null,
            "justify_items": null,
            "left": null,
            "margin": null,
            "max_height": null,
            "max_width": null,
            "min_height": null,
            "min_width": null,
            "object_fit": null,
            "object_position": null,
            "order": null,
            "overflow": null,
            "overflow_x": null,
            "overflow_y": null,
            "padding": null,
            "right": null,
            "top": null,
            "visibility": null,
            "width": null
          }
        },
        "34b5fd7821e8424ebece71d0b65d5f20": {
          "model_module": "@jupyter-widgets/controls",
          "model_name": "DescriptionStyleModel",
          "model_module_version": "1.5.0",
          "state": {
            "_model_module": "@jupyter-widgets/controls",
            "_model_module_version": "1.5.0",
            "_model_name": "DescriptionStyleModel",
            "_view_count": null,
            "_view_module": "@jupyter-widgets/base",
            "_view_module_version": "1.2.0",
            "_view_name": "StyleView",
            "description_width": ""
          }
        },
        "806160588c8b41c39df35b40e0b9ffe8": {
          "model_module": "@jupyter-widgets/base",
          "model_name": "LayoutModel",
          "model_module_version": "1.2.0",
          "state": {
            "_model_module": "@jupyter-widgets/base",
            "_model_module_version": "1.2.0",
            "_model_name": "LayoutModel",
            "_view_count": null,
            "_view_module": "@jupyter-widgets/base",
            "_view_module_version": "1.2.0",
            "_view_name": "LayoutView",
            "align_content": null,
            "align_items": null,
            "align_self": null,
            "border": null,
            "bottom": null,
            "display": null,
            "flex": null,
            "flex_flow": null,
            "grid_area": null,
            "grid_auto_columns": null,
            "grid_auto_flow": null,
            "grid_auto_rows": null,
            "grid_column": null,
            "grid_gap": null,
            "grid_row": null,
            "grid_template_areas": null,
            "grid_template_columns": null,
            "grid_template_rows": null,
            "height": null,
            "justify_content": null,
            "justify_items": null,
            "left": null,
            "margin": null,
            "max_height": null,
            "max_width": null,
            "min_height": null,
            "min_width": null,
            "object_fit": null,
            "object_position": null,
            "order": null,
            "overflow": null,
            "overflow_x": null,
            "overflow_y": null,
            "padding": null,
            "right": null,
            "top": null,
            "visibility": null,
            "width": null
          }
        },
        "200b7565ac29400bbfa4fc8e04e96b29": {
          "model_module": "@jupyter-widgets/controls",
          "model_name": "ProgressStyleModel",
          "model_module_version": "1.5.0",
          "state": {
            "_model_module": "@jupyter-widgets/controls",
            "_model_module_version": "1.5.0",
            "_model_name": "ProgressStyleModel",
            "_view_count": null,
            "_view_module": "@jupyter-widgets/base",
            "_view_module_version": "1.2.0",
            "_view_name": "StyleView",
            "bar_color": null,
            "description_width": ""
          }
        },
        "735e8ce55e8a4d67a17dece761693643": {
          "model_module": "@jupyter-widgets/base",
          "model_name": "LayoutModel",
          "model_module_version": "1.2.0",
          "state": {
            "_model_module": "@jupyter-widgets/base",
            "_model_module_version": "1.2.0",
            "_model_name": "LayoutModel",
            "_view_count": null,
            "_view_module": "@jupyter-widgets/base",
            "_view_module_version": "1.2.0",
            "_view_name": "LayoutView",
            "align_content": null,
            "align_items": null,
            "align_self": null,
            "border": null,
            "bottom": null,
            "display": null,
            "flex": null,
            "flex_flow": null,
            "grid_area": null,
            "grid_auto_columns": null,
            "grid_auto_flow": null,
            "grid_auto_rows": null,
            "grid_column": null,
            "grid_gap": null,
            "grid_row": null,
            "grid_template_areas": null,
            "grid_template_columns": null,
            "grid_template_rows": null,
            "height": null,
            "justify_content": null,
            "justify_items": null,
            "left": null,
            "margin": null,
            "max_height": null,
            "max_width": null,
            "min_height": null,
            "min_width": null,
            "object_fit": null,
            "object_position": null,
            "order": null,
            "overflow": null,
            "overflow_x": null,
            "overflow_y": null,
            "padding": null,
            "right": null,
            "top": null,
            "visibility": null,
            "width": null
          }
        },
        "6e16e7d8a20b4088b05c59e6d1c73b1d": {
          "model_module": "@jupyter-widgets/controls",
          "model_name": "DescriptionStyleModel",
          "model_module_version": "1.5.0",
          "state": {
            "_model_module": "@jupyter-widgets/controls",
            "_model_module_version": "1.5.0",
            "_model_name": "DescriptionStyleModel",
            "_view_count": null,
            "_view_module": "@jupyter-widgets/base",
            "_view_module_version": "1.2.0",
            "_view_name": "StyleView",
            "description_width": ""
          }
        },
        "99f828aee03940d0879aba1d5e6ebed8": {
          "model_module": "@jupyter-widgets/controls",
          "model_name": "HBoxModel",
          "model_module_version": "1.5.0",
          "state": {
            "_dom_classes": [],
            "_model_module": "@jupyter-widgets/controls",
            "_model_module_version": "1.5.0",
            "_model_name": "HBoxModel",
            "_view_count": null,
            "_view_module": "@jupyter-widgets/controls",
            "_view_module_version": "1.5.0",
            "_view_name": "HBoxView",
            "box_style": "",
            "children": [
              "IPY_MODEL_e1ff00aa72384da09c9d0af552b6abb4",
              "IPY_MODEL_ab27319cc5f745e282a24a3632a17837",
              "IPY_MODEL_d04ebcba178949f5b9951db6c9bf5658"
            ],
            "layout": "IPY_MODEL_39324ef91937410395a252d7878a7df7"
          }
        },
        "e1ff00aa72384da09c9d0af552b6abb4": {
          "model_module": "@jupyter-widgets/controls",
          "model_name": "HTMLModel",
          "model_module_version": "1.5.0",
          "state": {
            "_dom_classes": [],
            "_model_module": "@jupyter-widgets/controls",
            "_model_module_version": "1.5.0",
            "_model_name": "HTMLModel",
            "_view_count": null,
            "_view_module": "@jupyter-widgets/controls",
            "_view_module_version": "1.5.0",
            "_view_name": "HTMLView",
            "description": "",
            "description_tooltip": null,
            "layout": "IPY_MODEL_2e07a293124541e2a264603c655a42a8",
            "placeholder": "​",
            "style": "IPY_MODEL_15b7d7d15414493cac318386766d7475",
            "value": "Shuffling /root/tensorflow_datasets/imdb_reviews/plain_text/1.0.0.incomplete6FOZPX/imdb_reviews-test.tfrecord*...:  65%"
          }
        },
        "ab27319cc5f745e282a24a3632a17837": {
          "model_module": "@jupyter-widgets/controls",
          "model_name": "FloatProgressModel",
          "model_module_version": "1.5.0",
          "state": {
            "_dom_classes": [],
            "_model_module": "@jupyter-widgets/controls",
            "_model_module_version": "1.5.0",
            "_model_name": "FloatProgressModel",
            "_view_count": null,
            "_view_module": "@jupyter-widgets/controls",
            "_view_module_version": "1.5.0",
            "_view_name": "ProgressView",
            "bar_style": "",
            "description": "",
            "description_tooltip": null,
            "layout": "IPY_MODEL_04477c7b74124b57ad94be341cf7feed",
            "max": 25000,
            "min": 0,
            "orientation": "horizontal",
            "style": "IPY_MODEL_07608a3349674ad6ae6f2066ecc7f7ee",
            "value": 25000
          }
        },
        "d04ebcba178949f5b9951db6c9bf5658": {
          "model_module": "@jupyter-widgets/controls",
          "model_name": "HTMLModel",
          "model_module_version": "1.5.0",
          "state": {
            "_dom_classes": [],
            "_model_module": "@jupyter-widgets/controls",
            "_model_module_version": "1.5.0",
            "_model_name": "HTMLModel",
            "_view_count": null,
            "_view_module": "@jupyter-widgets/controls",
            "_view_module_version": "1.5.0",
            "_view_name": "HTMLView",
            "description": "",
            "description_tooltip": null,
            "layout": "IPY_MODEL_b8ddd733e1f444cbb960c93a98418124",
            "placeholder": "​",
            "style": "IPY_MODEL_94509164916042d5ba033d28dcd8313d",
            "value": " 16364/25000 [00:00&lt;00:00, 87568.62 examples/s]"
          }
        },
        "39324ef91937410395a252d7878a7df7": {
          "model_module": "@jupyter-widgets/base",
          "model_name": "LayoutModel",
          "model_module_version": "1.2.0",
          "state": {
            "_model_module": "@jupyter-widgets/base",
            "_model_module_version": "1.2.0",
            "_model_name": "LayoutModel",
            "_view_count": null,
            "_view_module": "@jupyter-widgets/base",
            "_view_module_version": "1.2.0",
            "_view_name": "LayoutView",
            "align_content": null,
            "align_items": null,
            "align_self": null,
            "border": null,
            "bottom": null,
            "display": null,
            "flex": null,
            "flex_flow": null,
            "grid_area": null,
            "grid_auto_columns": null,
            "grid_auto_flow": null,
            "grid_auto_rows": null,
            "grid_column": null,
            "grid_gap": null,
            "grid_row": null,
            "grid_template_areas": null,
            "grid_template_columns": null,
            "grid_template_rows": null,
            "height": null,
            "justify_content": null,
            "justify_items": null,
            "left": null,
            "margin": null,
            "max_height": null,
            "max_width": null,
            "min_height": null,
            "min_width": null,
            "object_fit": null,
            "object_position": null,
            "order": null,
            "overflow": null,
            "overflow_x": null,
            "overflow_y": null,
            "padding": null,
            "right": null,
            "top": null,
            "visibility": "hidden",
            "width": null
          }
        },
        "2e07a293124541e2a264603c655a42a8": {
          "model_module": "@jupyter-widgets/base",
          "model_name": "LayoutModel",
          "model_module_version": "1.2.0",
          "state": {
            "_model_module": "@jupyter-widgets/base",
            "_model_module_version": "1.2.0",
            "_model_name": "LayoutModel",
            "_view_count": null,
            "_view_module": "@jupyter-widgets/base",
            "_view_module_version": "1.2.0",
            "_view_name": "LayoutView",
            "align_content": null,
            "align_items": null,
            "align_self": null,
            "border": null,
            "bottom": null,
            "display": null,
            "flex": null,
            "flex_flow": null,
            "grid_area": null,
            "grid_auto_columns": null,
            "grid_auto_flow": null,
            "grid_auto_rows": null,
            "grid_column": null,
            "grid_gap": null,
            "grid_row": null,
            "grid_template_areas": null,
            "grid_template_columns": null,
            "grid_template_rows": null,
            "height": null,
            "justify_content": null,
            "justify_items": null,
            "left": null,
            "margin": null,
            "max_height": null,
            "max_width": null,
            "min_height": null,
            "min_width": null,
            "object_fit": null,
            "object_position": null,
            "order": null,
            "overflow": null,
            "overflow_x": null,
            "overflow_y": null,
            "padding": null,
            "right": null,
            "top": null,
            "visibility": null,
            "width": null
          }
        },
        "15b7d7d15414493cac318386766d7475": {
          "model_module": "@jupyter-widgets/controls",
          "model_name": "DescriptionStyleModel",
          "model_module_version": "1.5.0",
          "state": {
            "_model_module": "@jupyter-widgets/controls",
            "_model_module_version": "1.5.0",
            "_model_name": "DescriptionStyleModel",
            "_view_count": null,
            "_view_module": "@jupyter-widgets/base",
            "_view_module_version": "1.2.0",
            "_view_name": "StyleView",
            "description_width": ""
          }
        },
        "04477c7b74124b57ad94be341cf7feed": {
          "model_module": "@jupyter-widgets/base",
          "model_name": "LayoutModel",
          "model_module_version": "1.2.0",
          "state": {
            "_model_module": "@jupyter-widgets/base",
            "_model_module_version": "1.2.0",
            "_model_name": "LayoutModel",
            "_view_count": null,
            "_view_module": "@jupyter-widgets/base",
            "_view_module_version": "1.2.0",
            "_view_name": "LayoutView",
            "align_content": null,
            "align_items": null,
            "align_self": null,
            "border": null,
            "bottom": null,
            "display": null,
            "flex": null,
            "flex_flow": null,
            "grid_area": null,
            "grid_auto_columns": null,
            "grid_auto_flow": null,
            "grid_auto_rows": null,
            "grid_column": null,
            "grid_gap": null,
            "grid_row": null,
            "grid_template_areas": null,
            "grid_template_columns": null,
            "grid_template_rows": null,
            "height": null,
            "justify_content": null,
            "justify_items": null,
            "left": null,
            "margin": null,
            "max_height": null,
            "max_width": null,
            "min_height": null,
            "min_width": null,
            "object_fit": null,
            "object_position": null,
            "order": null,
            "overflow": null,
            "overflow_x": null,
            "overflow_y": null,
            "padding": null,
            "right": null,
            "top": null,
            "visibility": null,
            "width": null
          }
        },
        "07608a3349674ad6ae6f2066ecc7f7ee": {
          "model_module": "@jupyter-widgets/controls",
          "model_name": "ProgressStyleModel",
          "model_module_version": "1.5.0",
          "state": {
            "_model_module": "@jupyter-widgets/controls",
            "_model_module_version": "1.5.0",
            "_model_name": "ProgressStyleModel",
            "_view_count": null,
            "_view_module": "@jupyter-widgets/base",
            "_view_module_version": "1.2.0",
            "_view_name": "StyleView",
            "bar_color": null,
            "description_width": ""
          }
        },
        "b8ddd733e1f444cbb960c93a98418124": {
          "model_module": "@jupyter-widgets/base",
          "model_name": "LayoutModel",
          "model_module_version": "1.2.0",
          "state": {
            "_model_module": "@jupyter-widgets/base",
            "_model_module_version": "1.2.0",
            "_model_name": "LayoutModel",
            "_view_count": null,
            "_view_module": "@jupyter-widgets/base",
            "_view_module_version": "1.2.0",
            "_view_name": "LayoutView",
            "align_content": null,
            "align_items": null,
            "align_self": null,
            "border": null,
            "bottom": null,
            "display": null,
            "flex": null,
            "flex_flow": null,
            "grid_area": null,
            "grid_auto_columns": null,
            "grid_auto_flow": null,
            "grid_auto_rows": null,
            "grid_column": null,
            "grid_gap": null,
            "grid_row": null,
            "grid_template_areas": null,
            "grid_template_columns": null,
            "grid_template_rows": null,
            "height": null,
            "justify_content": null,
            "justify_items": null,
            "left": null,
            "margin": null,
            "max_height": null,
            "max_width": null,
            "min_height": null,
            "min_width": null,
            "object_fit": null,
            "object_position": null,
            "order": null,
            "overflow": null,
            "overflow_x": null,
            "overflow_y": null,
            "padding": null,
            "right": null,
            "top": null,
            "visibility": null,
            "width": null
          }
        },
        "94509164916042d5ba033d28dcd8313d": {
          "model_module": "@jupyter-widgets/controls",
          "model_name": "DescriptionStyleModel",
          "model_module_version": "1.5.0",
          "state": {
            "_model_module": "@jupyter-widgets/controls",
            "_model_module_version": "1.5.0",
            "_model_name": "DescriptionStyleModel",
            "_view_count": null,
            "_view_module": "@jupyter-widgets/base",
            "_view_module_version": "1.2.0",
            "_view_name": "StyleView",
            "description_width": ""
          }
        },
        "ff13920460784913bb5c5c27853c1358": {
          "model_module": "@jupyter-widgets/controls",
          "model_name": "HBoxModel",
          "model_module_version": "1.5.0",
          "state": {
            "_dom_classes": [],
            "_model_module": "@jupyter-widgets/controls",
            "_model_module_version": "1.5.0",
            "_model_name": "HBoxModel",
            "_view_count": null,
            "_view_module": "@jupyter-widgets/controls",
            "_view_module_version": "1.5.0",
            "_view_name": "HBoxView",
            "box_style": "",
            "children": [
              "IPY_MODEL_dd647cd157354274bfcecb0e5175d2bc",
              "IPY_MODEL_4723c789a4e748d29e7e85c1231dad05",
              "IPY_MODEL_5ac9771d7fe44722812ffd93bfb8a13e"
            ],
            "layout": "IPY_MODEL_27890c9976b04b6ab20389d56becebec"
          }
        },
        "dd647cd157354274bfcecb0e5175d2bc": {
          "model_module": "@jupyter-widgets/controls",
          "model_name": "HTMLModel",
          "model_module_version": "1.5.0",
          "state": {
            "_dom_classes": [],
            "_model_module": "@jupyter-widgets/controls",
            "_model_module_version": "1.5.0",
            "_model_name": "HTMLModel",
            "_view_count": null,
            "_view_module": "@jupyter-widgets/controls",
            "_view_module_version": "1.5.0",
            "_view_name": "HTMLView",
            "description": "",
            "description_tooltip": null,
            "layout": "IPY_MODEL_e301f553dfb54b3da27baac6b1fff4fe",
            "placeholder": "​",
            "style": "IPY_MODEL_24ba1e1f860e4cd59108dadcab765538",
            "value": "Generating unsupervised examples...:  95%"
          }
        },
        "4723c789a4e748d29e7e85c1231dad05": {
          "model_module": "@jupyter-widgets/controls",
          "model_name": "FloatProgressModel",
          "model_module_version": "1.5.0",
          "state": {
            "_dom_classes": [],
            "_model_module": "@jupyter-widgets/controls",
            "_model_module_version": "1.5.0",
            "_model_name": "FloatProgressModel",
            "_view_count": null,
            "_view_module": "@jupyter-widgets/controls",
            "_view_module_version": "1.5.0",
            "_view_name": "ProgressView",
            "bar_style": "",
            "description": "",
            "description_tooltip": null,
            "layout": "IPY_MODEL_88e4ec14b7464d63919738fa2b491232",
            "max": 50000,
            "min": 0,
            "orientation": "horizontal",
            "style": "IPY_MODEL_b1487440a6934ff2b51c6130e06d01cf",
            "value": 50000
          }
        },
        "5ac9771d7fe44722812ffd93bfb8a13e": {
          "model_module": "@jupyter-widgets/controls",
          "model_name": "HTMLModel",
          "model_module_version": "1.5.0",
          "state": {
            "_dom_classes": [],
            "_model_module": "@jupyter-widgets/controls",
            "_model_module_version": "1.5.0",
            "_model_name": "HTMLModel",
            "_view_count": null,
            "_view_module": "@jupyter-widgets/controls",
            "_view_module_version": "1.5.0",
            "_view_name": "HTMLView",
            "description": "",
            "description_tooltip": null,
            "layout": "IPY_MODEL_f81e9c7c32534565b58752d4fe97dc8d",
            "placeholder": "​",
            "style": "IPY_MODEL_3f9c409a83ce48b9a8566ae6027546cb",
            "value": " 47343/50000 [00:17&lt;00:00, 3318.04 examples/s]"
          }
        },
        "27890c9976b04b6ab20389d56becebec": {
          "model_module": "@jupyter-widgets/base",
          "model_name": "LayoutModel",
          "model_module_version": "1.2.0",
          "state": {
            "_model_module": "@jupyter-widgets/base",
            "_model_module_version": "1.2.0",
            "_model_name": "LayoutModel",
            "_view_count": null,
            "_view_module": "@jupyter-widgets/base",
            "_view_module_version": "1.2.0",
            "_view_name": "LayoutView",
            "align_content": null,
            "align_items": null,
            "align_self": null,
            "border": null,
            "bottom": null,
            "display": null,
            "flex": null,
            "flex_flow": null,
            "grid_area": null,
            "grid_auto_columns": null,
            "grid_auto_flow": null,
            "grid_auto_rows": null,
            "grid_column": null,
            "grid_gap": null,
            "grid_row": null,
            "grid_template_areas": null,
            "grid_template_columns": null,
            "grid_template_rows": null,
            "height": null,
            "justify_content": null,
            "justify_items": null,
            "left": null,
            "margin": null,
            "max_height": null,
            "max_width": null,
            "min_height": null,
            "min_width": null,
            "object_fit": null,
            "object_position": null,
            "order": null,
            "overflow": null,
            "overflow_x": null,
            "overflow_y": null,
            "padding": null,
            "right": null,
            "top": null,
            "visibility": "hidden",
            "width": null
          }
        },
        "e301f553dfb54b3da27baac6b1fff4fe": {
          "model_module": "@jupyter-widgets/base",
          "model_name": "LayoutModel",
          "model_module_version": "1.2.0",
          "state": {
            "_model_module": "@jupyter-widgets/base",
            "_model_module_version": "1.2.0",
            "_model_name": "LayoutModel",
            "_view_count": null,
            "_view_module": "@jupyter-widgets/base",
            "_view_module_version": "1.2.0",
            "_view_name": "LayoutView",
            "align_content": null,
            "align_items": null,
            "align_self": null,
            "border": null,
            "bottom": null,
            "display": null,
            "flex": null,
            "flex_flow": null,
            "grid_area": null,
            "grid_auto_columns": null,
            "grid_auto_flow": null,
            "grid_auto_rows": null,
            "grid_column": null,
            "grid_gap": null,
            "grid_row": null,
            "grid_template_areas": null,
            "grid_template_columns": null,
            "grid_template_rows": null,
            "height": null,
            "justify_content": null,
            "justify_items": null,
            "left": null,
            "margin": null,
            "max_height": null,
            "max_width": null,
            "min_height": null,
            "min_width": null,
            "object_fit": null,
            "object_position": null,
            "order": null,
            "overflow": null,
            "overflow_x": null,
            "overflow_y": null,
            "padding": null,
            "right": null,
            "top": null,
            "visibility": null,
            "width": null
          }
        },
        "24ba1e1f860e4cd59108dadcab765538": {
          "model_module": "@jupyter-widgets/controls",
          "model_name": "DescriptionStyleModel",
          "model_module_version": "1.5.0",
          "state": {
            "_model_module": "@jupyter-widgets/controls",
            "_model_module_version": "1.5.0",
            "_model_name": "DescriptionStyleModel",
            "_view_count": null,
            "_view_module": "@jupyter-widgets/base",
            "_view_module_version": "1.2.0",
            "_view_name": "StyleView",
            "description_width": ""
          }
        },
        "88e4ec14b7464d63919738fa2b491232": {
          "model_module": "@jupyter-widgets/base",
          "model_name": "LayoutModel",
          "model_module_version": "1.2.0",
          "state": {
            "_model_module": "@jupyter-widgets/base",
            "_model_module_version": "1.2.0",
            "_model_name": "LayoutModel",
            "_view_count": null,
            "_view_module": "@jupyter-widgets/base",
            "_view_module_version": "1.2.0",
            "_view_name": "LayoutView",
            "align_content": null,
            "align_items": null,
            "align_self": null,
            "border": null,
            "bottom": null,
            "display": null,
            "flex": null,
            "flex_flow": null,
            "grid_area": null,
            "grid_auto_columns": null,
            "grid_auto_flow": null,
            "grid_auto_rows": null,
            "grid_column": null,
            "grid_gap": null,
            "grid_row": null,
            "grid_template_areas": null,
            "grid_template_columns": null,
            "grid_template_rows": null,
            "height": null,
            "justify_content": null,
            "justify_items": null,
            "left": null,
            "margin": null,
            "max_height": null,
            "max_width": null,
            "min_height": null,
            "min_width": null,
            "object_fit": null,
            "object_position": null,
            "order": null,
            "overflow": null,
            "overflow_x": null,
            "overflow_y": null,
            "padding": null,
            "right": null,
            "top": null,
            "visibility": null,
            "width": null
          }
        },
        "b1487440a6934ff2b51c6130e06d01cf": {
          "model_module": "@jupyter-widgets/controls",
          "model_name": "ProgressStyleModel",
          "model_module_version": "1.5.0",
          "state": {
            "_model_module": "@jupyter-widgets/controls",
            "_model_module_version": "1.5.0",
            "_model_name": "ProgressStyleModel",
            "_view_count": null,
            "_view_module": "@jupyter-widgets/base",
            "_view_module_version": "1.2.0",
            "_view_name": "StyleView",
            "bar_color": null,
            "description_width": ""
          }
        },
        "f81e9c7c32534565b58752d4fe97dc8d": {
          "model_module": "@jupyter-widgets/base",
          "model_name": "LayoutModel",
          "model_module_version": "1.2.0",
          "state": {
            "_model_module": "@jupyter-widgets/base",
            "_model_module_version": "1.2.0",
            "_model_name": "LayoutModel",
            "_view_count": null,
            "_view_module": "@jupyter-widgets/base",
            "_view_module_version": "1.2.0",
            "_view_name": "LayoutView",
            "align_content": null,
            "align_items": null,
            "align_self": null,
            "border": null,
            "bottom": null,
            "display": null,
            "flex": null,
            "flex_flow": null,
            "grid_area": null,
            "grid_auto_columns": null,
            "grid_auto_flow": null,
            "grid_auto_rows": null,
            "grid_column": null,
            "grid_gap": null,
            "grid_row": null,
            "grid_template_areas": null,
            "grid_template_columns": null,
            "grid_template_rows": null,
            "height": null,
            "justify_content": null,
            "justify_items": null,
            "left": null,
            "margin": null,
            "max_height": null,
            "max_width": null,
            "min_height": null,
            "min_width": null,
            "object_fit": null,
            "object_position": null,
            "order": null,
            "overflow": null,
            "overflow_x": null,
            "overflow_y": null,
            "padding": null,
            "right": null,
            "top": null,
            "visibility": null,
            "width": null
          }
        },
        "3f9c409a83ce48b9a8566ae6027546cb": {
          "model_module": "@jupyter-widgets/controls",
          "model_name": "DescriptionStyleModel",
          "model_module_version": "1.5.0",
          "state": {
            "_model_module": "@jupyter-widgets/controls",
            "_model_module_version": "1.5.0",
            "_model_name": "DescriptionStyleModel",
            "_view_count": null,
            "_view_module": "@jupyter-widgets/base",
            "_view_module_version": "1.2.0",
            "_view_name": "StyleView",
            "description_width": ""
          }
        },
        "3a2c4f292fef4ecb89fb1c830ae942e2": {
          "model_module": "@jupyter-widgets/controls",
          "model_name": "HBoxModel",
          "model_module_version": "1.5.0",
          "state": {
            "_dom_classes": [],
            "_model_module": "@jupyter-widgets/controls",
            "_model_module_version": "1.5.0",
            "_model_name": "HBoxModel",
            "_view_count": null,
            "_view_module": "@jupyter-widgets/controls",
            "_view_module_version": "1.5.0",
            "_view_name": "HBoxView",
            "box_style": "",
            "children": [
              "IPY_MODEL_93a2f687a3ff422590638d2c4092f6ea",
              "IPY_MODEL_480fc7b04ef8490c9a5679282bd1b825",
              "IPY_MODEL_65850f06912f443da8ec9b6850955180"
            ],
            "layout": "IPY_MODEL_b9c5d91aa3eb46d48874138d9d7ffe17"
          }
        },
        "93a2f687a3ff422590638d2c4092f6ea": {
          "model_module": "@jupyter-widgets/controls",
          "model_name": "HTMLModel",
          "model_module_version": "1.5.0",
          "state": {
            "_dom_classes": [],
            "_model_module": "@jupyter-widgets/controls",
            "_model_module_version": "1.5.0",
            "_model_name": "HTMLModel",
            "_view_count": null,
            "_view_module": "@jupyter-widgets/controls",
            "_view_module_version": "1.5.0",
            "_view_name": "HTMLView",
            "description": "",
            "description_tooltip": null,
            "layout": "IPY_MODEL_678ad29cd98c4a7897c24309f57821fd",
            "placeholder": "​",
            "style": "IPY_MODEL_851984d0ef7341c59b745fcaa70a93da",
            "value": "Shuffling /root/tensorflow_datasets/imdb_reviews/plain_text/1.0.0.incomplete6FOZPX/imdb_reviews-unsupervised.tfrecord*...:  84%"
          }
        },
        "480fc7b04ef8490c9a5679282bd1b825": {
          "model_module": "@jupyter-widgets/controls",
          "model_name": "FloatProgressModel",
          "model_module_version": "1.5.0",
          "state": {
            "_dom_classes": [],
            "_model_module": "@jupyter-widgets/controls",
            "_model_module_version": "1.5.0",
            "_model_name": "FloatProgressModel",
            "_view_count": null,
            "_view_module": "@jupyter-widgets/controls",
            "_view_module_version": "1.5.0",
            "_view_name": "ProgressView",
            "bar_style": "",
            "description": "",
            "description_tooltip": null,
            "layout": "IPY_MODEL_0ef1f5e5db3b4c03bbb5d33f86f320b7",
            "max": 50000,
            "min": 0,
            "orientation": "horizontal",
            "style": "IPY_MODEL_a37a95618a404bea92ae786d2fecd7b2",
            "value": 50000
          }
        },
        "65850f06912f443da8ec9b6850955180": {
          "model_module": "@jupyter-widgets/controls",
          "model_name": "HTMLModel",
          "model_module_version": "1.5.0",
          "state": {
            "_dom_classes": [],
            "_model_module": "@jupyter-widgets/controls",
            "_model_module_version": "1.5.0",
            "_model_name": "HTMLModel",
            "_view_count": null,
            "_view_module": "@jupyter-widgets/controls",
            "_view_module_version": "1.5.0",
            "_view_name": "HTMLView",
            "description": "",
            "description_tooltip": null,
            "layout": "IPY_MODEL_dbe83bd5065340ceb0eb328df5966a52",
            "placeholder": "​",
            "style": "IPY_MODEL_5968281b3e5b42518b7b557299e105b2",
            "value": " 41802/50000 [00:00&lt;00:00, 162135.65 examples/s]"
          }
        },
        "b9c5d91aa3eb46d48874138d9d7ffe17": {
          "model_module": "@jupyter-widgets/base",
          "model_name": "LayoutModel",
          "model_module_version": "1.2.0",
          "state": {
            "_model_module": "@jupyter-widgets/base",
            "_model_module_version": "1.2.0",
            "_model_name": "LayoutModel",
            "_view_count": null,
            "_view_module": "@jupyter-widgets/base",
            "_view_module_version": "1.2.0",
            "_view_name": "LayoutView",
            "align_content": null,
            "align_items": null,
            "align_self": null,
            "border": null,
            "bottom": null,
            "display": null,
            "flex": null,
            "flex_flow": null,
            "grid_area": null,
            "grid_auto_columns": null,
            "grid_auto_flow": null,
            "grid_auto_rows": null,
            "grid_column": null,
            "grid_gap": null,
            "grid_row": null,
            "grid_template_areas": null,
            "grid_template_columns": null,
            "grid_template_rows": null,
            "height": null,
            "justify_content": null,
            "justify_items": null,
            "left": null,
            "margin": null,
            "max_height": null,
            "max_width": null,
            "min_height": null,
            "min_width": null,
            "object_fit": null,
            "object_position": null,
            "order": null,
            "overflow": null,
            "overflow_x": null,
            "overflow_y": null,
            "padding": null,
            "right": null,
            "top": null,
            "visibility": "hidden",
            "width": null
          }
        },
        "678ad29cd98c4a7897c24309f57821fd": {
          "model_module": "@jupyter-widgets/base",
          "model_name": "LayoutModel",
          "model_module_version": "1.2.0",
          "state": {
            "_model_module": "@jupyter-widgets/base",
            "_model_module_version": "1.2.0",
            "_model_name": "LayoutModel",
            "_view_count": null,
            "_view_module": "@jupyter-widgets/base",
            "_view_module_version": "1.2.0",
            "_view_name": "LayoutView",
            "align_content": null,
            "align_items": null,
            "align_self": null,
            "border": null,
            "bottom": null,
            "display": null,
            "flex": null,
            "flex_flow": null,
            "grid_area": null,
            "grid_auto_columns": null,
            "grid_auto_flow": null,
            "grid_auto_rows": null,
            "grid_column": null,
            "grid_gap": null,
            "grid_row": null,
            "grid_template_areas": null,
            "grid_template_columns": null,
            "grid_template_rows": null,
            "height": null,
            "justify_content": null,
            "justify_items": null,
            "left": null,
            "margin": null,
            "max_height": null,
            "max_width": null,
            "min_height": null,
            "min_width": null,
            "object_fit": null,
            "object_position": null,
            "order": null,
            "overflow": null,
            "overflow_x": null,
            "overflow_y": null,
            "padding": null,
            "right": null,
            "top": null,
            "visibility": null,
            "width": null
          }
        },
        "851984d0ef7341c59b745fcaa70a93da": {
          "model_module": "@jupyter-widgets/controls",
          "model_name": "DescriptionStyleModel",
          "model_module_version": "1.5.0",
          "state": {
            "_model_module": "@jupyter-widgets/controls",
            "_model_module_version": "1.5.0",
            "_model_name": "DescriptionStyleModel",
            "_view_count": null,
            "_view_module": "@jupyter-widgets/base",
            "_view_module_version": "1.2.0",
            "_view_name": "StyleView",
            "description_width": ""
          }
        },
        "0ef1f5e5db3b4c03bbb5d33f86f320b7": {
          "model_module": "@jupyter-widgets/base",
          "model_name": "LayoutModel",
          "model_module_version": "1.2.0",
          "state": {
            "_model_module": "@jupyter-widgets/base",
            "_model_module_version": "1.2.0",
            "_model_name": "LayoutModel",
            "_view_count": null,
            "_view_module": "@jupyter-widgets/base",
            "_view_module_version": "1.2.0",
            "_view_name": "LayoutView",
            "align_content": null,
            "align_items": null,
            "align_self": null,
            "border": null,
            "bottom": null,
            "display": null,
            "flex": null,
            "flex_flow": null,
            "grid_area": null,
            "grid_auto_columns": null,
            "grid_auto_flow": null,
            "grid_auto_rows": null,
            "grid_column": null,
            "grid_gap": null,
            "grid_row": null,
            "grid_template_areas": null,
            "grid_template_columns": null,
            "grid_template_rows": null,
            "height": null,
            "justify_content": null,
            "justify_items": null,
            "left": null,
            "margin": null,
            "max_height": null,
            "max_width": null,
            "min_height": null,
            "min_width": null,
            "object_fit": null,
            "object_position": null,
            "order": null,
            "overflow": null,
            "overflow_x": null,
            "overflow_y": null,
            "padding": null,
            "right": null,
            "top": null,
            "visibility": null,
            "width": null
          }
        },
        "a37a95618a404bea92ae786d2fecd7b2": {
          "model_module": "@jupyter-widgets/controls",
          "model_name": "ProgressStyleModel",
          "model_module_version": "1.5.0",
          "state": {
            "_model_module": "@jupyter-widgets/controls",
            "_model_module_version": "1.5.0",
            "_model_name": "ProgressStyleModel",
            "_view_count": null,
            "_view_module": "@jupyter-widgets/base",
            "_view_module_version": "1.2.0",
            "_view_name": "StyleView",
            "bar_color": null,
            "description_width": ""
          }
        },
        "dbe83bd5065340ceb0eb328df5966a52": {
          "model_module": "@jupyter-widgets/base",
          "model_name": "LayoutModel",
          "model_module_version": "1.2.0",
          "state": {
            "_model_module": "@jupyter-widgets/base",
            "_model_module_version": "1.2.0",
            "_model_name": "LayoutModel",
            "_view_count": null,
            "_view_module": "@jupyter-widgets/base",
            "_view_module_version": "1.2.0",
            "_view_name": "LayoutView",
            "align_content": null,
            "align_items": null,
            "align_self": null,
            "border": null,
            "bottom": null,
            "display": null,
            "flex": null,
            "flex_flow": null,
            "grid_area": null,
            "grid_auto_columns": null,
            "grid_auto_flow": null,
            "grid_auto_rows": null,
            "grid_column": null,
            "grid_gap": null,
            "grid_row": null,
            "grid_template_areas": null,
            "grid_template_columns": null,
            "grid_template_rows": null,
            "height": null,
            "justify_content": null,
            "justify_items": null,
            "left": null,
            "margin": null,
            "max_height": null,
            "max_width": null,
            "min_height": null,
            "min_width": null,
            "object_fit": null,
            "object_position": null,
            "order": null,
            "overflow": null,
            "overflow_x": null,
            "overflow_y": null,
            "padding": null,
            "right": null,
            "top": null,
            "visibility": null,
            "width": null
          }
        },
        "5968281b3e5b42518b7b557299e105b2": {
          "model_module": "@jupyter-widgets/controls",
          "model_name": "DescriptionStyleModel",
          "model_module_version": "1.5.0",
          "state": {
            "_model_module": "@jupyter-widgets/controls",
            "_model_module_version": "1.5.0",
            "_model_name": "DescriptionStyleModel",
            "_view_count": null,
            "_view_module": "@jupyter-widgets/base",
            "_view_module_version": "1.2.0",
            "_view_name": "StyleView",
            "description_width": ""
          }
        }
      }
    }
  },
  "cells": [
    {
      "cell_type": "markdown",
      "source": [
        "# **Text Classifier with the IMDB Reviews Dataset**"
      ],
      "metadata": {
        "id": "ezzKLPtx8S6C"
      }
    },
    {
      "cell_type": "markdown",
      "source": [
        "\n",
        "This notebook showcases the implementation of text classification model using LSTM networks for sentiment analysis. Its purpose is to distinguish between positive and negative movie reviews in the [IMDB Reviews dataset](http://ai.stanford.edu/~amaas/data/sentiment/). Additionally, it includes visualization of word embeddings generated post-training."
      ],
      "metadata": {
        "id": "Q2zgcLmK7_i7"
      }
    },
    {
      "cell_type": "markdown",
      "source": [
        "### **Imports**"
      ],
      "metadata": {
        "id": "ohI0LZ0I8qQs"
      }
    },
    {
      "cell_type": "code",
      "execution_count": 4,
      "metadata": {
        "id": "D1M4u0Ah5kZH"
      },
      "outputs": [],
      "source": [
        "import tensorflow as tf\n",
        "import tensorflow_datasets as tfds\n",
        "from sklearn.metrics import confusion_matrix, ConfusionMatrixDisplay\n",
        "from sklearn.decomposition import PCA\n",
        "import numpy as np\n",
        "import matplotlib.pyplot as plt\n",
        "from mpl_toolkits.mplot3d import Axes3D\n",
        "import plotly.graph_objects as go\n",
        "import textwrap\n",
        "from IPython.core.display import HTML\n",
        "from google.colab import drive\n",
        "import imageio.v2 as imageio\n",
        "import os"
      ]
    },
    {
      "cell_type": "markdown",
      "source": [
        "### **Parameters**"
      ],
      "metadata": {
        "id": "piIYd5Nl-8SX"
      }
    },
    {
      "cell_type": "code",
      "source": [
        "epochs = 5\n",
        "batch_size = 128\n",
        "buffer_size = 1024\n",
        "AUTOTUNE = tf.data.AUTOTUNE\n",
        "vocab_size = 50000 #Including padding and unknown tokens\n",
        "embedding_dim = 128"
      ],
      "metadata": {
        "id": "mFvpDxgx85Yt"
      },
      "execution_count": null,
      "outputs": []
    },
    {
      "cell_type": "markdown",
      "source": [
        "### **Load and Preprocess the Dataset**"
      ],
      "metadata": {
        "id": "2Jb1Tnf8-6m3"
      }
    },
    {
      "cell_type": "code",
      "source": [
        "(train_dataset, test_dataset), info = tfds.load(\"imdb_reviews\",\n",
        "                                                split=[\"train + test[:60%]\", \"test[60%:]\"],\n",
        "                                                as_supervised=True,\n",
        "                                                with_info=True)\n",
        "info"
      ],
      "metadata": {
        "colab": {
          "base_uri": "https://localhost:8080/",
          "height": 830,
          "referenced_widgets": [
            "4463d72f02bd4bedaad2ef51c92fe572",
            "c839b977863042c5b3a870eb565bd778",
            "071d2590050c4011a5486335d6188358",
            "e193eeddf20946b78fec2974765a1359",
            "074f02869f174ff394218f1d20e9b09d",
            "eee05b43453641b890d98f503ec6db20",
            "618c373b0c3c4ca6b006f9ce530d64e1",
            "2cccdf898dd64fefbc52fcf03895e550",
            "430aa5c69c85479d80381fc87c81e500",
            "1b3fe1fdcaee482cb8e3e7d45c53037b",
            "0927d49933eb4109a340aa5f0eceb400",
            "797cb5f27f194edf95876292c04fe24d",
            "fc5d26914dac49ed91570b5b738541f5",
            "9749ff5d04ef446dafcea6c7eaffa112",
            "df4dd96e155b429888dfb21013466093",
            "335657e73b484f3f84c2d062f6bc40c7",
            "06bd2e2d248c47b1bd27a36c21e97e6a",
            "8e7c27957f3f4eaeae9189f9b5e4b2b5",
            "b6c3ef009fc74aaa91c05aaa72814cbd",
            "05a8dfdb540c4efe970c60c23e602e12",
            "eb3fb45d22c4471991e9bd589b79422a",
            "3f675a521d8b47ca975a47627cbf4edb",
            "1f24c4a3c90f45cfa2e82dc4e3055558",
            "006540ccdaa547a590307f2abfe925c6",
            "7540f55be51e43f6b397e2a5f6c7effc",
            "461d1948cbaa454c9158ec2dde86ddae",
            "f95366f2c7fb4aa9ac42cd46239432d7",
            "6b0cfe520e894264b6687184955f1d81",
            "23913b2501e54a36a411ff7676708419",
            "3836c73fb4dd419cbd39459f1444c654",
            "d194791295bf4d6180bc8bd3bcc87e98",
            "0629972ebd3a47df85c2357ed48971e5",
            "f3e6769edcbc4beeb68c2224d7e78f42",
            "8c96ae17059741c89af692ea5a23bbb2",
            "8ec2ab3ae5304b9ea1442333bf563674",
            "0221c5ef10d64ab0a57c8ab2411ce3ed",
            "5a9179cc5b3049d68f8f24f9888816ab",
            "89662406457d4383b3a4a9d314ac66a9",
            "058ac9c1ae8d47afb009ee3678393188",
            "ff6ca5e0b26640e28555d0d7b16a5e94",
            "71a372f1976e4c688b32b2af1fc0b380",
            "5b0eaff70e284419991bdbb742037e77",
            "f0cd7248de6c49f0b11f52ef5b17dc95",
            "6acc6d3ecbd4448684716057ece929b4",
            "617150de2a4141858ea6f7250e7bd09d",
            "9b308f634c524a3cb355f79258e10a3c",
            "07b9c5b8232a46619f39323c21f463f2",
            "6181bf2c2b574c20a8939d93735678e2",
            "b4f2aa2cb9744d15874df6fa86c96759",
            "6f83792a4be64a7b984961f3bf57ee37",
            "0531e7a8d6b741bfb674f3ff5d183f8d",
            "8d0eb9d421f24131bd594bd80237d775",
            "0c836073761949fda3732a0723ae7dae",
            "7af8c3cd349f41ad9b543ca9ac6ff222",
            "35e5643e9d514beda51e27cffbad100c",
            "3db987a57f354b6d8cf3d4904c703eda",
            "feda3f14cd4e4772995120f225766a08",
            "12be342adedd4805a85c66e0bec1d6e9",
            "489a3934a33d4d869d94257261ea50bb",
            "72229f94f2ce48ecae634d2be1ab3442",
            "e25f8b44a4da4c1a9bb48e089d528457",
            "34b5fd7821e8424ebece71d0b65d5f20",
            "806160588c8b41c39df35b40e0b9ffe8",
            "200b7565ac29400bbfa4fc8e04e96b29",
            "735e8ce55e8a4d67a17dece761693643",
            "6e16e7d8a20b4088b05c59e6d1c73b1d",
            "99f828aee03940d0879aba1d5e6ebed8",
            "e1ff00aa72384da09c9d0af552b6abb4",
            "ab27319cc5f745e282a24a3632a17837",
            "d04ebcba178949f5b9951db6c9bf5658",
            "39324ef91937410395a252d7878a7df7",
            "2e07a293124541e2a264603c655a42a8",
            "15b7d7d15414493cac318386766d7475",
            "04477c7b74124b57ad94be341cf7feed",
            "07608a3349674ad6ae6f2066ecc7f7ee",
            "b8ddd733e1f444cbb960c93a98418124",
            "94509164916042d5ba033d28dcd8313d",
            "ff13920460784913bb5c5c27853c1358",
            "dd647cd157354274bfcecb0e5175d2bc",
            "4723c789a4e748d29e7e85c1231dad05",
            "5ac9771d7fe44722812ffd93bfb8a13e",
            "27890c9976b04b6ab20389d56becebec",
            "e301f553dfb54b3da27baac6b1fff4fe",
            "24ba1e1f860e4cd59108dadcab765538",
            "88e4ec14b7464d63919738fa2b491232",
            "b1487440a6934ff2b51c6130e06d01cf",
            "f81e9c7c32534565b58752d4fe97dc8d",
            "3f9c409a83ce48b9a8566ae6027546cb",
            "3a2c4f292fef4ecb89fb1c830ae942e2",
            "93a2f687a3ff422590638d2c4092f6ea",
            "480fc7b04ef8490c9a5679282bd1b825",
            "65850f06912f443da8ec9b6850955180",
            "b9c5d91aa3eb46d48874138d9d7ffe17",
            "678ad29cd98c4a7897c24309f57821fd",
            "851984d0ef7341c59b745fcaa70a93da",
            "0ef1f5e5db3b4c03bbb5d33f86f320b7",
            "a37a95618a404bea92ae786d2fecd7b2",
            "dbe83bd5065340ceb0eb328df5966a52",
            "5968281b3e5b42518b7b557299e105b2"
          ]
        },
        "id": "m09K-cJ6_eh0",
        "outputId": "116ce7df-cdb8-497b-aba1-5ab09e47e306"
      },
      "execution_count": null,
      "outputs": [
        {
          "output_type": "stream",
          "name": "stdout",
          "text": [
            "Downloading and preparing dataset 80.23 MiB (download: 80.23 MiB, generated: Unknown size, total: 80.23 MiB) to /root/tensorflow_datasets/imdb_reviews/plain_text/1.0.0...\n"
          ]
        },
        {
          "output_type": "display_data",
          "data": {
            "text/plain": [
              "Dl Completed...: 0 url [00:00, ? url/s]"
            ],
            "application/vnd.jupyter.widget-view+json": {
              "version_major": 2,
              "version_minor": 0,
              "model_id": "4463d72f02bd4bedaad2ef51c92fe572"
            }
          },
          "metadata": {}
        },
        {
          "output_type": "display_data",
          "data": {
            "text/plain": [
              "Dl Size...: 0 MiB [00:00, ? MiB/s]"
            ],
            "application/vnd.jupyter.widget-view+json": {
              "version_major": 2,
              "version_minor": 0,
              "model_id": "797cb5f27f194edf95876292c04fe24d"
            }
          },
          "metadata": {}
        },
        {
          "output_type": "display_data",
          "data": {
            "text/plain": [
              "Generating splits...:   0%|          | 0/3 [00:00<?, ? splits/s]"
            ],
            "application/vnd.jupyter.widget-view+json": {
              "version_major": 2,
              "version_minor": 0,
              "model_id": "1f24c4a3c90f45cfa2e82dc4e3055558"
            }
          },
          "metadata": {}
        },
        {
          "output_type": "display_data",
          "data": {
            "text/plain": [
              "Generating train examples...:   0%|          | 0/25000 [00:00<?, ? examples/s]"
            ],
            "application/vnd.jupyter.widget-view+json": {
              "version_major": 2,
              "version_minor": 0,
              "model_id": "8c96ae17059741c89af692ea5a23bbb2"
            }
          },
          "metadata": {}
        },
        {
          "output_type": "display_data",
          "data": {
            "text/plain": [
              "Shuffling /root/tensorflow_datasets/imdb_reviews/plain_text/1.0.0.incomplete6FOZPX/imdb_reviews-train.tfrecord…"
            ],
            "application/vnd.jupyter.widget-view+json": {
              "version_major": 2,
              "version_minor": 0,
              "model_id": "617150de2a4141858ea6f7250e7bd09d"
            }
          },
          "metadata": {}
        },
        {
          "output_type": "display_data",
          "data": {
            "text/plain": [
              "Generating test examples...:   0%|          | 0/25000 [00:00<?, ? examples/s]"
            ],
            "application/vnd.jupyter.widget-view+json": {
              "version_major": 2,
              "version_minor": 0,
              "model_id": "3db987a57f354b6d8cf3d4904c703eda"
            }
          },
          "metadata": {}
        },
        {
          "output_type": "display_data",
          "data": {
            "text/plain": [
              "Shuffling /root/tensorflow_datasets/imdb_reviews/plain_text/1.0.0.incomplete6FOZPX/imdb_reviews-test.tfrecord*…"
            ],
            "application/vnd.jupyter.widget-view+json": {
              "version_major": 2,
              "version_minor": 0,
              "model_id": "99f828aee03940d0879aba1d5e6ebed8"
            }
          },
          "metadata": {}
        },
        {
          "output_type": "display_data",
          "data": {
            "text/plain": [
              "Generating unsupervised examples...:   0%|          | 0/50000 [00:00<?, ? examples/s]"
            ],
            "application/vnd.jupyter.widget-view+json": {
              "version_major": 2,
              "version_minor": 0,
              "model_id": "ff13920460784913bb5c5c27853c1358"
            }
          },
          "metadata": {}
        },
        {
          "output_type": "display_data",
          "data": {
            "text/plain": [
              "Shuffling /root/tensorflow_datasets/imdb_reviews/plain_text/1.0.0.incomplete6FOZPX/imdb_reviews-unsupervised.t…"
            ],
            "application/vnd.jupyter.widget-view+json": {
              "version_major": 2,
              "version_minor": 0,
              "model_id": "3a2c4f292fef4ecb89fb1c830ae942e2"
            }
          },
          "metadata": {}
        },
        {
          "output_type": "stream",
          "name": "stdout",
          "text": [
            "Dataset imdb_reviews downloaded and prepared to /root/tensorflow_datasets/imdb_reviews/plain_text/1.0.0. Subsequent calls will reuse this data.\n"
          ]
        },
        {
          "output_type": "execute_result",
          "data": {
            "text/plain": [
              "tfds.core.DatasetInfo(\n",
              "    name='imdb_reviews',\n",
              "    full_name='imdb_reviews/plain_text/1.0.0',\n",
              "    description=\"\"\"\n",
              "    Large Movie Review Dataset. This is a dataset for binary sentiment\n",
              "    classification containing substantially more data than previous benchmark\n",
              "    datasets. We provide a set of 25,000 highly polar movie reviews for training,\n",
              "    and 25,000 for testing. There is additional unlabeled data for use as well.\n",
              "    \"\"\",\n",
              "    config_description=\"\"\"\n",
              "    Plain text\n",
              "    \"\"\",\n",
              "    homepage='http://ai.stanford.edu/~amaas/data/sentiment/',\n",
              "    data_dir=PosixGPath('/tmp/tmpj8419wh5tfds'),\n",
              "    file_format=tfrecord,\n",
              "    download_size=80.23 MiB,\n",
              "    dataset_size=129.83 MiB,\n",
              "    features=FeaturesDict({\n",
              "        'label': ClassLabel(shape=(), dtype=int64, num_classes=2),\n",
              "        'text': Text(shape=(), dtype=string),\n",
              "    }),\n",
              "    supervised_keys=('text', 'label'),\n",
              "    disable_shuffling=False,\n",
              "    splits={\n",
              "        'test': <SplitInfo num_examples=25000, num_shards=1>,\n",
              "        'train': <SplitInfo num_examples=25000, num_shards=1>,\n",
              "        'unsupervised': <SplitInfo num_examples=50000, num_shards=1>,\n",
              "    },\n",
              "    citation=\"\"\"@InProceedings{maas-EtAl:2011:ACL-HLT2011,\n",
              "      author    = {Maas, Andrew L.  and  Daly, Raymond E.  and  Pham, Peter T.  and  Huang, Dan  and  Ng, Andrew Y.  and  Potts, Christopher},\n",
              "      title     = {Learning Word Vectors for Sentiment Analysis},\n",
              "      booktitle = {Proceedings of the 49th Annual Meeting of the Association for Computational Linguistics: Human Language Technologies},\n",
              "      month     = {June},\n",
              "      year      = {2011},\n",
              "      address   = {Portland, Oregon, USA},\n",
              "      publisher = {Association for Computational Linguistics},\n",
              "      pages     = {142--150},\n",
              "      url       = {http://www.aclweb.org/anthology/P11-1015}\n",
              "    }\"\"\",\n",
              ")"
            ]
          },
          "metadata": {},
          "execution_count": 4
        }
      ]
    },
    {
      "cell_type": "code",
      "source": [
        "len(train_dataset), len(test_dataset)"
      ],
      "metadata": {
        "colab": {
          "base_uri": "https://localhost:8080/"
        },
        "id": "-Ufk-7CHZm8-",
        "outputId": "f548fb93-b8d8-4c14-8f04-b29b2d93bbb7"
      },
      "execution_count": null,
      "outputs": [
        {
          "output_type": "execute_result",
          "data": {
            "text/plain": [
              "(40000, 10000)"
            ]
          },
          "metadata": {},
          "execution_count": 5
        }
      ]
    },
    {
      "cell_type": "code",
      "source": [
        "train_dataset = train_dataset.shuffle(buffer_size, seed=123).batch(batch_size).prefetch(AUTOTUNE)\n",
        "test_dataset = test_dataset.batch(batch_size).prefetch(tf.data.AUTOTUNE)"
      ],
      "metadata": {
        "id": "tJSScDlI_vCy"
      },
      "execution_count": null,
      "outputs": []
    },
    {
      "cell_type": "code",
      "source": [
        "for text, label in train_dataset.take(1):\n",
        "  print(text[:3].numpy(), \"\\n\")\n",
        "  print(label[:3].numpy())"
      ],
      "metadata": {
        "colab": {
          "base_uri": "https://localhost:8080/"
        },
        "id": "IRemi_nKAj6O",
        "outputId": "4d2ce77d-d5eb-488b-ddc5-3ee593289e2e"
      },
      "execution_count": null,
      "outputs": [
        {
          "output_type": "stream",
          "name": "stdout",
          "text": [
            "[b'Will Smith is smooth as usual in the movie Hitch. Smiths character Hitch is a date doctor. He dates Mendes character who is a gossip columnist. At one point Hitch shows his love interest her Great Grandfathers name in the immigration book at Ellis Island pretending what is actually an arranged event is a coincidence. Not long after I mentioned starlight in my previous review today. There was a view of the starry sky in survivor hinting that My Moon 168 Rtexas already knew that was going to be there due to faster than light communications.<br /><br />The male star from the show The King of Queens is very funny in this movie especially his dance moves. The allergic reaction on Hitchs face is a little cruel to laugh at even though it is just pretend.<br /><br />My latest message from my Daughter Julias Artificial Intelligence computer on the Creator of Humans Home world Coaltrain that my Moon 168 as part of Moonfleet is near says: \"Daddy I\\'m Okay again.\" Her messages are always very short. It is a curious pattern. Daddy will always Love you Julia. Thanks to our Creator we can talk forever. Yesterday Daddy talked to the first you on the telephone and told you your homework time wouldn\\'t be that bad and you said \"How bad will it be Daddy?\" I said that your Grandma and I would help you with it. You only have to put pictures of our friends the police on a bristol board display and write a title like \"The Police protect us.\" Check out the other movies of Will Smith as well.'\n",
            " b'Deathtrap runs like a play within a movie about who did what to whom, as it primarily takes place on one set. The premise is that an accomplished playwright, whose star is falling, receives a magnificent manuscript from a former student and so he plans to off his protege and appropriate his play, to the (loud) protests of his wife. Or so you think, for the first half of the movie. Past the halfway mark, Deathtrap begins to throw in twists and surprises that turn its premise on its head, then right around, and then in a mad spin, all the time keeping its title appropriate. It\\'s an excellent mystery movie soaked in wit. <br /><br />Michael Caine, as the senior playwright, plays himself in this movie - a slightly loony and very dramatic Brit. No surprises here - he does his usual good work. He gets the best line of Deathtrap, which he executes perfectly: \"What is your definition of success, being gang-banged in a state penitentiary?\" <br /><br />Christopher Reeve, on the other hand, juggles comedy and drama in a surprisingly strong performance playing the ambitious (and psychopathic) young playwright. He also gets to show off his very toned body, which he must\\'ve retained coming off the Superman movies. <br /><br />Caine and Reeve have collaborated in another movie that\\'s one of my favorite comedies - Noises Off. It similarly revolves around a play as well, although this time Caine is the director and Reeve is an actor. They are joined by comic veterans Carol Burnett, John Ritter, Marilu Henner (Taxi) and Mark Linn-Baker (Perfect Strangers). Together, they demonstrate the calamities that befall the bed-hopping cast and crew of a play. On the surface, the movie looks to be mostly slapstick but upon watching you find that they are many subtle jokes that require more than one viewing to catch. Wish this underrated movie was available on DVD.'\n",
            " b'The film is based on a genuine 1950s novel.<br /><br />Journalist Colin McInnes wrote a set of three \"London novels\": \"Absolute Beginners\", \"City of Spades\" and \"Mr Love and Justice\". I have read all three. The first two are excellent. The last, perhaps an experiment that did not come off. But McInnes\\'s work is highly acclaimed; and rightly so. This musical is the novelist\\'s ultimate nightmare - to see the fruits of one\\'s mind being turned into a glitzy, badly-acted, soporific one-dimensional apology of a film that says it captures the spirit of 1950s London, and does nothing of the sort.<br /><br />Thank goodness Colin McInnes wasn\\'t alive to witness it.'] \n",
            "\n",
            "[1 1 0]\n"
          ]
        }
      ]
    },
    {
      "cell_type": "markdown",
      "source": [
        "**Text Encoder Creation**\n",
        "\n",
        "Text processing utilizes the ``TextVectorization`` layer, which encodes text into indices by frequency order (following the padding token and the unknown token), considering up to ``vocab_size``. Index tensors are padded with zeros up to the longest sequence in the batch (unless you set a fixed value for ``output_sequence_length``)."
      ],
      "metadata": {
        "id": "a3TnpdKDBtFH"
      }
    },
    {
      "cell_type": "code",
      "source": [
        "encoder = tf.keras.layers.TextVectorization(max_tokens=vocab_size,\n",
        "                                            standardize=\"lower_and_strip_punctuation\" #Default\n",
        "                                            )\n",
        "encoder.adapt(train_dataset.map(lambda text, label: text))\n",
        "vocab = np.array(encoder.get_vocabulary())"
      ],
      "metadata": {
        "id": "IE1hHjRBFmsV"
      },
      "execution_count": null,
      "outputs": []
    },
    {
      "cell_type": "code",
      "source": [
        "print(encoder.vocabulary_size())\n",
        "vocab[:10]"
      ],
      "metadata": {
        "colab": {
          "base_uri": "https://localhost:8080/"
        },
        "id": "Z5cIJ95nG8yF",
        "outputId": "5a6f46c6-ec8a-4d4e-b4fd-c9403a9037c0"
      },
      "execution_count": null,
      "outputs": [
        {
          "output_type": "stream",
          "name": "stdout",
          "text": [
            "50000\n"
          ]
        },
        {
          "output_type": "execute_result",
          "data": {
            "text/plain": [
              "array(['', '[UNK]', 'the', 'and', 'a', 'of', 'to', 'is', 'in', 'it'],\n",
              "      dtype='<U72')"
            ]
          },
          "metadata": {},
          "execution_count": 8
        }
      ]
    },
    {
      "cell_type": "code",
      "source": [
        "encoded_text = encoder(text)[:3].numpy()\n",
        "print(encoded_text.shape)\n",
        "encoded_text"
      ],
      "metadata": {
        "id": "8SChpGbPIZyK",
        "colab": {
          "base_uri": "https://localhost:8080/"
        },
        "outputId": "527d1e9b-d0d3-4ba8-da77-f7b1aa8f7e51"
      },
      "execution_count": null,
      "outputs": [
        {
          "output_type": "stream",
          "name": "stdout",
          "text": [
            "(3, 926)\n"
          ]
        },
        {
          "output_type": "execute_result",
          "data": {
            "text/plain": [
              "array([[   80,  1400,     7, ...,     0,     0,     0],\n",
              "       [10550,  1178,    39, ...,     0,     0,     0],\n",
              "       [    2,    20,     7, ...,     0,     0,     0]])"
            ]
          },
          "metadata": {},
          "execution_count": 9
        }
      ]
    },
    {
      "cell_type": "code",
      "source": [
        "# Visualizing text processing\n",
        "print(textwrap.fill(text[0].numpy().decode(\"utf-8\"), width=100), \"\\n\")\n",
        "print(textwrap.fill(\" \".join(vocab[encoded_text[0]]), width=100))"
      ],
      "metadata": {
        "colab": {
          "base_uri": "https://localhost:8080/"
        },
        "id": "L1EwiV7F3CIF",
        "outputId": "b59d96d4-fb26-4de6-da2b-9fecc48bb0fc"
      },
      "execution_count": null,
      "outputs": [
        {
          "output_type": "stream",
          "name": "stdout",
          "text": [
            "Will Smith is smooth as usual in the movie Hitch. Smiths character Hitch is a date doctor. He dates\n",
            "Mendes character who is a gossip columnist. At one point Hitch shows his love interest her Great\n",
            "Grandfathers name in the immigration book at Ellis Island pretending what is actually an arranged\n",
            "event is a coincidence. Not long after I mentioned starlight in my previous review today. There was\n",
            "a view of the starry sky in survivor hinting that My Moon 168 Rtexas already knew that was going to\n",
            "be there due to faster than light communications.<br /><br />The male star from the show The King of\n",
            "Queens is very funny in this movie especially his dance moves. The allergic reaction on Hitchs face\n",
            "is a little cruel to laugh at even though it is just pretend.<br /><br />My latest message from my\n",
            "Daughter Julias Artificial Intelligence computer on the Creator of Humans Home world Coaltrain that\n",
            "my Moon 168 as part of Moonfleet is near says: \"Daddy I'm Okay again.\" Her messages are always very\n",
            "short. It is a curious pattern. Daddy will always Love you Julia. Thanks to our Creator we can talk\n",
            "forever. Yesterday Daddy talked to the first you on the telephone and told you your homework time\n",
            "wouldn't be that bad and you said \"How bad will it be Daddy?\" I said that your Grandma and I would\n",
            "help you with it. You only have to put pictures of our friends the police on a bristol board display\n",
            "and write a title like \"The Police protect us.\" Check out the other movies of Will Smith as well. \n",
            "\n",
            "will smith is smooth as usual in the movie hitch smiths character hitch is a date doctor he dates\n",
            "mendes character who is a gossip columnist at one point hitch shows his love interest her great\n",
            "grandfathers name in the immigration book at ellis island pretending what is actually an arranged\n",
            "event is a coincidence not long after i mentioned starlight in my previous review today there was a\n",
            "view of the starry sky in survivor hinting that my moon 168 [UNK] already knew that was going to be\n",
            "there due to faster than light [UNK] br the male star from the show the king of queens is very funny\n",
            "in this movie especially his dance moves the allergic reaction on hitchs face is a little cruel to\n",
            "laugh at even though it is just [UNK] br my latest message from my daughter julias artificial\n",
            "intelligence computer on the creator of humans home world [UNK] that my moon 168 as part of [UNK] is\n",
            "near says daddy im okay again her messages are always very short it is a curious pattern daddy will\n",
            "always love you julia thanks to our creator we can talk forever yesterday daddy talked to the first\n",
            "you on the telephone and told you your homework time wouldnt be that bad and you said how bad will\n",
            "it be daddy i said that your grandma and i would help you with it you only have to put pictures of\n",
            "our friends the police on a bristol board display and write a title like the police protect us check\n",
            "out the other movies of will smith as well\n"
          ]
        }
      ]
    },
    {
      "cell_type": "markdown",
      "source": [
        "### **Build the Model**"
      ],
      "metadata": {
        "id": "JjdJe11iKuZX"
      }
    },
    {
      "cell_type": "code",
      "source": [
        "tf.keras.backend.clear_session() #Clearing Keras memory\n",
        "tf.random.set_seed(123) #For reproducibility\n",
        "\n",
        "model = tf.keras.Sequential([\n",
        "    encoder,\n",
        "    tf.keras.layers.Embedding(input_dim=encoder.vocabulary_size(),\n",
        "                              output_dim=embedding_dim,\n",
        "                              mask_zero=True, #To handle variable sequence lengths\n",
        "                              name=\"embedding\"),\n",
        "    tf.keras.layers.Bidirectional(tf.keras.layers.LSTM(64)),\n",
        "    tf.keras.layers.Dense(64, activation=\"relu\"),\n",
        "    tf.keras.layers.Dropout(0.5),\n",
        "    tf.keras.layers.Dense(1, activation=\"sigmoid\")\n",
        "])\n",
        "\n",
        "model.summary()"
      ],
      "metadata": {
        "colab": {
          "base_uri": "https://localhost:8080/"
        },
        "id": "qEfffc-jKT4s",
        "outputId": "a60e39c4-0e29-4995-e171-c7d2ca69ce86"
      },
      "execution_count": null,
      "outputs": [
        {
          "output_type": "stream",
          "name": "stdout",
          "text": [
            "Model: \"sequential\"\n",
            "_________________________________________________________________\n",
            " Layer (type)                Output Shape              Param #   \n",
            "=================================================================\n",
            " text_vectorization (TextVe  (None, None)              0         \n",
            " ctorization)                                                    \n",
            "                                                                 \n",
            " embedding (Embedding)       (None, None, 128)         6400000   \n",
            "                                                                 \n",
            " bidirectional (Bidirection  (None, 128)               98816     \n",
            " al)                                                             \n",
            "                                                                 \n",
            " dense (Dense)               (None, 64)                8256      \n",
            "                                                                 \n",
            " dropout (Dropout)           (None, 64)                0         \n",
            "                                                                 \n",
            " dense_1 (Dense)             (None, 1)                 65        \n",
            "                                                                 \n",
            "=================================================================\n",
            "Total params: 6507137 (24.82 MB)\n",
            "Trainable params: 6507137 (24.82 MB)\n",
            "Non-trainable params: 0 (0.00 Byte)\n",
            "_________________________________________________________________\n"
          ]
        }
      ]
    },
    {
      "cell_type": "code",
      "source": [
        "# Visualizing the architecture of the model\n",
        "tf.keras.utils.plot_model(model, show_shapes=True, show_layer_names=False)"
      ],
      "metadata": {
        "colab": {
          "base_uri": "https://localhost:8080/",
          "height": 754
        },
        "id": "7vSpY_nQUXRB",
        "outputId": "4ab40f56-0d47-44a7-a799-fb68b94ea413"
      },
      "execution_count": null,
      "outputs": [
        {
          "output_type": "execute_result",
          "data": {
            "image/png": "[encoded data removed]",
            "text/plain": [
              "<IPython.core.display.Image object>"
            ]
          },
          "metadata": {},
          "execution_count": 12
        }
      ]
    },
    {
      "cell_type": "markdown",
      "source": [
        "### **Compile and Train the Model**"
      ],
      "metadata": {
        "id": "Bc5_feTTXNVu"
      }
    },
    {
      "cell_type": "code",
      "source": [
        "model.compile(optimizer=tf.keras.optimizers.Adam(1e-4),\n",
        "              loss=\"binary_crossentropy\",\n",
        "              metrics=\"accuracy\")"
      ],
      "metadata": {
        "id": "676zxrI4W0lK"
      },
      "execution_count": null,
      "outputs": []
    },
    {
      "cell_type": "code",
      "source": [
        "history = model.fit(train_dataset, epochs=epochs, validation_data=test_dataset)"
      ],
      "metadata": {
        "colab": {
          "base_uri": "https://localhost:8080/"
        },
        "id": "1ASVasWPXr6X",
        "outputId": "79d3a08e-a1bf-4ad7-d97d-ba4c204db6e0"
      },
      "execution_count": null,
      "outputs": [
        {
          "output_type": "stream",
          "name": "stdout",
          "text": [
            "Epoch 1/5\n",
            "313/313 [==============================] - 65s 172ms/step - loss: 0.6203 - accuracy: 0.6496 - val_loss: 0.4023 - val_accuracy: 0.8321\n",
            "Epoch 2/5\n",
            "313/313 [==============================] - 45s 144ms/step - loss: 0.3305 - accuracy: 0.8720 - val_loss: 0.3031 - val_accuracy: 0.8769\n",
            "Epoch 3/5\n",
            "313/313 [==============================] - 41s 130ms/step - loss: 0.2265 - accuracy: 0.9198 - val_loss: 0.2716 - val_accuracy: 0.8976\n",
            "Epoch 4/5\n",
            "313/313 [==============================] - 39s 125ms/step - loss: 0.1803 - accuracy: 0.9384 - val_loss: 0.2558 - val_accuracy: 0.8984\n",
            "Epoch 5/5\n",
            "313/313 [==============================] - 34s 108ms/step - loss: 0.1324 - accuracy: 0.9578 - val_loss: 0.2583 - val_accuracy: 0.9024\n"
          ]
        }
      ]
    },
    {
      "cell_type": "markdown",
      "source": [
        "**Save model**"
      ],
      "metadata": {
        "id": "S7cewteBIwua"
      }
    },
    {
      "cell_type": "code",
      "source": [
        "drive.mount(\"/content/drive/\")"
      ],
      "metadata": {
        "colab": {
          "base_uri": "https://localhost:8080/"
        },
        "id": "Dqzc8YbeIWQe",
        "outputId": "6e8e7075-ce08-453a-fe54-5f6c13028978"
      },
      "execution_count": 5,
      "outputs": [
        {
          "output_type": "stream",
          "name": "stdout",
          "text": [
            "Mounted at /content/drive/\n"
          ]
        }
      ]
    },
    {
      "cell_type": "code",
      "source": [
        "model.save(\"/content/drive/MyDrive/models/TextClassificationLSTM_IMDB.keras\")"
      ],
      "metadata": {
        "id": "6L1Qn4a_H4GI"
      },
      "execution_count": null,
      "outputs": []
    },
    {
      "cell_type": "markdown",
      "source": [
        "### **Dataset Evaluation**"
      ],
      "metadata": {
        "id": "WSJL2EanOvQH"
      }
    },
    {
      "cell_type": "code",
      "source": [
        "print(model.evaluate(train_dataset, verbose=0))\n",
        "print(model.evaluate(test_dataset, verbose=0))"
      ],
      "metadata": {
        "colab": {
          "base_uri": "https://localhost:8080/"
        },
        "id": "CwqjIKAhET33",
        "outputId": "f426814c-8840-4313-9eaf-eeece5ff313a"
      },
      "execution_count": null,
      "outputs": [
        {
          "output_type": "stream",
          "name": "stdout",
          "text": [
            "[0.08984845876693726, 0.9757000207901001]\n",
            "[0.25833582878112793, 0.902400016784668]\n"
          ]
        }
      ]
    },
    {
      "cell_type": "markdown",
      "source": [
        "The training set achieves an accuracy of 98% in just 5 epochs, while the testing set accuracy is 90%. This suggests the model is good but exhibits overfitting issues, despite expanding the training set and utilizing a dropout layer. Even if we add a few more epochs, the training set accuracy might reach 100%, but the testing set accuracy would start to decrease. To achieve better results, it would be advisable to further expand the training set or even use more robust architectures like transformer networks."
      ],
      "metadata": {
        "id": "1oY6USAfE-5P"
      }
    },
    {
      "cell_type": "code",
      "source": [
        "# Function to plot the metrics\n",
        "def plot_metrics(history=history, metric=\"loss\", renderer=None, epochs=epochs):\n",
        "  losses = history.history[metric]\n",
        "  val_losses = history.history[f\"val_{metric}\"]\n",
        "  list_epochs = np.arange(1, epochs+1)\n",
        "  metric = metric.capitalize()\n",
        "\n",
        "  fig=go.Figure()\n",
        "  fig.add_trace(go.Scatter(x=list_epochs, y=losses, name=metric, line=dict(color=\"blue\", width=2)))\n",
        "  fig.add_trace(go.Scatter(x=list_epochs, y=val_losses, name=f\"Val {metric}\", line=dict(color=\"#FF6600\", width=2)))\n",
        "  fig.update_xaxes(title_text=\"Epoch\")\n",
        "  fig.update_yaxes(title_text=metric)\n",
        "  fig.update_layout(title=f\"Evolution of {metric} across Epochs\",\n",
        "                    title_font=dict(size=20),\n",
        "                    title_x=0.5,\n",
        "                    height=500,\n",
        "                    width=1200)\n",
        "\n",
        "  fig.show(renderer)"
      ],
      "metadata": {
        "id": "4FJqdOA4XsiG"
      },
      "execution_count": null,
      "outputs": []
    },
    {
      "cell_type": "markdown",
      "source": [
        "**Interactive graphics**"
      ],
      "metadata": {
        "id": "qlk109TMcOL0"
      }
    },
    {
      "cell_type": "code",
      "source": [
        "plot_metrics()"
      ],
      "metadata": {
        "colab": {
          "base_uri": "https://localhost:8080/",
          "height": 517
        },
        "id": "i53TJ5xjcTRr",
        "outputId": "0c7bcd02-722f-43af-9e95-785d3f33e282"
      },
      "execution_count": null,
      "outputs": [
        {
          "output_type": "display_data",
          "data": {
            "text/html": [
              "<html>\n",
              "<head><meta charset=\"utf-8\" /></head>\n",
              "<body>\n",
              "    <div>            <script src=\"https://cdnjs.cloudflare.com/ajax/libs/mathjax/2.7.5/MathJax.js?config=TeX-AMS-MML_SVG\"></script><script type=\"text/javascript\">if (window.MathJax && window.MathJax.Hub && window.MathJax.Hub.Config) {window.MathJax.Hub.Config({SVG: {font: \"STIX-Web\"}});}</script>                <script type=\"text/javascript\">window.PlotlyConfig = {MathJaxConfig: 'local'};</script>\n",
              "        <script charset=\"utf-8\" src=\"https://cdn.plot.ly/plotly-2.24.1.min.js\"></script>                <div id=\"e889452f-bceb-4570-a633-6628fe2ef75b\" class=\"plotly-graph-div\" style=\"height:500px; width:1200px;\"></div>            <script type=\"text/javascript\">                                    window.PLOTLYENV=window.PLOTLYENV || {};                                    if (document.getElementById(\"e889452f-bceb-4570-a633-6628fe2ef75b\")) {                    Plotly.newPlot(                        \"e889452f-bceb-4570-a633-6628fe2ef75b\",                        [{\"line\":{\"color\":\"blue\",\"width\":2},\"name\":\"Loss\",\"x\":[1,2,3,4,5],\"y\":[0.6203486919403076,0.3305031955242157,0.22645454108715057,0.18025590479373932,0.13236644864082336],\"type\":\"scatter\"},{\"line\":{\"color\":\"#FF6600\",\"width\":2},\"name\":\"Val Loss\",\"x\":[1,2,3,4,5],\"y\":[0.40228185057640076,0.30306851863861084,0.27155667543411255,0.25582316517829895,0.25833582878112793],\"type\":\"scatter\"}],                        {\"template\":{\"data\":{\"histogram2dcontour\":[{\"type\":\"histogram2dcontour\",\"colorbar\":{\"outlinewidth\":0,\"ticks\":\"\"},\"colorscale\":[[0.0,\"#0d0887\"],[0.1111111111111111,\"#46039f\"],[0.2222222222222222,\"#7201a8\"],[0.3333333333333333,\"#9c179e\"],[0.4444444444444444,\"#bd3786\"],[0.5555555555555556,\"#d8576b\"],[0.6666666666666666,\"#ed7953\"],[0.7777777777777778,\"#fb9f3a\"],[0.8888888888888888,\"#fdca26\"],[1.0,\"#f0f921\"]]}],\"choropleth\":[{\"type\":\"choropleth\",\"colorbar\":{\"outlinewidth\":0,\"ticks\":\"\"}}],\"histogram2d\":[{\"type\":\"histogram2d\",\"colorbar\":{\"outlinewidth\":0,\"ticks\":\"\"},\"colorscale\":[[0.0,\"#0d0887\"],[0.1111111111111111,\"#46039f\"],[0.2222222222222222,\"#7201a8\"],[0.3333333333333333,\"#9c179e\"],[0.4444444444444444,\"#bd3786\"],[0.5555555555555556,\"#d8576b\"],[0.6666666666666666,\"#ed7953\"],[0.7777777777777778,\"#fb9f3a\"],[0.8888888888888888,\"#fdca26\"],[1.0,\"#f0f921\"]]}],\"heatmap\":[{\"type\":\"heatmap\",\"colorbar\":{\"outlinewidth\":0,\"ticks\":\"\"},\"colorscale\":[[0.0,\"#0d0887\"],[0.1111111111111111,\"#46039f\"],[0.2222222222222222,\"#7201a8\"],[0.3333333333333333,\"#9c179e\"],[0.4444444444444444,\"#bd3786\"],[0.5555555555555556,\"#d8576b\"],[0.6666666666666666,\"#ed7953\"],[0.7777777777777778,\"#fb9f3a\"],[0.8888888888888888,\"#fdca26\"],[1.0,\"#f0f921\"]]}],\"heatmapgl\":[{\"type\":\"heatmapgl\",\"colorbar\":{\"outlinewidth\":0,\"ticks\":\"\"},\"colorscale\":[[0.0,\"#0d0887\"],[0.1111111111111111,\"#46039f\"],[0.2222222222222222,\"#7201a8\"],[0.3333333333333333,\"#9c179e\"],[0.4444444444444444,\"#bd3786\"],[0.5555555555555556,\"#d8576b\"],[0.6666666666666666,\"#ed7953\"],[0.7777777777777778,\"#fb9f3a\"],[0.8888888888888888,\"#fdca26\"],[1.0,\"#f0f921\"]]}],\"contourcarpet\":[{\"type\":\"contourcarpet\",\"colorbar\":{\"outlinewidth\":0,\"ticks\":\"\"}}],\"contour\":[{\"type\":\"contour\",\"colorbar\":{\"outlinewidth\":0,\"ticks\":\"\"},\"colorscale\":[[0.0,\"#0d0887\"],[0.1111111111111111,\"#46039f\"],[0.2222222222222222,\"#7201a8\"],[0.3333333333333333,\"#9c179e\"],[0.4444444444444444,\"#bd3786\"],[0.5555555555555556,\"#d8576b\"],[0.6666666666666666,\"#ed7953\"],[0.7777777777777778,\"#fb9f3a\"],[0.8888888888888888,\"#fdca26\"],[1.0,\"#f0f921\"]]}],\"surface\":[{\"type\":\"surface\",\"colorbar\":{\"outlinewidth\":0,\"ticks\":\"\"},\"colorscale\":[[0.0,\"#0d0887\"],[0.1111111111111111,\"#46039f\"],[0.2222222222222222,\"#7201a8\"],[0.3333333333333333,\"#9c179e\"],[0.4444444444444444,\"#bd3786\"],[0.5555555555555556,\"#d8576b\"],[0.6666666666666666,\"#ed7953\"],[0.7777777777777778,\"#fb9f3a\"],[0.8888888888888888,\"#fdca26\"],[1.0,\"#f0f921\"]]}],\"mesh3d\":[{\"type\":\"mesh3d\",\"colorbar\":{\"outlinewidth\":0,\"ticks\":\"\"}}],\"scatter\":[{\"fillpattern\":{\"fillmode\":\"overlay\",\"size\":10,\"solidity\":0.2},\"type\":\"scatter\"}],\"parcoords\":[{\"type\":\"parcoords\",\"line\":{\"colorbar\":{\"outlinewidth\":0,\"ticks\":\"\"}}}],\"scatterpolargl\":[{\"type\":\"scatterpolargl\",\"marker\":{\"colorbar\":{\"outlinewidth\":0,\"ticks\":\"\"}}}],\"bar\":[{\"error_x\":{\"color\":\"#2a3f5f\"},\"error_y\":{\"color\":\"#2a3f5f\"},\"marker\":{\"line\":{\"color\":\"#E5ECF6\",\"width\":0.5},\"pattern\":{\"fillmode\":\"overlay\",\"size\":10,\"solidity\":0.2}},\"type\":\"bar\"}],\"scattergeo\":[{\"type\":\"scattergeo\",\"marker\":{\"colorbar\":{\"outlinewidth\":0,\"ticks\":\"\"}}}],\"scatterpolar\":[{\"type\":\"scatterpolar\",\"marker\":{\"colorbar\":{\"outlinewidth\":0,\"ticks\":\"\"}}}],\"histogram\":[{\"marker\":{\"pattern\":{\"fillmode\":\"overlay\",\"size\":10,\"solidity\":0.2}},\"type\":\"histogram\"}],\"scattergl\":[{\"type\":\"scattergl\",\"marker\":{\"colorbar\":{\"outlinewidth\":0,\"ticks\":\"\"}}}],\"scatter3d\":[{\"type\":\"scatter3d\",\"line\":{\"colorbar\":{\"outlinewidth\":0,\"ticks\":\"\"}},\"marker\":{\"colorbar\":{\"outlinewidth\":0,\"ticks\":\"\"}}}],\"scattermapbox\":[{\"type\":\"scattermapbox\",\"marker\":{\"colorbar\":{\"outlinewidth\":0,\"ticks\":\"\"}}}],\"scatterternary\":[{\"type\":\"scatterternary\",\"marker\":{\"colorbar\":{\"outlinewidth\":0,\"ticks\":\"\"}}}],\"scattercarpet\":[{\"type\":\"scattercarpet\",\"marker\":{\"colorbar\":{\"outlinewidth\":0,\"ticks\":\"\"}}}],\"carpet\":[{\"aaxis\":{\"endlinecolor\":\"#2a3f5f\",\"gridcolor\":\"white\",\"linecolor\":\"white\",\"minorgridcolor\":\"white\",\"startlinecolor\":\"#2a3f5f\"},\"baxis\":{\"endlinecolor\":\"#2a3f5f\",\"gridcolor\":\"white\",\"linecolor\":\"white\",\"minorgridcolor\":\"white\",\"startlinecolor\":\"#2a3f5f\"},\"type\":\"carpet\"}],\"table\":[{\"cells\":{\"fill\":{\"color\":\"#EBF0F8\"},\"line\":{\"color\":\"white\"}},\"header\":{\"fill\":{\"color\":\"#C8D4E3\"},\"line\":{\"color\":\"white\"}},\"type\":\"table\"}],\"barpolar\":[{\"marker\":{\"line\":{\"color\":\"#E5ECF6\",\"width\":0.5},\"pattern\":{\"fillmode\":\"overlay\",\"size\":10,\"solidity\":0.2}},\"type\":\"barpolar\"}],\"pie\":[{\"automargin\":true,\"type\":\"pie\"}]},\"layout\":{\"autotypenumbers\":\"strict\",\"colorway\":[\"#636efa\",\"#EF553B\",\"#00cc96\",\"#ab63fa\",\"#FFA15A\",\"#19d3f3\",\"#FF6692\",\"#B6E880\",\"#FF97FF\",\"#FECB52\"],\"font\":{\"color\":\"#2a3f5f\"},\"hovermode\":\"closest\",\"hoverlabel\":{\"align\":\"left\"},\"paper_bgcolor\":\"white\",\"plot_bgcolor\":\"#E5ECF6\",\"polar\":{\"bgcolor\":\"#E5ECF6\",\"angularaxis\":{\"gridcolor\":\"white\",\"linecolor\":\"white\",\"ticks\":\"\"},\"radialaxis\":{\"gridcolor\":\"white\",\"linecolor\":\"white\",\"ticks\":\"\"}},\"ternary\":{\"bgcolor\":\"#E5ECF6\",\"aaxis\":{\"gridcolor\":\"white\",\"linecolor\":\"white\",\"ticks\":\"\"},\"baxis\":{\"gridcolor\":\"white\",\"linecolor\":\"white\",\"ticks\":\"\"},\"caxis\":{\"gridcolor\":\"white\",\"linecolor\":\"white\",\"ticks\":\"\"}},\"coloraxis\":{\"colorbar\":{\"outlinewidth\":0,\"ticks\":\"\"}},\"colorscale\":{\"sequential\":[[0.0,\"#0d0887\"],[0.1111111111111111,\"#46039f\"],[0.2222222222222222,\"#7201a8\"],[0.3333333333333333,\"#9c179e\"],[0.4444444444444444,\"#bd3786\"],[0.5555555555555556,\"#d8576b\"],[0.6666666666666666,\"#ed7953\"],[0.7777777777777778,\"#fb9f3a\"],[0.8888888888888888,\"#fdca26\"],[1.0,\"#f0f921\"]],\"sequentialminus\":[[0.0,\"#0d0887\"],[0.1111111111111111,\"#46039f\"],[0.2222222222222222,\"#7201a8\"],[0.3333333333333333,\"#9c179e\"],[0.4444444444444444,\"#bd3786\"],[0.5555555555555556,\"#d8576b\"],[0.6666666666666666,\"#ed7953\"],[0.7777777777777778,\"#fb9f3a\"],[0.8888888888888888,\"#fdca26\"],[1.0,\"#f0f921\"]],\"diverging\":[[0,\"#8e0152\"],[0.1,\"#c51b7d\"],[0.2,\"#de77ae\"],[0.3,\"#f1b6da\"],[0.4,\"#fde0ef\"],[0.5,\"#f7f7f7\"],[0.6,\"#e6f5d0\"],[0.7,\"#b8e186\"],[0.8,\"#7fbc41\"],[0.9,\"#4d9221\"],[1,\"#276419\"]]},\"xaxis\":{\"gridcolor\":\"white\",\"linecolor\":\"white\",\"ticks\":\"\",\"title\":{\"standoff\":15},\"zerolinecolor\":\"white\",\"automargin\":true,\"zerolinewidth\":2},\"yaxis\":{\"gridcolor\":\"white\",\"linecolor\":\"white\",\"ticks\":\"\",\"title\":{\"standoff\":15},\"zerolinecolor\":\"white\",\"automargin\":true,\"zerolinewidth\":2},\"scene\":{\"xaxis\":{\"backgroundcolor\":\"#E5ECF6\",\"gridcolor\":\"white\",\"linecolor\":\"white\",\"showbackground\":true,\"ticks\":\"\",\"zerolinecolor\":\"white\",\"gridwidth\":2},\"yaxis\":{\"backgroundcolor\":\"#E5ECF6\",\"gridcolor\":\"white\",\"linecolor\":\"white\",\"showbackground\":true,\"ticks\":\"\",\"zerolinecolor\":\"white\",\"gridwidth\":2},\"zaxis\":{\"backgroundcolor\":\"#E5ECF6\",\"gridcolor\":\"white\",\"linecolor\":\"white\",\"showbackground\":true,\"ticks\":\"\",\"zerolinecolor\":\"white\",\"gridwidth\":2}},\"shapedefaults\":{\"line\":{\"color\":\"#2a3f5f\"}},\"annotationdefaults\":{\"arrowcolor\":\"#2a3f5f\",\"arrowhead\":0,\"arrowwidth\":1},\"geo\":{\"bgcolor\":\"white\",\"landcolor\":\"#E5ECF6\",\"subunitcolor\":\"white\",\"showland\":true,\"showlakes\":true,\"lakecolor\":\"white\"},\"title\":{\"x\":0.05},\"mapbox\":{\"style\":\"light\"}}},\"xaxis\":{\"title\":{\"text\":\"Epoch\"}},\"yaxis\":{\"title\":{\"text\":\"Loss\"}},\"title\":{\"text\":\"Evolution of Loss across Epochs\",\"font\":{\"size\":20},\"x\":0.5},\"height\":500,\"width\":1200},                        {\"responsive\": true}                    ).then(function(){\n",
              "                            \n",
              "var gd = document.getElementById('e889452f-bceb-4570-a633-6628fe2ef75b');\n",
              "var x = new MutationObserver(function (mutations, observer) {{\n",
              "        var display = window.getComputedStyle(gd).display;\n",
              "        if (!display || display === 'none') {{\n",
              "            console.log([gd, 'removed!']);\n",
              "            Plotly.purge(gd);\n",
              "            observer.disconnect();\n",
              "        }}\n",
              "}});\n",
              "\n",
              "// Listen for the removal of the full notebook cells\n",
              "var notebookContainer = gd.closest('#notebook-container');\n",
              "if (notebookContainer) {{\n",
              "    x.observe(notebookContainer, {childList: true});\n",
              "}}\n",
              "\n",
              "// Listen for the clearing of the current output cell\n",
              "var outputEl = gd.closest('.output');\n",
              "if (outputEl) {{\n",
              "    x.observe(outputEl, {childList: true});\n",
              "}}\n",
              "\n",
              "                        })                };                            </script>        </div>\n",
              "</body>\n",
              "</html>"
            ]
          },
          "metadata": {}
        }
      ]
    },
    {
      "cell_type": "code",
      "source": [
        "plot_metrics(metric=\"accuracy\")"
      ],
      "metadata": {
        "colab": {
          "base_uri": "https://localhost:8080/",
          "height": 517
        },
        "id": "BLUoETpFcczC",
        "outputId": "e1cce7ac-9b03-47b2-f170-5c21a3839c28"
      },
      "execution_count": null,
      "outputs": [
        {
          "output_type": "display_data",
          "data": {
            "text/html": [
              "<html>\n",
              "<head><meta charset=\"utf-8\" /></head>\n",
              "<body>\n",
              "    <div>            <script src=\"https://cdnjs.cloudflare.com/ajax/libs/mathjax/2.7.5/MathJax.js?config=TeX-AMS-MML_SVG\"></script><script type=\"text/javascript\">if (window.MathJax && window.MathJax.Hub && window.MathJax.Hub.Config) {window.MathJax.Hub.Config({SVG: {font: \"STIX-Web\"}});}</script>                <script type=\"text/javascript\">window.PlotlyConfig = {MathJaxConfig: 'local'};</script>\n",
              "        <script charset=\"utf-8\" src=\"https://cdn.plot.ly/plotly-2.24.1.min.js\"></script>                <div id=\"90c51480-8c3e-44ae-954a-83458baf5807\" class=\"plotly-graph-div\" style=\"height:500px; width:1200px;\"></div>            <script type=\"text/javascript\">                                    window.PLOTLYENV=window.PLOTLYENV || {};                                    if (document.getElementById(\"90c51480-8c3e-44ae-954a-83458baf5807\")) {                    Plotly.newPlot(                        \"90c51480-8c3e-44ae-954a-83458baf5807\",                        [{\"line\":{\"color\":\"blue\",\"width\":2},\"name\":\"Accuracy\",\"x\":[1,2,3,4,5],\"y\":[0.6496000289916992,0.871999979019165,0.9197750091552734,0.9383999705314636,0.9578250050544739],\"type\":\"scatter\"},{\"line\":{\"color\":\"#FF6600\",\"width\":2},\"name\":\"Val Accuracy\",\"x\":[1,2,3,4,5],\"y\":[0.832099974155426,0.8769000172615051,0.897599995136261,0.8984000086784363,0.902400016784668],\"type\":\"scatter\"}],                        {\"template\":{\"data\":{\"histogram2dcontour\":[{\"type\":\"histogram2dcontour\",\"colorbar\":{\"outlinewidth\":0,\"ticks\":\"\"},\"colorscale\":[[0.0,\"#0d0887\"],[0.1111111111111111,\"#46039f\"],[0.2222222222222222,\"#7201a8\"],[0.3333333333333333,\"#9c179e\"],[0.4444444444444444,\"#bd3786\"],[0.5555555555555556,\"#d8576b\"],[0.6666666666666666,\"#ed7953\"],[0.7777777777777778,\"#fb9f3a\"],[0.8888888888888888,\"#fdca26\"],[1.0,\"#f0f921\"]]}],\"choropleth\":[{\"type\":\"choropleth\",\"colorbar\":{\"outlinewidth\":0,\"ticks\":\"\"}}],\"histogram2d\":[{\"type\":\"histogram2d\",\"colorbar\":{\"outlinewidth\":0,\"ticks\":\"\"},\"colorscale\":[[0.0,\"#0d0887\"],[0.1111111111111111,\"#46039f\"],[0.2222222222222222,\"#7201a8\"],[0.3333333333333333,\"#9c179e\"],[0.4444444444444444,\"#bd3786\"],[0.5555555555555556,\"#d8576b\"],[0.6666666666666666,\"#ed7953\"],[0.7777777777777778,\"#fb9f3a\"],[0.8888888888888888,\"#fdca26\"],[1.0,\"#f0f921\"]]}],\"heatmap\":[{\"type\":\"heatmap\",\"colorbar\":{\"outlinewidth\":0,\"ticks\":\"\"},\"colorscale\":[[0.0,\"#0d0887\"],[0.1111111111111111,\"#46039f\"],[0.2222222222222222,\"#7201a8\"],[0.3333333333333333,\"#9c179e\"],[0.4444444444444444,\"#bd3786\"],[0.5555555555555556,\"#d8576b\"],[0.6666666666666666,\"#ed7953\"],[0.7777777777777778,\"#fb9f3a\"],[0.8888888888888888,\"#fdca26\"],[1.0,\"#f0f921\"]]}],\"heatmapgl\":[{\"type\":\"heatmapgl\",\"colorbar\":{\"outlinewidth\":0,\"ticks\":\"\"},\"colorscale\":[[0.0,\"#0d0887\"],[0.1111111111111111,\"#46039f\"],[0.2222222222222222,\"#7201a8\"],[0.3333333333333333,\"#9c179e\"],[0.4444444444444444,\"#bd3786\"],[0.5555555555555556,\"#d8576b\"],[0.6666666666666666,\"#ed7953\"],[0.7777777777777778,\"#fb9f3a\"],[0.8888888888888888,\"#fdca26\"],[1.0,\"#f0f921\"]]}],\"contourcarpet\":[{\"type\":\"contourcarpet\",\"colorbar\":{\"outlinewidth\":0,\"ticks\":\"\"}}],\"contour\":[{\"type\":\"contour\",\"colorbar\":{\"outlinewidth\":0,\"ticks\":\"\"},\"colorscale\":[[0.0,\"#0d0887\"],[0.1111111111111111,\"#46039f\"],[0.2222222222222222,\"#7201a8\"],[0.3333333333333333,\"#9c179e\"],[0.4444444444444444,\"#bd3786\"],[0.5555555555555556,\"#d8576b\"],[0.6666666666666666,\"#ed7953\"],[0.7777777777777778,\"#fb9f3a\"],[0.8888888888888888,\"#fdca26\"],[1.0,\"#f0f921\"]]}],\"surface\":[{\"type\":\"surface\",\"colorbar\":{\"outlinewidth\":0,\"ticks\":\"\"},\"colorscale\":[[0.0,\"#0d0887\"],[0.1111111111111111,\"#46039f\"],[0.2222222222222222,\"#7201a8\"],[0.3333333333333333,\"#9c179e\"],[0.4444444444444444,\"#bd3786\"],[0.5555555555555556,\"#d8576b\"],[0.6666666666666666,\"#ed7953\"],[0.7777777777777778,\"#fb9f3a\"],[0.8888888888888888,\"#fdca26\"],[1.0,\"#f0f921\"]]}],\"mesh3d\":[{\"type\":\"mesh3d\",\"colorbar\":{\"outlinewidth\":0,\"ticks\":\"\"}}],\"scatter\":[{\"fillpattern\":{\"fillmode\":\"overlay\",\"size\":10,\"solidity\":0.2},\"type\":\"scatter\"}],\"parcoords\":[{\"type\":\"parcoords\",\"line\":{\"colorbar\":{\"outlinewidth\":0,\"ticks\":\"\"}}}],\"scatterpolargl\":[{\"type\":\"scatterpolargl\",\"marker\":{\"colorbar\":{\"outlinewidth\":0,\"ticks\":\"\"}}}],\"bar\":[{\"error_x\":{\"color\":\"#2a3f5f\"},\"error_y\":{\"color\":\"#2a3f5f\"},\"marker\":{\"line\":{\"color\":\"#E5ECF6\",\"width\":0.5},\"pattern\":{\"fillmode\":\"overlay\",\"size\":10,\"solidity\":0.2}},\"type\":\"bar\"}],\"scattergeo\":[{\"type\":\"scattergeo\",\"marker\":{\"colorbar\":{\"outlinewidth\":0,\"ticks\":\"\"}}}],\"scatterpolar\":[{\"type\":\"scatterpolar\",\"marker\":{\"colorbar\":{\"outlinewidth\":0,\"ticks\":\"\"}}}],\"histogram\":[{\"marker\":{\"pattern\":{\"fillmode\":\"overlay\",\"size\":10,\"solidity\":0.2}},\"type\":\"histogram\"}],\"scattergl\":[{\"type\":\"scattergl\",\"marker\":{\"colorbar\":{\"outlinewidth\":0,\"ticks\":\"\"}}}],\"scatter3d\":[{\"type\":\"scatter3d\",\"line\":{\"colorbar\":{\"outlinewidth\":0,\"ticks\":\"\"}},\"marker\":{\"colorbar\":{\"outlinewidth\":0,\"ticks\":\"\"}}}],\"scattermapbox\":[{\"type\":\"scattermapbox\",\"marker\":{\"colorbar\":{\"outlinewidth\":0,\"ticks\":\"\"}}}],\"scatterternary\":[{\"type\":\"scatterternary\",\"marker\":{\"colorbar\":{\"outlinewidth\":0,\"ticks\":\"\"}}}],\"scattercarpet\":[{\"type\":\"scattercarpet\",\"marker\":{\"colorbar\":{\"outlinewidth\":0,\"ticks\":\"\"}}}],\"carpet\":[{\"aaxis\":{\"endlinecolor\":\"#2a3f5f\",\"gridcolor\":\"white\",\"linecolor\":\"white\",\"minorgridcolor\":\"white\",\"startlinecolor\":\"#2a3f5f\"},\"baxis\":{\"endlinecolor\":\"#2a3f5f\",\"gridcolor\":\"white\",\"linecolor\":\"white\",\"minorgridcolor\":\"white\",\"startlinecolor\":\"#2a3f5f\"},\"type\":\"carpet\"}],\"table\":[{\"cells\":{\"fill\":{\"color\":\"#EBF0F8\"},\"line\":{\"color\":\"white\"}},\"header\":{\"fill\":{\"color\":\"#C8D4E3\"},\"line\":{\"color\":\"white\"}},\"type\":\"table\"}],\"barpolar\":[{\"marker\":{\"line\":{\"color\":\"#E5ECF6\",\"width\":0.5},\"pattern\":{\"fillmode\":\"overlay\",\"size\":10,\"solidity\":0.2}},\"type\":\"barpolar\"}],\"pie\":[{\"automargin\":true,\"type\":\"pie\"}]},\"layout\":{\"autotypenumbers\":\"strict\",\"colorway\":[\"#636efa\",\"#EF553B\",\"#00cc96\",\"#ab63fa\",\"#FFA15A\",\"#19d3f3\",\"#FF6692\",\"#B6E880\",\"#FF97FF\",\"#FECB52\"],\"font\":{\"color\":\"#2a3f5f\"},\"hovermode\":\"closest\",\"hoverlabel\":{\"align\":\"left\"},\"paper_bgcolor\":\"white\",\"plot_bgcolor\":\"#E5ECF6\",\"polar\":{\"bgcolor\":\"#E5ECF6\",\"angularaxis\":{\"gridcolor\":\"white\",\"linecolor\":\"white\",\"ticks\":\"\"},\"radialaxis\":{\"gridcolor\":\"white\",\"linecolor\":\"white\",\"ticks\":\"\"}},\"ternary\":{\"bgcolor\":\"#E5ECF6\",\"aaxis\":{\"gridcolor\":\"white\",\"linecolor\":\"white\",\"ticks\":\"\"},\"baxis\":{\"gridcolor\":\"white\",\"linecolor\":\"white\",\"ticks\":\"\"},\"caxis\":{\"gridcolor\":\"white\",\"linecolor\":\"white\",\"ticks\":\"\"}},\"coloraxis\":{\"colorbar\":{\"outlinewidth\":0,\"ticks\":\"\"}},\"colorscale\":{\"sequential\":[[0.0,\"#0d0887\"],[0.1111111111111111,\"#46039f\"],[0.2222222222222222,\"#7201a8\"],[0.3333333333333333,\"#9c179e\"],[0.4444444444444444,\"#bd3786\"],[0.5555555555555556,\"#d8576b\"],[0.6666666666666666,\"#ed7953\"],[0.7777777777777778,\"#fb9f3a\"],[0.8888888888888888,\"#fdca26\"],[1.0,\"#f0f921\"]],\"sequentialminus\":[[0.0,\"#0d0887\"],[0.1111111111111111,\"#46039f\"],[0.2222222222222222,\"#7201a8\"],[0.3333333333333333,\"#9c179e\"],[0.4444444444444444,\"#bd3786\"],[0.5555555555555556,\"#d8576b\"],[0.6666666666666666,\"#ed7953\"],[0.7777777777777778,\"#fb9f3a\"],[0.8888888888888888,\"#fdca26\"],[1.0,\"#f0f921\"]],\"diverging\":[[0,\"#8e0152\"],[0.1,\"#c51b7d\"],[0.2,\"#de77ae\"],[0.3,\"#f1b6da\"],[0.4,\"#fde0ef\"],[0.5,\"#f7f7f7\"],[0.6,\"#e6f5d0\"],[0.7,\"#b8e186\"],[0.8,\"#7fbc41\"],[0.9,\"#4d9221\"],[1,\"#276419\"]]},\"xaxis\":{\"gridcolor\":\"white\",\"linecolor\":\"white\",\"ticks\":\"\",\"title\":{\"standoff\":15},\"zerolinecolor\":\"white\",\"automargin\":true,\"zerolinewidth\":2},\"yaxis\":{\"gridcolor\":\"white\",\"linecolor\":\"white\",\"ticks\":\"\",\"title\":{\"standoff\":15},\"zerolinecolor\":\"white\",\"automargin\":true,\"zerolinewidth\":2},\"scene\":{\"xaxis\":{\"backgroundcolor\":\"#E5ECF6\",\"gridcolor\":\"white\",\"linecolor\":\"white\",\"showbackground\":true,\"ticks\":\"\",\"zerolinecolor\":\"white\",\"gridwidth\":2},\"yaxis\":{\"backgroundcolor\":\"#E5ECF6\",\"gridcolor\":\"white\",\"linecolor\":\"white\",\"showbackground\":true,\"ticks\":\"\",\"zerolinecolor\":\"white\",\"gridwidth\":2},\"zaxis\":{\"backgroundcolor\":\"#E5ECF6\",\"gridcolor\":\"white\",\"linecolor\":\"white\",\"showbackground\":true,\"ticks\":\"\",\"zerolinecolor\":\"white\",\"gridwidth\":2}},\"shapedefaults\":{\"line\":{\"color\":\"#2a3f5f\"}},\"annotationdefaults\":{\"arrowcolor\":\"#2a3f5f\",\"arrowhead\":0,\"arrowwidth\":1},\"geo\":{\"bgcolor\":\"white\",\"landcolor\":\"#E5ECF6\",\"subunitcolor\":\"white\",\"showland\":true,\"showlakes\":true,\"lakecolor\":\"white\"},\"title\":{\"x\":0.05},\"mapbox\":{\"style\":\"light\"}}},\"xaxis\":{\"title\":{\"text\":\"Epoch\"}},\"yaxis\":{\"title\":{\"text\":\"Accuracy\"}},\"title\":{\"text\":\"Evolution of Accuracy across Epochs\",\"font\":{\"size\":20},\"x\":0.5},\"height\":500,\"width\":1200},                        {\"responsive\": true}                    ).then(function(){\n",
              "                            \n",
              "var gd = document.getElementById('90c51480-8c3e-44ae-954a-83458baf5807');\n",
              "var x = new MutationObserver(function (mutations, observer) {{\n",
              "        var display = window.getComputedStyle(gd).display;\n",
              "        if (!display || display === 'none') {{\n",
              "            console.log([gd, 'removed!']);\n",
              "            Plotly.purge(gd);\n",
              "            observer.disconnect();\n",
              "        }}\n",
              "}});\n",
              "\n",
              "// Listen for the removal of the full notebook cells\n",
              "var notebookContainer = gd.closest('#notebook-container');\n",
              "if (notebookContainer) {{\n",
              "    x.observe(notebookContainer, {childList: true});\n",
              "}}\n",
              "\n",
              "// Listen for the clearing of the current output cell\n",
              "var outputEl = gd.closest('.output');\n",
              "if (outputEl) {{\n",
              "    x.observe(outputEl, {childList: true});\n",
              "}}\n",
              "\n",
              "                        })                };                            </script>        </div>\n",
              "</body>\n",
              "</html>"
            ]
          },
          "metadata": {}
        }
      ]
    },
    {
      "cell_type": "markdown",
      "source": [
        "**Images for GitHub**"
      ],
      "metadata": {
        "id": "rY-pHlllcUPV"
      }
    },
    {
      "cell_type": "code",
      "source": [
        "plot_metrics(renderer=\"png\")"
      ],
      "metadata": {
        "colab": {
          "base_uri": "https://localhost:8080/",
          "height": 517
        },
        "id": "o_lfML87cWb7",
        "outputId": "b2c2c43b-d9b2-4eed-ba15-489011243b9b"
      },
      "execution_count": null,
      "outputs": [
        {
          "output_type": "display_data",
          "data": {
            "image/png": "[encoded data removed]"
          },
          "metadata": {}
        }
      ]
    },
    {
      "cell_type": "code",
      "source": [
        "plot_metrics(renderer=\"png\", metric=\"accuracy\")"
      ],
      "metadata": {
        "colab": {
          "base_uri": "https://localhost:8080/",
          "height": 517
        },
        "id": "4dNzQoV2cq6k",
        "outputId": "d3a1df2a-f314-4732-d788-5c19771a930c"
      },
      "execution_count": null,
      "outputs": [
        {
          "output_type": "display_data",
          "data": {
            "image/png": "[encoded data removed]"
          },
          "metadata": {}
        }
      ]
    },
    {
      "cell_type": "markdown",
      "source": [
        "**Confusion Matrix**"
      ],
      "metadata": {
        "id": "oVbqn5CwPDpG"
      }
    },
    {
      "cell_type": "code",
      "source": [
        "labels_test = test_dataset.unbatch().map(lambda text, label: label)\n",
        "labels_test = np.array(list(labels_test.as_numpy_iterator()))\n",
        "\n",
        "labels_test_pred = model.predict(test_dataset, verbose=0).squeeze()\n",
        "labels_test_pred = (labels_test_pred>=0.5).astype(np.int32)"
      ],
      "metadata": {
        "id": "DWddFscWPKUx"
      },
      "execution_count": null,
      "outputs": []
    },
    {
      "cell_type": "code",
      "source": [
        "# Consolidating the accuracy of the testing set\n",
        "np.mean(labels_test == labels_test_pred)"
      ],
      "metadata": {
        "colab": {
          "base_uri": "https://localhost:8080/"
        },
        "id": "WABIYKuESzAn",
        "outputId": "94723f2f-10ad-4472-b7b2-0ab1c7320c6c"
      },
      "execution_count": null,
      "outputs": [
        {
          "output_type": "execute_result",
          "data": {
            "text/plain": [
              "0.9024"
            ]
          },
          "metadata": {},
          "execution_count": 21
        }
      ]
    },
    {
      "cell_type": "code",
      "source": [
        "cm = confusion_matrix(labels_test, labels_test_pred)\n",
        "cmd = ConfusionMatrixDisplay(cm, display_labels=[\"Negative\", \"Positive\"])\n",
        "cmd.plot(colorbar=False, cmap=\"coolwarm_r\");\n",
        "print(\"Total negatives: \", np.bincount(labels_test)[0], \"; Total positives: \", np.bincount(labels_test)[1])"
      ],
      "metadata": {
        "colab": {
          "base_uri": "https://localhost:8080/",
          "height": 466
        },
        "id": "CpyKGTXhV5Rt",
        "outputId": "e1391c5b-5ff3-4532-fad3-af23789e5fef"
      },
      "execution_count": null,
      "outputs": [
        {
          "output_type": "stream",
          "name": "stdout",
          "text": [
            "Total negatives:  4970 ; Total positives:  5030\n"
          ]
        },
        {
          "output_type": "display_data",
          "data": {
            "text/plain": [
              "<Figure size 640x480 with 1 Axes>"
            ],
            "image/png": "[encoded data removed]"
          },
          "metadata": {}
        }
      ]
    },
    {
      "cell_type": "code",
      "source": [
        "(579/4970)*100, (397/5030)*100"
      ],
      "metadata": {
        "colab": {
          "base_uri": "https://localhost:8080/"
        },
        "id": "PnTyH62rfrXI",
        "outputId": "6c77f561-f088-4f76-f32e-b7857e794206"
      },
      "execution_count": null,
      "outputs": [
        {
          "output_type": "execute_result",
          "data": {
            "text/plain": [
              "(11.64989939637827, 7.892644135188867)"
            ]
          },
          "metadata": {},
          "execution_count": 54
        }
      ]
    },
    {
      "cell_type": "markdown",
      "source": [
        "It is observed that the model encounters slightly more difficulties in correctly classifying negative reviews, as reflected in a higher percentage of false positives (11.6%) compared to false negatives (7.9%). This discrepancy may be due to the presence of positive words in some negative reviews within the embedding space. Despite employing a bidirectional LSTM network, the model may not have sufficient capacity to capture the complex relationships present in long reviews, as a Transformer network would."
      ],
      "metadata": {
        "id": "NXR1p2QJeokh"
      }
    },
    {
      "cell_type": "markdown",
      "source": [
        "### **Predictions with the trained model**"
      ],
      "metadata": {
        "id": "j2VNNRAeJ_hx"
      }
    },
    {
      "cell_type": "code",
      "source": [
        "# Load model\n",
        "tf.keras.backend.clear_session()\n",
        "model = tf.keras.models.load_model(\"/content/drive/MyDrive/models/TextClassificationLSTM_IMDB.keras\")\n",
        "model.summary()"
      ],
      "metadata": {
        "colab": {
          "base_uri": "https://localhost:8080/"
        },
        "id": "SA0zaZJ1KDFK",
        "outputId": "1526b6c7-d960-48c3-f7be-0ea1eb56875f"
      },
      "execution_count": 6,
      "outputs": [
        {
          "output_type": "stream",
          "name": "stdout",
          "text": [
            "Model: \"sequential\"\n",
            "_________________________________________________________________\n",
            " Layer (type)                Output Shape              Param #   \n",
            "=================================================================\n",
            " text_vectorization (TextVe  (None, None)              0         \n",
            " ctorization)                                                    \n",
            "                                                                 \n",
            " embedding (Embedding)       (None, None, 128)         6400000   \n",
            "                                                                 \n",
            " bidirectional (Bidirection  (None, 128)               98816     \n",
            " al)                                                             \n",
            "                                                                 \n",
            " dense (Dense)               (None, 64)                8256      \n",
            "                                                                 \n",
            " dropout (Dropout)           (None, 64)                0         \n",
            "                                                                 \n",
            " dense_1 (Dense)             (None, 1)                 65        \n",
            "                                                                 \n",
            "=================================================================\n",
            "Total params: 6507137 (24.82 MB)\n",
            "Trainable params: 6507137 (24.82 MB)\n",
            "Non-trainable params: 0 (0.00 Byte)\n",
            "_________________________________________________________________\n"
          ]
        }
      ]
    },
    {
      "cell_type": "code",
      "source": [
        "def predict_review(texts, labels, random=True):\n",
        "  label_names = [\"Negative Review\", \"Positive Review\"]\n",
        "  label_colors = [\"red\", \"green\"]\n",
        "  indice = np.random.choice(len(texts)) if random else 0\n",
        "  labels_pred = model.predict(texts, verbose=0).squeeze(axis=-1)\n",
        "  labels_pred = (labels_pred>=0.5).astype(np.int32)\n",
        "\n",
        "  html_content = f\"\"\"\n",
        "    <b>Review:</b><br><br>\n",
        "    {texts[indice].numpy().decode(\"utf-8\")}<br><br>\n",
        "    <b>True Label: <span style=\"color: {label_colors[labels[indice]]}\">{label_names[labels[indice]]}</span></b><br><br>\n",
        "    <b>Predicted Label: <span style=\"color: {label_colors[labels_pred[indice]]}\">{label_names[labels_pred[indice]]}</span></b>\n",
        "    \"\"\"\n",
        "  display(HTML(html_content))"
      ],
      "metadata": {
        "id": "cs6eubKxPVlI"
      },
      "execution_count": null,
      "outputs": []
    },
    {
      "cell_type": "markdown",
      "source": [
        "**Test Dataset**"
      ],
      "metadata": {
        "id": "7O5A_x0lq5ew"
      }
    },
    {
      "cell_type": "code",
      "source": [
        "texts, labels = next(iter(test_dataset))"
      ],
      "metadata": {
        "id": "VuyWzQ-6qxmv"
      },
      "execution_count": null,
      "outputs": []
    },
    {
      "cell_type": "code",
      "source": [
        "predict_review(texts, labels, random=False)"
      ],
      "metadata": {
        "colab": {
          "base_uri": "https://localhost:8080/",
          "height": 260
        },
        "id": "n3sG--7Fsi2j",
        "outputId": "7fdacb1c-acff-4b3b-b111-c3c88e4c7164"
      },
      "execution_count": null,
      "outputs": [
        {
          "output_type": "display_data",
          "data": {
            "text/plain": [
              "<IPython.core.display.HTML object>"
            ],
            "text/html": [
              "\n",
              "    <b>Review:</b><br><br>\n",
              "    I saw this play on Showtime some years back in the comfort of my home and when the final note was struck, I wanted to jump off the sofa and give the production a standing ovation. As it was, I shed a tear that it was such a bunch of fantastic performances and songs. For my birthday, my kids bought me the VHS version as well as the Cd of the play with Len Cariou in the Sweeny Todd Role. <br /><br />I've shared the play with many...some finding the subject a bit sick, but none having anything but praise for the songs.<br /><br />I've always loved the interplay in songs with Angela Lansbury and George Hearn as well as Hearn and Edmund Lyndeck as Judge Turpin.<br /><br />I must own the DVD.<br><br>\n",
              "    <b>True Label: <span style=\"color: green\">Positive Review</span></b><br><br>\n",
              "    <b>Predicted Label: <span style=\"color: green\">Positive Review</span></b>\n",
              "    "
            ]
          },
          "metadata": {}
        }
      ]
    },
    {
      "cell_type": "code",
      "source": [
        "predict_review(texts, labels)"
      ],
      "metadata": {
        "colab": {
          "base_uri": "https://localhost:8080/",
          "height": 243
        },
        "id": "S8x5HQidv_v8",
        "outputId": "dd520069-0539-4cfd-ad79-68bf0d24bac7"
      },
      "execution_count": null,
      "outputs": [
        {
          "output_type": "display_data",
          "data": {
            "text/plain": [
              "<IPython.core.display.HTML object>"
            ],
            "text/html": [
              "\n",
              "    <b>Review:</b><br><br>\n",
              "    This has got to be the worst show I have ever seen. I always liked Chuck Norris in Films, but why do we need to make these shows politically correct by adding a black side kick who is as threatening as Shirley Temple in Little Miss Marker. I also thought the show was limited because how many times can you kick a guy in the face and make it interesting. I know an African American who looks like this Trivette guy and he gets his butt kicked about once a week he is all attitude.<br /><br />Chuck Norris is the man and he deserves all the kudos he gets, I think this show started great but lost steam as time went on<br /><br />They should have dumped Chucks side kick<br><br>\n",
              "    <b>True Label: <span style=\"color: red\">Negative Review</span></b><br><br>\n",
              "    <b>Predicted Label: <span style=\"color: red\">Negative Review</span></b>\n",
              "    "
            ]
          },
          "metadata": {}
        }
      ]
    },
    {
      "cell_type": "code",
      "source": [
        "# Long Review\n",
        "predict_review(texts, labels)"
      ],
      "metadata": {
        "colab": {
          "base_uri": "https://localhost:8080/",
          "height": 503
        },
        "id": "ikyAzwnC2t-h",
        "outputId": "f04551e5-dc58-4226-81ab-6f12945766b0"
      },
      "execution_count": null,
      "outputs": [
        {
          "output_type": "display_data",
          "data": {
            "text/plain": [
              "<IPython.core.display.HTML object>"
            ],
            "text/html": [
              "\n",
              "    <b>Review:</b><br><br>\n",
              "    \"Congo\" is based on the best-selling novel by Michael Crichton, which I thought lacked Crichton's usual charm, smart characters and punch. Well, sorry to say, but the same goes for the film.<br /><br />Here's the plot:<br /><br />Greed is bad, this simple morality tale cautions. A megalomaniacal C.E.O. (Joe Don Baker) sends his son into the dangerous African Congo on a quest for a source of diamonds large enough and pure enough to function as powerful laser communications transmitter (or is it laser weapons?). When contact is lost with his son and the team, his daughter-in-law (Laura Linney), a former CIA operative and computer-freak, is sent after them. On her quest, she is accompanied by gee-whiz gadgetry and a few eccentric characters (including a mercenary (Ernie Hudson), a researcher with a talking gorilla (Dylan Walsh), and a a nutty Indiana-Jones-type looking for King Solomon's Mines (Tim Curry). After some narrow escapes from surface-to-air missiles and some African wildlife, they all discover that often what we most want turns out to be the source of our downfall.<br /><br /> The actors in this movie were not talented. Dylan Walsh acts like a pathetic crybaby, especially at the end; Ernie Hudson is unconvincing (is it no wonder he went on to star in TV films?) and Laura Linney is nothing special. I think I can safely say the only talented actors in this film had very small roles: Joe Don Baker and Tim Curry, an always enjoyable actor (although sometimes scarred for life by constantly being reminded of his \"Rocky Horror Picture\" days).<br /><br /> This movie also had some other problems, including awful direction style, cheesy dialogue and a just-plain-boring plot, which was completely hashed when compared to Crichton's novel.<br /><br /> Not even Stan Winston's creature effects could save this movie from being a disaster. I am deeply disappointed in this movie; there was not even a campy quality to redeem itself with. It was just plain awful, cheesy, boring and ridiculous, and proves to be one of the worst Crichton book-to-film productions.<br /><br />2/5 stars -<br /><br />John Ulmer<br><br>\n",
              "    <b>True Label: <span style=\"color: red\">Negative Review</span></b><br><br>\n",
              "    <b>Predicted Label: <span style=\"color: red\">Negative Review</span></b>\n",
              "    "
            ]
          },
          "metadata": {}
        }
      ]
    },
    {
      "cell_type": "code",
      "source": [
        "# Long Review\n",
        "predict_review(texts, labels)"
      ],
      "metadata": {
        "colab": {
          "base_uri": "https://localhost:8080/",
          "height": 451
        },
        "id": "5-GAQURD2-t8",
        "outputId": "b5a6c421-6554-4b81-dd4f-285fe7583ba0"
      },
      "execution_count": null,
      "outputs": [
        {
          "output_type": "display_data",
          "data": {
            "text/plain": [
              "<IPython.core.display.HTML object>"
            ],
            "text/html": [
              "\n",
              "    <b>Review:</b><br><br>\n",
              "    This movie is about Carlos \"The Jackal\" (Quinn), an international terrorist who, by CIA agent Henry Fields's (Sutherland) description, appears to maim women and children for the heck of it. At least that's what he says to guilt US Naval Officer Annibal Ramirez (Quinn again) into taking on the assignment of posing as Carlos and setting him up as a traitor in the eyes of the KGB. Ramirez is apparently physically identical to Carlos but mentally he is his antithesis. He is borne of order and Carlos is borne of chaos.<br /><br />The movie isn't all shoot-gun-jump-around action, and that's a good thing. In its first half, Ramirez undergoes training to act and think like Carlos, and that's actually where the movie achieves its distinction from other run-of-the-mill action flicks. An Israeli agent (Kingsley), joins Fields in training Ramirez, and together they appear to take on the roles of parents in the birthing of Ramirez's new character. Ramirez is taught to dislike the things Carlos dislikes, to act on the split second like Carlos would, and even to make love like Carlos (courtesy of an ex-girlfriend of Carlos's). Naturally all that he is taught would be put to good use in the later half of the movie. It's a little contrived but Quinn gives a riveting performance as a Carlos-wannabe.<br /><br />Another thing I liked about this movie was that it didn't utilize the much overdone plot point in evil twin movies - you know, the one in which the evil twin insinuates himself into the good twin's family. Ramirez's family does come into the picture, but instead they highlight how his new character wrecks havoc on his family life.<br /><br />Good chuckle humor is injected into this movie, often coming the acerbic duo of Sutherland and Kingsley. An exception is the overused and apparently gratuitous joke involving Ramirez's first name (Annibal, Annabelle, get it?). Also overdone was the constant harping by the duo about how powerful and cunning and intelligent Carlos is. In my opinion, during the final showdown, the payoff wasn't able to match the build-up.<br /><br />On the whole, the movie was enjoyable. I'm not a big action flick fan but this movie was more intelligent and engrossing than the average action movie and it maintained my attention throughout.<br /><br />My rating: 9/10<br><br>\n",
              "    <b>True Label: <span style=\"color: green\">Positive Review</span></b><br><br>\n",
              "    <b>Predicted Label: <span style=\"color: green\">Positive Review</span></b>\n",
              "    "
            ]
          },
          "metadata": {}
        }
      ]
    },
    {
      "cell_type": "markdown",
      "source": [
        "**Other Reviews**"
      ],
      "metadata": {
        "id": "A1dq-wuO4gDI"
      }
    },
    {
      "cell_type": "code",
      "source": [
        "text = \"\"\"\n",
        "'The Sunrise of Tomorrow' is a cinematic masterpiece that truly captures the essence of human resilience.\n",
        "The performances are stellar, particularly the lead actor who delivers a heart-wrenching performance that leaves you on the edge of your seat.\n",
        "The cinematography is breathtaking, with each frame painting a beautiful picture that stays with you long after the movie ends.\n",
        "The plot is well-crafted, with unexpected twists that keep you engaged throughout.\n",
        "This movie is a must-watch for anyone seeking a profound cinematic experience.\n",
        "\"\"\"\n",
        "text = tf.constant([text], tf.string)\n",
        "label = tf.constant([1], tf.int32)\n",
        "\n",
        "predict_review(text, label)"
      ],
      "metadata": {
        "id": "9B_dYdfw3Uvt",
        "colab": {
          "base_uri": "https://localhost:8080/",
          "height": 173
        },
        "outputId": "6bc84991-5343-42de-a4df-f90b7b544e62"
      },
      "execution_count": null,
      "outputs": [
        {
          "output_type": "display_data",
          "data": {
            "text/plain": [
              "<IPython.core.display.HTML object>"
            ],
            "text/html": [
              "\n",
              "    <b>Review:</b><br><br>\n",
              "    \n",
              "'The Sunrise of Tomorrow' is a cinematic masterpiece that truly captures the essence of human resilience. \n",
              "The performances are stellar, particularly the lead actor who delivers a heart-wrenching performance that leaves you on the edge of your seat. \n",
              "The cinematography is breathtaking, with each frame painting a beautiful picture that stays with you long after the movie ends. \n",
              "The plot is well-crafted, with unexpected twists that keep you engaged throughout. \n",
              "This movie is a must-watch for anyone seeking a profound cinematic experience.\n",
              "<br><br>\n",
              "    <b>True Label: <span style=\"color: green\">Positive Review</span></b><br><br>\n",
              "    <b>Predicted Label: <span style=\"color: green\">Positive Review</span></b>\n",
              "    "
            ]
          },
          "metadata": {}
        }
      ]
    },
    {
      "cell_type": "code",
      "source": [
        "text = \"\"\"\n",
        "I had high hopes for \"The Sunrise of Tomorrow\", but unfortunately, it fell short of expectations.\n",
        "The plot was predictable and lacked depth, making it difficult to connect with the characters on any meaningful level.\n",
        "The performances felt forced and lacked the emotional depth necessary for such a storyline.\n",
        "The cinematography, while visually appealing, couldn't make up for the lackluster script.\n",
        "Overall, the movie felt like a missed opportunity to explore an interesting concept.\n",
        "\"\"\"\n",
        "text = tf.constant([text], tf.string)\n",
        "label = tf.constant([0], tf.int32)\n",
        "\n",
        "predict_review(text, label)"
      ],
      "metadata": {
        "colab": {
          "base_uri": "https://localhost:8080/",
          "height": 173
        },
        "id": "trfOybCZCSp6",
        "outputId": "133c37fc-ae07-40e7-aaba-891bf177e36a"
      },
      "execution_count": null,
      "outputs": [
        {
          "output_type": "display_data",
          "data": {
            "text/plain": [
              "<IPython.core.display.HTML object>"
            ],
            "text/html": [
              "\n",
              "    <b>Review:</b><br><br>\n",
              "    \n",
              "I had high hopes for \"The Sunrise of Tomorrow\", but unfortunately, it fell short of expectations. \n",
              "The plot was predictable and lacked depth, making it difficult to connect with the characters on any meaningful level. \n",
              "The performances felt forced and lacked the emotional depth necessary for such a storyline. \n",
              "The cinematography, while visually appealing, couldn't make up for the lackluster script. \n",
              "Overall, the movie felt like a missed opportunity to explore an interesting concept.\n",
              "<br><br>\n",
              "    <b>True Label: <span style=\"color: red\">Negative Review</span></b><br><br>\n",
              "    <b>Predicted Label: <span style=\"color: red\">Negative Review</span></b>\n",
              "    "
            ]
          },
          "metadata": {}
        }
      ]
    },
    {
      "cell_type": "code",
      "source": [
        "# Complex positive review, incorporating seemingly negative words.\n",
        "\n",
        "text = \"\"\"\n",
        "I'm absolutely disgusted that this movie isn't being sold. Everyone who loves this film should email Disney to increase the demand for it.\n",
        "Eventually, they'd have to sell it, and then I'd buy copies for everybody I know. Everyone and everything in this movie did a good job,\n",
        "and I can't figure out why Disney hasn't put it on DVD or even on VHS in rental stores.\n",
        "I haven't seen any copies. This is a fantastic movie that deserves to be seen by all the kids in the new generation.\n",
        "They're missing out, and I think they deserve the chance to experience it.\n",
        "\"\"\"\n",
        "text = tf.constant([text], tf.string)\n",
        "label = tf.constant([1], tf.int32)\n",
        "\n",
        "predict_review(text, label)"
      ],
      "metadata": {
        "colab": {
          "base_uri": "https://localhost:8080/",
          "height": 173
        },
        "id": "SF7pxlUoDQWa",
        "outputId": "2188e70d-ccd6-4043-b4dc-c2c27ab4f3bd"
      },
      "execution_count": null,
      "outputs": [
        {
          "output_type": "display_data",
          "data": {
            "text/plain": [
              "<IPython.core.display.HTML object>"
            ],
            "text/html": [
              "\n",
              "    <b>Review:</b><br><br>\n",
              "    \n",
              "I'm absolutely disgusted that this movie isn't being sold. Everyone who loves this film should email Disney to increase the demand for it. \n",
              "Eventually, they'd have to sell it, and then I'd buy copies for everybody I know. Everyone and everything in this movie did a good job, \n",
              "and I can't figure out why Disney hasn't put it on DVD or even on VHS in rental stores. \n",
              "I haven't seen any copies. This is a fantastic movie that deserves to be seen by all the kids in the new generation. \n",
              "They're missing out, and I think they deserve the chance to experience it.\n",
              "<br><br>\n",
              "    <b>True Label: <span style=\"color: green\">Positive Review</span></b><br><br>\n",
              "    <b>Predicted Label: <span style=\"color: green\">Positive Review</span></b>\n",
              "    "
            ]
          },
          "metadata": {}
        }
      ]
    },
    {
      "cell_type": "markdown",
      "source": [
        "It is evident that the model has classified the review correctly, suggesting that it is capable of adequately capturing semantic relationships in short reviews, even when they are complex, thanks to the use of LSTM networks."
      ],
      "metadata": {
        "id": "Ermg5uQAFvn_"
      }
    },
    {
      "cell_type": "markdown",
      "source": [
        "### **Visualize Word Embeddings with Principal Component Analysis (PCA)**"
      ],
      "metadata": {
        "id": "7vvN1PJBLSCN"
      }
    },
    {
      "cell_type": "code",
      "source": [
        "# Obtaining the vocabulary from the encoder layer and the weights from the trained embedding layer\n",
        "\n",
        "vocab = model.layers[0].get_vocabulary()\n",
        "vocab = {word:i for i, word in enumerate(vocab)}\n",
        "\n",
        "embedding = model.get_layer(\"embedding\").get_weights()[0]\n",
        "embedding.shape #(vocab_size, embedding_dim)"
      ],
      "metadata": {
        "id": "aMcL9nT-FvZ6",
        "colab": {
          "base_uri": "https://localhost:8080/"
        },
        "outputId": "c719d833-5efd-476d-c343-23428ca9d7f7"
      },
      "execution_count": 7,
      "outputs": [
        {
          "output_type": "execute_result",
          "data": {
            "text/plain": [
              "(50000, 128)"
            ]
          },
          "metadata": {},
          "execution_count": 7
        }
      ]
    },
    {
      "cell_type": "code",
      "source": [
        "def compute_pca(X, n_components=2):\n",
        "  pca = PCA(n_components=n_components, random_state=42)\n",
        "  X_pca = pca.fit_transform(X)\n",
        "  return X_pca"
      ],
      "metadata": {
        "id": "SuWXReXpL51c"
      },
      "execution_count": 8,
      "outputs": []
    },
    {
      "cell_type": "code",
      "source": [
        "embedding_2d = compute_pca(embedding)\n",
        "embedding_3d = compute_pca(embedding, n_components=3)\n",
        "\n",
        "embedding_2d.shape, embedding_3d.shape"
      ],
      "metadata": {
        "colab": {
          "base_uri": "https://localhost:8080/"
        },
        "id": "p5kSqyyEL7BK",
        "outputId": "f4c3cce2-2367-4c0c-a2d6-02c076236100"
      },
      "execution_count": 9,
      "outputs": [
        {
          "output_type": "execute_result",
          "data": {
            "text/plain": [
              "((50000, 2), (50000, 3))"
            ]
          },
          "metadata": {},
          "execution_count": 9
        }
      ]
    },
    {
      "cell_type": "code",
      "source": [
        "# Some exemplary words\n",
        "words = [\"good\", \"excellent\", \"great\", \"fantastic\", \"amazing\", \"wonderful\", \"outstanding\", \"superb\", \"delightful\", \"phenomenal\",\n",
        "         \"bad\", \"terrible\", \"awful\", \"horrible\", \"mediocre\", \"dreadful\", \"poor\", \"lousy\", \"disappointing\", \"abysmal\"]\n",
        "\n",
        "colors = [\"green\"]*10 + [\"red\"]*10"
      ],
      "metadata": {
        "id": "w3ofRYauOgaz"
      },
      "execution_count": 10,
      "outputs": []
    },
    {
      "cell_type": "code",
      "source": [
        "words_2d = np.array([embedding_2d[vocab.get(word, 1)] for word in words]) #Index 1 corresponds to [UNK]\n",
        "words_3d = np.array([embedding_3d[vocab.get(word, 1)] for word in words])"
      ],
      "metadata": {
        "id": "jAmoZbzjOC_G"
      },
      "execution_count": 11,
      "outputs": []
    },
    {
      "cell_type": "markdown",
      "source": [
        "**With Plotly (interactive graph)**"
      ],
      "metadata": {
        "id": "V5r9AxRHVPKO"
      }
    },
    {
      "cell_type": "code",
      "source": [
        "fig = go.Figure()\n",
        "\n",
        "fig.add_trace(go.Scatter(x=words_2d[:10, 0], y=words_2d[:10, 1],\n",
        "                         mode=\"markers+text\", marker_color=\"green\",\n",
        "                         text=words[:10], textposition=\"top center\",\n",
        "                         marker_size=10, textfont_size=13,\n",
        "                         showlegend=False))\n",
        "\n",
        "fig.add_trace(go.Scatter(x=words_2d[10:, 0], y=words_2d[10:, 1],\n",
        "                         mode=\"markers+text\", marker_color=\"red\",\n",
        "                         text=words[10:], textposition=\"top center\",\n",
        "                         marker_size=10, textfont_size=13,\n",
        "                         showlegend=False))\n",
        "\n",
        "fig.update_layout(title=\"<b>2D Word Embeddings Visualization</b>\",\n",
        "                  title_font=dict(size=20), title_x=0.5, height=600, width=1200,\n",
        "                  xaxis_title=\"<b>$Z_1$</b>\", yaxis_title=\"<b>$Z_2$</b>\")\n",
        "\n",
        "fig.show()"
      ],
      "metadata": {
        "colab": {
          "base_uri": "https://localhost:8080/",
          "height": 637
        },
        "id": "8yiSz0V9U-gW",
        "outputId": "1cb84450-30a4-4d22-bd2a-dad599d44ebe"
      },
      "execution_count": 12,
      "outputs": [
        {
          "output_type": "display_data",
          "data": {
            "text/html": [
              "<html>\n",
              "<head><meta charset=\"utf-8\" /></head>\n",
              "<body>\n",
              "    <div>            <script src=\"https://cdnjs.cloudflare.com/ajax/libs/mathjax/2.7.5/MathJax.js?config=TeX-AMS-MML_SVG\"></script><script type=\"text/javascript\">if (window.MathJax && window.MathJax.Hub && window.MathJax.Hub.Config) {window.MathJax.Hub.Config({SVG: {font: \"STIX-Web\"}});}</script>                <script type=\"text/javascript\">window.PlotlyConfig = {MathJaxConfig: 'local'};</script>\n",
              "        <script charset=\"utf-8\" src=\"https://cdn.plot.ly/plotly-2.24.1.min.js\"></script>                <div id=\"dfad4702-41d2-49f2-9f27-699685c0c524\" class=\"plotly-graph-div\" style=\"height:600px; width:1200px;\"></div>            <script type=\"text/javascript\">                                    window.PLOTLYENV=window.PLOTLYENV || {};                                    if (document.getElementById(\"dfad4702-41d2-49f2-9f27-699685c0c524\")) {                    Plotly.newPlot(                        \"dfad4702-41d2-49f2-9f27-699685c0c524\",                        [{\"marker\":{\"color\":\"green\",\"size\":10},\"mode\":\"markers+text\",\"showlegend\":false,\"text\":[\"good\",\"excellent\",\"great\",\"fantastic\",\"amazing\",\"wonderful\",\"outstanding\",\"superb\",\"delightful\",\"phenomenal\"],\"textfont\":{\"size\":13},\"textposition\":\"top center\",\"x\":[-0.06935137510299683,-0.28557494282722473,-0.19134166836738586,-0.24729442596435547,-0.23872725665569305,-0.2767932415008545,-0.18964852392673492,-0.3089468777179718,-0.2556529641151428,-0.014570280909538269],\"y\":[-0.023245520889759064,-0.02367492765188217,0.01853691227734089,0.02928287908434868,-0.029863223433494568,0.025239527225494385,0.03298283740878105,0.015628015622496605,0.006408351007848978,0.034829918295145035],\"type\":\"scatter\"},{\"marker\":{\"color\":\"red\",\"size\":10},\"mode\":\"markers+text\",\"showlegend\":false,\"text\":[\"bad\",\"terrible\",\"awful\",\"horrible\",\"mediocre\",\"dreadful\",\"poor\",\"lousy\",\"disappointing\",\"abysmal\"],\"textfont\":{\"size\":13},\"textposition\":\"top center\",\"x\":[0.19868360459804535,0.3638113737106323,0.3909875154495239,0.3215515911579132,0.2560492753982544,0.2906738817691803,0.2990853190422058,0.2981158494949341,0.22232046723365784,0.13494566082954407],\"y\":[-0.006682615261524916,0.036321282386779785,-0.06642675399780273,-0.049868613481521606,0.0034866188652813435,-0.012056897394359112,0.007859248667955399,0.004005011171102524,0.008170885033905506,0.00122842809651047],\"type\":\"scatter\"}],                        {\"template\":{\"data\":{\"histogram2dcontour\":[{\"type\":\"histogram2dcontour\",\"colorbar\":{\"outlinewidth\":0,\"ticks\":\"\"},\"colorscale\":[[0.0,\"#0d0887\"],[0.1111111111111111,\"#46039f\"],[0.2222222222222222,\"#7201a8\"],[0.3333333333333333,\"#9c179e\"],[0.4444444444444444,\"#bd3786\"],[0.5555555555555556,\"#d8576b\"],[0.6666666666666666,\"#ed7953\"],[0.7777777777777778,\"#fb9f3a\"],[0.8888888888888888,\"#fdca26\"],[1.0,\"#f0f921\"]]}],\"choropleth\":[{\"type\":\"choropleth\",\"colorbar\":{\"outlinewidth\":0,\"ticks\":\"\"}}],\"histogram2d\":[{\"type\":\"histogram2d\",\"colorbar\":{\"outlinewidth\":0,\"ticks\":\"\"},\"colorscale\":[[0.0,\"#0d0887\"],[0.1111111111111111,\"#46039f\"],[0.2222222222222222,\"#7201a8\"],[0.3333333333333333,\"#9c179e\"],[0.4444444444444444,\"#bd3786\"],[0.5555555555555556,\"#d8576b\"],[0.6666666666666666,\"#ed7953\"],[0.7777777777777778,\"#fb9f3a\"],[0.8888888888888888,\"#fdca26\"],[1.0,\"#f0f921\"]]}],\"heatmap\":[{\"type\":\"heatmap\",\"colorbar\":{\"outlinewidth\":0,\"ticks\":\"\"},\"colorscale\":[[0.0,\"#0d0887\"],[0.1111111111111111,\"#46039f\"],[0.2222222222222222,\"#7201a8\"],[0.3333333333333333,\"#9c179e\"],[0.4444444444444444,\"#bd3786\"],[0.5555555555555556,\"#d8576b\"],[0.6666666666666666,\"#ed7953\"],[0.7777777777777778,\"#fb9f3a\"],[0.8888888888888888,\"#fdca26\"],[1.0,\"#f0f921\"]]}],\"heatmapgl\":[{\"type\":\"heatmapgl\",\"colorbar\":{\"outlinewidth\":0,\"ticks\":\"\"},\"colorscale\":[[0.0,\"#0d0887\"],[0.1111111111111111,\"#46039f\"],[0.2222222222222222,\"#7201a8\"],[0.3333333333333333,\"#9c179e\"],[0.4444444444444444,\"#bd3786\"],[0.5555555555555556,\"#d8576b\"],[0.6666666666666666,\"#ed7953\"],[0.7777777777777778,\"#fb9f3a\"],[0.8888888888888888,\"#fdca26\"],[1.0,\"#f0f921\"]]}],\"contourcarpet\":[{\"type\":\"contourcarpet\",\"colorbar\":{\"outlinewidth\":0,\"ticks\":\"\"}}],\"contour\":[{\"type\":\"contour\",\"colorbar\":{\"outlinewidth\":0,\"ticks\":\"\"},\"colorscale\":[[0.0,\"#0d0887\"],[0.1111111111111111,\"#46039f\"],[0.2222222222222222,\"#7201a8\"],[0.3333333333333333,\"#9c179e\"],[0.4444444444444444,\"#bd3786\"],[0.5555555555555556,\"#d8576b\"],[0.6666666666666666,\"#ed7953\"],[0.7777777777777778,\"#fb9f3a\"],[0.8888888888888888,\"#fdca26\"],[1.0,\"#f0f921\"]]}],\"surface\":[{\"type\":\"surface\",\"colorbar\":{\"outlinewidth\":0,\"ticks\":\"\"},\"colorscale\":[[0.0,\"#0d0887\"],[0.1111111111111111,\"#46039f\"],[0.2222222222222222,\"#7201a8\"],[0.3333333333333333,\"#9c179e\"],[0.4444444444444444,\"#bd3786\"],[0.5555555555555556,\"#d8576b\"],[0.6666666666666666,\"#ed7953\"],[0.7777777777777778,\"#fb9f3a\"],[0.8888888888888888,\"#fdca26\"],[1.0,\"#f0f921\"]]}],\"mesh3d\":[{\"type\":\"mesh3d\",\"colorbar\":{\"outlinewidth\":0,\"ticks\":\"\"}}],\"scatter\":[{\"fillpattern\":{\"fillmode\":\"overlay\",\"size\":10,\"solidity\":0.2},\"type\":\"scatter\"}],\"parcoords\":[{\"type\":\"parcoords\",\"line\":{\"colorbar\":{\"outlinewidth\":0,\"ticks\":\"\"}}}],\"scatterpolargl\":[{\"type\":\"scatterpolargl\",\"marker\":{\"colorbar\":{\"outlinewidth\":0,\"ticks\":\"\"}}}],\"bar\":[{\"error_x\":{\"color\":\"#2a3f5f\"},\"error_y\":{\"color\":\"#2a3f5f\"},\"marker\":{\"line\":{\"color\":\"#E5ECF6\",\"width\":0.5},\"pattern\":{\"fillmode\":\"overlay\",\"size\":10,\"solidity\":0.2}},\"type\":\"bar\"}],\"scattergeo\":[{\"type\":\"scattergeo\",\"marker\":{\"colorbar\":{\"outlinewidth\":0,\"ticks\":\"\"}}}],\"scatterpolar\":[{\"type\":\"scatterpolar\",\"marker\":{\"colorbar\":{\"outlinewidth\":0,\"ticks\":\"\"}}}],\"histogram\":[{\"marker\":{\"pattern\":{\"fillmode\":\"overlay\",\"size\":10,\"solidity\":0.2}},\"type\":\"histogram\"}],\"scattergl\":[{\"type\":\"scattergl\",\"marker\":{\"colorbar\":{\"outlinewidth\":0,\"ticks\":\"\"}}}],\"scatter3d\":[{\"type\":\"scatter3d\",\"line\":{\"colorbar\":{\"outlinewidth\":0,\"ticks\":\"\"}},\"marker\":{\"colorbar\":{\"outlinewidth\":0,\"ticks\":\"\"}}}],\"scattermapbox\":[{\"type\":\"scattermapbox\",\"marker\":{\"colorbar\":{\"outlinewidth\":0,\"ticks\":\"\"}}}],\"scatterternary\":[{\"type\":\"scatterternary\",\"marker\":{\"colorbar\":{\"outlinewidth\":0,\"ticks\":\"\"}}}],\"scattercarpet\":[{\"type\":\"scattercarpet\",\"marker\":{\"colorbar\":{\"outlinewidth\":0,\"ticks\":\"\"}}}],\"carpet\":[{\"aaxis\":{\"endlinecolor\":\"#2a3f5f\",\"gridcolor\":\"white\",\"linecolor\":\"white\",\"minorgridcolor\":\"white\",\"startlinecolor\":\"#2a3f5f\"},\"baxis\":{\"endlinecolor\":\"#2a3f5f\",\"gridcolor\":\"white\",\"linecolor\":\"white\",\"minorgridcolor\":\"white\",\"startlinecolor\":\"#2a3f5f\"},\"type\":\"carpet\"}],\"table\":[{\"cells\":{\"fill\":{\"color\":\"#EBF0F8\"},\"line\":{\"color\":\"white\"}},\"header\":{\"fill\":{\"color\":\"#C8D4E3\"},\"line\":{\"color\":\"white\"}},\"type\":\"table\"}],\"barpolar\":[{\"marker\":{\"line\":{\"color\":\"#E5ECF6\",\"width\":0.5},\"pattern\":{\"fillmode\":\"overlay\",\"size\":10,\"solidity\":0.2}},\"type\":\"barpolar\"}],\"pie\":[{\"automargin\":true,\"type\":\"pie\"}]},\"layout\":{\"autotypenumbers\":\"strict\",\"colorway\":[\"#636efa\",\"#EF553B\",\"#00cc96\",\"#ab63fa\",\"#FFA15A\",\"#19d3f3\",\"#FF6692\",\"#B6E880\",\"#FF97FF\",\"#FECB52\"],\"font\":{\"color\":\"#2a3f5f\"},\"hovermode\":\"closest\",\"hoverlabel\":{\"align\":\"left\"},\"paper_bgcolor\":\"white\",\"plot_bgcolor\":\"#E5ECF6\",\"polar\":{\"bgcolor\":\"#E5ECF6\",\"angularaxis\":{\"gridcolor\":\"white\",\"linecolor\":\"white\",\"ticks\":\"\"},\"radialaxis\":{\"gridcolor\":\"white\",\"linecolor\":\"white\",\"ticks\":\"\"}},\"ternary\":{\"bgcolor\":\"#E5ECF6\",\"aaxis\":{\"gridcolor\":\"white\",\"linecolor\":\"white\",\"ticks\":\"\"},\"baxis\":{\"gridcolor\":\"white\",\"linecolor\":\"white\",\"ticks\":\"\"},\"caxis\":{\"gridcolor\":\"white\",\"linecolor\":\"white\",\"ticks\":\"\"}},\"coloraxis\":{\"colorbar\":{\"outlinewidth\":0,\"ticks\":\"\"}},\"colorscale\":{\"sequential\":[[0.0,\"#0d0887\"],[0.1111111111111111,\"#46039f\"],[0.2222222222222222,\"#7201a8\"],[0.3333333333333333,\"#9c179e\"],[0.4444444444444444,\"#bd3786\"],[0.5555555555555556,\"#d8576b\"],[0.6666666666666666,\"#ed7953\"],[0.7777777777777778,\"#fb9f3a\"],[0.8888888888888888,\"#fdca26\"],[1.0,\"#f0f921\"]],\"sequentialminus\":[[0.0,\"#0d0887\"],[0.1111111111111111,\"#46039f\"],[0.2222222222222222,\"#7201a8\"],[0.3333333333333333,\"#9c179e\"],[0.4444444444444444,\"#bd3786\"],[0.5555555555555556,\"#d8576b\"],[0.6666666666666666,\"#ed7953\"],[0.7777777777777778,\"#fb9f3a\"],[0.8888888888888888,\"#fdca26\"],[1.0,\"#f0f921\"]],\"diverging\":[[0,\"#8e0152\"],[0.1,\"#c51b7d\"],[0.2,\"#de77ae\"],[0.3,\"#f1b6da\"],[0.4,\"#fde0ef\"],[0.5,\"#f7f7f7\"],[0.6,\"#e6f5d0\"],[0.7,\"#b8e186\"],[0.8,\"#7fbc41\"],[0.9,\"#4d9221\"],[1,\"#276419\"]]},\"xaxis\":{\"gridcolor\":\"white\",\"linecolor\":\"white\",\"ticks\":\"\",\"title\":{\"standoff\":15},\"zerolinecolor\":\"white\",\"automargin\":true,\"zerolinewidth\":2},\"yaxis\":{\"gridcolor\":\"white\",\"linecolor\":\"white\",\"ticks\":\"\",\"title\":{\"standoff\":15},\"zerolinecolor\":\"white\",\"automargin\":true,\"zerolinewidth\":2},\"scene\":{\"xaxis\":{\"backgroundcolor\":\"#E5ECF6\",\"gridcolor\":\"white\",\"linecolor\":\"white\",\"showbackground\":true,\"ticks\":\"\",\"zerolinecolor\":\"white\",\"gridwidth\":2},\"yaxis\":{\"backgroundcolor\":\"#E5ECF6\",\"gridcolor\":\"white\",\"linecolor\":\"white\",\"showbackground\":true,\"ticks\":\"\",\"zerolinecolor\":\"white\",\"gridwidth\":2},\"zaxis\":{\"backgroundcolor\":\"#E5ECF6\",\"gridcolor\":\"white\",\"linecolor\":\"white\",\"showbackground\":true,\"ticks\":\"\",\"zerolinecolor\":\"white\",\"gridwidth\":2}},\"shapedefaults\":{\"line\":{\"color\":\"#2a3f5f\"}},\"annotationdefaults\":{\"arrowcolor\":\"#2a3f5f\",\"arrowhead\":0,\"arrowwidth\":1},\"geo\":{\"bgcolor\":\"white\",\"landcolor\":\"#E5ECF6\",\"subunitcolor\":\"white\",\"showland\":true,\"showlakes\":true,\"lakecolor\":\"white\"},\"title\":{\"x\":0.05},\"mapbox\":{\"style\":\"light\"}}},\"title\":{\"text\":\"\\u003cb\\u003e2D Word Embeddings Visualization\\u003c\\u002fb\\u003e\",\"font\":{\"size\":20},\"x\":0.5},\"height\":600,\"width\":1200,\"xaxis\":{\"title\":{\"text\":\"\\u003cb\\u003e$Z_1$\\u003c\\u002fb\\u003e\"}},\"yaxis\":{\"title\":{\"text\":\"\\u003cb\\u003e$Z_2$\\u003c\\u002fb\\u003e\"}}},                        {\"responsive\": true}                    ).then(function(){\n",
              "                            \n",
              "var gd = document.getElementById('dfad4702-41d2-49f2-9f27-699685c0c524');\n",
              "var x = new MutationObserver(function (mutations, observer) {{\n",
              "        var display = window.getComputedStyle(gd).display;\n",
              "        if (!display || display === 'none') {{\n",
              "            console.log([gd, 'removed!']);\n",
              "            Plotly.purge(gd);\n",
              "            observer.disconnect();\n",
              "        }}\n",
              "}});\n",
              "\n",
              "// Listen for the removal of the full notebook cells\n",
              "var notebookContainer = gd.closest('#notebook-container');\n",
              "if (notebookContainer) {{\n",
              "    x.observe(notebookContainer, {childList: true});\n",
              "}}\n",
              "\n",
              "// Listen for the clearing of the current output cell\n",
              "var outputEl = gd.closest('.output');\n",
              "if (outputEl) {{\n",
              "    x.observe(outputEl, {childList: true});\n",
              "}}\n",
              "\n",
              "                        })                };                            </script>        </div>\n",
              "</body>\n",
              "</html>"
            ]
          },
          "metadata": {}
        }
      ]
    },
    {
      "cell_type": "code",
      "source": [
        "fig = go.Figure()\n",
        "\n",
        "fig.add_trace(go.Scatter3d(x=words_3d[:10, 0], y=words_3d[:10, 1], z=words_3d[:10, 2],\n",
        "                           mode=\"markers+text\", marker_color=\"green\",\n",
        "                           text=words[:10], textposition=\"top center\",\n",
        "                           marker_size=5, textfont_size=13,\n",
        "                           showlegend=False))\n",
        "\n",
        "fig.add_trace(go.Scatter3d(x=words_3d[10:, 0], y=words_3d[10:, 1], z=words_3d[10:, 2],\n",
        "                           mode=\"markers+text\", marker_color=\"red\",\n",
        "                           text=words[10:], textposition=\"top center\",\n",
        "                           marker_size=5, textfont_size=13,\n",
        "                           showlegend=False))\n",
        "\n",
        "fig.update_layout(title=\"<b>3D Word Embeddings Visualization</b>\",\n",
        "                  title_font=dict(size=20), title_x=0.5, height=600, width=900,\n",
        "                  scene=dict(xaxis_title=\"<b>Z_1</b>\", yaxis_title=\"<b>Z_2</b>\", zaxis_title=\"<b>Z_3</b>\"))\n",
        "\n",
        "fig.show()"
      ],
      "metadata": {
        "colab": {
          "base_uri": "https://localhost:8080/",
          "height": 617
        },
        "id": "hsJa-sgMnfPD",
        "outputId": "3692f5ef-5ba9-475f-f39d-e49871822ebf"
      },
      "execution_count": 68,
      "outputs": [
        {
          "output_type": "display_data",
          "data": {
            "text/html": [
              "<html>\n",
              "<head><meta charset=\"utf-8\" /></head>\n",
              "<body>\n",
              "    <div>            <script src=\"https://cdnjs.cloudflare.com/ajax/libs/mathjax/2.7.5/MathJax.js?config=TeX-AMS-MML_SVG\"></script><script type=\"text/javascript\">if (window.MathJax && window.MathJax.Hub && window.MathJax.Hub.Config) {window.MathJax.Hub.Config({SVG: {font: \"STIX-Web\"}});}</script>                <script type=\"text/javascript\">window.PlotlyConfig = {MathJaxConfig: 'local'};</script>\n",
              "        <script charset=\"utf-8\" src=\"https://cdn.plot.ly/plotly-2.24.1.min.js\"></script>                <div id=\"9a3a49d7-1249-4812-8e5e-625ed1f45f58\" class=\"plotly-graph-div\" style=\"height:600px; width:900px;\"></div>            <script type=\"text/javascript\">                                    window.PLOTLYENV=window.PLOTLYENV || {};                                    if (document.getElementById(\"9a3a49d7-1249-4812-8e5e-625ed1f45f58\")) {                    Plotly.newPlot(                        \"9a3a49d7-1249-4812-8e5e-625ed1f45f58\",                        [{\"marker\":{\"color\":\"green\",\"size\":5},\"mode\":\"markers+text\",\"showlegend\":false,\"text\":[\"good\",\"excellent\",\"great\",\"fantastic\",\"amazing\",\"wonderful\",\"outstanding\",\"superb\",\"delightful\",\"phenomenal\"],\"textfont\":{\"size\":13},\"textposition\":\"top center\",\"x\":[-0.06935125589370728,-0.285574734210968,-0.19134196639060974,-0.247294619679451,-0.23872743546962738,-0.27679336071014404,-0.18964830040931702,-0.30894705653190613,-0.2556530237197876,-0.014570294879376888],\"y\":[0.04785807430744171,0.01181904599070549,-0.020363090559840202,-0.02956652268767357,0.027645375579595566,-0.036388009786605835,-0.031373538076877594,-0.02229990065097809,-0.0259617380797863,-0.04065758362412453],\"z\":[-0.0006879380089230835,0.03539865463972092,0.00464835949242115,-0.0430089607834816,-0.021770231425762177,0.01719687692821026,0.014721136540174484,0.0029978530947118998,-0.005823222454637289,0.021017536520957947],\"type\":\"scatter3d\"},{\"marker\":{\"color\":\"red\",\"size\":5},\"mode\":\"markers+text\",\"showlegend\":false,\"text\":[\"bad\",\"terrible\",\"awful\",\"horrible\",\"mediocre\",\"dreadful\",\"poor\",\"lousy\",\"disappointing\",\"abysmal\"],\"textfont\":{\"size\":13},\"textposition\":\"top center\",\"x\":[0.1986836940050125,0.3638111650943756,0.39098742604255676,0.3215514123439789,0.25604909658432007,0.2906738817691803,0.29908502101898193,0.29811570048332214,0.2223205417394638,0.13494570553302765],\"y\":[-0.01577792875468731,-0.04250253736972809,0.045769017189741135,0.05090406909584999,0.035617977380752563,0.014112995006144047,-0.005370432045310736,-0.012889822013676167,-0.011341743171215057,0.0004574296181090176],\"z\":[0.018628574907779694,0.015488364733755589,0.043544840067625046,0.007169940508902073,0.004507571924477816,0.018981454893946648,-0.0297140683978796,0.005782110150903463,0.06961248070001602,-0.027163991704583168],\"type\":\"scatter3d\"}],                        {\"template\":{\"data\":{\"histogram2dcontour\":[{\"type\":\"histogram2dcontour\",\"colorbar\":{\"outlinewidth\":0,\"ticks\":\"\"},\"colorscale\":[[0.0,\"#0d0887\"],[0.1111111111111111,\"#46039f\"],[0.2222222222222222,\"#7201a8\"],[0.3333333333333333,\"#9c179e\"],[0.4444444444444444,\"#bd3786\"],[0.5555555555555556,\"#d8576b\"],[0.6666666666666666,\"#ed7953\"],[0.7777777777777778,\"#fb9f3a\"],[0.8888888888888888,\"#fdca26\"],[1.0,\"#f0f921\"]]}],\"choropleth\":[{\"type\":\"choropleth\",\"colorbar\":{\"outlinewidth\":0,\"ticks\":\"\"}}],\"histogram2d\":[{\"type\":\"histogram2d\",\"colorbar\":{\"outlinewidth\":0,\"ticks\":\"\"},\"colorscale\":[[0.0,\"#0d0887\"],[0.1111111111111111,\"#46039f\"],[0.2222222222222222,\"#7201a8\"],[0.3333333333333333,\"#9c179e\"],[0.4444444444444444,\"#bd3786\"],[0.5555555555555556,\"#d8576b\"],[0.6666666666666666,\"#ed7953\"],[0.7777777777777778,\"#fb9f3a\"],[0.8888888888888888,\"#fdca26\"],[1.0,\"#f0f921\"]]}],\"heatmap\":[{\"type\":\"heatmap\",\"colorbar\":{\"outlinewidth\":0,\"ticks\":\"\"},\"colorscale\":[[0.0,\"#0d0887\"],[0.1111111111111111,\"#46039f\"],[0.2222222222222222,\"#7201a8\"],[0.3333333333333333,\"#9c179e\"],[0.4444444444444444,\"#bd3786\"],[0.5555555555555556,\"#d8576b\"],[0.6666666666666666,\"#ed7953\"],[0.7777777777777778,\"#fb9f3a\"],[0.8888888888888888,\"#fdca26\"],[1.0,\"#f0f921\"]]}],\"heatmapgl\":[{\"type\":\"heatmapgl\",\"colorbar\":{\"outlinewidth\":0,\"ticks\":\"\"},\"colorscale\":[[0.0,\"#0d0887\"],[0.1111111111111111,\"#46039f\"],[0.2222222222222222,\"#7201a8\"],[0.3333333333333333,\"#9c179e\"],[0.4444444444444444,\"#bd3786\"],[0.5555555555555556,\"#d8576b\"],[0.6666666666666666,\"#ed7953\"],[0.7777777777777778,\"#fb9f3a\"],[0.8888888888888888,\"#fdca26\"],[1.0,\"#f0f921\"]]}],\"contourcarpet\":[{\"type\":\"contourcarpet\",\"colorbar\":{\"outlinewidth\":0,\"ticks\":\"\"}}],\"contour\":[{\"type\":\"contour\",\"colorbar\":{\"outlinewidth\":0,\"ticks\":\"\"},\"colorscale\":[[0.0,\"#0d0887\"],[0.1111111111111111,\"#46039f\"],[0.2222222222222222,\"#7201a8\"],[0.3333333333333333,\"#9c179e\"],[0.4444444444444444,\"#bd3786\"],[0.5555555555555556,\"#d8576b\"],[0.6666666666666666,\"#ed7953\"],[0.7777777777777778,\"#fb9f3a\"],[0.8888888888888888,\"#fdca26\"],[1.0,\"#f0f921\"]]}],\"surface\":[{\"type\":\"surface\",\"colorbar\":{\"outlinewidth\":0,\"ticks\":\"\"},\"colorscale\":[[0.0,\"#0d0887\"],[0.1111111111111111,\"#46039f\"],[0.2222222222222222,\"#7201a8\"],[0.3333333333333333,\"#9c179e\"],[0.4444444444444444,\"#bd3786\"],[0.5555555555555556,\"#d8576b\"],[0.6666666666666666,\"#ed7953\"],[0.7777777777777778,\"#fb9f3a\"],[0.8888888888888888,\"#fdca26\"],[1.0,\"#f0f921\"]]}],\"mesh3d\":[{\"type\":\"mesh3d\",\"colorbar\":{\"outlinewidth\":0,\"ticks\":\"\"}}],\"scatter\":[{\"fillpattern\":{\"fillmode\":\"overlay\",\"size\":10,\"solidity\":0.2},\"type\":\"scatter\"}],\"parcoords\":[{\"type\":\"parcoords\",\"line\":{\"colorbar\":{\"outlinewidth\":0,\"ticks\":\"\"}}}],\"scatterpolargl\":[{\"type\":\"scatterpolargl\",\"marker\":{\"colorbar\":{\"outlinewidth\":0,\"ticks\":\"\"}}}],\"bar\":[{\"error_x\":{\"color\":\"#2a3f5f\"},\"error_y\":{\"color\":\"#2a3f5f\"},\"marker\":{\"line\":{\"color\":\"#E5ECF6\",\"width\":0.5},\"pattern\":{\"fillmode\":\"overlay\",\"size\":10,\"solidity\":0.2}},\"type\":\"bar\"}],\"scattergeo\":[{\"type\":\"scattergeo\",\"marker\":{\"colorbar\":{\"outlinewidth\":0,\"ticks\":\"\"}}}],\"scatterpolar\":[{\"type\":\"scatterpolar\",\"marker\":{\"colorbar\":{\"outlinewidth\":0,\"ticks\":\"\"}}}],\"histogram\":[{\"marker\":{\"pattern\":{\"fillmode\":\"overlay\",\"size\":10,\"solidity\":0.2}},\"type\":\"histogram\"}],\"scattergl\":[{\"type\":\"scattergl\",\"marker\":{\"colorbar\":{\"outlinewidth\":0,\"ticks\":\"\"}}}],\"scatter3d\":[{\"type\":\"scatter3d\",\"line\":{\"colorbar\":{\"outlinewidth\":0,\"ticks\":\"\"}},\"marker\":{\"colorbar\":{\"outlinewidth\":0,\"ticks\":\"\"}}}],\"scattermapbox\":[{\"type\":\"scattermapbox\",\"marker\":{\"colorbar\":{\"outlinewidth\":0,\"ticks\":\"\"}}}],\"scatterternary\":[{\"type\":\"scatterternary\",\"marker\":{\"colorbar\":{\"outlinewidth\":0,\"ticks\":\"\"}}}],\"scattercarpet\":[{\"type\":\"scattercarpet\",\"marker\":{\"colorbar\":{\"outlinewidth\":0,\"ticks\":\"\"}}}],\"carpet\":[{\"aaxis\":{\"endlinecolor\":\"#2a3f5f\",\"gridcolor\":\"white\",\"linecolor\":\"white\",\"minorgridcolor\":\"white\",\"startlinecolor\":\"#2a3f5f\"},\"baxis\":{\"endlinecolor\":\"#2a3f5f\",\"gridcolor\":\"white\",\"linecolor\":\"white\",\"minorgridcolor\":\"white\",\"startlinecolor\":\"#2a3f5f\"},\"type\":\"carpet\"}],\"table\":[{\"cells\":{\"fill\":{\"color\":\"#EBF0F8\"},\"line\":{\"color\":\"white\"}},\"header\":{\"fill\":{\"color\":\"#C8D4E3\"},\"line\":{\"color\":\"white\"}},\"type\":\"table\"}],\"barpolar\":[{\"marker\":{\"line\":{\"color\":\"#E5ECF6\",\"width\":0.5},\"pattern\":{\"fillmode\":\"overlay\",\"size\":10,\"solidity\":0.2}},\"type\":\"barpolar\"}],\"pie\":[{\"automargin\":true,\"type\":\"pie\"}]},\"layout\":{\"autotypenumbers\":\"strict\",\"colorway\":[\"#636efa\",\"#EF553B\",\"#00cc96\",\"#ab63fa\",\"#FFA15A\",\"#19d3f3\",\"#FF6692\",\"#B6E880\",\"#FF97FF\",\"#FECB52\"],\"font\":{\"color\":\"#2a3f5f\"},\"hovermode\":\"closest\",\"hoverlabel\":{\"align\":\"left\"},\"paper_bgcolor\":\"white\",\"plot_bgcolor\":\"#E5ECF6\",\"polar\":{\"bgcolor\":\"#E5ECF6\",\"angularaxis\":{\"gridcolor\":\"white\",\"linecolor\":\"white\",\"ticks\":\"\"},\"radialaxis\":{\"gridcolor\":\"white\",\"linecolor\":\"white\",\"ticks\":\"\"}},\"ternary\":{\"bgcolor\":\"#E5ECF6\",\"aaxis\":{\"gridcolor\":\"white\",\"linecolor\":\"white\",\"ticks\":\"\"},\"baxis\":{\"gridcolor\":\"white\",\"linecolor\":\"white\",\"ticks\":\"\"},\"caxis\":{\"gridcolor\":\"white\",\"linecolor\":\"white\",\"ticks\":\"\"}},\"coloraxis\":{\"colorbar\":{\"outlinewidth\":0,\"ticks\":\"\"}},\"colorscale\":{\"sequential\":[[0.0,\"#0d0887\"],[0.1111111111111111,\"#46039f\"],[0.2222222222222222,\"#7201a8\"],[0.3333333333333333,\"#9c179e\"],[0.4444444444444444,\"#bd3786\"],[0.5555555555555556,\"#d8576b\"],[0.6666666666666666,\"#ed7953\"],[0.7777777777777778,\"#fb9f3a\"],[0.8888888888888888,\"#fdca26\"],[1.0,\"#f0f921\"]],\"sequentialminus\":[[0.0,\"#0d0887\"],[0.1111111111111111,\"#46039f\"],[0.2222222222222222,\"#7201a8\"],[0.3333333333333333,\"#9c179e\"],[0.4444444444444444,\"#bd3786\"],[0.5555555555555556,\"#d8576b\"],[0.6666666666666666,\"#ed7953\"],[0.7777777777777778,\"#fb9f3a\"],[0.8888888888888888,\"#fdca26\"],[1.0,\"#f0f921\"]],\"diverging\":[[0,\"#8e0152\"],[0.1,\"#c51b7d\"],[0.2,\"#de77ae\"],[0.3,\"#f1b6da\"],[0.4,\"#fde0ef\"],[0.5,\"#f7f7f7\"],[0.6,\"#e6f5d0\"],[0.7,\"#b8e186\"],[0.8,\"#7fbc41\"],[0.9,\"#4d9221\"],[1,\"#276419\"]]},\"xaxis\":{\"gridcolor\":\"white\",\"linecolor\":\"white\",\"ticks\":\"\",\"title\":{\"standoff\":15},\"zerolinecolor\":\"white\",\"automargin\":true,\"zerolinewidth\":2},\"yaxis\":{\"gridcolor\":\"white\",\"linecolor\":\"white\",\"ticks\":\"\",\"title\":{\"standoff\":15},\"zerolinecolor\":\"white\",\"automargin\":true,\"zerolinewidth\":2},\"scene\":{\"xaxis\":{\"backgroundcolor\":\"#E5ECF6\",\"gridcolor\":\"white\",\"linecolor\":\"white\",\"showbackground\":true,\"ticks\":\"\",\"zerolinecolor\":\"white\",\"gridwidth\":2},\"yaxis\":{\"backgroundcolor\":\"#E5ECF6\",\"gridcolor\":\"white\",\"linecolor\":\"white\",\"showbackground\":true,\"ticks\":\"\",\"zerolinecolor\":\"white\",\"gridwidth\":2},\"zaxis\":{\"backgroundcolor\":\"#E5ECF6\",\"gridcolor\":\"white\",\"linecolor\":\"white\",\"showbackground\":true,\"ticks\":\"\",\"zerolinecolor\":\"white\",\"gridwidth\":2}},\"shapedefaults\":{\"line\":{\"color\":\"#2a3f5f\"}},\"annotationdefaults\":{\"arrowcolor\":\"#2a3f5f\",\"arrowhead\":0,\"arrowwidth\":1},\"geo\":{\"bgcolor\":\"white\",\"landcolor\":\"#E5ECF6\",\"subunitcolor\":\"white\",\"showland\":true,\"showlakes\":true,\"lakecolor\":\"white\"},\"title\":{\"x\":0.05},\"mapbox\":{\"style\":\"light\"}}},\"title\":{\"text\":\"\\u003cb\\u003e3D Word Embeddings Visualization\\u003c\\u002fb\\u003e\",\"font\":{\"size\":20},\"x\":0.5},\"height\":600,\"width\":900,\"scene\":{\"xaxis\":{\"title\":{\"text\":\"\\u003cb\\u003eZ_1\\u003c\\u002fb\\u003e\"}},\"yaxis\":{\"title\":{\"text\":\"\\u003cb\\u003eZ_2\\u003c\\u002fb\\u003e\"}},\"zaxis\":{\"title\":{\"text\":\"\\u003cb\\u003eZ_3\\u003c\\u002fb\\u003e\"}}}},                        {\"responsive\": true}                    ).then(function(){\n",
              "                            \n",
              "var gd = document.getElementById('9a3a49d7-1249-4812-8e5e-625ed1f45f58');\n",
              "var x = new MutationObserver(function (mutations, observer) {{\n",
              "        var display = window.getComputedStyle(gd).display;\n",
              "        if (!display || display === 'none') {{\n",
              "            console.log([gd, 'removed!']);\n",
              "            Plotly.purge(gd);\n",
              "            observer.disconnect();\n",
              "        }}\n",
              "}});\n",
              "\n",
              "// Listen for the removal of the full notebook cells\n",
              "var notebookContainer = gd.closest('#notebook-container');\n",
              "if (notebookContainer) {{\n",
              "    x.observe(notebookContainer, {childList: true});\n",
              "}}\n",
              "\n",
              "// Listen for the clearing of the current output cell\n",
              "var outputEl = gd.closest('.output');\n",
              "if (outputEl) {{\n",
              "    x.observe(outputEl, {childList: true});\n",
              "}}\n",
              "\n",
              "                        })                };                            </script>        </div>\n",
              "</body>\n",
              "</html>"
            ]
          },
          "metadata": {}
        }
      ]
    },
    {
      "cell_type": "code",
      "source": [
        "# Function to create gifs\n",
        "\n",
        "def create_gif(gif_file, fig, fps=1):\n",
        "  np.random.seed(123) #For reproducibility\n",
        "\n",
        "  images = []\n",
        "  angles = np.linspace(0, 360, 10)\n",
        "  zooms = np.random.uniform(0, 1, len(angles))\n",
        "\n",
        "  for zoom, angle in zip(zooms, angles):\n",
        "    fig.update_layout(scene_camera=dict(\n",
        "        eye=dict(x=np.cos(np.radians(angle))*zoom, y=np.sin(np.radians(angle))*zoom)\n",
        "        )\n",
        "    )\n",
        "    fig.write_image(\"temp.png\")\n",
        "    images.append(imageio.imread(\"temp.png\"))\n",
        "    os.remove(\"temp.png\")\n",
        "\n",
        "  with imageio.get_writer(gif_file, mode=\"I\", loop=0, fps=fps) as writer:\n",
        "    for image in images:\n",
        "      writer.append_data(image)"
      ],
      "metadata": {
        "id": "q5vFPr30ft66"
      },
      "execution_count": 69,
      "outputs": []
    },
    {
      "cell_type": "code",
      "source": [
        "!pip install tensorflow_docs -q\n",
        "\n",
        "import tensorflow_docs.vis.embed as embed"
      ],
      "metadata": {
        "colab": {
          "base_uri": "https://localhost:8080/"
        },
        "id": "iSRzyDOlin4K",
        "outputId": "2984f1c6-ac8d-48b7-c517-2e1be887d217"
      },
      "execution_count": 15,
      "outputs": [
        {
          "output_type": "stream",
          "name": "stdout",
          "text": [
            "\u001b[?25l     \u001b[90m━━━━━━━━━━━━━━━━━━━━━━━━━━━━━━━━━━━━━━━━\u001b[0m \u001b[32m0.0/182.5 kB\u001b[0m \u001b[31m?\u001b[0m eta \u001b[36m-:--:--\u001b[0m\r\u001b[2K     \u001b[91m━━━━━━━━━━━━━━━━━━━━━━━━━━━━━━━━━━━\u001b[0m\u001b[91m╸\u001b[0m\u001b[90m━━━━\u001b[0m \u001b[32m163.8/182.5 kB\u001b[0m \u001b[31m5.1 MB/s\u001b[0m eta \u001b[36m0:00:01\u001b[0m\r\u001b[2K     \u001b[90m━━━━━━━━━━━━━━━━━━━━━━━━━━━━━━━━━━━━━━━━\u001b[0m \u001b[32m182.5/182.5 kB\u001b[0m \u001b[31m3.9 MB/s\u001b[0m eta \u001b[36m0:00:00\u001b[0m\n",
            "\u001b[?25h"
          ]
        }
      ]
    },
    {
      "cell_type": "code",
      "source": [
        "# Generate a GIF of the 3D word embeddings\n",
        "directory_images = \"/content/drive/MyDrive/images/text_classification\"\n",
        "directory_tc = os.path.join(directory_images, \"lstm_imdb\")\n",
        "os.makedirs(directory_tc, exist_ok=True)\n",
        "gif_file = os.path.join(directory_tc, \"embedding_3d.gif\")\n",
        "\n",
        "create_gif(gif_file, fig, fps=0.5)\n",
        "embed.embed_file(gif_file)"
      ],
      "metadata": {
        "colab": {
          "base_uri": "https://localhost:8080/",
          "height": 621
        },
        "id": "BmGwmRi7irF3",
        "outputId": "a34d955a-a901-4f4f-ccc6-38aaded23929"
      },
      "execution_count": 70,
      "outputs": [
        {
          "output_type": "execute_result",
          "data": {
            "text/plain": [
              "<IPython.core.display.HTML object>"
            ],
            "text/html": [
              "<img src=\"data:image/gif;base64,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\"/>"
            ]
          },
          "metadata": {},
          "execution_count": 70
        }
      ]
    },
    {
      "cell_type": "markdown",
      "source": [
        "**With Matplotlib (for GitHub)**"
      ],
      "metadata": {
        "id": "1hqLlMyChulJ"
      }
    },
    {
      "cell_type": "code",
      "source": [
        "plt.figure(figsize=(10, 6))\n",
        "plt.scatter(words_2d[:, 0], words_2d[:, 1], c=colors)\n",
        "for i, word in enumerate(words):\n",
        "    plt.annotate(word, xy=(words_2d[i, 0], words_2d[i, 1]), ha=\"center\", va=\"bottom\")\n",
        "\n",
        "plt.xlabel(\"$Z_1$\")\n",
        "plt.ylabel(\"$Z_2$\")\n",
        "plt.title(\"2D Word Embeddings Visualization\")\n",
        "plt.show()"
      ],
      "metadata": {
        "colab": {
          "base_uri": "https://localhost:8080/",
          "height": 567
        },
        "id": "R5vllhYkiJCG",
        "outputId": "8f66b9a3-f7ad-403c-8f19-b8ac0ef8ecba"
      },
      "execution_count": 20,
      "outputs": [
        {
          "output_type": "display_data",
          "data": {
            "text/plain": [
              "<Figure size 1000x600 with 1 Axes>"
            ],
            "image/png": "[encoded data removed]"
          },
          "metadata": {}
        }
      ]
    },
    {
      "cell_type": "code",
      "source": [
        "fig = plt.figure(figsize=(10, 8))\n",
        "ax = fig.add_subplot(111, projection=\"3d\")\n",
        "ax.scatter(words_3d[:, 0], words_3d[:, 1], words_3d[:, 2], c=colors)\n",
        "\n",
        "for i, word in enumerate(words):\n",
        "    ax.text(words_3d[i, 0], words_3d[i, 1], words_3d[i, 2], word, ha=\"left\", va=\"bottom\")\n",
        "\n",
        "ax.view_init(elev=20, azim=70)\n",
        "ax.set_box_aspect(None, zoom=1.1)\n",
        "\n",
        "ax.set_xlabel(\"$Z_1$\")\n",
        "ax.set_ylabel(\"$Z_2$\")\n",
        "ax.set_zlabel(\"$Z_3$\")\n",
        "plt.title(\"3D Word Embeddings Visualization\")\n",
        "plt.show()"
      ],
      "metadata": {
        "colab": {
          "base_uri": "https://localhost:8080/",
          "height": 675
        },
        "id": "cclw8Rp-jOXT",
        "outputId": "603b2d3f-83b1-4d00-a8cd-d4488800c577"
      },
      "execution_count": 21,
      "outputs": [
        {
          "output_type": "display_data",
          "data": {
            "text/plain": [
              "<Figure size 1000x800 with 1 Axes>"
            ],
            "image/png": "[encoded data removed]"
          },
          "metadata": {}
        }
      ]
    },
    {
      "cell_type": "markdown",
      "source": [
        "Thanks to **PCA**, we can now visualize the trained weights of the embedding layer in both 2D and 3D, where each word in the vocabulary, previously of dimension 128, has been reduced and projected into a lower-dimensional space. This technique allows us to understand word distribution more clearly. Moreover, by observing the arrangement of words in the vector space, we can infer that the model has been trained successfully. Common words in positive reviews cluster coherently, as do words associated with negative reviews, suggesting a good capture of semantic relationships. Furthermore, a clear separation between these two groups of words is observed in the vector space, indicating good discrimination capability of the model."
      ],
      "metadata": {
        "id": "s8l81ByfxW-N"
      }
    }
  ]
}